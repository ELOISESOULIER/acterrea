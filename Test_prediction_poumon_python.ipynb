{
 "cells": [
  {
   "cell_type": "code",
   "execution_count": 154,
   "metadata": {},
   "outputs": [
    {
     "ename": "ModuleNotFoundError",
     "evalue": "No module named 'xgboost'",
     "output_type": "error",
     "traceback": [
      "\u001b[1;31m---------------------------------------------------------------------------\u001b[0m",
      "\u001b[1;31mModuleNotFoundError\u001b[0m                       Traceback (most recent call last)",
      "\u001b[1;32m<ipython-input-154-0fdd4b141e5d>\u001b[0m in \u001b[0;36m<module>\u001b[1;34m()\u001b[0m\n\u001b[0;32m      8\u001b[0m \u001b[1;32mfrom\u001b[0m \u001b[0msklearn\u001b[0m \u001b[1;32mimport\u001b[0m \u001b[0msvm\u001b[0m\u001b[1;33m\u001b[0m\u001b[0m\n\u001b[0;32m      9\u001b[0m \u001b[1;32mfrom\u001b[0m \u001b[0msklearn\u001b[0m\u001b[1;33m.\u001b[0m\u001b[0mlinear_model\u001b[0m \u001b[1;32mimport\u001b[0m \u001b[0mLogisticRegression\u001b[0m\u001b[1;33m\u001b[0m\u001b[0m\n\u001b[1;32m---> 10\u001b[1;33m \u001b[1;32mimport\u001b[0m \u001b[0mxgboost\u001b[0m \u001b[1;32mas\u001b[0m \u001b[0mxgb\u001b[0m\u001b[1;33m\u001b[0m\u001b[0m\n\u001b[0m",
      "\u001b[1;31mModuleNotFoundError\u001b[0m: No module named 'xgboost'"
     ]
    }
   ],
   "source": [
    "import numpy as np\n",
    "import pandas as pd\n",
    "import matplotlib.pyplot as plt\n",
    "import sklearn\n",
    "%matplotlib inline\n",
    "\n",
    "# Classification\n",
    "from sklearn import svm\n",
    "from sklearn.linear_model import LogisticRegression\n",
    "import xgboost as xgb"
   ]
  },
  {
   "cell_type": "markdown",
   "metadata": {},
   "source": [
    "## Load data \n",
    "and save them in a DataFrame"
   ]
  },
  {
   "cell_type": "code",
   "execution_count": 2,
   "metadata": {},
   "outputs": [
    {
     "name": "stdout",
     "output_type": "stream",
     "text": [
      "Time horizon: 36\n",
      "Number of simulations: 100\n"
     ]
    }
   ],
   "source": [
    "df = pd.read_csv(\"out_O2.csv\")\n",
    "T, nb_sim = np.shape(df)\n",
    "nb_sim -= 1\n",
    "print(\"Time horizon:\", T)\n",
    "print(\"Number of simulations:\", nb_sim)"
   ]
  },
  {
   "cell_type": "code",
   "execution_count": 3,
   "metadata": {},
   "outputs": [
    {
     "data": {
      "text/html": [
       "<div>\n",
       "<style>\n",
       "    .dataframe thead tr:only-child th {\n",
       "        text-align: right;\n",
       "    }\n",
       "\n",
       "    .dataframe thead th {\n",
       "        text-align: left;\n",
       "    }\n",
       "\n",
       "    .dataframe tbody tr th {\n",
       "        vertical-align: top;\n",
       "    }\n",
       "</style>\n",
       "<table border=\"1\" class=\"dataframe\">\n",
       "  <thead>\n",
       "    <tr style=\"text-align: right;\">\n",
       "      <th></th>\n",
       "      <th>Unnamed: 0</th>\n",
       "      <th>V1</th>\n",
       "      <th>V2</th>\n",
       "      <th>V3</th>\n",
       "      <th>V4</th>\n",
       "      <th>V5</th>\n",
       "      <th>V6</th>\n",
       "      <th>V7</th>\n",
       "      <th>V8</th>\n",
       "      <th>V9</th>\n",
       "      <th>...</th>\n",
       "      <th>V91</th>\n",
       "      <th>V92</th>\n",
       "      <th>V93</th>\n",
       "      <th>V94</th>\n",
       "      <th>V95</th>\n",
       "      <th>V96</th>\n",
       "      <th>V97</th>\n",
       "      <th>V98</th>\n",
       "      <th>V99</th>\n",
       "      <th>V100</th>\n",
       "    </tr>\n",
       "  </thead>\n",
       "  <tbody>\n",
       "    <tr>\n",
       "      <th>0</th>\n",
       "      <td>4</td>\n",
       "      <td>0.004274</td>\n",
       "      <td>0.003933</td>\n",
       "      <td>0.003788</td>\n",
       "      <td>0.004035</td>\n",
       "      <td>0.004662</td>\n",
       "      <td>0.004129</td>\n",
       "      <td>0.003930</td>\n",
       "      <td>0.004137</td>\n",
       "      <td>0.003548</td>\n",
       "      <td>...</td>\n",
       "      <td>0.004030</td>\n",
       "      <td>0.004157</td>\n",
       "      <td>0.003598</td>\n",
       "      <td>0.004667</td>\n",
       "      <td>0.004862</td>\n",
       "      <td>0.004231</td>\n",
       "      <td>0.004818</td>\n",
       "      <td>0.004517</td>\n",
       "      <td>0.003545</td>\n",
       "      <td>0.003880</td>\n",
       "    </tr>\n",
       "    <tr>\n",
       "      <th>1</th>\n",
       "      <td>5</td>\n",
       "      <td>0.004275</td>\n",
       "      <td>0.003935</td>\n",
       "      <td>0.003790</td>\n",
       "      <td>0.004037</td>\n",
       "      <td>0.004660</td>\n",
       "      <td>0.004130</td>\n",
       "      <td>0.003932</td>\n",
       "      <td>0.004138</td>\n",
       "      <td>0.003551</td>\n",
       "      <td>...</td>\n",
       "      <td>0.004031</td>\n",
       "      <td>0.004158</td>\n",
       "      <td>0.003601</td>\n",
       "      <td>0.004665</td>\n",
       "      <td>0.004857</td>\n",
       "      <td>0.004231</td>\n",
       "      <td>0.004814</td>\n",
       "      <td>0.004516</td>\n",
       "      <td>0.003549</td>\n",
       "      <td>0.003882</td>\n",
       "    </tr>\n",
       "    <tr>\n",
       "      <th>2</th>\n",
       "      <td>6</td>\n",
       "      <td>0.004275</td>\n",
       "      <td>0.003936</td>\n",
       "      <td>0.003792</td>\n",
       "      <td>0.004038</td>\n",
       "      <td>0.004657</td>\n",
       "      <td>0.004131</td>\n",
       "      <td>0.003934</td>\n",
       "      <td>0.004139</td>\n",
       "      <td>0.003554</td>\n",
       "      <td>...</td>\n",
       "      <td>0.004032</td>\n",
       "      <td>0.004158</td>\n",
       "      <td>0.003604</td>\n",
       "      <td>0.004663</td>\n",
       "      <td>0.004854</td>\n",
       "      <td>0.004232</td>\n",
       "      <td>0.004811</td>\n",
       "      <td>0.004514</td>\n",
       "      <td>0.003551</td>\n",
       "      <td>0.003884</td>\n",
       "    </tr>\n",
       "    <tr>\n",
       "      <th>3</th>\n",
       "      <td>7</td>\n",
       "      <td>0.004275</td>\n",
       "      <td>0.003938</td>\n",
       "      <td>0.003794</td>\n",
       "      <td>0.004039</td>\n",
       "      <td>0.004656</td>\n",
       "      <td>0.004132</td>\n",
       "      <td>0.003935</td>\n",
       "      <td>0.004139</td>\n",
       "      <td>0.003556</td>\n",
       "      <td>...</td>\n",
       "      <td>0.004033</td>\n",
       "      <td>0.004159</td>\n",
       "      <td>0.003606</td>\n",
       "      <td>0.004661</td>\n",
       "      <td>0.004851</td>\n",
       "      <td>0.004232</td>\n",
       "      <td>0.004808</td>\n",
       "      <td>0.004513</td>\n",
       "      <td>0.003554</td>\n",
       "      <td>0.003886</td>\n",
       "    </tr>\n",
       "    <tr>\n",
       "      <th>4</th>\n",
       "      <td>8</td>\n",
       "      <td>0.004275</td>\n",
       "      <td>0.003939</td>\n",
       "      <td>0.003796</td>\n",
       "      <td>0.004040</td>\n",
       "      <td>0.004654</td>\n",
       "      <td>0.004132</td>\n",
       "      <td>0.003936</td>\n",
       "      <td>0.004140</td>\n",
       "      <td>0.003558</td>\n",
       "      <td>...</td>\n",
       "      <td>0.004034</td>\n",
       "      <td>0.004159</td>\n",
       "      <td>0.003608</td>\n",
       "      <td>0.004659</td>\n",
       "      <td>0.004848</td>\n",
       "      <td>0.004232</td>\n",
       "      <td>0.004805</td>\n",
       "      <td>0.004512</td>\n",
       "      <td>0.003556</td>\n",
       "      <td>0.003887</td>\n",
       "    </tr>\n",
       "  </tbody>\n",
       "</table>\n",
       "<p>5 rows × 101 columns</p>\n",
       "</div>"
      ],
      "text/plain": [
       "   Unnamed: 0        V1        V2        V3        V4        V5        V6  \\\n",
       "0           4  0.004274  0.003933  0.003788  0.004035  0.004662  0.004129   \n",
       "1           5  0.004275  0.003935  0.003790  0.004037  0.004660  0.004130   \n",
       "2           6  0.004275  0.003936  0.003792  0.004038  0.004657  0.004131   \n",
       "3           7  0.004275  0.003938  0.003794  0.004039  0.004656  0.004132   \n",
       "4           8  0.004275  0.003939  0.003796  0.004040  0.004654  0.004132   \n",
       "\n",
       "         V7        V8        V9    ...          V91       V92       V93  \\\n",
       "0  0.003930  0.004137  0.003548    ...     0.004030  0.004157  0.003598   \n",
       "1  0.003932  0.004138  0.003551    ...     0.004031  0.004158  0.003601   \n",
       "2  0.003934  0.004139  0.003554    ...     0.004032  0.004158  0.003604   \n",
       "3  0.003935  0.004139  0.003556    ...     0.004033  0.004159  0.003606   \n",
       "4  0.003936  0.004140  0.003558    ...     0.004034  0.004159  0.003608   \n",
       "\n",
       "        V94       V95       V96       V97       V98       V99      V100  \n",
       "0  0.004667  0.004862  0.004231  0.004818  0.004517  0.003545  0.003880  \n",
       "1  0.004665  0.004857  0.004231  0.004814  0.004516  0.003549  0.003882  \n",
       "2  0.004663  0.004854  0.004232  0.004811  0.004514  0.003551  0.003884  \n",
       "3  0.004661  0.004851  0.004232  0.004808  0.004513  0.003554  0.003886  \n",
       "4  0.004659  0.004848  0.004232  0.004805  0.004512  0.003556  0.003887  \n",
       "\n",
       "[5 rows x 101 columns]"
      ]
     },
     "execution_count": 3,
     "metadata": {},
     "output_type": "execute_result"
    }
   ],
   "source": [
    "df.head()"
   ]
  },
  {
   "cell_type": "code",
   "execution_count": 4,
   "metadata": {
    "collapsed": true
   },
   "outputs": [],
   "source": [
    "def plot_data(df):\n",
    "    variables = [col for col in list(df.columns) if 'V' in col]\n",
    "    \n",
    "    plt.figure()\n",
    "    for col in variables:\n",
    "        plt.plot(df[col])\n",
    "    plt.title('O2 evolution on {} simulations'.format(len(variables)))\n",
    "    plt.ylabel('O2')\n",
    "    plt.xlabel('time')\n",
    "    plt.show()"
   ]
  },
  {
   "cell_type": "code",
   "execution_count": 5,
   "metadata": {},
   "outputs": [
    {
     "data": {
      "image/png": "[encoded data removed]",
      "text/plain": [
       "<matplotlib.figure.Figure at 0x1c7f914ed68>"
      ]
     },
     "metadata": {},
     "output_type": "display_data"
    }
   ],
   "source": [
    "var = ['V' + str(i) for i in range(1, 21)]\n",
    "plot_data(df[var])"
   ]
  },
  {
   "cell_type": "markdown",
   "metadata": {},
   "source": [
    "## Set the parameters:\n",
    "* **len_X**: the len_x last values of X are taken into account to compute descriptors\n",
    "* **tau**: We want to predict if an accident happens at t + tau\n",
    "\n",
    "The following variables are used to determine the event: \"accident\" that we want to predict:\n",
    "* **thres_mean**: If |mean(X(0), ..., (t-1)) - X(t)| < thres_mean, then there is an accident at t.\n",
    "* **X0_base, thres_gal**: If |X(t) - X0| < thres_gal then there is an accident."
   ]
  },
  {
   "cell_type": "code",
   "execution_count": 7,
   "metadata": {
    "collapsed": true
   },
   "outputs": [],
   "source": [
    "params = {'len_X': 10,\n",
    "          'tau': 5,\n",
    "          'thres_mean': 5e-5,\n",
    "          'X0_base': 0.0042,\n",
    "          'thres_gal': 0.001}\n",
    "\n",
    "variables = [col for col in list(df.columns) if 'V' in col]"
   ]
  },
  {
   "cell_type": "markdown",
   "metadata": {},
   "source": [
    "### Processing X data and compute the accident variable Y"
   ]
  },
  {
   "cell_type": "code",
   "execution_count": 8,
   "metadata": {
    "collapsed": true
   },
   "outputs": [],
   "source": [
    "def process_var(df, variables):\n",
    "    \n",
    "    # Concatenation des x\n",
    "    X = []\n",
    "    trajec = []\n",
    "    X_cummean = []\n",
    "\n",
    "    for j in range(len(variables)):\n",
    "        col = variables[j]\n",
    "        X += list(df[col])\n",
    "        # Trajec = the number of the trajectory\n",
    "        trajec += [j for _ in range(len(df))]\n",
    "\n",
    "        # CumMean of X (t-1 previous values)\n",
    "        cummean = np.cumsum(df[col]) / np.array(range(1, len(df)+1))\n",
    "        X_cummean += [df[col][0]] + list(cummean[:-1])\n",
    "\n",
    "    data = pd.DataFrame({'X': X, 'trajec': trajec, 'X_cummean': X_cummean})\n",
    "    \n",
    "    # Compute Y\n",
    "    data['X_diff'] = abs(data['X'] - data['X_cummean'])\n",
    "    # The difference between X and the cummean is it below the threshold thres_mean ?\n",
    "    data['Y1'] = data['X_diff'].apply(lambda x: 1 if x > params['thres_mean'] else 0)\n",
    "    # The value of X is it below the general threshold thres_gal ?\n",
    "    data['Y2'] = data['X'].apply(lambda x: 1 if abs(x - params['X0_base']) > params['thres_gal'] else 0)\n",
    "\n",
    "    # The incident happens if one of the two previous event happen\n",
    "    data['Y'] = data['Y1'] + data['Y2']\n",
    "    data['Y'] = data['Y'].apply(lambda x: 1 if x > 0 else 0)\n",
    "    \n",
    "    return data[['Y', 'X', 'trajec']]"
   ]
  },
  {
   "cell_type": "code",
   "execution_count": 9,
   "metadata": {
    "collapsed": true,
    "scrolled": true
   },
   "outputs": [],
   "source": [
    "data = process_var(df, variables)"
   ]
  },
  {
   "cell_type": "code",
   "execution_count": 10,
   "metadata": {
    "scrolled": true
   },
   "outputs": [
    {
     "data": {
      "text/html": [
       "<div>\n",
       "<style>\n",
       "    .dataframe thead tr:only-child th {\n",
       "        text-align: right;\n",
       "    }\n",
       "\n",
       "    .dataframe thead th {\n",
       "        text-align: left;\n",
       "    }\n",
       "\n",
       "    .dataframe tbody tr th {\n",
       "        vertical-align: top;\n",
       "    }\n",
       "</style>\n",
       "<table border=\"1\" class=\"dataframe\">\n",
       "  <thead>\n",
       "    <tr style=\"text-align: right;\">\n",
       "      <th></th>\n",
       "      <th>Y</th>\n",
       "      <th>X</th>\n",
       "      <th>trajec</th>\n",
       "    </tr>\n",
       "  </thead>\n",
       "  <tbody>\n",
       "    <tr>\n",
       "      <th>0</th>\n",
       "      <td>0</td>\n",
       "      <td>0.004274</td>\n",
       "      <td>0</td>\n",
       "    </tr>\n",
       "    <tr>\n",
       "      <th>1</th>\n",
       "      <td>0</td>\n",
       "      <td>0.004275</td>\n",
       "      <td>0</td>\n",
       "    </tr>\n",
       "    <tr>\n",
       "      <th>2</th>\n",
       "      <td>0</td>\n",
       "      <td>0.004275</td>\n",
       "      <td>0</td>\n",
       "    </tr>\n",
       "    <tr>\n",
       "      <th>3</th>\n",
       "      <td>0</td>\n",
       "      <td>0.004275</td>\n",
       "      <td>0</td>\n",
       "    </tr>\n",
       "    <tr>\n",
       "      <th>4</th>\n",
       "      <td>0</td>\n",
       "      <td>0.004275</td>\n",
       "      <td>0</td>\n",
       "    </tr>\n",
       "    <tr>\n",
       "      <th>5</th>\n",
       "      <td>0</td>\n",
       "      <td>0.004275</td>\n",
       "      <td>0</td>\n",
       "    </tr>\n",
       "    <tr>\n",
       "      <th>6</th>\n",
       "      <td>0</td>\n",
       "      <td>0.004275</td>\n",
       "      <td>0</td>\n",
       "    </tr>\n",
       "    <tr>\n",
       "      <th>7</th>\n",
       "      <td>0</td>\n",
       "      <td>0.004275</td>\n",
       "      <td>0</td>\n",
       "    </tr>\n",
       "    <tr>\n",
       "      <th>8</th>\n",
       "      <td>0</td>\n",
       "      <td>0.004275</td>\n",
       "      <td>0</td>\n",
       "    </tr>\n",
       "    <tr>\n",
       "      <th>9</th>\n",
       "      <td>0</td>\n",
       "      <td>0.004275</td>\n",
       "      <td>0</td>\n",
       "    </tr>\n",
       "    <tr>\n",
       "      <th>10</th>\n",
       "      <td>0</td>\n",
       "      <td>0.004275</td>\n",
       "      <td>0</td>\n",
       "    </tr>\n",
       "    <tr>\n",
       "      <th>11</th>\n",
       "      <td>0</td>\n",
       "      <td>0.004275</td>\n",
       "      <td>0</td>\n",
       "    </tr>\n",
       "    <tr>\n",
       "      <th>12</th>\n",
       "      <td>0</td>\n",
       "      <td>0.004275</td>\n",
       "      <td>0</td>\n",
       "    </tr>\n",
       "    <tr>\n",
       "      <th>13</th>\n",
       "      <td>0</td>\n",
       "      <td>0.004275</td>\n",
       "      <td>0</td>\n",
       "    </tr>\n",
       "    <tr>\n",
       "      <th>14</th>\n",
       "      <td>0</td>\n",
       "      <td>0.004275</td>\n",
       "      <td>0</td>\n",
       "    </tr>\n",
       "    <tr>\n",
       "      <th>15</th>\n",
       "      <td>0</td>\n",
       "      <td>0.004275</td>\n",
       "      <td>0</td>\n",
       "    </tr>\n",
       "    <tr>\n",
       "      <th>16</th>\n",
       "      <td>0</td>\n",
       "      <td>0.004275</td>\n",
       "      <td>0</td>\n",
       "    </tr>\n",
       "    <tr>\n",
       "      <th>17</th>\n",
       "      <td>0</td>\n",
       "      <td>0.004275</td>\n",
       "      <td>0</td>\n",
       "    </tr>\n",
       "    <tr>\n",
       "      <th>18</th>\n",
       "      <td>0</td>\n",
       "      <td>0.004275</td>\n",
       "      <td>0</td>\n",
       "    </tr>\n",
       "    <tr>\n",
       "      <th>19</th>\n",
       "      <td>0</td>\n",
       "      <td>0.004275</td>\n",
       "      <td>0</td>\n",
       "    </tr>\n",
       "    <tr>\n",
       "      <th>20</th>\n",
       "      <td>0</td>\n",
       "      <td>0.004275</td>\n",
       "      <td>0</td>\n",
       "    </tr>\n",
       "    <tr>\n",
       "      <th>21</th>\n",
       "      <td>0</td>\n",
       "      <td>0.004275</td>\n",
       "      <td>0</td>\n",
       "    </tr>\n",
       "    <tr>\n",
       "      <th>22</th>\n",
       "      <td>0</td>\n",
       "      <td>0.004275</td>\n",
       "      <td>0</td>\n",
       "    </tr>\n",
       "    <tr>\n",
       "      <th>23</th>\n",
       "      <td>0</td>\n",
       "      <td>0.004275</td>\n",
       "      <td>0</td>\n",
       "    </tr>\n",
       "    <tr>\n",
       "      <th>24</th>\n",
       "      <td>0</td>\n",
       "      <td>0.004275</td>\n",
       "      <td>0</td>\n",
       "    </tr>\n",
       "    <tr>\n",
       "      <th>25</th>\n",
       "      <td>0</td>\n",
       "      <td>0.004275</td>\n",
       "      <td>0</td>\n",
       "    </tr>\n",
       "    <tr>\n",
       "      <th>26</th>\n",
       "      <td>0</td>\n",
       "      <td>0.004275</td>\n",
       "      <td>0</td>\n",
       "    </tr>\n",
       "    <tr>\n",
       "      <th>27</th>\n",
       "      <td>0</td>\n",
       "      <td>0.004275</td>\n",
       "      <td>0</td>\n",
       "    </tr>\n",
       "    <tr>\n",
       "      <th>28</th>\n",
       "      <td>0</td>\n",
       "      <td>0.004275</td>\n",
       "      <td>0</td>\n",
       "    </tr>\n",
       "    <tr>\n",
       "      <th>29</th>\n",
       "      <td>0</td>\n",
       "      <td>0.004275</td>\n",
       "      <td>0</td>\n",
       "    </tr>\n",
       "    <tr>\n",
       "      <th>30</th>\n",
       "      <td>0</td>\n",
       "      <td>0.004275</td>\n",
       "      <td>0</td>\n",
       "    </tr>\n",
       "    <tr>\n",
       "      <th>31</th>\n",
       "      <td>0</td>\n",
       "      <td>0.004275</td>\n",
       "      <td>0</td>\n",
       "    </tr>\n",
       "    <tr>\n",
       "      <th>32</th>\n",
       "      <td>0</td>\n",
       "      <td>0.004275</td>\n",
       "      <td>0</td>\n",
       "    </tr>\n",
       "    <tr>\n",
       "      <th>33</th>\n",
       "      <td>0</td>\n",
       "      <td>0.004275</td>\n",
       "      <td>0</td>\n",
       "    </tr>\n",
       "    <tr>\n",
       "      <th>34</th>\n",
       "      <td>0</td>\n",
       "      <td>0.004275</td>\n",
       "      <td>0</td>\n",
       "    </tr>\n",
       "    <tr>\n",
       "      <th>35</th>\n",
       "      <td>0</td>\n",
       "      <td>0.004275</td>\n",
       "      <td>0</td>\n",
       "    </tr>\n",
       "    <tr>\n",
       "      <th>36</th>\n",
       "      <td>0</td>\n",
       "      <td>0.003933</td>\n",
       "      <td>1</td>\n",
       "    </tr>\n",
       "  </tbody>\n",
       "</table>\n",
       "</div>"
      ],
      "text/plain": [
       "    Y         X  trajec\n",
       "0   0  0.004274       0\n",
       "1   0  0.004275       0\n",
       "2   0  0.004275       0\n",
       "3   0  0.004275       0\n",
       "4   0  0.004275       0\n",
       "5   0  0.004275       0\n",
       "6   0  0.004275       0\n",
       "7   0  0.004275       0\n",
       "8   0  0.004275       0\n",
       "9   0  0.004275       0\n",
       "10  0  0.004275       0\n",
       "11  0  0.004275       0\n",
       "12  0  0.004275       0\n",
       "13  0  0.004275       0\n",
       "14  0  0.004275       0\n",
       "15  0  0.004275       0\n",
       "16  0  0.004275       0\n",
       "17  0  0.004275       0\n",
       "18  0  0.004275       0\n",
       "19  0  0.004275       0\n",
       "20  0  0.004275       0\n",
       "21  0  0.004275       0\n",
       "22  0  0.004275       0\n",
       "23  0  0.004275       0\n",
       "24  0  0.004275       0\n",
       "25  0  0.004275       0\n",
       "26  0  0.004275       0\n",
       "27  0  0.004275       0\n",
       "28  0  0.004275       0\n",
       "29  0  0.004275       0\n",
       "30  0  0.004275       0\n",
       "31  0  0.004275       0\n",
       "32  0  0.004275       0\n",
       "33  0  0.004275       0\n",
       "34  0  0.004275       0\n",
       "35  0  0.004275       0\n",
       "36  0  0.003933       1"
      ]
     },
     "execution_count": 10,
     "metadata": {},
     "output_type": "execute_result"
    }
   ],
   "source": [
    "data.head(T + 1)"
   ]
  },
  {
   "cell_type": "markdown",
   "metadata": {
    "collapsed": true
   },
   "source": [
    "**trajec** is the number of the trajectory. When the number change, the value correspond to a new person."
   ]
  },
  {
   "cell_type": "markdown",
   "metadata": {},
   "source": [
    "## Compute descriptors on X data"
   ]
  },
  {
   "cell_type": "code",
   "execution_count": 96,
   "metadata": {},
   "outputs": [
    {
     "name": "stdout",
     "output_type": "stream",
     "text": [
      "The descriptors computed are: ['X_1', 'X_10', 'X_2', 'X_3', 'X_4', 'X_5', 'X_6', 'X_7', 'X_8', 'X_9', 'diff_first_second_mean', 'diff_to_X0', 'diff_to_mean', 'mean']\n",
      "100 trajectories of length 36\n"
     ]
    }
   ],
   "source": [
    "# Separate data x in windows of lenght len_X\n",
    "# and compute descriptors on this window\n",
    "\n",
    "descriptors = {'X': [], 'Y': [], 'trajec': [],\n",
    "               'mean': [],\n",
    "               'diff_to_mean': [],\n",
    "               'diff_first_second_mean': [],\n",
    "               'diff_to_X0': []}\n",
    "for i in range(1, params['len_X'] + 1):\n",
    "    descriptors['X_{}'.format(i)] = []\n",
    "\n",
    "nb_trajec = len(np.unique(data['trajec']))\n",
    "\n",
    "for n in range(nb_trajec):\n",
    "    for j in range(params['len_X'], T - params['tau']):\n",
    "        i = n*T + j\n",
    "        X_ = list(data['X'][i - params['len_X']:i])  # Past\n",
    "        \n",
    "        descriptors['X'].append(data['X'][i])\n",
    "        descriptors['Y'].append(data['Y'][i])\n",
    "        descriptors['trajec'].append(data['trajec'][i])\n",
    "\n",
    "        descriptors['mean'].append(np.mean(X_))\n",
    "        descriptors['diff_to_mean'].append(np.abs(data['X'][i] - np.mean(X_)))\n",
    "        descriptors['diff_first_second_mean'].append(np.abs(np.mean(X_[:int(params['len_X']/2)])\\\n",
    "                                                            - np.mean(X_[int(params['len_X']/2):])))\n",
    "        descriptors['diff_to_X0'].append(np.abs(np.mean(X_) - params['X0_base']))\n",
    "        \n",
    "        # Past values\n",
    "        for k in range(1, params['len_X'] + 1):\n",
    "            descriptors['X_{}'.format(k)].append((data['X'][i - k]))\n",
    "\n",
    "descriptors = pd.DataFrame(descriptors)\n",
    "\n",
    "name_descriptors = list(descriptors.columns)\n",
    "name_descriptors.remove('X')\n",
    "name_descriptors.remove('Y')\n",
    "name_descriptors.remove('trajec')\n",
    "print(\"The descriptors computed are:\", name_descriptors)\n",
    "print(\"{} trajectories of length {}\".format(nb_trajec, T))"
   ]
  },
  {
   "cell_type": "code",
   "execution_count": null,
   "metadata": {},
   "outputs": [],
   "source": []
  },
  {
   "cell_type": "markdown",
   "metadata": {},
   "source": [
    "### Correlation coefficients"
   ]
  },
  {
   "cell_type": "code",
   "execution_count": 103,
   "metadata": {},
   "outputs": [
    {
     "name": "stdout",
     "output_type": "stream",
     "text": [
      "Correlation coefficients between the variables:\n"
     ]
    },
    {
     "data": {
      "text/html": [
       "<div>\n",
       "<style>\n",
       "    .dataframe thead tr:only-child th {\n",
       "        text-align: right;\n",
       "    }\n",
       "\n",
       "    .dataframe thead th {\n",
       "        text-align: left;\n",
       "    }\n",
       "\n",
       "    .dataframe tbody tr th {\n",
       "        vertical-align: top;\n",
       "    }\n",
       "</style>\n",
       "<table border=\"1\" class=\"dataframe\">\n",
       "  <thead>\n",
       "    <tr style=\"text-align: right;\">\n",
       "      <th></th>\n",
       "      <th>X</th>\n",
       "      <th>Y</th>\n",
       "      <th>diff_first_second_mean</th>\n",
       "      <th>diff_to_X0</th>\n",
       "      <th>diff_to_mean</th>\n",
       "      <th>mean</th>\n",
       "    </tr>\n",
       "  </thead>\n",
       "  <tbody>\n",
       "    <tr>\n",
       "      <th>X</th>\n",
       "      <td>1.000000</td>\n",
       "      <td>-0.123911</td>\n",
       "      <td>-0.126922</td>\n",
       "      <td>0.215260</td>\n",
       "      <td>-0.121901</td>\n",
       "      <td>0.994385</td>\n",
       "    </tr>\n",
       "    <tr>\n",
       "      <th>Y</th>\n",
       "      <td>-0.123911</td>\n",
       "      <td>1.000000</td>\n",
       "      <td>0.818809</td>\n",
       "      <td>0.040472</td>\n",
       "      <td>0.885895</td>\n",
       "      <td>-0.030151</td>\n",
       "    </tr>\n",
       "    <tr>\n",
       "      <th>diff_first_second_mean</th>\n",
       "      <td>-0.126922</td>\n",
       "      <td>0.818809</td>\n",
       "      <td>1.000000</td>\n",
       "      <td>0.043260</td>\n",
       "      <td>0.951211</td>\n",
       "      <td>-0.026664</td>\n",
       "    </tr>\n",
       "    <tr>\n",
       "      <th>diff_to_X0</th>\n",
       "      <td>0.215260</td>\n",
       "      <td>0.040472</td>\n",
       "      <td>0.043260</td>\n",
       "      <td>1.000000</td>\n",
       "      <td>0.029083</td>\n",
       "      <td>0.219114</td>\n",
       "    </tr>\n",
       "    <tr>\n",
       "      <th>diff_to_mean</th>\n",
       "      <td>-0.121901</td>\n",
       "      <td>0.885895</td>\n",
       "      <td>0.951211</td>\n",
       "      <td>0.029083</td>\n",
       "      <td>1.000000</td>\n",
       "      <td>-0.016296</td>\n",
       "    </tr>\n",
       "    <tr>\n",
       "      <th>mean</th>\n",
       "      <td>0.994385</td>\n",
       "      <td>-0.030151</td>\n",
       "      <td>-0.026664</td>\n",
       "      <td>0.219114</td>\n",
       "      <td>-0.016296</td>\n",
       "      <td>1.000000</td>\n",
       "    </tr>\n",
       "  </tbody>\n",
       "</table>\n",
       "</div>"
      ],
      "text/plain": [
       "                               X         Y  diff_first_second_mean  \\\n",
       "X                       1.000000 -0.123911               -0.126922   \n",
       "Y                      -0.123911  1.000000                0.818809   \n",
       "diff_first_second_mean -0.126922  0.818809                1.000000   \n",
       "diff_to_X0              0.215260  0.040472                0.043260   \n",
       "diff_to_mean           -0.121901  0.885895                0.951211   \n",
       "mean                    0.994385 -0.030151               -0.026664   \n",
       "\n",
       "                        diff_to_X0  diff_to_mean      mean  \n",
       "X                         0.215260     -0.121901  0.994385  \n",
       "Y                         0.040472      0.885895 -0.030151  \n",
       "diff_first_second_mean    0.043260      0.951211 -0.026664  \n",
       "diff_to_X0                1.000000      0.029083  0.219114  \n",
       "diff_to_mean              0.029083      1.000000 -0.016296  \n",
       "mean                      0.219114     -0.016296  1.000000  "
      ]
     },
     "execution_count": 103,
     "metadata": {},
     "output_type": "execute_result"
    }
   ],
   "source": [
    "print(\"Correlation coefficients between the variables:\")\n",
    "descriptors[['X', 'Y', 'diff_first_second_mean', 'diff_to_X0', 'diff_to_mean', 'mean']].corr()"
   ]
  },
  {
   "cell_type": "markdown",
   "metadata": {},
   "source": [
    "**Remarques:**\n",
    "La variable à prédire Y est fortement corrélées avec les deux variables decrivant la différence à la moyenne passée ('diff_to_mean', 'diff_first_second_mean'). Ces deux variables sont aussi corrélées, il vaut mieux choisir l'une des deux."
   ]
  },
  {
   "cell_type": "code",
   "execution_count": 104,
   "metadata": {
    "scrolled": true
   },
   "outputs": [
    {
     "data": {
      "image/png": "[encoded data removed]",
      "text/plain": [
       "<matplotlib.figure.Figure at 0x1c7fa34d208>"
      ]
     },
     "metadata": {},
     "output_type": "display_data"
    }
   ],
   "source": [
    "descriptors['Y_to_plot'] = descriptors['Y'] * descriptors['diff_to_mean'].mean()\n",
    "\n",
    "descriptors[['diff_to_mean', 'Y_to_plot']][:250].plot()\n",
    "plt.title('Difference between X and its mean in the {} past time (blue) and \\\n",
    "the binary variable to predict Y (orange)'.format(params['len_X']))\n",
    "plt.show()"
   ]
  },
  {
   "cell_type": "markdown",
   "metadata": {},
   "source": [
    "La corrélation est assez marquante entre la variable \"différence avec la moyenne passée\" et l'apparition d'un accident."
   ]
  },
  {
   "cell_type": "markdown",
   "metadata": {},
   "source": [
    "### Equilibrer les classes \n",
    "\n",
    "Il est important d'équilibrer les classes, i.e. avoir autant de données avec Y=1 et Y=0 pour entrainer un classifieur."
   ]
  },
  {
   "cell_type": "code",
   "execution_count": 105,
   "metadata": {},
   "outputs": [
    {
     "name": "stdout",
     "output_type": "stream",
     "text": [
      "[0 1]\n",
      "In the original database:\n",
      "Y=1: 453 data\n",
      "Y=0: 1647 data\n"
     ]
    }
   ],
   "source": [
    "print(np.unique(descriptors['Y']))\n",
    "len_Y1 = np.sum(descriptors['Y'])\n",
    "len_Y0 = -np.sum([x - 1 for x in descriptors['Y']])\n",
    "print(\"In the original database:\")\n",
    "print(\"Y=1:\", len_Y1, \"data\")\n",
    "print(\"Y=0:\", len_Y0, \"data\")"
   ]
  },
  {
   "cell_type": "code",
   "execution_count": 106,
   "metadata": {},
   "outputs": [
    {
     "name": "stdout",
     "output_type": "stream",
     "text": [
      "In the new database:\n",
      "Y=1: 453 data\n",
      "Y=0: 453 data\n"
     ]
    }
   ],
   "source": [
    "X1 = descriptors[descriptors['Y'] == 1]\n",
    "X0 = descriptors[descriptors['Y'] == 0]\n",
    "indices = np.random.permutation(range(len(X0)))\n",
    "\n",
    "if len_Y1 < len_Y0:\n",
    "    new_X0 = X0.iloc[indices[:len_Y1]]\n",
    "    new_X1 = X1\n",
    "else:\n",
    "    new_X0 = X0\n",
    "    new_X1 = X1.iloc[indices[:len_Y0]]\n",
    "    \n",
    "new_X = pd.concat((new_X0, new_X1))\n",
    "\n",
    "print(\"In the new database:\")\n",
    "print(\"Y=1:\", np.sum(new_X['Y']), \"data\")\n",
    "print(\"Y=0:\", -np.sum([x - 1 for x in new_X['Y']]), \"data\")"
   ]
  },
  {
   "cell_type": "code",
   "execution_count": 107,
   "metadata": {},
   "outputs": [
    {
     "data": {
      "text/html": [
       "<div>\n",
       "<style>\n",
       "    .dataframe thead tr:only-child th {\n",
       "        text-align: right;\n",
       "    }\n",
       "\n",
       "    .dataframe thead th {\n",
       "        text-align: left;\n",
       "    }\n",
       "\n",
       "    .dataframe tbody tr th {\n",
       "        vertical-align: top;\n",
       "    }\n",
       "</style>\n",
       "<table border=\"1\" class=\"dataframe\">\n",
       "  <thead>\n",
       "    <tr style=\"text-align: right;\">\n",
       "      <th></th>\n",
       "      <th>X</th>\n",
       "      <th>X_1</th>\n",
       "      <th>X_10</th>\n",
       "      <th>X_2</th>\n",
       "      <th>X_3</th>\n",
       "      <th>X_4</th>\n",
       "      <th>X_5</th>\n",
       "      <th>X_6</th>\n",
       "      <th>X_7</th>\n",
       "      <th>X_8</th>\n",
       "      <th>X_9</th>\n",
       "      <th>Y</th>\n",
       "      <th>diff_first_second_mean</th>\n",
       "      <th>diff_to_X0</th>\n",
       "      <th>diff_to_mean</th>\n",
       "      <th>mean</th>\n",
       "      <th>trajec</th>\n",
       "      <th>Y_to_plot</th>\n",
       "    </tr>\n",
       "  </thead>\n",
       "  <tbody>\n",
       "    <tr>\n",
       "      <th>1624</th>\n",
       "      <td>0.004906</td>\n",
       "      <td>0.004906</td>\n",
       "      <td>0.004913</td>\n",
       "      <td>0.004906</td>\n",
       "      <td>0.004907</td>\n",
       "      <td>0.004907</td>\n",
       "      <td>0.004908</td>\n",
       "      <td>0.004909</td>\n",
       "      <td>0.004909</td>\n",
       "      <td>0.004910</td>\n",
       "      <td>0.004912</td>\n",
       "      <td>0</td>\n",
       "      <td>0.000004</td>\n",
       "      <td>0.000709</td>\n",
       "      <td>0.000003</td>\n",
       "      <td>0.004909</td>\n",
       "      <td>77</td>\n",
       "      <td>0.0</td>\n",
       "    </tr>\n",
       "    <tr>\n",
       "      <th>479</th>\n",
       "      <td>0.003715</td>\n",
       "      <td>0.003717</td>\n",
       "      <td>0.003724</td>\n",
       "      <td>0.003720</td>\n",
       "      <td>0.003722</td>\n",
       "      <td>0.003724</td>\n",
       "      <td>0.003724</td>\n",
       "      <td>0.003724</td>\n",
       "      <td>0.003724</td>\n",
       "      <td>0.003724</td>\n",
       "      <td>0.003724</td>\n",
       "      <td>0</td>\n",
       "      <td>0.000002</td>\n",
       "      <td>0.000477</td>\n",
       "      <td>0.000008</td>\n",
       "      <td>0.003723</td>\n",
       "      <td>22</td>\n",
       "      <td>0.0</td>\n",
       "    </tr>\n",
       "    <tr>\n",
       "      <th>1621</th>\n",
       "      <td>0.004907</td>\n",
       "      <td>0.004907</td>\n",
       "      <td>0.004919</td>\n",
       "      <td>0.004908</td>\n",
       "      <td>0.004909</td>\n",
       "      <td>0.004909</td>\n",
       "      <td>0.004910</td>\n",
       "      <td>0.004912</td>\n",
       "      <td>0.004913</td>\n",
       "      <td>0.004915</td>\n",
       "      <td>0.004917</td>\n",
       "      <td>0</td>\n",
       "      <td>0.000006</td>\n",
       "      <td>0.000712</td>\n",
       "      <td>0.000005</td>\n",
       "      <td>0.004912</td>\n",
       "      <td>77</td>\n",
       "      <td>0.0</td>\n",
       "    </tr>\n",
       "    <tr>\n",
       "      <th>560</th>\n",
       "      <td>0.004498</td>\n",
       "      <td>0.004499</td>\n",
       "      <td>0.004501</td>\n",
       "      <td>0.004499</td>\n",
       "      <td>0.004499</td>\n",
       "      <td>0.004500</td>\n",
       "      <td>0.004500</td>\n",
       "      <td>0.004500</td>\n",
       "      <td>0.004501</td>\n",
       "      <td>0.004501</td>\n",
       "      <td>0.004501</td>\n",
       "      <td>0</td>\n",
       "      <td>0.000002</td>\n",
       "      <td>0.000300</td>\n",
       "      <td>0.000002</td>\n",
       "      <td>0.004500</td>\n",
       "      <td>26</td>\n",
       "      <td>0.0</td>\n",
       "    </tr>\n",
       "    <tr>\n",
       "      <th>2025</th>\n",
       "      <td>0.004794</td>\n",
       "      <td>0.004795</td>\n",
       "      <td>0.004798</td>\n",
       "      <td>0.004795</td>\n",
       "      <td>0.004795</td>\n",
       "      <td>0.004795</td>\n",
       "      <td>0.004796</td>\n",
       "      <td>0.004796</td>\n",
       "      <td>0.004796</td>\n",
       "      <td>0.004797</td>\n",
       "      <td>0.004798</td>\n",
       "      <td>0</td>\n",
       "      <td>0.000002</td>\n",
       "      <td>0.000596</td>\n",
       "      <td>0.000002</td>\n",
       "      <td>0.004796</td>\n",
       "      <td>96</td>\n",
       "      <td>0.0</td>\n",
       "    </tr>\n",
       "  </tbody>\n",
       "</table>\n",
       "</div>"
      ],
      "text/plain": [
       "             X       X_1      X_10       X_2       X_3       X_4       X_5  \\\n",
       "1624  0.004906  0.004906  0.004913  0.004906  0.004907  0.004907  0.004908   \n",
       "479   0.003715  0.003717  0.003724  0.003720  0.003722  0.003724  0.003724   \n",
       "1621  0.004907  0.004907  0.004919  0.004908  0.004909  0.004909  0.004910   \n",
       "560   0.004498  0.004499  0.004501  0.004499  0.004499  0.004500  0.004500   \n",
       "2025  0.004794  0.004795  0.004798  0.004795  0.004795  0.004795  0.004796   \n",
       "\n",
       "           X_6       X_7       X_8       X_9  Y  diff_first_second_mean  \\\n",
       "1624  0.004909  0.004909  0.004910  0.004912  0                0.000004   \n",
       "479   0.003724  0.003724  0.003724  0.003724  0                0.000002   \n",
       "1621  0.004912  0.004913  0.004915  0.004917  0                0.000006   \n",
       "560   0.004500  0.004501  0.004501  0.004501  0                0.000002   \n",
       "2025  0.004796  0.004796  0.004797  0.004798  0                0.000002   \n",
       "\n",
       "      diff_to_X0  diff_to_mean      mean  trajec  Y_to_plot  \n",
       "1624    0.000709      0.000003  0.004909      77        0.0  \n",
       "479     0.000477      0.000008  0.003723      22        0.0  \n",
       "1621    0.000712      0.000005  0.004912      77        0.0  \n",
       "560     0.000300      0.000002  0.004500      26        0.0  \n",
       "2025    0.000596      0.000002  0.004796      96        0.0  "
      ]
     },
     "execution_count": 107,
     "metadata": {},
     "output_type": "execute_result"
    }
   ],
   "source": [
    "new_X.head()"
   ]
  },
  {
   "cell_type": "markdown",
   "metadata": {},
   "source": [
    "# Classification"
   ]
  },
  {
   "cell_type": "code",
   "execution_count": null,
   "metadata": {
    "collapsed": true
   },
   "outputs": [],
   "source": []
  },
  {
   "cell_type": "markdown",
   "metadata": {},
   "source": [
    "#### Choose descriptors"
   ]
  },
  {
   "cell_type": "code",
   "execution_count": 156,
   "metadata": {},
   "outputs": [
    {
     "name": "stdout",
     "output_type": "stream",
     "text": [
      "Available descriptors: ['X_1', 'X_10', 'X_2', 'X_3', 'X_4', 'X_5', 'X_6', 'X_7', 'X_8', 'X_9', 'diff_first_second_mean', 'diff_to_X0', 'diff_to_mean', 'mean']\n"
     ]
    }
   ],
   "source": [
    "print(\"Available descriptors:\", name_descriptors)"
   ]
  },
  {
   "cell_type": "code",
   "execution_count": 157,
   "metadata": {
    "collapsed": true
   },
   "outputs": [],
   "source": [
    "# Choose a list of descriptors:\n",
    "list_descriptors = ['diff_to_X0', 'diff_to_mean', 'X']"
   ]
  },
  {
   "cell_type": "markdown",
   "metadata": {},
   "source": [
    "#### Separate data in test and train set"
   ]
  },
  {
   "cell_type": "code",
   "execution_count": 158,
   "metadata": {},
   "outputs": [
    {
     "name": "stdout",
     "output_type": "stream",
     "text": [
      "90 data in the train set and 816 in the test set\n"
     ]
    }
   ],
   "source": [
    "X_data = np.array(new_X[list_descriptors + ['X']])\n",
    "Y_data = np.array(new_X['Y'])\n",
    "\n",
    "# Separate train / test\n",
    "pct_test = 0.1\n",
    "nb_test = int(pct_test * len(X_data))\n",
    "print(\"{} data in the train set and {} in the test set\".format(nb_test, len(X_data) - nb_test))\n",
    "indices = np.random.permutation(range(len(X_data)))\n",
    "\n",
    "X_test = X_data[indices[:nb_test]]\n",
    "Y_test = Y_data[indices[:nb_test]]\n",
    "\n",
    "X_train = X_data[indices[nb_test:]]\n",
    "Y_train = Y_data[indices[nb_test:]]"
   ]
  },
  {
   "cell_type": "markdown",
   "metadata": {},
   "source": [
    "#### Test several classifieur"
   ]
  },
  {
   "cell_type": "code",
   "execution_count": 159,
   "metadata": {
    "collapsed": true
   },
   "outputs": [],
   "source": [
    "def test_classif_model(model, X_train, Y_train, X_test, Y_test):\n",
    "    \n",
    "    model.fit(X_train, Y_train)\n",
    "\n",
    "    score_train = model.score(X_train, Y_train)\n",
    "    print(\"Score on train set: {}%\".format(round(score_train*100, 3)))\n",
    "    score_test = model.score(X_test, Y_test)\n",
    "    print(\"Score on test set: {}%\".format(round(score_test*100, 3)))"
   ]
  },
  {
   "cell_type": "code",
   "execution_count": 160,
   "metadata": {},
   "outputs": [
    {
     "name": "stdout",
     "output_type": "stream",
     "text": [
      "-- Linear SVM --\n",
      "Score on train set: 50.368%\n",
      "Score on test set: 46.667%\n",
      "-- Logistic Regression --\n",
      "Score on train set: 50.368%\n",
      "Score on test set: 46.667%\n"
     ]
    }
   ],
   "source": [
    "# Classification using a SVM (Support Vector Machine)\n",
    "print(\"-- Linear SVM --\")\n",
    "lin_clf = svm.SVC()\n",
    "test_classif_model(lin_clf, X_train, Y_train, X_test, Y_test)\n",
    "\n",
    "print(\"-- Logistic Regression --\")\n",
    "logreg = LogisticRegression()\n",
    "test_classif_model(logreg, X_train, Y_train, X_test, Y_test)"
   ]
  },
  {
   "cell_type": "markdown",
   "metadata": {},
   "source": [
    "** Résultats** (sur les données de test)\n",
    "* Juste **diff_to_mean**: 46%\n",
    "* 10 données passées: 49%\n",
    "* **diff_first_second_mean**: 42-44%"
   ]
  },
  {
   "cell_type": "code",
   "execution_count": 162,
   "metadata": {},
   "outputs": [
    {
     "data": {
      "text/plain": [
       "array([[ 0.00627067,  0.02056137, -0.02574612, -0.02574612]])"
      ]
     },
     "execution_count": 162,
     "metadata": {},
     "output_type": "execute_result"
    }
   ],
   "source": [
    "# Coefficients de la regression logistique...\n",
    "logreg.coef_"
   ]
  },
  {
   "cell_type": "code",
   "execution_count": null,
   "metadata": {},
   "outputs": [],
   "source": []
  },
  {
   "cell_type": "code",
   "execution_count": null,
   "metadata": {},
   "outputs": [],
   "source": []
  },
  {
   "cell_type": "code",
   "execution_count": null,
   "metadata": {},
   "outputs": [],
   "source": []
  },
  {
   "cell_type": "code",
   "execution_count": null,
   "metadata": {
    "collapsed": true
   },
   "outputs": [],
   "source": []
  },
  {
   "cell_type": "code",
   "execution_count": null,
   "metadata": {},
   "outputs": [],
   "source": []
  },
  {
   "cell_type": "code",
   "execution_count": null,
   "metadata": {
    "collapsed": true
   },
   "outputs": [],
   "source": []
  },
  {
   "cell_type": "code",
   "execution_count": null,
   "metadata": {
    "collapsed": true
   },
   "outputs": [],
   "source": []
  }
 ],
 "metadata": {
  "kernelspec": {
   "display_name": "Python 3",
   "language": "python",
   "name": "python3"
  },
  "language_info": {
   "codemirror_mode": {
    "name": "ipython",
    "version": 3
   },
   "file_extension": ".py",
   "mimetype": "text/x-python",
   "name": "python",
   "nbconvert_exporter": "python",
   "pygments_lexer": "ipython3",
   "version": "3.6.3"
  }
 },
 "nbformat": 4,
 "nbformat_minor": 2
}
