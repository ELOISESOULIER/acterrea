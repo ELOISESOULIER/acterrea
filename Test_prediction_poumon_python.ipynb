{
 "cells": [
  {
   "cell_type": "code",
   "execution_count": 1,
   "metadata": {
    "collapsed": true
   },
   "outputs": [],
   "source": [
    "import numpy as np\n",
    "import pandas as pd\n",
    "import matplotlib.pyplot as plt\n",
    "import sklearn\n",
    "%matplotlib inline\n",
    "\n",
    "# Classification\n",
    "from sklearn import tree\n",
    "from sklearn import svm\n",
    "from sklearn.linear_model import LogisticRegression\n",
    "#import xgboost as xgb\n",
    "\n",
    "from descriptor_model import DescriptorModel, plot_two_scales_y"
   ]
  },
  {
   "cell_type": "markdown",
   "metadata": {},
   "source": [
    "## Load data \n",
    "and save them in a DataFrame"
   ]
  },
  {
   "cell_type": "code",
   "execution_count": 2,
   "metadata": {},
   "outputs": [
    {
     "name": "stdout",
     "output_type": "stream",
     "text": [
      "100 simulations with 36 values loaded\n"
     ]
    }
   ],
   "source": [
    "descr = DescriptorModel(\"./data/out_O2_taub.csv\")"
   ]
  },
  {
   "cell_type": "code",
   "execution_count": 3,
   "metadata": {},
   "outputs": [
    {
     "data": {
      "text/html": [
       "<div>\n",
       "<style>\n",
       "    .dataframe thead tr:only-child th {\n",
       "        text-align: right;\n",
       "    }\n",
       "\n",
       "    .dataframe thead th {\n",
       "        text-align: left;\n",
       "    }\n",
       "\n",
       "    .dataframe tbody tr th {\n",
       "        vertical-align: top;\n",
       "    }\n",
       "</style>\n",
       "<table border=\"1\" class=\"dataframe\">\n",
       "  <thead>\n",
       "    <tr style=\"text-align: right;\">\n",
       "      <th></th>\n",
       "      <th>Unnamed: 0</th>\n",
       "      <th>V1</th>\n",
       "      <th>V2</th>\n",
       "      <th>V3</th>\n",
       "      <th>V4</th>\n",
       "      <th>V5</th>\n",
       "      <th>V6</th>\n",
       "      <th>V7</th>\n",
       "      <th>V8</th>\n",
       "      <th>V9</th>\n",
       "      <th>...</th>\n",
       "      <th>V91</th>\n",
       "      <th>V92</th>\n",
       "      <th>V93</th>\n",
       "      <th>V94</th>\n",
       "      <th>V95</th>\n",
       "      <th>V96</th>\n",
       "      <th>V97</th>\n",
       "      <th>V98</th>\n",
       "      <th>V99</th>\n",
       "      <th>V100</th>\n",
       "    </tr>\n",
       "  </thead>\n",
       "  <tbody>\n",
       "    <tr>\n",
       "      <th>0</th>\n",
       "      <td>4</td>\n",
       "      <td>0.004520</td>\n",
       "      <td>0.003805</td>\n",
       "      <td>0.002963</td>\n",
       "      <td>0.003026</td>\n",
       "      <td>0.002770</td>\n",
       "      <td>0.002742</td>\n",
       "      <td>0.002827</td>\n",
       "      <td>0.002870</td>\n",
       "      <td>0.002844</td>\n",
       "      <td>...</td>\n",
       "      <td>0.003751</td>\n",
       "      <td>0.004329</td>\n",
       "      <td>0.003070</td>\n",
       "      <td>0.003132</td>\n",
       "      <td>0.003106</td>\n",
       "      <td>0.002617</td>\n",
       "      <td>0.003351</td>\n",
       "      <td>0.003112</td>\n",
       "      <td>0.003108</td>\n",
       "      <td>0.003107</td>\n",
       "    </tr>\n",
       "    <tr>\n",
       "      <th>1</th>\n",
       "      <td>5</td>\n",
       "      <td>0.004541</td>\n",
       "      <td>0.003759</td>\n",
       "      <td>0.003020</td>\n",
       "      <td>0.003029</td>\n",
       "      <td>0.002728</td>\n",
       "      <td>0.002754</td>\n",
       "      <td>0.002825</td>\n",
       "      <td>0.002839</td>\n",
       "      <td>0.002919</td>\n",
       "      <td>...</td>\n",
       "      <td>0.003731</td>\n",
       "      <td>0.004335</td>\n",
       "      <td>0.003094</td>\n",
       "      <td>0.003092</td>\n",
       "      <td>0.003097</td>\n",
       "      <td>0.002671</td>\n",
       "      <td>0.003345</td>\n",
       "      <td>0.003046</td>\n",
       "      <td>0.003043</td>\n",
       "      <td>0.003067</td>\n",
       "    </tr>\n",
       "    <tr>\n",
       "      <th>2</th>\n",
       "      <td>6</td>\n",
       "      <td>0.004524</td>\n",
       "      <td>0.003765</td>\n",
       "      <td>0.003001</td>\n",
       "      <td>0.002971</td>\n",
       "      <td>0.002779</td>\n",
       "      <td>0.002781</td>\n",
       "      <td>0.002839</td>\n",
       "      <td>0.002847</td>\n",
       "      <td>0.002808</td>\n",
       "      <td>...</td>\n",
       "      <td>0.003808</td>\n",
       "      <td>0.004420</td>\n",
       "      <td>0.003080</td>\n",
       "      <td>0.003134</td>\n",
       "      <td>0.003111</td>\n",
       "      <td>0.002617</td>\n",
       "      <td>0.003403</td>\n",
       "      <td>0.003071</td>\n",
       "      <td>0.003081</td>\n",
       "      <td>0.003097</td>\n",
       "    </tr>\n",
       "    <tr>\n",
       "      <th>3</th>\n",
       "      <td>7</td>\n",
       "      <td>0.004571</td>\n",
       "      <td>0.003769</td>\n",
       "      <td>0.002993</td>\n",
       "      <td>0.003043</td>\n",
       "      <td>0.002756</td>\n",
       "      <td>0.002772</td>\n",
       "      <td>0.002835</td>\n",
       "      <td>0.002866</td>\n",
       "      <td>0.002869</td>\n",
       "      <td>...</td>\n",
       "      <td>0.003824</td>\n",
       "      <td>0.004414</td>\n",
       "      <td>0.003105</td>\n",
       "      <td>0.003093</td>\n",
       "      <td>0.003101</td>\n",
       "      <td>0.002660</td>\n",
       "      <td>0.003378</td>\n",
       "      <td>0.003066</td>\n",
       "      <td>0.003081</td>\n",
       "      <td>0.003105</td>\n",
       "    </tr>\n",
       "    <tr>\n",
       "      <th>4</th>\n",
       "      <td>8</td>\n",
       "      <td>0.004488</td>\n",
       "      <td>0.003756</td>\n",
       "      <td>0.003018</td>\n",
       "      <td>0.003049</td>\n",
       "      <td>0.002769</td>\n",
       "      <td>0.002768</td>\n",
       "      <td>0.002879</td>\n",
       "      <td>0.002858</td>\n",
       "      <td>0.002880</td>\n",
       "      <td>...</td>\n",
       "      <td>0.003802</td>\n",
       "      <td>0.004394</td>\n",
       "      <td>0.003112</td>\n",
       "      <td>0.003090</td>\n",
       "      <td>0.003137</td>\n",
       "      <td>0.002673</td>\n",
       "      <td>0.003342</td>\n",
       "      <td>0.003071</td>\n",
       "      <td>0.003125</td>\n",
       "      <td>0.003078</td>\n",
       "    </tr>\n",
       "  </tbody>\n",
       "</table>\n",
       "<p>5 rows × 101 columns</p>\n",
       "</div>"
      ],
      "text/plain": [
       "   Unnamed: 0        V1        V2        V3        V4        V5        V6  \\\n",
       "0           4  0.004520  0.003805  0.002963  0.003026  0.002770  0.002742   \n",
       "1           5  0.004541  0.003759  0.003020  0.003029  0.002728  0.002754   \n",
       "2           6  0.004524  0.003765  0.003001  0.002971  0.002779  0.002781   \n",
       "3           7  0.004571  0.003769  0.002993  0.003043  0.002756  0.002772   \n",
       "4           8  0.004488  0.003756  0.003018  0.003049  0.002769  0.002768   \n",
       "\n",
       "         V7        V8        V9    ...          V91       V92       V93  \\\n",
       "0  0.002827  0.002870  0.002844    ...     0.003751  0.004329  0.003070   \n",
       "1  0.002825  0.002839  0.002919    ...     0.003731  0.004335  0.003094   \n",
       "2  0.002839  0.002847  0.002808    ...     0.003808  0.004420  0.003080   \n",
       "3  0.002835  0.002866  0.002869    ...     0.003824  0.004414  0.003105   \n",
       "4  0.002879  0.002858  0.002880    ...     0.003802  0.004394  0.003112   \n",
       "\n",
       "        V94       V95       V96       V97       V98       V99      V100  \n",
       "0  0.003132  0.003106  0.002617  0.003351  0.003112  0.003108  0.003107  \n",
       "1  0.003092  0.003097  0.002671  0.003345  0.003046  0.003043  0.003067  \n",
       "2  0.003134  0.003111  0.002617  0.003403  0.003071  0.003081  0.003097  \n",
       "3  0.003093  0.003101  0.002660  0.003378  0.003066  0.003081  0.003105  \n",
       "4  0.003090  0.003137  0.002673  0.003342  0.003071  0.003125  0.003078  \n",
       "\n",
       "[5 rows x 101 columns]"
      ]
     },
     "execution_count": 3,
     "metadata": {},
     "output_type": "execute_result"
    }
   ],
   "source": [
    "descr.df.head()"
   ]
  },
  {
   "cell_type": "code",
   "execution_count": 4,
   "metadata": {},
   "outputs": [
    {
     "data": {
      "image/png": "[encoded data removed]",
      "text/plain": [
       "<matplotlib.figure.Figure at 0x271281f2518>"
      ]
     },
     "metadata": {},
     "output_type": "display_data"
    }
   ],
   "source": [
    "descr.plot_some_simulations(20)"
   ]
  },
  {
   "cell_type": "markdown",
   "metadata": {},
   "source": [
    "# Processing X data and compute the accident variable Y"
   ]
  },
  {
   "cell_type": "markdown",
   "metadata": {},
   "source": [
    "### Set the parameters:\n",
    "* **len_X**: the len_x last values of X are taken into account to compute descriptors\n",
    "* **tau**: We want to predict if an accident happens at t + tau\n",
    "\n",
    "The following variables are used to determine the event: \"accident\" that we want to predict:\n",
    "* **thres_mean**: If |mean(X(0), ..., (t-1)) - X(t)| < thres_mean, then there is an accident at t.\n",
    "* **X0_base, thres_gal**: If |X(t) - X0| < thres_gal then there is an accident."
   ]
  },
  {
   "cell_type": "code",
   "execution_count": 5,
   "metadata": {
    "collapsed": true
   },
   "outputs": [],
   "source": [
    "params = {'thres_mean': 1e-4,\n",
    "          'X0_base': 0.0042,\n",
    "          'thres_gal': 0.2}"
   ]
  },
  {
   "cell_type": "code",
   "execution_count": 6,
   "metadata": {},
   "outputs": [
    {
     "name": "stdout",
     "output_type": "stream",
     "text": [
      "len(Y == 1) : 433, len(Y == 0) : 3167\n",
      "12.03% of the points are an accident\n",
      "40 patients over the 100 patients have an accident\n"
     ]
    },
    {
     "data": {
      "text/html": [
       "<div>\n",
       "<style>\n",
       "    .dataframe thead tr:only-child th {\n",
       "        text-align: right;\n",
       "    }\n",
       "\n",
       "    .dataframe thead th {\n",
       "        text-align: left;\n",
       "    }\n",
       "\n",
       "    .dataframe tbody tr th {\n",
       "        vertical-align: top;\n",
       "    }\n",
       "</style>\n",
       "<table border=\"1\" class=\"dataframe\">\n",
       "  <thead>\n",
       "    <tr style=\"text-align: right;\">\n",
       "      <th></th>\n",
       "      <th>X</th>\n",
       "      <th>X_cummean</th>\n",
       "      <th>trajec</th>\n",
       "      <th>X_diff</th>\n",
       "      <th>Y1</th>\n",
       "      <th>Y2</th>\n",
       "      <th>Y</th>\n",
       "    </tr>\n",
       "  </thead>\n",
       "  <tbody>\n",
       "    <tr>\n",
       "      <th>0</th>\n",
       "      <td>0.004520</td>\n",
       "      <td>0.004520</td>\n",
       "      <td>0</td>\n",
       "      <td>0.000000</td>\n",
       "      <td>0</td>\n",
       "      <td>0</td>\n",
       "      <td>0</td>\n",
       "    </tr>\n",
       "    <tr>\n",
       "      <th>1</th>\n",
       "      <td>0.004541</td>\n",
       "      <td>0.004520</td>\n",
       "      <td>0</td>\n",
       "      <td>0.000021</td>\n",
       "      <td>0</td>\n",
       "      <td>0</td>\n",
       "      <td>0</td>\n",
       "    </tr>\n",
       "    <tr>\n",
       "      <th>2</th>\n",
       "      <td>0.004524</td>\n",
       "      <td>0.004531</td>\n",
       "      <td>0</td>\n",
       "      <td>0.000007</td>\n",
       "      <td>0</td>\n",
       "      <td>0</td>\n",
       "      <td>0</td>\n",
       "    </tr>\n",
       "    <tr>\n",
       "      <th>3</th>\n",
       "      <td>0.004571</td>\n",
       "      <td>0.004529</td>\n",
       "      <td>0</td>\n",
       "      <td>0.000043</td>\n",
       "      <td>0</td>\n",
       "      <td>0</td>\n",
       "      <td>0</td>\n",
       "    </tr>\n",
       "    <tr>\n",
       "      <th>4</th>\n",
       "      <td>0.004488</td>\n",
       "      <td>0.004539</td>\n",
       "      <td>0</td>\n",
       "      <td>0.000051</td>\n",
       "      <td>0</td>\n",
       "      <td>0</td>\n",
       "      <td>0</td>\n",
       "    </tr>\n",
       "  </tbody>\n",
       "</table>\n",
       "</div>"
      ],
      "text/plain": [
       "          X  X_cummean  trajec    X_diff  Y1  Y2  Y\n",
       "0  0.004520   0.004520       0  0.000000   0   0  0\n",
       "1  0.004541   0.004520       0  0.000021   0   0  0\n",
       "2  0.004524   0.004531       0  0.000007   0   0  0\n",
       "3  0.004571   0.004529       0  0.000043   0   0  0\n",
       "4  0.004488   0.004539       0  0.000051   0   0  0"
      ]
     },
     "execution_count": 6,
     "metadata": {},
     "output_type": "execute_result"
    }
   ],
   "source": [
    "descr.process_var(params)\n",
    "\n",
    "print(\"len(Y == 1) : {}, len(Y == 0) : {}\".format(descr.data['Y'].sum(), len(descr.data) - descr.data['Y'].sum()))\n",
    "\n",
    "print(\"{}% of the points are an accident\".format(round(np.sum(descr.data['Y'])/ len(descr.data) * 100, 2)))\n",
    "print(\"{} patients over the {} patients have an accident\".format(len(descr.data[descr.data['Y'] == 1]['trajec'].unique()), descr.nb_sim))\n",
    "\n",
    "descr.data.head()"
   ]
  },
  {
   "cell_type": "markdown",
   "metadata": {
    "collapsed": true
   },
   "source": [
    "* **trajec** is the number of the trajectory. When the number change, the value correspond to a new person."
   ]
  },
  {
   "cell_type": "code",
   "execution_count": 7,
   "metadata": {
    "collapsed": true
   },
   "outputs": [],
   "source": [
    "trajec_with_accident = np.unique(descr.data[descr.data['Y'] == 1]['trajec'])"
   ]
  },
  {
   "cell_type": "code",
   "execution_count": 8,
   "metadata": {},
   "outputs": [
    {
     "data": {
      "image/png": "[encoded data removed]",
      "text/plain": [
       "<matplotlib.figure.Figure at 0x271284c75f8>"
      ]
     },
     "metadata": {},
     "output_type": "display_data"
    }
   ],
   "source": [
    "plot_two_scales_y(descr.data[descr.data['trajec'] == trajec_with_accident[0]]['X'],\n",
    "                  descr.data[descr.data['trajec'] == trajec_with_accident[0]]['Y'],\n",
    "                  title='', x_label='time', y_label1='X', y_label2='Y',\n",
    "                  label1='X', label2='Y computed')"
   ]
  },
  {
   "cell_type": "code",
   "execution_count": null,
   "metadata": {
    "collapsed": true
   },
   "outputs": [],
   "source": []
  },
  {
   "cell_type": "markdown",
   "metadata": {},
   "source": [
    "## Compute descriptors on X data"
   ]
  },
  {
   "cell_type": "code",
   "execution_count": 9,
   "metadata": {},
   "outputs": [
    {
     "name": "stdout",
     "output_type": "stream",
     "text": [
      "The descriptors computed are: ['mean', 'diff_to_mean', 'diff_first_second_mean', 'diff_to_X0', 'actual_evolution', 'past_evolution', 'mean_past_evolution', 'X_1', 'X_2', 'X_3', 'X_4', 'X_5', 'X_6', 'X_7', 'X_8', 'X_9', 'X_10']\n",
      "100 trajectories of length 36\n"
     ]
    }
   ],
   "source": [
    "descr.compute_descriptors(tau=5, len_X=10)"
   ]
  },
  {
   "cell_type": "code",
   "execution_count": 51,
   "metadata": {
    "scrolled": true
   },
   "outputs": [
    {
     "data": {
      "image/png": "[encoded data removed]",
      "text/plain": [
       "<matplotlib.figure.Figure at 0x2712a0fa1d0>"
      ]
     },
     "metadata": {},
     "output_type": "display_data"
    }
   ],
   "source": [
    "plot_two_scales_y(descr.descriptors[descr.descriptors['trajec'] == trajec_with_accident[15]]['X'],\n",
    "                  descr.descriptors[descr.descriptors['trajec'] == trajec_with_accident[15]][['Y_to_predict', 'Y']],\n",
    "                  title='', x_label='time', y_label1='X', y_label2='Y + tau',\n",
    "                  label1='X', label2='Y + tau (to predict)')"
   ]
  },
  {
   "cell_type": "code",
   "execution_count": null,
   "metadata": {
    "collapsed": true
   },
   "outputs": [],
   "source": []
  },
  {
   "cell_type": "markdown",
   "metadata": {},
   "source": [
    "### Correlation coefficients"
   ]
  },
  {
   "cell_type": "code",
   "execution_count": 11,
   "metadata": {},
   "outputs": [
    {
     "name": "stdout",
     "output_type": "stream",
     "text": [
      "Correlation coefficients between the variables:\n"
     ]
    },
    {
     "data": {
      "text/html": [
       "<div>\n",
       "<style>\n",
       "    .dataframe thead tr:only-child th {\n",
       "        text-align: right;\n",
       "    }\n",
       "\n",
       "    .dataframe thead th {\n",
       "        text-align: left;\n",
       "    }\n",
       "\n",
       "    .dataframe tbody tr th {\n",
       "        vertical-align: top;\n",
       "    }\n",
       "</style>\n",
       "<table border=\"1\" class=\"dataframe\">\n",
       "  <thead>\n",
       "    <tr style=\"text-align: right;\">\n",
       "      <th></th>\n",
       "      <th>mean</th>\n",
       "      <th>diff_to_mean</th>\n",
       "      <th>diff_first_second_mean</th>\n",
       "      <th>diff_to_X0</th>\n",
       "      <th>actual_evolution</th>\n",
       "      <th>mean_past_evolution</th>\n",
       "      <th>Y</th>\n",
       "      <th>Y_to_predict</th>\n",
       "    </tr>\n",
       "  </thead>\n",
       "  <tbody>\n",
       "    <tr>\n",
       "      <th>mean</th>\n",
       "      <td>1.000000</td>\n",
       "      <td>0.134704</td>\n",
       "      <td>0.096846</td>\n",
       "      <td>-0.952739</td>\n",
       "      <td>-0.125342</td>\n",
       "      <td>-0.127570</td>\n",
       "      <td>0.086815</td>\n",
       "      <td>0.106578</td>\n",
       "    </tr>\n",
       "    <tr>\n",
       "      <th>diff_to_mean</th>\n",
       "      <td>0.134704</td>\n",
       "      <td>1.000000</td>\n",
       "      <td>0.839924</td>\n",
       "      <td>-0.156952</td>\n",
       "      <td>-0.128706</td>\n",
       "      <td>-0.277525</td>\n",
       "      <td>0.812988</td>\n",
       "      <td>0.600147</td>\n",
       "    </tr>\n",
       "    <tr>\n",
       "      <th>diff_first_second_mean</th>\n",
       "      <td>0.096846</td>\n",
       "      <td>0.839924</td>\n",
       "      <td>1.000000</td>\n",
       "      <td>-0.131517</td>\n",
       "      <td>-0.060220</td>\n",
       "      <td>-0.306913</td>\n",
       "      <td>0.697307</td>\n",
       "      <td>0.499156</td>\n",
       "    </tr>\n",
       "    <tr>\n",
       "      <th>diff_to_X0</th>\n",
       "      <td>-0.952739</td>\n",
       "      <td>-0.156952</td>\n",
       "      <td>-0.131517</td>\n",
       "      <td>1.000000</td>\n",
       "      <td>0.117368</td>\n",
       "      <td>0.128929</td>\n",
       "      <td>-0.119507</td>\n",
       "      <td>-0.130440</td>\n",
       "    </tr>\n",
       "    <tr>\n",
       "      <th>actual_evolution</th>\n",
       "      <td>-0.125342</td>\n",
       "      <td>-0.128706</td>\n",
       "      <td>-0.060220</td>\n",
       "      <td>0.117368</td>\n",
       "      <td>1.000000</td>\n",
       "      <td>0.226221</td>\n",
       "      <td>-0.042202</td>\n",
       "      <td>-0.027539</td>\n",
       "    </tr>\n",
       "    <tr>\n",
       "      <th>mean_past_evolution</th>\n",
       "      <td>-0.127570</td>\n",
       "      <td>-0.277525</td>\n",
       "      <td>-0.306913</td>\n",
       "      <td>0.128929</td>\n",
       "      <td>0.226221</td>\n",
       "      <td>1.000000</td>\n",
       "      <td>-0.053589</td>\n",
       "      <td>-0.049211</td>\n",
       "    </tr>\n",
       "    <tr>\n",
       "      <th>Y</th>\n",
       "      <td>0.086815</td>\n",
       "      <td>0.812988</td>\n",
       "      <td>0.697307</td>\n",
       "      <td>-0.119507</td>\n",
       "      <td>-0.042202</td>\n",
       "      <td>-0.053589</td>\n",
       "      <td>1.000000</td>\n",
       "      <td>0.714796</td>\n",
       "    </tr>\n",
       "    <tr>\n",
       "      <th>Y_to_predict</th>\n",
       "      <td>0.106578</td>\n",
       "      <td>0.600147</td>\n",
       "      <td>0.499156</td>\n",
       "      <td>-0.130440</td>\n",
       "      <td>-0.027539</td>\n",
       "      <td>-0.049211</td>\n",
       "      <td>0.714796</td>\n",
       "      <td>1.000000</td>\n",
       "    </tr>\n",
       "  </tbody>\n",
       "</table>\n",
       "</div>"
      ],
      "text/plain": [
       "                            mean  diff_to_mean  diff_first_second_mean  \\\n",
       "mean                    1.000000      0.134704                0.096846   \n",
       "diff_to_mean            0.134704      1.000000                0.839924   \n",
       "diff_first_second_mean  0.096846      0.839924                1.000000   \n",
       "diff_to_X0             -0.952739     -0.156952               -0.131517   \n",
       "actual_evolution       -0.125342     -0.128706               -0.060220   \n",
       "mean_past_evolution    -0.127570     -0.277525               -0.306913   \n",
       "Y                       0.086815      0.812988                0.697307   \n",
       "Y_to_predict            0.106578      0.600147                0.499156   \n",
       "\n",
       "                        diff_to_X0  actual_evolution  mean_past_evolution  \\\n",
       "mean                     -0.952739         -0.125342            -0.127570   \n",
       "diff_to_mean             -0.156952         -0.128706            -0.277525   \n",
       "diff_first_second_mean   -0.131517         -0.060220            -0.306913   \n",
       "diff_to_X0                1.000000          0.117368             0.128929   \n",
       "actual_evolution          0.117368          1.000000             0.226221   \n",
       "mean_past_evolution       0.128929          0.226221             1.000000   \n",
       "Y                        -0.119507         -0.042202            -0.053589   \n",
       "Y_to_predict             -0.130440         -0.027539            -0.049211   \n",
       "\n",
       "                               Y  Y_to_predict  \n",
       "mean                    0.086815      0.106578  \n",
       "diff_to_mean            0.812988      0.600147  \n",
       "diff_first_second_mean  0.697307      0.499156  \n",
       "diff_to_X0             -0.119507     -0.130440  \n",
       "actual_evolution       -0.042202     -0.027539  \n",
       "mean_past_evolution    -0.053589     -0.049211  \n",
       "Y                       1.000000      0.714796  \n",
       "Y_to_predict            0.714796      1.000000  "
      ]
     },
     "execution_count": 11,
     "metadata": {},
     "output_type": "execute_result"
    }
   ],
   "source": [
    "names = [x for x in descr.name_descriptors if x[:2] != 'X_'] + ['Y', 'Y_to_predict']\n",
    "\n",
    "print(\"Correlation coefficients between the variables:\")\n",
    "descr.descriptors[names].corr()"
   ]
  },
  {
   "cell_type": "markdown",
   "metadata": {},
   "source": [
    "**Remarques:**\n",
    "La variable à prédire Y est fortement corrélées avec les deux variables decrivant la différence à la moyenne passée ('diff_to_mean', 'diff_first_second_mean'). Ces deux variables sont aussi corrélées, il vaut mieux choisir l'une des deux."
   ]
  },
  {
   "cell_type": "markdown",
   "metadata": {},
   "source": [
    "# PREDICTION"
   ]
  },
  {
   "cell_type": "code",
   "execution_count": 12,
   "metadata": {
    "collapsed": true
   },
   "outputs": [],
   "source": [
    "from prediction_model import PredictionModel"
   ]
  },
  {
   "cell_type": "code",
   "execution_count": 13,
   "metadata": {
    "scrolled": true
   },
   "outputs": [
    {
     "name": "stdout",
     "output_type": "stream",
     "text": [
      "Available descriptors: ['mean', 'diff_to_mean', 'diff_first_second_mean', 'diff_to_X0', 'actual_evolution', 'past_evolution', 'mean_past_evolution', 'X_1', 'X_2', 'X_3', 'X_4', 'X_5', 'X_6', 'X_7', 'X_8', 'X_9', 'X_10']\n"
     ]
    }
   ],
   "source": [
    "print(\"Available descriptors:\", descr.name_descriptors)"
   ]
  },
  {
   "cell_type": "code",
   "execution_count": 14,
   "metadata": {
    "scrolled": true
   },
   "outputs": [
    {
     "name": "stdout",
     "output_type": "stream",
     "text": [
      "40 patients in the test set and 60 in the train set\n",
      "Score on train set: 100.0%\n",
      "Score on test set: 98.929%\n",
      "\n",
      "-- METRICS --\n",
      "Nb of patients having an accident: 19\n",
      "10.53% of them (2 patients) have been detected before the accident\n",
      "0.0% of the detected accident where detected at tau (=5), 0.0% is advance and 100.0% with delay\n",
      "0.0% of the detected accident where detected at tau (=5), 0.0% is advance and 100.0% with delay\n",
      "The average delay is 3.5, and the average advance is nan\n"
     ]
    },
    {
     "data": {
      "text/plain": [
       "{'avg_advance': nan,\n",
       " 'avg_delay': 3.5,\n",
       " 'nb_accident': 19,\n",
       " 'nb_advance': 0,\n",
       " 'nb_delay': 2,\n",
       " 'nb_ok': 0,\n",
       " 'nb_prediction': 2}"
      ]
     },
     "execution_count": 14,
     "metadata": {},
     "output_type": "execute_result"
    }
   ],
   "source": [
    "model = PredictionModel(descr.descriptors, tau=5, adjust_classes=False)\n",
    "\n",
    "list_descriptors = ['X', 'diff_to_mean']\n",
    "model.set_train_test_by_patient(list_descriptors, 0.4)\n",
    "\n",
    "tree_classif = tree.DecisionTreeClassifier()\n",
    "_, _ = model.test_classif_model(tree_classif, print_results=True)\n",
    "\n",
    "prediction = model.compute_metrics(tree.DecisionTreeClassifier())\n",
    "model.analyze_prediction(prediction, True)"
   ]
  },
  {
   "cell_type": "code",
   "execution_count": 15,
   "metadata": {},
   "outputs": [
    {
     "data": {
      "text/html": [
       "<div>\n",
       "<style>\n",
       "    .dataframe thead tr:only-child th {\n",
       "        text-align: right;\n",
       "    }\n",
       "\n",
       "    .dataframe thead th {\n",
       "        text-align: left;\n",
       "    }\n",
       "\n",
       "    .dataframe tbody tr th {\n",
       "        vertical-align: top;\n",
       "    }\n",
       "</style>\n",
       "<table border=\"1\" class=\"dataframe\">\n",
       "  <thead>\n",
       "    <tr style=\"text-align: right;\">\n",
       "      <th></th>\n",
       "      <th>accident</th>\n",
       "      <th>accident_tau</th>\n",
       "      <th>id_patient</th>\n",
       "      <th>prediction</th>\n",
       "      <th>prediction_delay</th>\n",
       "      <th>time_of_accident</th>\n",
       "      <th>time_of_accident_tau</th>\n",
       "      <th>time_of_prediction</th>\n",
       "    </tr>\n",
       "  </thead>\n",
       "  <tbody>\n",
       "    <tr>\n",
       "      <th>0</th>\n",
       "      <td>True</td>\n",
       "      <td>True</td>\n",
       "      <td>0</td>\n",
       "      <td>False</td>\n",
       "      <td>NaN</td>\n",
       "      <td>20.0</td>\n",
       "      <td>15.0</td>\n",
       "      <td>20.0</td>\n",
       "    </tr>\n",
       "    <tr>\n",
       "      <th>1</th>\n",
       "      <td>True</td>\n",
       "      <td>True</td>\n",
       "      <td>1</td>\n",
       "      <td>False</td>\n",
       "      <td>NaN</td>\n",
       "      <td>18.0</td>\n",
       "      <td>13.0</td>\n",
       "      <td>18.0</td>\n",
       "    </tr>\n",
       "    <tr>\n",
       "      <th>3</th>\n",
       "      <td>False</td>\n",
       "      <td>True</td>\n",
       "      <td>3</td>\n",
       "      <td>False</td>\n",
       "      <td>NaN</td>\n",
       "      <td>NaN</td>\n",
       "      <td>16.0</td>\n",
       "      <td>NaN</td>\n",
       "    </tr>\n",
       "    <tr>\n",
       "      <th>8</th>\n",
       "      <td>True</td>\n",
       "      <td>True</td>\n",
       "      <td>20</td>\n",
       "      <td>False</td>\n",
       "      <td>NaN</td>\n",
       "      <td>20.0</td>\n",
       "      <td>15.0</td>\n",
       "      <td>NaN</td>\n",
       "    </tr>\n",
       "    <tr>\n",
       "      <th>14</th>\n",
       "      <td>True</td>\n",
       "      <td>True</td>\n",
       "      <td>32</td>\n",
       "      <td>False</td>\n",
       "      <td>NaN</td>\n",
       "      <td>11.0</td>\n",
       "      <td>6.0</td>\n",
       "      <td>11.0</td>\n",
       "    </tr>\n",
       "    <tr>\n",
       "      <th>16</th>\n",
       "      <td>True</td>\n",
       "      <td>True</td>\n",
       "      <td>40</td>\n",
       "      <td>False</td>\n",
       "      <td>NaN</td>\n",
       "      <td>9.0</td>\n",
       "      <td>4.0</td>\n",
       "      <td>9.0</td>\n",
       "    </tr>\n",
       "    <tr>\n",
       "      <th>20</th>\n",
       "      <td>True</td>\n",
       "      <td>True</td>\n",
       "      <td>49</td>\n",
       "      <td>False</td>\n",
       "      <td>NaN</td>\n",
       "      <td>7.0</td>\n",
       "      <td>2.0</td>\n",
       "      <td>7.0</td>\n",
       "    </tr>\n",
       "    <tr>\n",
       "      <th>23</th>\n",
       "      <td>True</td>\n",
       "      <td>True</td>\n",
       "      <td>54</td>\n",
       "      <td>False</td>\n",
       "      <td>NaN</td>\n",
       "      <td>20.0</td>\n",
       "      <td>15.0</td>\n",
       "      <td>NaN</td>\n",
       "    </tr>\n",
       "    <tr>\n",
       "      <th>25</th>\n",
       "      <td>True</td>\n",
       "      <td>True</td>\n",
       "      <td>59</td>\n",
       "      <td>True</td>\n",
       "      <td>3.0</td>\n",
       "      <td>19.0</td>\n",
       "      <td>14.0</td>\n",
       "      <td>17.0</td>\n",
       "    </tr>\n",
       "    <tr>\n",
       "      <th>26</th>\n",
       "      <td>True</td>\n",
       "      <td>True</td>\n",
       "      <td>69</td>\n",
       "      <td>False</td>\n",
       "      <td>NaN</td>\n",
       "      <td>13.0</td>\n",
       "      <td>8.0</td>\n",
       "      <td>13.0</td>\n",
       "    </tr>\n",
       "    <tr>\n",
       "      <th>27</th>\n",
       "      <td>True</td>\n",
       "      <td>True</td>\n",
       "      <td>71</td>\n",
       "      <td>False</td>\n",
       "      <td>NaN</td>\n",
       "      <td>18.0</td>\n",
       "      <td>13.0</td>\n",
       "      <td>18.0</td>\n",
       "    </tr>\n",
       "    <tr>\n",
       "      <th>28</th>\n",
       "      <td>True</td>\n",
       "      <td>True</td>\n",
       "      <td>72</td>\n",
       "      <td>True</td>\n",
       "      <td>4.0</td>\n",
       "      <td>9.0</td>\n",
       "      <td>4.0</td>\n",
       "      <td>8.0</td>\n",
       "    </tr>\n",
       "    <tr>\n",
       "      <th>29</th>\n",
       "      <td>True</td>\n",
       "      <td>True</td>\n",
       "      <td>73</td>\n",
       "      <td>False</td>\n",
       "      <td>NaN</td>\n",
       "      <td>14.0</td>\n",
       "      <td>9.0</td>\n",
       "      <td>14.0</td>\n",
       "    </tr>\n",
       "    <tr>\n",
       "      <th>31</th>\n",
       "      <td>False</td>\n",
       "      <td>True</td>\n",
       "      <td>79</td>\n",
       "      <td>False</td>\n",
       "      <td>NaN</td>\n",
       "      <td>NaN</td>\n",
       "      <td>18.0</td>\n",
       "      <td>NaN</td>\n",
       "    </tr>\n",
       "    <tr>\n",
       "      <th>33</th>\n",
       "      <td>True</td>\n",
       "      <td>True</td>\n",
       "      <td>87</td>\n",
       "      <td>False</td>\n",
       "      <td>NaN</td>\n",
       "      <td>4.0</td>\n",
       "      <td>0.0</td>\n",
       "      <td>4.0</td>\n",
       "    </tr>\n",
       "    <tr>\n",
       "      <th>34</th>\n",
       "      <td>True</td>\n",
       "      <td>True</td>\n",
       "      <td>90</td>\n",
       "      <td>False</td>\n",
       "      <td>NaN</td>\n",
       "      <td>9.0</td>\n",
       "      <td>4.0</td>\n",
       "      <td>9.0</td>\n",
       "    </tr>\n",
       "    <tr>\n",
       "      <th>35</th>\n",
       "      <td>True</td>\n",
       "      <td>True</td>\n",
       "      <td>91</td>\n",
       "      <td>False</td>\n",
       "      <td>NaN</td>\n",
       "      <td>14.0</td>\n",
       "      <td>9.0</td>\n",
       "      <td>14.0</td>\n",
       "    </tr>\n",
       "    <tr>\n",
       "      <th>37</th>\n",
       "      <td>True</td>\n",
       "      <td>True</td>\n",
       "      <td>95</td>\n",
       "      <td>False</td>\n",
       "      <td>NaN</td>\n",
       "      <td>9.0</td>\n",
       "      <td>4.0</td>\n",
       "      <td>9.0</td>\n",
       "    </tr>\n",
       "    <tr>\n",
       "      <th>39</th>\n",
       "      <td>False</td>\n",
       "      <td>True</td>\n",
       "      <td>98</td>\n",
       "      <td>False</td>\n",
       "      <td>NaN</td>\n",
       "      <td>NaN</td>\n",
       "      <td>20.0</td>\n",
       "      <td>NaN</td>\n",
       "    </tr>\n",
       "  </tbody>\n",
       "</table>\n",
       "</div>"
      ],
      "text/plain": [
       "    accident  accident_tau  id_patient  prediction  prediction_delay  \\\n",
       "0       True          True           0       False               NaN   \n",
       "1       True          True           1       False               NaN   \n",
       "3      False          True           3       False               NaN   \n",
       "8       True          True          20       False               NaN   \n",
       "14      True          True          32       False               NaN   \n",
       "16      True          True          40       False               NaN   \n",
       "20      True          True          49       False               NaN   \n",
       "23      True          True          54       False               NaN   \n",
       "25      True          True          59        True               3.0   \n",
       "26      True          True          69       False               NaN   \n",
       "27      True          True          71       False               NaN   \n",
       "28      True          True          72        True               4.0   \n",
       "29      True          True          73       False               NaN   \n",
       "31     False          True          79       False               NaN   \n",
       "33      True          True          87       False               NaN   \n",
       "34      True          True          90       False               NaN   \n",
       "35      True          True          91       False               NaN   \n",
       "37      True          True          95       False               NaN   \n",
       "39     False          True          98       False               NaN   \n",
       "\n",
       "    time_of_accident  time_of_accident_tau  time_of_prediction  \n",
       "0               20.0                  15.0                20.0  \n",
       "1               18.0                  13.0                18.0  \n",
       "3                NaN                  16.0                 NaN  \n",
       "8               20.0                  15.0                 NaN  \n",
       "14              11.0                   6.0                11.0  \n",
       "16               9.0                   4.0                 9.0  \n",
       "20               7.0                   2.0                 7.0  \n",
       "23              20.0                  15.0                 NaN  \n",
       "25              19.0                  14.0                17.0  \n",
       "26              13.0                   8.0                13.0  \n",
       "27              18.0                  13.0                18.0  \n",
       "28               9.0                   4.0                 8.0  \n",
       "29              14.0                   9.0                14.0  \n",
       "31               NaN                  18.0                 NaN  \n",
       "33               4.0                   0.0                 4.0  \n",
       "34               9.0                   4.0                 9.0  \n",
       "35              14.0                   9.0                14.0  \n",
       "37               9.0                   4.0                 9.0  \n",
       "39               NaN                  20.0                 NaN  "
      ]
     },
     "execution_count": 15,
     "metadata": {},
     "output_type": "execute_result"
    }
   ],
   "source": [
    "prediction[prediction['accident_tau']]"
   ]
  },
  {
   "cell_type": "code",
   "execution_count": 16,
   "metadata": {},
   "outputs": [
    {
     "data": {
      "text/plain": [
       "25    3.0\n",
       "28    4.0\n",
       "Name: prediction_delay, dtype: float64"
      ]
     },
     "execution_count": 16,
     "metadata": {},
     "output_type": "execute_result"
    }
   ],
   "source": [
    "prediction[prediction['prediction_delay'] < 5]['prediction_delay']"
   ]
  },
  {
   "cell_type": "code",
   "execution_count": 17,
   "metadata": {},
   "outputs": [
    {
     "data": {
      "image/png": "[encoded data removed]",
      "text/plain": [
       "<matplotlib.figure.Figure at 0x271288e43c8>"
      ]
     },
     "metadata": {},
     "output_type": "display_data"
    },
    {
     "data": {
      "image/png": "[encoded data removed]",
      "text/plain": [
       "<matplotlib.figure.Figure at 0x271288e4048>"
      ]
     },
     "metadata": {},
     "output_type": "display_data"
    },
    {
     "data": {
      "text/plain": [
       "array([0, 0, 0, 0, 0, 0, 0, 1, 1, 1, 1, 1, 1, 1, 1, 1, 1, 1, 1, 0, 1], dtype=int64)"
      ]
     },
     "execution_count": 17,
     "metadata": {},
     "output_type": "execute_result"
    }
   ],
   "source": [
    "n = 49\n",
    "plot_two_scales_y(model.descr[model.descr['trajec'] == n]['X'],\n",
    "                  model.descr[model.descr['trajec'] == n]['Y'],\n",
    "                  title='', x_label='time', y_label1='X', y_label2='Y',\n",
    "                  label1='X', label2='Y computed')\n",
    "\n",
    "y_predict = model.regr_model.predict(model.descr[model.descr['trajec'] == n][list_descriptors])\n",
    "plt.plot(y_predict)\n",
    "plt.show()\n",
    "\n",
    "y_predict"
   ]
  },
  {
   "cell_type": "code",
   "execution_count": 18,
   "metadata": {},
   "outputs": [
    {
     "name": "stdout",
     "output_type": "stream",
     "text": [
      "The classes have been adjusted, there is now 247 data in each class\n"
     ]
    }
   ],
   "source": [
    "model = PredictionModel(descr.descriptors, True)"
   ]
  },
  {
   "cell_type": "markdown",
   "metadata": {},
   "source": [
    "#### Choose descriptors"
   ]
  },
  {
   "cell_type": "code",
   "execution_count": 19,
   "metadata": {},
   "outputs": [
    {
     "name": "stdout",
     "output_type": "stream",
     "text": [
      "Available descriptors: ['mean', 'diff_to_mean', 'diff_first_second_mean', 'diff_to_X0', 'actual_evolution', 'past_evolution', 'mean_past_evolution', 'X_1', 'X_2', 'X_3', 'X_4', 'X_5', 'X_6', 'X_7', 'X_8', 'X_9', 'X_10']\n"
     ]
    }
   ],
   "source": [
    "print(\"Available descriptors:\", descr.name_descriptors)"
   ]
  },
  {
   "cell_type": "code",
   "execution_count": 20,
   "metadata": {
    "collapsed": true
   },
   "outputs": [],
   "source": [
    "# Choose a list of descriptors:\n",
    "list_descriptors = ['diff_to_mean', 'X']"
   ]
  },
  {
   "cell_type": "markdown",
   "metadata": {},
   "source": [
    "#### Separate data in test and train set randomly"
   ]
  },
  {
   "cell_type": "code",
   "execution_count": 21,
   "metadata": {},
   "outputs": [
    {
     "name": "stdout",
     "output_type": "stream",
     "text": [
      "98 data in the test set and 396 in the train set\n"
     ]
    }
   ],
   "source": [
    "model.set_train_test_dataset_rand(list_descriptors, 0.2)"
   ]
  },
  {
   "cell_type": "code",
   "execution_count": 22,
   "metadata": {},
   "outputs": [
    {
     "data": {
      "text/plain": [
       "((396, 2), (396,))"
      ]
     },
     "execution_count": 22,
     "metadata": {},
     "output_type": "execute_result"
    }
   ],
   "source": [
    "model.X_train.shape, model.Y_train.shape"
   ]
  },
  {
   "cell_type": "code",
   "execution_count": 23,
   "metadata": {},
   "outputs": [
    {
     "data": {
      "image/png": "[encoded data removed]",
      "text/plain": [
       "<matplotlib.figure.Figure at 0x271284894e0>"
      ]
     },
     "metadata": {},
     "output_type": "display_data"
    }
   ],
   "source": [
    "plt.plot(model.X_train[model.Y_train == 0][:, 0], color='b', label='Y = 0')\n",
    "plt.plot(model.X_train[model.Y_train == 1][:, 0], color='r', label=\"Y = 1\")\n",
    "plt.legend()\n",
    "plt.title('Diff_to_mean when there is an accident and where there is not')\n",
    "plt.show()"
   ]
  },
  {
   "cell_type": "markdown",
   "metadata": {},
   "source": [
    "## Test several classifiers"
   ]
  },
  {
   "cell_type": "code",
   "execution_count": 24,
   "metadata": {},
   "outputs": [
    {
     "name": "stdout",
     "output_type": "stream",
     "text": [
      "-- Linear SVM --\n",
      "Score on train set: 58.081%\n",
      "Score on test set: 51.02%\n",
      "-- Logistic Regression --\n",
      "Score on train set: 58.081%\n",
      "Score on test set: 51.02%\n",
      "-- Trees --\n",
      "Score on train set: 100.0%\n",
      "Score on test set: 84.694%\n"
     ]
    }
   ],
   "source": [
    "# Classification using a SVM (Support Vector Machine)\n",
    "print(\"-- Linear SVM --\")\n",
    "lin_clf = svm.SVC()\n",
    "_, _ = model.test_classif_model(lin_clf, print_results=True)\n",
    "\n",
    "print(\"-- Logistic Regression --\")\n",
    "logreg = LogisticRegression()\n",
    "_, _ = model.test_classif_model(logreg, print_results=True)\n",
    "\n",
    "print(\"-- Trees --\")\n",
    "TreeClassif = tree.DecisionTreeClassifier()\n",
    "_, _ = model.test_classif_model(TreeClassif, print_results=True)"
   ]
  },
  {
   "cell_type": "code",
   "execution_count": null,
   "metadata": {
    "collapsed": true
   },
   "outputs": [],
   "source": []
  },
  {
   "cell_type": "code",
   "execution_count": 25,
   "metadata": {},
   "outputs": [
    {
     "data": {
      "text/plain": [
       "DecisionTreeClassifier(class_weight=None, criterion='gini', max_depth=None,\n",
       "            max_features=None, max_leaf_nodes=None,\n",
       "            min_impurity_decrease=0.0, min_impurity_split=None,\n",
       "            min_samples_leaf=1, min_samples_split=2,\n",
       "            min_weight_fraction_leaf=0.0, presort=False, random_state=None,\n",
       "            splitter='best')"
      ]
     },
     "execution_count": 25,
     "metadata": {},
     "output_type": "execute_result"
    }
   ],
   "source": [
    "TreeClassif"
   ]
  },
  {
   "cell_type": "markdown",
   "metadata": {
    "collapsed": true
   },
   "source": [
    "## Compute metrics on patient"
   ]
  },
  {
   "cell_type": "code",
   "execution_count": 26,
   "metadata": {},
   "outputs": [
    {
     "name": "stdout",
     "output_type": "stream",
     "text": [
      "The classes have been adjusted, there is now 247 data in each class\n",
      "To do training by patient do not adjust the classes. Load new data without adjusting the classes\n"
     ]
    }
   ],
   "source": [
    "model = PredictionModel(descr.descriptors, False)\n",
    "model.set_train_test_by_patient(0.5)"
   ]
  },
  {
   "cell_type": "code",
   "execution_count": null,
   "metadata": {
    "collapsed": true
   },
   "outputs": [],
   "source": []
  },
  {
   "cell_type": "markdown",
   "metadata": {
    "collapsed": true
   },
   "source": [
    "# All pipeline"
   ]
  },
  {
   "cell_type": "code",
   "execution_count": null,
   "metadata": {
    "collapsed": true
   },
   "outputs": [],
   "source": []
  },
  {
   "cell_type": "code",
   "execution_count": 31,
   "metadata": {
    "collapsed": true
   },
   "outputs": [],
   "source": [
    "def test_tau(tau, len_X=10):\n",
    "    params = {'thres_mean': 1e-4,\n",
    "          'X0_base': 0.0042,\n",
    "          'thres_gal': 0.2}\n",
    "    descr = DescriptorModel(\"./data/out_O2_taub.csv\")\n",
    "    descr.process_var(params)\n",
    "    descr.compute_descriptors(tau, len_X=10)\n",
    "    \n",
    "    model = PredictionModel(descr.descriptors, tau, adjust_classes=False)\n",
    "    \n",
    "    list_descriptors = ['X', 'diff_to_mean']\n",
    "    model.set_train_test_by_patient(list_descriptors, 0.4)\n",
    "    prediction = model.compute_metrics(tree.DecisionTreeClassifier())\n",
    "    results = model.analyze_prediction(prediction)\n",
    "    return results, prediction"
   ]
  },
  {
   "cell_type": "code",
   "execution_count": 32,
   "metadata": {},
   "outputs": [
    {
     "name": "stdout",
     "output_type": "stream",
     "text": [
      "100 simulations with 36 values loaded\n",
      "The descriptors computed are: ['mean', 'diff_to_mean', 'diff_first_second_mean', 'diff_to_X0', 'actual_evolution', 'past_evolution', 'mean_past_evolution', 'X_1', 'X_2', 'X_3', 'X_4', 'X_5', 'X_6', 'X_7', 'X_8', 'X_9', 'X_10']\n",
      "100 trajectories of length 36\n",
      "40 patients in the test set and 60 in the train set\n"
     ]
    },
    {
     "data": {
      "text/plain": [
       "{'avg_advance': 1.0,\n",
       " 'avg_delay': 1.0,\n",
       " 'nb_accident': 17,\n",
       " 'nb_advance': 2,\n",
       " 'nb_delay': 3,\n",
       " 'nb_ok': 0,\n",
       " 'nb_prediction': 5}"
      ]
     },
     "execution_count": 32,
     "metadata": {},
     "output_type": "execute_result"
    }
   ],
   "source": [
    "results, prediction = test_tau(tau=2)\n",
    "results"
   ]
  },
  {
   "cell_type": "code",
   "execution_count": 29,
   "metadata": {},
   "outputs": [
    {
     "name": "stdout",
     "output_type": "stream",
     "text": [
      "100 simulations with 36 values loaded\n",
      "The descriptors computed are: ['mean', 'diff_to_mean', 'diff_first_second_mean', 'diff_to_X0', 'actual_evolution', 'past_evolution', 'mean_past_evolution', 'X_1', 'X_2', 'X_3', 'X_4', 'X_5', 'X_6', 'X_7', 'X_8', 'X_9', 'X_10']\n",
      "100 trajectories of length 36\n",
      "40 patients in the test set and 60 in the train set\n"
     ]
    },
    {
     "data": {
      "text/plain": [
       "{'avg_advance': 7.428571428571429,\n",
       " 'avg_delay': nan,\n",
       " 'nb_accident': 17,\n",
       " 'nb_advance': 7,\n",
       " 'nb_delay': 0,\n",
       " 'nb_ok': 0,\n",
       " 'nb_prediction': 7}"
      ]
     },
     "execution_count": 29,
     "metadata": {},
     "output_type": "execute_result"
    }
   ],
   "source": [
    "results, prediction = test_tau(tau=3)\n",
    "results"
   ]
  },
  {
   "cell_type": "code",
   "execution_count": 30,
   "metadata": {},
   "outputs": [
    {
     "name": "stdout",
     "output_type": "stream",
     "text": [
      "100 simulations with 36 values loaded\n",
      "The descriptors computed are: ['mean', 'diff_to_mean', 'diff_first_second_mean', 'diff_to_X0', 'actual_evolution', 'past_evolution', 'mean_past_evolution', 'X_1', 'X_2', 'X_3', 'X_4', 'X_5', 'X_6', 'X_7', 'X_8', 'X_9', 'X_10']\n",
      "100 trajectories of length 36\n",
      "40 patients in the test set and 60 in the train set\n"
     ]
    },
    {
     "data": {
      "text/plain": [
       "{'avg_advance': 6.125,\n",
       " 'avg_delay': nan,\n",
       " 'nb_accident': 18,\n",
       " 'nb_advance': 8,\n",
       " 'nb_delay': 0,\n",
       " 'nb_ok': 2,\n",
       " 'nb_prediction': 10}"
      ]
     },
     "execution_count": 30,
     "metadata": {},
     "output_type": "execute_result"
    }
   ],
   "source": [
    "results, prediction = test_tau(tau=1)\n",
    "results"
   ]
  },
  {
   "cell_type": "code",
   "execution_count": null,
   "metadata": {
    "collapsed": true
   },
   "outputs": [],
   "source": []
  },
  {
   "cell_type": "code",
   "execution_count": null,
   "metadata": {
    "collapsed": true
   },
   "outputs": [],
   "source": []
  },
  {
   "cell_type": "code",
   "execution_count": null,
   "metadata": {
    "collapsed": true
   },
   "outputs": [],
   "source": []
  },
  {
   "cell_type": "code",
   "execution_count": null,
   "metadata": {
    "collapsed": true
   },
   "outputs": [],
   "source": []
  },
  {
   "cell_type": "code",
   "execution_count": null,
   "metadata": {
    "collapsed": true
   },
   "outputs": [],
   "source": []
  },
  {
   "cell_type": "code",
   "execution_count": null,
   "metadata": {
    "collapsed": true
   },
   "outputs": [],
   "source": []
  },
  {
   "cell_type": "code",
   "execution_count": null,
   "metadata": {
    "collapsed": true
   },
   "outputs": [],
   "source": []
  },
  {
   "cell_type": "code",
   "execution_count": null,
   "metadata": {
    "collapsed": true
   },
   "outputs": [],
   "source": []
  },
  {
   "cell_type": "code",
   "execution_count": null,
   "metadata": {
    "collapsed": true
   },
   "outputs": [],
   "source": []
  },
  {
   "cell_type": "code",
   "execution_count": null,
   "metadata": {
    "collapsed": true
   },
   "outputs": [],
   "source": []
  },
  {
   "cell_type": "code",
   "execution_count": null,
   "metadata": {
    "collapsed": true
   },
   "outputs": [],
   "source": []
  },
  {
   "cell_type": "code",
   "execution_count": null,
   "metadata": {
    "collapsed": true
   },
   "outputs": [],
   "source": []
  },
  {
   "cell_type": "code",
   "execution_count": null,
   "metadata": {
    "collapsed": true
   },
   "outputs": [],
   "source": []
  },
  {
   "cell_type": "code",
   "execution_count": null,
   "metadata": {
    "collapsed": true
   },
   "outputs": [],
   "source": []
  }
 ],
 "metadata": {
  "kernelspec": {
   "display_name": "Python 3",
   "language": "python",
   "name": "python3"
  },
  "language_info": {
   "codemirror_mode": {
    "name": "ipython",
    "version": 3
   },
   "file_extension": ".py",
   "mimetype": "text/x-python",
   "name": "python",
   "nbconvert_exporter": "python",
   "pygments_lexer": "ipython3",
   "version": "3.6.3"
  }
 },
 "nbformat": 4,
 "nbformat_minor": 2
}
