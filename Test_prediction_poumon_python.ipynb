{
 "cells": [
  {
   "cell_type": "code",
   "execution_count": 10,
   "metadata": {
    "collapsed": true
   },
   "outputs": [],
   "source": [
    "import numpy as np\n",
    "import pandas as pd\n",
    "import matplotlib.pyplot as plt\n",
    "import sklearn\n",
    "%matplotlib inline"
   ]
  },
  {
   "cell_type": "code",
   "execution_count": 11,
   "metadata": {},
   "outputs": [
    {
     "name": "stdout",
     "output_type": "stream",
     "text": [
      "Time horizon: 36\n",
      "Number of simulations: 100\n"
     ]
    }
   ],
   "source": [
    "df = pd.read_csv(\"out_O2.csv\")\n",
    "T, nb_sim = np.shape(df)\n",
    "nb_sim -= 1\n",
    "print(\"Time horizon:\", T)\n",
    "print(\"Number of simulations:\", nb_sim)"
   ]
  },
  {
   "cell_type": "code",
   "execution_count": 12,
   "metadata": {},
   "outputs": [
    {
     "data": {
      "text/html": [
       "<div>\n",
       "<style>\n",
       "    .dataframe thead tr:only-child th {\n",
       "        text-align: right;\n",
       "    }\n",
       "\n",
       "    .dataframe thead th {\n",
       "        text-align: left;\n",
       "    }\n",
       "\n",
       "    .dataframe tbody tr th {\n",
       "        vertical-align: top;\n",
       "    }\n",
       "</style>\n",
       "<table border=\"1\" class=\"dataframe\">\n",
       "  <thead>\n",
       "    <tr style=\"text-align: right;\">\n",
       "      <th></th>\n",
       "      <th>Unnamed: 0</th>\n",
       "      <th>V1</th>\n",
       "      <th>V2</th>\n",
       "      <th>V3</th>\n",
       "      <th>V4</th>\n",
       "      <th>V5</th>\n",
       "      <th>V6</th>\n",
       "      <th>V7</th>\n",
       "      <th>V8</th>\n",
       "      <th>V9</th>\n",
       "      <th>...</th>\n",
       "      <th>V91</th>\n",
       "      <th>V92</th>\n",
       "      <th>V93</th>\n",
       "      <th>V94</th>\n",
       "      <th>V95</th>\n",
       "      <th>V96</th>\n",
       "      <th>V97</th>\n",
       "      <th>V98</th>\n",
       "      <th>V99</th>\n",
       "      <th>V100</th>\n",
       "    </tr>\n",
       "  </thead>\n",
       "  <tbody>\n",
       "    <tr>\n",
       "      <th>0</th>\n",
       "      <td>4</td>\n",
       "      <td>0.004274</td>\n",
       "      <td>0.003933</td>\n",
       "      <td>0.003788</td>\n",
       "      <td>0.004035</td>\n",
       "      <td>0.004662</td>\n",
       "      <td>0.004129</td>\n",
       "      <td>0.003930</td>\n",
       "      <td>0.004137</td>\n",
       "      <td>0.003548</td>\n",
       "      <td>...</td>\n",
       "      <td>0.004030</td>\n",
       "      <td>0.004157</td>\n",
       "      <td>0.003598</td>\n",
       "      <td>0.004667</td>\n",
       "      <td>0.004862</td>\n",
       "      <td>0.004231</td>\n",
       "      <td>0.004818</td>\n",
       "      <td>0.004517</td>\n",
       "      <td>0.003545</td>\n",
       "      <td>0.003880</td>\n",
       "    </tr>\n",
       "    <tr>\n",
       "      <th>1</th>\n",
       "      <td>5</td>\n",
       "      <td>0.004275</td>\n",
       "      <td>0.003935</td>\n",
       "      <td>0.003790</td>\n",
       "      <td>0.004037</td>\n",
       "      <td>0.004660</td>\n",
       "      <td>0.004130</td>\n",
       "      <td>0.003932</td>\n",
       "      <td>0.004138</td>\n",
       "      <td>0.003551</td>\n",
       "      <td>...</td>\n",
       "      <td>0.004031</td>\n",
       "      <td>0.004158</td>\n",
       "      <td>0.003601</td>\n",
       "      <td>0.004665</td>\n",
       "      <td>0.004857</td>\n",
       "      <td>0.004231</td>\n",
       "      <td>0.004814</td>\n",
       "      <td>0.004516</td>\n",
       "      <td>0.003549</td>\n",
       "      <td>0.003882</td>\n",
       "    </tr>\n",
       "    <tr>\n",
       "      <th>2</th>\n",
       "      <td>6</td>\n",
       "      <td>0.004275</td>\n",
       "      <td>0.003936</td>\n",
       "      <td>0.003792</td>\n",
       "      <td>0.004038</td>\n",
       "      <td>0.004657</td>\n",
       "      <td>0.004131</td>\n",
       "      <td>0.003934</td>\n",
       "      <td>0.004139</td>\n",
       "      <td>0.003554</td>\n",
       "      <td>...</td>\n",
       "      <td>0.004032</td>\n",
       "      <td>0.004158</td>\n",
       "      <td>0.003604</td>\n",
       "      <td>0.004663</td>\n",
       "      <td>0.004854</td>\n",
       "      <td>0.004232</td>\n",
       "      <td>0.004811</td>\n",
       "      <td>0.004514</td>\n",
       "      <td>0.003551</td>\n",
       "      <td>0.003884</td>\n",
       "    </tr>\n",
       "    <tr>\n",
       "      <th>3</th>\n",
       "      <td>7</td>\n",
       "      <td>0.004275</td>\n",
       "      <td>0.003938</td>\n",
       "      <td>0.003794</td>\n",
       "      <td>0.004039</td>\n",
       "      <td>0.004656</td>\n",
       "      <td>0.004132</td>\n",
       "      <td>0.003935</td>\n",
       "      <td>0.004139</td>\n",
       "      <td>0.003556</td>\n",
       "      <td>...</td>\n",
       "      <td>0.004033</td>\n",
       "      <td>0.004159</td>\n",
       "      <td>0.003606</td>\n",
       "      <td>0.004661</td>\n",
       "      <td>0.004851</td>\n",
       "      <td>0.004232</td>\n",
       "      <td>0.004808</td>\n",
       "      <td>0.004513</td>\n",
       "      <td>0.003554</td>\n",
       "      <td>0.003886</td>\n",
       "    </tr>\n",
       "    <tr>\n",
       "      <th>4</th>\n",
       "      <td>8</td>\n",
       "      <td>0.004275</td>\n",
       "      <td>0.003939</td>\n",
       "      <td>0.003796</td>\n",
       "      <td>0.004040</td>\n",
       "      <td>0.004654</td>\n",
       "      <td>0.004132</td>\n",
       "      <td>0.003936</td>\n",
       "      <td>0.004140</td>\n",
       "      <td>0.003558</td>\n",
       "      <td>...</td>\n",
       "      <td>0.004034</td>\n",
       "      <td>0.004159</td>\n",
       "      <td>0.003608</td>\n",
       "      <td>0.004659</td>\n",
       "      <td>0.004848</td>\n",
       "      <td>0.004232</td>\n",
       "      <td>0.004805</td>\n",
       "      <td>0.004512</td>\n",
       "      <td>0.003556</td>\n",
       "      <td>0.003887</td>\n",
       "    </tr>\n",
       "  </tbody>\n",
       "</table>\n",
       "<p>5 rows × 101 columns</p>\n",
       "</div>"
      ],
      "text/plain": [
       "   Unnamed: 0        V1        V2        V3        V4        V5        V6  \\\n",
       "0           4  0.004274  0.003933  0.003788  0.004035  0.004662  0.004129   \n",
       "1           5  0.004275  0.003935  0.003790  0.004037  0.004660  0.004130   \n",
       "2           6  0.004275  0.003936  0.003792  0.004038  0.004657  0.004131   \n",
       "3           7  0.004275  0.003938  0.003794  0.004039  0.004656  0.004132   \n",
       "4           8  0.004275  0.003939  0.003796  0.004040  0.004654  0.004132   \n",
       "\n",
       "         V7        V8        V9    ...          V91       V92       V93  \\\n",
       "0  0.003930  0.004137  0.003548    ...     0.004030  0.004157  0.003598   \n",
       "1  0.003932  0.004138  0.003551    ...     0.004031  0.004158  0.003601   \n",
       "2  0.003934  0.004139  0.003554    ...     0.004032  0.004158  0.003604   \n",
       "3  0.003935  0.004139  0.003556    ...     0.004033  0.004159  0.003606   \n",
       "4  0.003936  0.004140  0.003558    ...     0.004034  0.004159  0.003608   \n",
       "\n",
       "        V94       V95       V96       V97       V98       V99      V100  \n",
       "0  0.004667  0.004862  0.004231  0.004818  0.004517  0.003545  0.003880  \n",
       "1  0.004665  0.004857  0.004231  0.004814  0.004516  0.003549  0.003882  \n",
       "2  0.004663  0.004854  0.004232  0.004811  0.004514  0.003551  0.003884  \n",
       "3  0.004661  0.004851  0.004232  0.004808  0.004513  0.003554  0.003886  \n",
       "4  0.004659  0.004848  0.004232  0.004805  0.004512  0.003556  0.003887  \n",
       "\n",
       "[5 rows x 101 columns]"
      ]
     },
     "execution_count": 12,
     "metadata": {},
     "output_type": "execute_result"
    }
   ],
   "source": [
    "df.head()"
   ]
  },
  {
   "cell_type": "code",
   "execution_count": 13,
   "metadata": {
    "collapsed": true
   },
   "outputs": [],
   "source": [
    "def plot_data(df):\n",
    "    variables = [col for col in list(df.columns) if 'V' in col]\n",
    "    \n",
    "    plt.figure()\n",
    "    for col in variables:\n",
    "        plt.plot(df[col])\n",
    "    plt.title('O2 evolution on {} simulations'.format(len(variables)))\n",
    "    plt.ylabel('O2')\n",
    "    plt.xlabel('time')\n",
    "    plt.show()"
   ]
  },
  {
   "cell_type": "code",
   "execution_count": 14,
   "metadata": {},
   "outputs": [
    {
     "data": {
      "image/png": "[encoded data removed]",
      "text/plain": [
       "<matplotlib.figure.Figure at 0x1dd169eaac8>"
      ]
     },
     "metadata": {},
     "output_type": "display_data"
    }
   ],
   "source": [
    "var = ['V' + str(i) for i in range(1, 21)]\n",
    "plot_data(df[var])"
   ]
  },
  {
   "cell_type": "markdown",
   "metadata": {},
   "source": [
    "### Parameters"
   ]
  },
  {
   "cell_type": "code",
   "execution_count": 15,
   "metadata": {
    "collapsed": true
   },
   "outputs": [],
   "source": [
    "# To compute X_data\n",
    "len_X = 10  # len of X data to learn X prediction\n",
    "tau = 5 # Time of prediction\n",
    "\n",
    "# To compute Y:\n",
    "thres_mean = 5e-5\n",
    "X0 = 0.0042\n",
    "thres_gal = 0.001\n",
    "\n",
    "variables = [col for col in list(df.columns) if 'V' in col]"
   ]
  },
  {
   "cell_type": "markdown",
   "metadata": {},
   "source": [
    "### Concatenation of X data and adding values of y"
   ]
  },
  {
   "cell_type": "code",
   "execution_count": 16,
   "metadata": {
    "collapsed": true
   },
   "outputs": [],
   "source": [
    "def process_var(df, variables):\n",
    "    \n",
    "    # Concatenation des x\n",
    "    X = []\n",
    "    trajec = []\n",
    "    X_cummean = []\n",
    "\n",
    "    for j in range(len(variables)):\n",
    "        col = variables[j]\n",
    "        X += list(df[col])\n",
    "        # Trajec = the number of the trajectory\n",
    "        trajec += [j for _ in range(len(df))]\n",
    "\n",
    "        # CumMean of X (t-1 previous values)\n",
    "        cummean = np.cumsum(df[col]) / np.array(range(1, len(df)+1))\n",
    "        X_cummean += [df[col][0]] + list(cummean[:-1])\n",
    "\n",
    "    data = pd.DataFrame({'X': X, 'trajec': trajec, 'X_cummean': X_cummean})\n",
    "    \n",
    "    # Compute Y\n",
    "    data['X_diff'] = abs(data['X'] - data['X_cummean'])\n",
    "    # The difference between X and the cummean is it below the threshold thres_mean ?\n",
    "    data['Y1'] = data['X_diff'].apply(lambda x: 1 if x > thres_mean else 0)\n",
    "    # The value of X is it below the general threshold thres_gal ?\n",
    "    data['Y2'] = data['X'].apply(lambda x: 1 if abs(x - X0) > thres_gal else 0)\n",
    "\n",
    "    # The incident happens if one of the two previous event happen\n",
    "    data['Y'] = data['Y1'] + data['Y2']\n",
    "    data['Y'] = data['Y'].apply(lambda x: 1 if x > 0 else 0)\n",
    "    \n",
    "    return data[['Y', 'X', 'trajec']]"
   ]
  },
  {
   "cell_type": "code",
   "execution_count": 17,
   "metadata": {
    "scrolled": true
   },
   "outputs": [],
   "source": [
    "data = process_var(df, variables)"
   ]
  },
  {
   "cell_type": "code",
   "execution_count": 18,
   "metadata": {
    "scrolled": true
   },
   "outputs": [
    {
     "data": {
      "text/html": [
       "<div>\n",
       "<style>\n",
       "    .dataframe thead tr:only-child th {\n",
       "        text-align: right;\n",
       "    }\n",
       "\n",
       "    .dataframe thead th {\n",
       "        text-align: left;\n",
       "    }\n",
       "\n",
       "    .dataframe tbody tr th {\n",
       "        vertical-align: top;\n",
       "    }\n",
       "</style>\n",
       "<table border=\"1\" class=\"dataframe\">\n",
       "  <thead>\n",
       "    <tr style=\"text-align: right;\">\n",
       "      <th></th>\n",
       "      <th>Y</th>\n",
       "      <th>X</th>\n",
       "      <th>trajec</th>\n",
       "    </tr>\n",
       "  </thead>\n",
       "  <tbody>\n",
       "    <tr>\n",
       "      <th>0</th>\n",
       "      <td>0</td>\n",
       "      <td>0.004274</td>\n",
       "      <td>0</td>\n",
       "    </tr>\n",
       "    <tr>\n",
       "      <th>1</th>\n",
       "      <td>0</td>\n",
       "      <td>0.004275</td>\n",
       "      <td>0</td>\n",
       "    </tr>\n",
       "    <tr>\n",
       "      <th>2</th>\n",
       "      <td>0</td>\n",
       "      <td>0.004275</td>\n",
       "      <td>0</td>\n",
       "    </tr>\n",
       "    <tr>\n",
       "      <th>3</th>\n",
       "      <td>0</td>\n",
       "      <td>0.004275</td>\n",
       "      <td>0</td>\n",
       "    </tr>\n",
       "    <tr>\n",
       "      <th>4</th>\n",
       "      <td>0</td>\n",
       "      <td>0.004275</td>\n",
       "      <td>0</td>\n",
       "    </tr>\n",
       "    <tr>\n",
       "      <th>5</th>\n",
       "      <td>0</td>\n",
       "      <td>0.004275</td>\n",
       "      <td>0</td>\n",
       "    </tr>\n",
       "    <tr>\n",
       "      <th>6</th>\n",
       "      <td>0</td>\n",
       "      <td>0.004275</td>\n",
       "      <td>0</td>\n",
       "    </tr>\n",
       "    <tr>\n",
       "      <th>7</th>\n",
       "      <td>0</td>\n",
       "      <td>0.004275</td>\n",
       "      <td>0</td>\n",
       "    </tr>\n",
       "    <tr>\n",
       "      <th>8</th>\n",
       "      <td>0</td>\n",
       "      <td>0.004275</td>\n",
       "      <td>0</td>\n",
       "    </tr>\n",
       "    <tr>\n",
       "      <th>9</th>\n",
       "      <td>0</td>\n",
       "      <td>0.004275</td>\n",
       "      <td>0</td>\n",
       "    </tr>\n",
       "    <tr>\n",
       "      <th>10</th>\n",
       "      <td>0</td>\n",
       "      <td>0.004275</td>\n",
       "      <td>0</td>\n",
       "    </tr>\n",
       "    <tr>\n",
       "      <th>11</th>\n",
       "      <td>0</td>\n",
       "      <td>0.004275</td>\n",
       "      <td>0</td>\n",
       "    </tr>\n",
       "    <tr>\n",
       "      <th>12</th>\n",
       "      <td>0</td>\n",
       "      <td>0.004275</td>\n",
       "      <td>0</td>\n",
       "    </tr>\n",
       "    <tr>\n",
       "      <th>13</th>\n",
       "      <td>0</td>\n",
       "      <td>0.004275</td>\n",
       "      <td>0</td>\n",
       "    </tr>\n",
       "    <tr>\n",
       "      <th>14</th>\n",
       "      <td>0</td>\n",
       "      <td>0.004275</td>\n",
       "      <td>0</td>\n",
       "    </tr>\n",
       "    <tr>\n",
       "      <th>15</th>\n",
       "      <td>0</td>\n",
       "      <td>0.004275</td>\n",
       "      <td>0</td>\n",
       "    </tr>\n",
       "    <tr>\n",
       "      <th>16</th>\n",
       "      <td>0</td>\n",
       "      <td>0.004275</td>\n",
       "      <td>0</td>\n",
       "    </tr>\n",
       "    <tr>\n",
       "      <th>17</th>\n",
       "      <td>0</td>\n",
       "      <td>0.004275</td>\n",
       "      <td>0</td>\n",
       "    </tr>\n",
       "    <tr>\n",
       "      <th>18</th>\n",
       "      <td>0</td>\n",
       "      <td>0.004275</td>\n",
       "      <td>0</td>\n",
       "    </tr>\n",
       "    <tr>\n",
       "      <th>19</th>\n",
       "      <td>0</td>\n",
       "      <td>0.004275</td>\n",
       "      <td>0</td>\n",
       "    </tr>\n",
       "    <tr>\n",
       "      <th>20</th>\n",
       "      <td>0</td>\n",
       "      <td>0.004275</td>\n",
       "      <td>0</td>\n",
       "    </tr>\n",
       "    <tr>\n",
       "      <th>21</th>\n",
       "      <td>0</td>\n",
       "      <td>0.004275</td>\n",
       "      <td>0</td>\n",
       "    </tr>\n",
       "    <tr>\n",
       "      <th>22</th>\n",
       "      <td>0</td>\n",
       "      <td>0.004275</td>\n",
       "      <td>0</td>\n",
       "    </tr>\n",
       "    <tr>\n",
       "      <th>23</th>\n",
       "      <td>0</td>\n",
       "      <td>0.004275</td>\n",
       "      <td>0</td>\n",
       "    </tr>\n",
       "    <tr>\n",
       "      <th>24</th>\n",
       "      <td>0</td>\n",
       "      <td>0.004275</td>\n",
       "      <td>0</td>\n",
       "    </tr>\n",
       "    <tr>\n",
       "      <th>25</th>\n",
       "      <td>0</td>\n",
       "      <td>0.004275</td>\n",
       "      <td>0</td>\n",
       "    </tr>\n",
       "    <tr>\n",
       "      <th>26</th>\n",
       "      <td>0</td>\n",
       "      <td>0.004275</td>\n",
       "      <td>0</td>\n",
       "    </tr>\n",
       "    <tr>\n",
       "      <th>27</th>\n",
       "      <td>0</td>\n",
       "      <td>0.004275</td>\n",
       "      <td>0</td>\n",
       "    </tr>\n",
       "    <tr>\n",
       "      <th>28</th>\n",
       "      <td>0</td>\n",
       "      <td>0.004275</td>\n",
       "      <td>0</td>\n",
       "    </tr>\n",
       "    <tr>\n",
       "      <th>29</th>\n",
       "      <td>0</td>\n",
       "      <td>0.004275</td>\n",
       "      <td>0</td>\n",
       "    </tr>\n",
       "    <tr>\n",
       "      <th>30</th>\n",
       "      <td>0</td>\n",
       "      <td>0.004275</td>\n",
       "      <td>0</td>\n",
       "    </tr>\n",
       "    <tr>\n",
       "      <th>31</th>\n",
       "      <td>0</td>\n",
       "      <td>0.004275</td>\n",
       "      <td>0</td>\n",
       "    </tr>\n",
       "    <tr>\n",
       "      <th>32</th>\n",
       "      <td>0</td>\n",
       "      <td>0.004275</td>\n",
       "      <td>0</td>\n",
       "    </tr>\n",
       "    <tr>\n",
       "      <th>33</th>\n",
       "      <td>0</td>\n",
       "      <td>0.004275</td>\n",
       "      <td>0</td>\n",
       "    </tr>\n",
       "    <tr>\n",
       "      <th>34</th>\n",
       "      <td>0</td>\n",
       "      <td>0.004275</td>\n",
       "      <td>0</td>\n",
       "    </tr>\n",
       "    <tr>\n",
       "      <th>35</th>\n",
       "      <td>0</td>\n",
       "      <td>0.004275</td>\n",
       "      <td>0</td>\n",
       "    </tr>\n",
       "    <tr>\n",
       "      <th>36</th>\n",
       "      <td>0</td>\n",
       "      <td>0.003933</td>\n",
       "      <td>1</td>\n",
       "    </tr>\n",
       "  </tbody>\n",
       "</table>\n",
       "</div>"
      ],
      "text/plain": [
       "    Y         X  trajec\n",
       "0   0  0.004274       0\n",
       "1   0  0.004275       0\n",
       "2   0  0.004275       0\n",
       "3   0  0.004275       0\n",
       "4   0  0.004275       0\n",
       "5   0  0.004275       0\n",
       "6   0  0.004275       0\n",
       "7   0  0.004275       0\n",
       "8   0  0.004275       0\n",
       "9   0  0.004275       0\n",
       "10  0  0.004275       0\n",
       "11  0  0.004275       0\n",
       "12  0  0.004275       0\n",
       "13  0  0.004275       0\n",
       "14  0  0.004275       0\n",
       "15  0  0.004275       0\n",
       "16  0  0.004275       0\n",
       "17  0  0.004275       0\n",
       "18  0  0.004275       0\n",
       "19  0  0.004275       0\n",
       "20  0  0.004275       0\n",
       "21  0  0.004275       0\n",
       "22  0  0.004275       0\n",
       "23  0  0.004275       0\n",
       "24  0  0.004275       0\n",
       "25  0  0.004275       0\n",
       "26  0  0.004275       0\n",
       "27  0  0.004275       0\n",
       "28  0  0.004275       0\n",
       "29  0  0.004275       0\n",
       "30  0  0.004275       0\n",
       "31  0  0.004275       0\n",
       "32  0  0.004275       0\n",
       "33  0  0.004275       0\n",
       "34  0  0.004275       0\n",
       "35  0  0.004275       0\n",
       "36  0  0.003933       1"
      ]
     },
     "execution_count": 18,
     "metadata": {},
     "output_type": "execute_result"
    }
   ],
   "source": [
    "data.head(T + 1)"
   ]
  },
  {
   "cell_type": "code",
   "execution_count": null,
   "metadata": {
    "collapsed": true
   },
   "outputs": [],
   "source": []
  },
  {
   "cell_type": "markdown",
   "metadata": {},
   "source": [
    "### Treat X data"
   ]
  },
  {
   "cell_type": "code",
   "execution_count": 19,
   "metadata": {
    "collapsed": true
   },
   "outputs": [],
   "source": [
    "# Separate data x in windows of lenght len_X\n",
    "\n",
    "# X_train: features from X data at each time t (X_train, and X_train2 are several version of features to compare them)\n",
    "X_train = []\n",
    "Y_train = []\n",
    "X_train2 = []\n",
    "\n",
    "nb_trajec = len(np.unique(data['trajec']))\n",
    "\n",
    "for n in range(nb_trajec):\n",
    "    for j in range(len_X, T - tau):\n",
    "        i = n*T + j\n",
    "        X_ = list(data['X'][i - len_X:i])  # Past\n",
    "        X_train.append(X_)\n",
    "        X_train2.append([np.mean(X_),\n",
    "                         np.abs(np.mean(X_[:int(len_X/2)]) - np.mean(X_[int(len_X/2):])),\n",
    "                         np.abs(data['X'][i] - np.mean(X_))])\n",
    "        Y_train.append(data['Y'][i + tau])\n",
    "        \n",
    "X_train = np.array(X_train)\n",
    "X_train2 = np.array(X_train2)\n",
    "Y_train = np.array(Y_train)"
   ]
  },
  {
   "cell_type": "code",
   "execution_count": 20,
   "metadata": {},
   "outputs": [
    {
     "data": {
      "text/plain": [
       "(100, 36)"
      ]
     },
     "execution_count": 20,
     "metadata": {},
     "output_type": "execute_result"
    }
   ],
   "source": [
    "nb_trajec, T"
   ]
  },
  {
   "cell_type": "code",
   "execution_count": null,
   "metadata": {
    "collapsed": true
   },
   "outputs": [],
   "source": []
  },
  {
   "cell_type": "markdown",
   "metadata": {},
   "source": [
    "#### Correlation coefficients"
   ]
  },
  {
   "cell_type": "code",
   "execution_count": 153,
   "metadata": {},
   "outputs": [
    {
     "name": "stdout",
     "output_type": "stream",
     "text": [
      "Correlation coefficients between the variables:\n"
     ]
    },
    {
     "data": {
      "text/html": [
       "<div>\n",
       "<style>\n",
       "    .dataframe thead tr:only-child th {\n",
       "        text-align: right;\n",
       "    }\n",
       "\n",
       "    .dataframe thead th {\n",
       "        text-align: left;\n",
       "    }\n",
       "\n",
       "    .dataframe tbody tr th {\n",
       "        vertical-align: top;\n",
       "    }\n",
       "</style>\n",
       "<table border=\"1\" class=\"dataframe\">\n",
       "  <thead>\n",
       "    <tr style=\"text-align: right;\">\n",
       "      <th></th>\n",
       "      <th>X_mean</th>\n",
       "      <th>X_evol</th>\n",
       "      <th>X_diff_with_mean</th>\n",
       "      <th>Y</th>\n",
       "    </tr>\n",
       "  </thead>\n",
       "  <tbody>\n",
       "    <tr>\n",
       "      <th>X_mean</th>\n",
       "      <td>1.000000</td>\n",
       "      <td>-0.026664</td>\n",
       "      <td>-0.016296</td>\n",
       "      <td>-0.035105</td>\n",
       "    </tr>\n",
       "    <tr>\n",
       "      <th>X_evol</th>\n",
       "      <td>-0.026664</td>\n",
       "      <td>1.000000</td>\n",
       "      <td>0.951211</td>\n",
       "      <td>0.671375</td>\n",
       "    </tr>\n",
       "    <tr>\n",
       "      <th>X_diff_with_mean</th>\n",
       "      <td>-0.016296</td>\n",
       "      <td>0.951211</td>\n",
       "      <td>1.000000</td>\n",
       "      <td>0.753367</td>\n",
       "    </tr>\n",
       "    <tr>\n",
       "      <th>Y</th>\n",
       "      <td>-0.035105</td>\n",
       "      <td>0.671375</td>\n",
       "      <td>0.753367</td>\n",
       "      <td>1.000000</td>\n",
       "    </tr>\n",
       "  </tbody>\n",
       "</table>\n",
       "</div>"
      ],
      "text/plain": [
       "                    X_mean    X_evol  X_diff_with_mean         Y\n",
       "X_mean            1.000000 -0.026664         -0.016296 -0.035105\n",
       "X_evol           -0.026664  1.000000          0.951211  0.671375\n",
       "X_diff_with_mean -0.016296  0.951211          1.000000  0.753367\n",
       "Y                -0.035105  0.671375          0.753367  1.000000"
      ]
     },
     "execution_count": 153,
     "metadata": {},
     "output_type": "execute_result"
    }
   ],
   "source": [
    "X = np.concatenate((X_train2, Y_train.reshape((len(Y_train), 1))), axis=1)\n",
    "df_analyze = pd.DataFrame(X, columns=['X_mean', 'X_evol', 'X_diff_with_mean', 'Y'])\n",
    "\n",
    "print(\"Correlation coefficients between the variables:\")\n",
    "df_analyze.corr()"
   ]
  },
  {
   "cell_type": "code",
   "execution_count": 154,
   "metadata": {
    "scrolled": true
   },
   "outputs": [
    {
     "data": {
      "image/png": "[encoded data removed]",
      "text/plain": [
       "<matplotlib.figure.Figure at 0x1ba16d9a470>"
      ]
     },
     "metadata": {},
     "output_type": "display_data"
    }
   ],
   "source": [
    "df_analyze['Y_to_plot'] = df_analyze['Y'] * df_analyze['X_diff_with_mean'].mean()\n",
    "\n",
    "df_analyze[['X_diff_with_mean', 'Y_to_plot']][:250].plot()\n",
    "plt.title('Difference between X and its mean in the {} past time (blue) and \\\n",
    "the binary variable to predict Y (orange)'.format(len_X))\n",
    "plt.show()"
   ]
  },
  {
   "cell_type": "markdown",
   "metadata": {},
   "source": [
    "La corrélation est assez marquante..."
   ]
  },
  {
   "cell_type": "markdown",
   "metadata": {},
   "source": [
    "### Equilibrer les classes "
   ]
  },
  {
   "cell_type": "code",
   "execution_count": 23,
   "metadata": {},
   "outputs": [
    {
     "name": "stdout",
     "output_type": "stream",
     "text": [
      "[0 1]\n",
      "Y=1: 629 data\n",
      "Y=0: 1471 data\n"
     ]
    }
   ],
   "source": [
    "print(np.unique(Y_train))\n",
    "len_Y1 = np.sum(Y_train)\n",
    "len_Y0 = -np.sum([x - 1 for x in Y_train])\n",
    "print(\"Y=1:\", len_Y1, \"data\")\n",
    "print(\"Y=0:\", len_Y0, \"data\")"
   ]
  },
  {
   "cell_type": "code",
   "execution_count": 31,
   "metadata": {},
   "outputs": [
    {
     "data": {
      "text/plain": [
       "629"
      ]
     },
     "execution_count": 31,
     "metadata": {},
     "output_type": "execute_result"
    }
   ],
   "source": [
    "X1 = X_train2[Y_train == 1]\n",
    "X0 = X_train2[Y_train == 0]\n",
    "indices = np.random.permutation(range(len(X0)))\n",
    "new_X0 = X0[indices[:len_Y1]]\n",
    "len(new_X0)"
   ]
  },
  {
   "cell_type": "code",
   "execution_count": 42,
   "metadata": {},
   "outputs": [],
   "source": [
    "new_X = np.concatenate((new_X0, X1))\n",
    "new_Y = [0 for _ in range(len(new_X0))] + [1 for _ in range(len(X1))]"
   ]
  },
  {
   "cell_type": "code",
   "execution_count": 43,
   "metadata": {},
   "outputs": [
    {
     "data": {
      "text/plain": [
       "(1258, 3)"
      ]
     },
     "execution_count": 43,
     "metadata": {},
     "output_type": "execute_result"
    }
   ],
   "source": [
    "np.shape(new_X)"
   ]
  },
  {
   "cell_type": "markdown",
   "metadata": {},
   "source": [
    "### Classification"
   ]
  },
  {
   "cell_type": "code",
   "execution_count": 45,
   "metadata": {},
   "outputs": [
    {
     "name": "stdout",
     "output_type": "stream",
     "text": [
      "Score: 64.39%\n"
     ]
    }
   ],
   "source": [
    "# Classification using a SVM (Support Vector Machine)\n",
    "from sklearn import svm\n",
    "lin_clf = svm.SVC()\n",
    "lin_clf.fit(new_X, new_Y)\n",
    "\n",
    "score = lin_clf.score(new_X, new_Y)\n",
    "print(\"Score: {}%\".format(round(score, 4)*100))"
   ]
  },
  {
   "cell_type": "code",
   "execution_count": 46,
   "metadata": {
    "collapsed": true
   },
   "outputs": [],
   "source": [
    "Y_predict = lin_clf.predict(X_train2)"
   ]
  },
  {
   "cell_type": "code",
   "execution_count": 47,
   "metadata": {},
   "outputs": [
    {
     "data": {
      "text/plain": [
       "array([0, 1])"
      ]
     },
     "execution_count": 47,
     "metadata": {},
     "output_type": "execute_result"
    }
   ],
   "source": [
    "np.unique(Y_predict)"
   ]
  },
  {
   "cell_type": "code",
   "execution_count": 58,
   "metadata": {},
   "outputs": [
    {
     "data": {
      "text/plain": [
       "0.35809523809523808"
      ]
     },
     "execution_count": 58,
     "metadata": {},
     "output_type": "execute_result"
    }
   ],
   "source": [
    "np.sum(Y_predict) / len(Y_predict)"
   ]
  },
  {
   "cell_type": "code",
   "execution_count": 56,
   "metadata": {},
   "outputs": [
    {
     "data": {
      "text/plain": [
       "array([0, 0, 0, 0, 0, 0, 0, 0, 0, 0, 0, 0, 0, 0, 0, 0, 0, 0, 0, 0, 0, 0, 0,\n",
       "       0, 0, 0, 0, 0, 0, 0, 0, 0, 0, 0, 0, 0, 0, 0, 0, 0, 0, 0, 0, 0, 0, 0,\n",
       "       0, 0, 0, 0])"
      ]
     },
     "execution_count": 56,
     "metadata": {},
     "output_type": "execute_result"
    }
   ],
   "source": [
    "np.array(Y_predict[700:750]).T"
   ]
  },
  {
   "cell_type": "code",
   "execution_count": 57,
   "metadata": {},
   "outputs": [
    {
     "data": {
      "text/plain": [
       "array([1, 1, 1, 1, 1, 1, 1, 1, 1, 1, 1, 1, 1, 1, 1, 1, 1, 1, 1, 1, 1, 1, 1,\n",
       "       1, 1, 1, 1, 1, 1, 1, 1, 1, 1, 1, 1, 1, 1, 1, 1, 1, 1, 1, 1, 1, 1, 1,\n",
       "       1, 1, 1, 1])"
      ]
     },
     "execution_count": 57,
     "metadata": {},
     "output_type": "execute_result"
    }
   ],
   "source": [
    "np.array(new_Y[700:750]).T"
   ]
  },
  {
   "cell_type": "code",
   "execution_count": 55,
   "metadata": {},
   "outputs": [
    {
     "data": {
      "text/plain": [
       "array([ 0.00377813,  0.00377828,  0.00377841,  0.00377852,  0.00377861,\n",
       "        0.00377869,  0.00377875,  0.0037788 ,  0.00377885,  0.00377888,\n",
       "        0.00377892,  0.00377894,  0.00377896,  0.00377898,  0.003779  ,\n",
       "        0.00377901,  0.00377902,  0.00377903,  0.00377904,  0.00377905,\n",
       "        0.00433615,  0.00433587,  0.00433563,  0.00433543,  0.00433527,\n",
       "        0.00433513,  0.00433502,  0.00433492,  0.00433484,  0.00433477,\n",
       "        0.00433471,  0.00433467,  0.00433463,  0.00433459,  0.00433457,\n",
       "        0.00433454,  0.00433452,  0.00433451,  0.00433449,  0.00433448,\n",
       "        0.00433447,  0.00433446,  0.00433446,  0.00433445,  0.00433445,\n",
       "        0.00433444,  0.00433444,  0.00433444,  0.00433444,  0.00433443])"
      ]
     },
     "execution_count": 55,
     "metadata": {},
     "output_type": "execute_result"
    }
   ],
   "source": [
    "np.array(data['X'][700:750]).T"
   ]
  },
  {
   "cell_type": "code",
   "execution_count": null,
   "metadata": {
    "collapsed": true
   },
   "outputs": [],
   "source": []
  },
  {
   "cell_type": "code",
   "execution_count": 160,
   "metadata": {},
   "outputs": [
    {
     "data": {
      "text/plain": [
       "array([0, 1], dtype=int64)"
      ]
     },
     "execution_count": 160,
     "metadata": {},
     "output_type": "execute_result"
    }
   ],
   "source": [
    "np.unique(Y_train)"
   ]
  },
  {
   "cell_type": "code",
   "execution_count": 60,
   "metadata": {},
   "outputs": [
    {
     "name": "stdout",
     "output_type": "stream",
     "text": [
      "Score: 59.38%\n"
     ]
    }
   ],
   "source": [
    "## Linear SVM\n",
    "lin_clf2 = svm.LinearSVC()\n",
    "lin_clf2.fit(new_X, new_Y)\n",
    "\n",
    "score = lin_clf2.score(new_X, new_Y)\n",
    "print(\"Score: {}%\".format(round(score, 4)*100))"
   ]
  },
  {
   "cell_type": "code",
   "execution_count": 61,
   "metadata": {},
   "outputs": [
    {
     "data": {
      "text/plain": [
       "array([0, 1])"
      ]
     },
     "execution_count": 61,
     "metadata": {},
     "output_type": "execute_result"
    }
   ],
   "source": [
    "np.unique(lin_clf2.predict(new_X))"
   ]
  },
  {
   "cell_type": "markdown",
   "metadata": {},
   "source": [
    "### Logistic regression"
   ]
  },
  {
   "cell_type": "code",
   "execution_count": 63,
   "metadata": {
    "collapsed": true
   },
   "outputs": [],
   "source": [
    "from sklearn.linear_model import LogisticRegression"
   ]
  },
  {
   "cell_type": "code",
   "execution_count": 64,
   "metadata": {},
   "outputs": [
    {
     "name": "stdout",
     "output_type": "stream",
     "text": [
      "0.382352941176\n"
     ]
    }
   ],
   "source": [
    "logreg = LogisticRegression()\n",
    "logreg.fit(new_X, new_Y)\n",
    "y_pred = logreg.predict(new_X)\n",
    "print(np.sum(np.abs(new_Y - y_pred)) / len(new_Y))"
   ]
  },
  {
   "cell_type": "code",
   "execution_count": null,
   "metadata": {},
   "outputs": [],
   "source": []
  },
  {
   "cell_type": "code",
   "execution_count": 65,
   "metadata": {},
   "outputs": [
    {
     "data": {
      "text/plain": [
       "array([0, 1])"
      ]
     },
     "execution_count": 65,
     "metadata": {},
     "output_type": "execute_result"
    }
   ],
   "source": [
    "np.unique(y_pred)  # Et encore et toujours que des 0..."
   ]
  },
  {
   "cell_type": "code",
   "execution_count": null,
   "metadata": {
    "collapsed": true
   },
   "outputs": [],
   "source": []
  },
  {
   "cell_type": "code",
   "execution_count": null,
   "metadata": {
    "collapsed": true
   },
   "outputs": [],
   "source": []
  }
 ],
 "metadata": {
  "kernelspec": {
   "display_name": "Python 3",
   "language": "python",
   "name": "python3"
  },
  "language_info": {
   "codemirror_mode": {
    "name": "ipython",
    "version": 3
   },
   "file_extension": ".py",
   "mimetype": "text/x-python",
   "name": "python",
   "nbconvert_exporter": "python",
   "pygments_lexer": "ipython3",
   "version": "3.6.3"
  }
 },
 "nbformat": 4,
 "nbformat_minor": 2
}
