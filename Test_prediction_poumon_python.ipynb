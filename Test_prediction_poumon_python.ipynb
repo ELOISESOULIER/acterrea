{
 "cells": [
  {
   "cell_type": "code",
   "execution_count": 1,
   "metadata": {
    "collapsed": true
   },
   "outputs": [],
   "source": [
    "import numpy as np\n",
    "import pandas as pd\n",
    "import matplotlib.pyplot as plt\n",
    "import sklearn\n",
    "%matplotlib inline\n",
    "\n",
    "# Classification\n",
    "from sklearn import svm\n",
    "from sklearn.linear_model import LogisticRegression\n",
    "#import xgboost as xgb"
   ]
  },
  {
   "cell_type": "markdown",
   "metadata": {},
   "source": [
    "## Load data \n",
    "and save them in a DataFrame"
   ]
  },
  {
   "cell_type": "code",
   "execution_count": 2,
   "metadata": {},
   "outputs": [
    {
     "name": "stdout",
     "output_type": "stream",
     "text": [
      "Time horizon: 36\n",
      "Number of simulations: 100\n"
     ]
    }
   ],
   "source": [
    "df = pd.read_csv(\"./data/out_O2.csv\")\n",
    "T, nb_sim = np.shape(df)\n",
    "nb_sim -= 1\n",
    "print(\"Time horizon:\", T)\n",
    "print(\"Number of simulations:\", nb_sim)"
   ]
  },
  {
   "cell_type": "code",
   "execution_count": 3,
   "metadata": {},
   "outputs": [
    {
     "data": {
      "text/html": [
       "<div>\n",
       "<style>\n",
       "    .dataframe thead tr:only-child th {\n",
       "        text-align: right;\n",
       "    }\n",
       "\n",
       "    .dataframe thead th {\n",
       "        text-align: left;\n",
       "    }\n",
       "\n",
       "    .dataframe tbody tr th {\n",
       "        vertical-align: top;\n",
       "    }\n",
       "</style>\n",
       "<table border=\"1\" class=\"dataframe\">\n",
       "  <thead>\n",
       "    <tr style=\"text-align: right;\">\n",
       "      <th></th>\n",
       "      <th>Unnamed: 0</th>\n",
       "      <th>V1</th>\n",
       "      <th>V2</th>\n",
       "      <th>V3</th>\n",
       "      <th>V4</th>\n",
       "      <th>V5</th>\n",
       "      <th>V6</th>\n",
       "      <th>V7</th>\n",
       "      <th>V8</th>\n",
       "      <th>V9</th>\n",
       "      <th>...</th>\n",
       "      <th>V91</th>\n",
       "      <th>V92</th>\n",
       "      <th>V93</th>\n",
       "      <th>V94</th>\n",
       "      <th>V95</th>\n",
       "      <th>V96</th>\n",
       "      <th>V97</th>\n",
       "      <th>V98</th>\n",
       "      <th>V99</th>\n",
       "      <th>V100</th>\n",
       "    </tr>\n",
       "  </thead>\n",
       "  <tbody>\n",
       "    <tr>\n",
       "      <th>0</th>\n",
       "      <td>4</td>\n",
       "      <td>0.005052</td>\n",
       "      <td>0.003791</td>\n",
       "      <td>0.004347</td>\n",
       "      <td>0.005034</td>\n",
       "      <td>0.003972</td>\n",
       "      <td>0.003885</td>\n",
       "      <td>0.004903</td>\n",
       "      <td>0.005147</td>\n",
       "      <td>0.003603</td>\n",
       "      <td>...</td>\n",
       "      <td>0.003783</td>\n",
       "      <td>0.003848</td>\n",
       "      <td>0.005055</td>\n",
       "      <td>0.003721</td>\n",
       "      <td>0.003654</td>\n",
       "      <td>0.004256</td>\n",
       "      <td>0.004170</td>\n",
       "      <td>0.004998</td>\n",
       "      <td>0.003759</td>\n",
       "      <td>0.004300</td>\n",
       "    </tr>\n",
       "    <tr>\n",
       "      <th>1</th>\n",
       "      <td>5</td>\n",
       "      <td>0.005036</td>\n",
       "      <td>0.003788</td>\n",
       "      <td>0.004339</td>\n",
       "      <td>0.005019</td>\n",
       "      <td>0.003968</td>\n",
       "      <td>0.003881</td>\n",
       "      <td>0.004889</td>\n",
       "      <td>0.005129</td>\n",
       "      <td>0.003601</td>\n",
       "      <td>...</td>\n",
       "      <td>0.003780</td>\n",
       "      <td>0.003845</td>\n",
       "      <td>0.005039</td>\n",
       "      <td>0.003718</td>\n",
       "      <td>0.003651</td>\n",
       "      <td>0.004249</td>\n",
       "      <td>0.004164</td>\n",
       "      <td>0.004983</td>\n",
       "      <td>0.003756</td>\n",
       "      <td>0.004292</td>\n",
       "    </tr>\n",
       "    <tr>\n",
       "      <th>2</th>\n",
       "      <td>6</td>\n",
       "      <td>0.005042</td>\n",
       "      <td>0.003796</td>\n",
       "      <td>0.004347</td>\n",
       "      <td>0.005025</td>\n",
       "      <td>0.003976</td>\n",
       "      <td>0.003889</td>\n",
       "      <td>0.004895</td>\n",
       "      <td>0.005135</td>\n",
       "      <td>0.003609</td>\n",
       "      <td>...</td>\n",
       "      <td>0.003788</td>\n",
       "      <td>0.003853</td>\n",
       "      <td>0.005045</td>\n",
       "      <td>0.003726</td>\n",
       "      <td>0.003659</td>\n",
       "      <td>0.004257</td>\n",
       "      <td>0.004172</td>\n",
       "      <td>0.004989</td>\n",
       "      <td>0.003764</td>\n",
       "      <td>0.004300</td>\n",
       "    </tr>\n",
       "    <tr>\n",
       "      <th>3</th>\n",
       "      <td>7</td>\n",
       "      <td>0.005041</td>\n",
       "      <td>0.003799</td>\n",
       "      <td>0.004349</td>\n",
       "      <td>0.005024</td>\n",
       "      <td>0.003979</td>\n",
       "      <td>0.003893</td>\n",
       "      <td>0.004895</td>\n",
       "      <td>0.005134</td>\n",
       "      <td>0.003613</td>\n",
       "      <td>...</td>\n",
       "      <td>0.003791</td>\n",
       "      <td>0.003856</td>\n",
       "      <td>0.005045</td>\n",
       "      <td>0.003730</td>\n",
       "      <td>0.003663</td>\n",
       "      <td>0.004259</td>\n",
       "      <td>0.004175</td>\n",
       "      <td>0.004989</td>\n",
       "      <td>0.003768</td>\n",
       "      <td>0.004303</td>\n",
       "    </tr>\n",
       "    <tr>\n",
       "      <th>4</th>\n",
       "      <td>8</td>\n",
       "      <td>0.005026</td>\n",
       "      <td>0.003795</td>\n",
       "      <td>0.004340</td>\n",
       "      <td>0.005008</td>\n",
       "      <td>0.003973</td>\n",
       "      <td>0.003887</td>\n",
       "      <td>0.004881</td>\n",
       "      <td>0.005117</td>\n",
       "      <td>0.003609</td>\n",
       "      <td>...</td>\n",
       "      <td>0.003787</td>\n",
       "      <td>0.003851</td>\n",
       "      <td>0.005029</td>\n",
       "      <td>0.003726</td>\n",
       "      <td>0.003659</td>\n",
       "      <td>0.004251</td>\n",
       "      <td>0.004167</td>\n",
       "      <td>0.004974</td>\n",
       "      <td>0.003763</td>\n",
       "      <td>0.004294</td>\n",
       "    </tr>\n",
       "  </tbody>\n",
       "</table>\n",
       "<p>5 rows × 101 columns</p>\n",
       "</div>"
      ],
      "text/plain": [
       "   Unnamed: 0        V1        V2        V3        V4        V5        V6  \\\n",
       "0           4  0.005052  0.003791  0.004347  0.005034  0.003972  0.003885   \n",
       "1           5  0.005036  0.003788  0.004339  0.005019  0.003968  0.003881   \n",
       "2           6  0.005042  0.003796  0.004347  0.005025  0.003976  0.003889   \n",
       "3           7  0.005041  0.003799  0.004349  0.005024  0.003979  0.003893   \n",
       "4           8  0.005026  0.003795  0.004340  0.005008  0.003973  0.003887   \n",
       "\n",
       "         V7        V8        V9    ...          V91       V92       V93  \\\n",
       "0  0.004903  0.005147  0.003603    ...     0.003783  0.003848  0.005055   \n",
       "1  0.004889  0.005129  0.003601    ...     0.003780  0.003845  0.005039   \n",
       "2  0.004895  0.005135  0.003609    ...     0.003788  0.003853  0.005045   \n",
       "3  0.004895  0.005134  0.003613    ...     0.003791  0.003856  0.005045   \n",
       "4  0.004881  0.005117  0.003609    ...     0.003787  0.003851  0.005029   \n",
       "\n",
       "        V94       V95       V96       V97       V98       V99      V100  \n",
       "0  0.003721  0.003654  0.004256  0.004170  0.004998  0.003759  0.004300  \n",
       "1  0.003718  0.003651  0.004249  0.004164  0.004983  0.003756  0.004292  \n",
       "2  0.003726  0.003659  0.004257  0.004172  0.004989  0.003764  0.004300  \n",
       "3  0.003730  0.003663  0.004259  0.004175  0.004989  0.003768  0.004303  \n",
       "4  0.003726  0.003659  0.004251  0.004167  0.004974  0.003763  0.004294  \n",
       "\n",
       "[5 rows x 101 columns]"
      ]
     },
     "execution_count": 3,
     "metadata": {},
     "output_type": "execute_result"
    }
   ],
   "source": [
    "df.head()"
   ]
  },
  {
   "cell_type": "code",
   "execution_count": 4,
   "metadata": {
    "collapsed": true
   },
   "outputs": [],
   "source": [
    "def plot_data(df):\n",
    "    variables = [col for col in list(df.columns) if 'V' in col]\n",
    "    \n",
    "    plt.figure()\n",
    "    for col in variables:\n",
    "        plt.plot(df[col])\n",
    "    plt.title('O2 evolution on {} simulations'.format(len(variables)))\n",
    "    plt.ylabel('O2')\n",
    "    plt.xlabel('time')\n",
    "    plt.show()"
   ]
  },
  {
   "cell_type": "code",
   "execution_count": 5,
   "metadata": {},
   "outputs": [
    {
     "data": {
      "image/png": "[encoded data removed]",
      "text/plain": [
       "<matplotlib.figure.Figure at 0x1f86548a940>"
      ]
     },
     "metadata": {},
     "output_type": "display_data"
    }
   ],
   "source": [
    "var = ['V' + str(i) for i in range(1, 21)]\n",
    "plot_data(df[var])"
   ]
  },
  {
   "cell_type": "markdown",
   "metadata": {},
   "source": [
    "## Set the parameters:\n",
    "* **len_X**: the len_x last values of X are taken into account to compute descriptors\n",
    "* **tau**: We want to predict if an accident happens at t + tau\n",
    "\n",
    "The following variables are used to determine the event: \"accident\" that we want to predict:\n",
    "* **thres_mean**: If |mean(X(0), ..., (t-1)) - X(t)| < thres_mean, then there is an accident at t.\n",
    "* **X0_base, thres_gal**: If |X(t) - X0| < thres_gal then there is an accident."
   ]
  },
  {
   "cell_type": "code",
   "execution_count": 6,
   "metadata": {
    "collapsed": true
   },
   "outputs": [],
   "source": [
    "params = {'len_X': 10,\n",
    "          'tau': 5,\n",
    "          'thres_mean': 5e-5,\n",
    "          'X0_base': 0.0042,\n",
    "          'thres_gal': 0.001}\n",
    "\n",
    "variables = [col for col in list(df.columns) if 'V' in col]"
   ]
  },
  {
   "cell_type": "markdown",
   "metadata": {},
   "source": [
    "### Processing X data and compute the accident variable Y"
   ]
  },
  {
   "cell_type": "code",
   "execution_count": 7,
   "metadata": {
    "collapsed": true
   },
   "outputs": [],
   "source": [
    "def process_var(df, variables):\n",
    "    \n",
    "    # Concatenation des x\n",
    "    X = []\n",
    "    trajec = []\n",
    "    X_cummean = []\n",
    "\n",
    "    for j in range(len(variables)):\n",
    "        col = variables[j]\n",
    "        X += list(df[col])\n",
    "        # Trajec = the number of the trajectory\n",
    "        trajec += [j for _ in range(len(df))]\n",
    "\n",
    "        # CumMean of X (t-1 previous values)\n",
    "        cummean = np.cumsum(df[col]) / np.array(range(1, len(df)+1))\n",
    "        X_cummean += [df[col][0]] + list(cummean[:-1])\n",
    "\n",
    "    data = pd.DataFrame({'X': X, 'trajec': trajec, 'X_cummean': X_cummean})\n",
    "    \n",
    "    # Compute Y\n",
    "    data['X_diff'] = abs(data['X'] - data['X_cummean'])\n",
    "    # The difference between X and the cummean is it below the threshold thres_mean ?\n",
    "    data['Y1'] = data['X_diff'].apply(lambda x: 1 if x > params['thres_mean'] else 0)\n",
    "    # The value of X is it below the general threshold thres_gal ?\n",
    "    data['Y2'] = data['X'].apply(lambda x: 1 if abs(x - params['X0_base']) > params['thres_gal'] else 0)\n",
    "\n",
    "    # The incident happens if one of the two previous event happen\n",
    "    data['Y'] = data['Y1'] + data['Y2']\n",
    "    data['Y'] = data['Y'].apply(lambda x: 1 if x > 0 else 0)\n",
    "    \n",
    "    return data[['Y', 'X', 'trajec']]"
   ]
  },
  {
   "cell_type": "code",
   "execution_count": 8,
   "metadata": {
    "collapsed": true,
    "scrolled": true
   },
   "outputs": [],
   "source": [
    "data = process_var(df, variables)"
   ]
  },
  {
   "cell_type": "code",
   "execution_count": 9,
   "metadata": {
    "scrolled": true
   },
   "outputs": [
    {
     "data": {
      "text/html": [
       "<div>\n",
       "<style>\n",
       "    .dataframe thead tr:only-child th {\n",
       "        text-align: right;\n",
       "    }\n",
       "\n",
       "    .dataframe thead th {\n",
       "        text-align: left;\n",
       "    }\n",
       "\n",
       "    .dataframe tbody tr th {\n",
       "        vertical-align: top;\n",
       "    }\n",
       "</style>\n",
       "<table border=\"1\" class=\"dataframe\">\n",
       "  <thead>\n",
       "    <tr style=\"text-align: right;\">\n",
       "      <th></th>\n",
       "      <th>Y</th>\n",
       "      <th>X</th>\n",
       "      <th>trajec</th>\n",
       "    </tr>\n",
       "  </thead>\n",
       "  <tbody>\n",
       "    <tr>\n",
       "      <th>0</th>\n",
       "      <td>0</td>\n",
       "      <td>0.005052</td>\n",
       "      <td>0</td>\n",
       "    </tr>\n",
       "    <tr>\n",
       "      <th>1</th>\n",
       "      <td>0</td>\n",
       "      <td>0.005036</td>\n",
       "      <td>0</td>\n",
       "    </tr>\n",
       "    <tr>\n",
       "      <th>2</th>\n",
       "      <td>0</td>\n",
       "      <td>0.005042</td>\n",
       "      <td>0</td>\n",
       "    </tr>\n",
       "    <tr>\n",
       "      <th>3</th>\n",
       "      <td>0</td>\n",
       "      <td>0.005041</td>\n",
       "      <td>0</td>\n",
       "    </tr>\n",
       "    <tr>\n",
       "      <th>4</th>\n",
       "      <td>0</td>\n",
       "      <td>0.005026</td>\n",
       "      <td>0</td>\n",
       "    </tr>\n",
       "    <tr>\n",
       "      <th>5</th>\n",
       "      <td>0</td>\n",
       "      <td>0.005022</td>\n",
       "      <td>0</td>\n",
       "    </tr>\n",
       "    <tr>\n",
       "      <th>6</th>\n",
       "      <td>0</td>\n",
       "      <td>0.005036</td>\n",
       "      <td>0</td>\n",
       "    </tr>\n",
       "    <tr>\n",
       "      <th>7</th>\n",
       "      <td>0</td>\n",
       "      <td>0.005020</td>\n",
       "      <td>0</td>\n",
       "    </tr>\n",
       "    <tr>\n",
       "      <th>8</th>\n",
       "      <td>0</td>\n",
       "      <td>0.005010</td>\n",
       "      <td>0</td>\n",
       "    </tr>\n",
       "    <tr>\n",
       "      <th>9</th>\n",
       "      <td>0</td>\n",
       "      <td>0.005028</td>\n",
       "      <td>0</td>\n",
       "    </tr>\n",
       "    <tr>\n",
       "      <th>10</th>\n",
       "      <td>0</td>\n",
       "      <td>0.005018</td>\n",
       "      <td>0</td>\n",
       "    </tr>\n",
       "    <tr>\n",
       "      <th>11</th>\n",
       "      <td>0</td>\n",
       "      <td>0.005005</td>\n",
       "      <td>0</td>\n",
       "    </tr>\n",
       "    <tr>\n",
       "      <th>12</th>\n",
       "      <td>0</td>\n",
       "      <td>0.005016</td>\n",
       "      <td>0</td>\n",
       "    </tr>\n",
       "    <tr>\n",
       "      <th>13</th>\n",
       "      <td>0</td>\n",
       "      <td>0.005019</td>\n",
       "      <td>0</td>\n",
       "    </tr>\n",
       "    <tr>\n",
       "      <th>14</th>\n",
       "      <td>0</td>\n",
       "      <td>0.005004</td>\n",
       "      <td>0</td>\n",
       "    </tr>\n",
       "    <tr>\n",
       "      <th>15</th>\n",
       "      <td>0</td>\n",
       "      <td>0.005003</td>\n",
       "      <td>0</td>\n",
       "    </tr>\n",
       "    <tr>\n",
       "      <th>16</th>\n",
       "      <td>0</td>\n",
       "      <td>0.005020</td>\n",
       "      <td>0</td>\n",
       "    </tr>\n",
       "    <tr>\n",
       "      <th>17</th>\n",
       "      <td>0</td>\n",
       "      <td>0.005006</td>\n",
       "      <td>0</td>\n",
       "    </tr>\n",
       "    <tr>\n",
       "      <th>18</th>\n",
       "      <td>0</td>\n",
       "      <td>0.004997</td>\n",
       "      <td>0</td>\n",
       "    </tr>\n",
       "    <tr>\n",
       "      <th>19</th>\n",
       "      <td>0</td>\n",
       "      <td>0.005017</td>\n",
       "      <td>0</td>\n",
       "    </tr>\n",
       "    <tr>\n",
       "      <th>20</th>\n",
       "      <td>0</td>\n",
       "      <td>0.005009</td>\n",
       "      <td>0</td>\n",
       "    </tr>\n",
       "    <tr>\n",
       "      <th>21</th>\n",
       "      <td>0</td>\n",
       "      <td>0.004996</td>\n",
       "      <td>0</td>\n",
       "    </tr>\n",
       "    <tr>\n",
       "      <th>22</th>\n",
       "      <td>0</td>\n",
       "      <td>0.005009</td>\n",
       "      <td>0</td>\n",
       "    </tr>\n",
       "    <tr>\n",
       "      <th>23</th>\n",
       "      <td>0</td>\n",
       "      <td>0.005012</td>\n",
       "      <td>0</td>\n",
       "    </tr>\n",
       "    <tr>\n",
       "      <th>24</th>\n",
       "      <td>0</td>\n",
       "      <td>0.004998</td>\n",
       "      <td>0</td>\n",
       "    </tr>\n",
       "    <tr>\n",
       "      <th>25</th>\n",
       "      <td>0</td>\n",
       "      <td>0.004998</td>\n",
       "      <td>0</td>\n",
       "    </tr>\n",
       "    <tr>\n",
       "      <th>26</th>\n",
       "      <td>0</td>\n",
       "      <td>0.005016</td>\n",
       "      <td>0</td>\n",
       "    </tr>\n",
       "    <tr>\n",
       "      <th>27</th>\n",
       "      <td>0</td>\n",
       "      <td>0.005002</td>\n",
       "      <td>0</td>\n",
       "    </tr>\n",
       "    <tr>\n",
       "      <th>28</th>\n",
       "      <td>0</td>\n",
       "      <td>0.004993</td>\n",
       "      <td>0</td>\n",
       "    </tr>\n",
       "    <tr>\n",
       "      <th>29</th>\n",
       "      <td>0</td>\n",
       "      <td>0.005014</td>\n",
       "      <td>0</td>\n",
       "    </tr>\n",
       "    <tr>\n",
       "      <th>30</th>\n",
       "      <td>0</td>\n",
       "      <td>0.005006</td>\n",
       "      <td>0</td>\n",
       "    </tr>\n",
       "    <tr>\n",
       "      <th>31</th>\n",
       "      <td>0</td>\n",
       "      <td>0.004994</td>\n",
       "      <td>0</td>\n",
       "    </tr>\n",
       "    <tr>\n",
       "      <th>32</th>\n",
       "      <td>0</td>\n",
       "      <td>0.005006</td>\n",
       "      <td>0</td>\n",
       "    </tr>\n",
       "    <tr>\n",
       "      <th>33</th>\n",
       "      <td>0</td>\n",
       "      <td>0.005006</td>\n",
       "      <td>0</td>\n",
       "    </tr>\n",
       "    <tr>\n",
       "      <th>34</th>\n",
       "      <td>1</td>\n",
       "      <td>0.004852</td>\n",
       "      <td>0</td>\n",
       "    </tr>\n",
       "    <tr>\n",
       "      <th>35</th>\n",
       "      <td>1</td>\n",
       "      <td>0.004675</td>\n",
       "      <td>0</td>\n",
       "    </tr>\n",
       "    <tr>\n",
       "      <th>36</th>\n",
       "      <td>0</td>\n",
       "      <td>0.003791</td>\n",
       "      <td>1</td>\n",
       "    </tr>\n",
       "  </tbody>\n",
       "</table>\n",
       "</div>"
      ],
      "text/plain": [
       "    Y         X  trajec\n",
       "0   0  0.005052       0\n",
       "1   0  0.005036       0\n",
       "2   0  0.005042       0\n",
       "3   0  0.005041       0\n",
       "4   0  0.005026       0\n",
       "5   0  0.005022       0\n",
       "6   0  0.005036       0\n",
       "7   0  0.005020       0\n",
       "8   0  0.005010       0\n",
       "9   0  0.005028       0\n",
       "10  0  0.005018       0\n",
       "11  0  0.005005       0\n",
       "12  0  0.005016       0\n",
       "13  0  0.005019       0\n",
       "14  0  0.005004       0\n",
       "15  0  0.005003       0\n",
       "16  0  0.005020       0\n",
       "17  0  0.005006       0\n",
       "18  0  0.004997       0\n",
       "19  0  0.005017       0\n",
       "20  0  0.005009       0\n",
       "21  0  0.004996       0\n",
       "22  0  0.005009       0\n",
       "23  0  0.005012       0\n",
       "24  0  0.004998       0\n",
       "25  0  0.004998       0\n",
       "26  0  0.005016       0\n",
       "27  0  0.005002       0\n",
       "28  0  0.004993       0\n",
       "29  0  0.005014       0\n",
       "30  0  0.005006       0\n",
       "31  0  0.004994       0\n",
       "32  0  0.005006       0\n",
       "33  0  0.005006       0\n",
       "34  1  0.004852       0\n",
       "35  1  0.004675       0\n",
       "36  0  0.003791       1"
      ]
     },
     "execution_count": 9,
     "metadata": {},
     "output_type": "execute_result"
    }
   ],
   "source": [
    "data.head(T + 1)"
   ]
  },
  {
   "cell_type": "markdown",
   "metadata": {
    "collapsed": true
   },
   "source": [
    "**trajec** is the number of the trajectory. When the number change, the value correspond to a new person."
   ]
  },
  {
   "cell_type": "markdown",
   "metadata": {},
   "source": [
    "## Compute descriptors on X data"
   ]
  },
  {
   "cell_type": "code",
   "execution_count": 10,
   "metadata": {
    "scrolled": true
   },
   "outputs": [
    {
     "name": "stdout",
     "output_type": "stream",
     "text": [
      "The descriptors computed are: ['X_1', 'X_10', 'X_2', 'X_3', 'X_4', 'X_5', 'X_6', 'X_7', 'X_8', 'X_9', 'diff_first_second_mean', 'diff_to_X0', 'diff_to_mean', 'mean']\n",
      "100 trajectories of length 36\n"
     ]
    }
   ],
   "source": [
    "# Separate data x in windows of lenght len_X\n",
    "# and compute descriptors on this window\n",
    "\n",
    "descriptors = {'X': [], 'Y': [], 'trajec': [],\n",
    "               'mean': [],\n",
    "               'diff_to_mean': [],\n",
    "               'diff_first_second_mean': [],\n",
    "               'diff_to_X0': []}\n",
    "for i in range(1, params['len_X'] + 1):\n",
    "    descriptors['X_{}'.format(i)] = []\n",
    "\n",
    "nb_trajec = len(np.unique(data['trajec']))\n",
    "\n",
    "for n in range(nb_trajec):\n",
    "    for j in range(params['len_X'], T - params['tau']):\n",
    "        i = n*T + j\n",
    "        X_ = list(data['X'][i - params['len_X']:i])  # Past\n",
    "        \n",
    "        descriptors['X'].append(data['X'][i])\n",
    "        descriptors['Y'].append(data['Y'][i])\n",
    "        descriptors['trajec'].append(data['trajec'][i])\n",
    "\n",
    "        descriptors['mean'].append(np.mean(X_))\n",
    "        descriptors['diff_to_mean'].append(np.abs(data['X'][i] - np.mean(X_)))\n",
    "        descriptors['diff_first_second_mean'].append(np.abs(np.mean(X_[:int(params['len_X']/2)])\\\n",
    "                                                            - np.mean(X_[int(params['len_X']/2):])))\n",
    "        descriptors['diff_to_X0'].append(np.abs(np.mean(X_) - params['X0_base']))\n",
    "        \n",
    "        # Past values\n",
    "        for k in range(1, params['len_X'] + 1):\n",
    "            descriptors['X_{}'.format(k)].append((data['X'][i - k]))\n",
    "\n",
    "descriptors = pd.DataFrame(descriptors)\n",
    "\n",
    "name_descriptors = list(descriptors.columns)\n",
    "name_descriptors.remove('X')\n",
    "name_descriptors.remove('Y')\n",
    "name_descriptors.remove('trajec')\n",
    "print(\"The descriptors computed are:\", name_descriptors)\n",
    "print(\"{} trajectories of length {}\".format(nb_trajec, T))"
   ]
  },
  {
   "cell_type": "code",
   "execution_count": null,
   "metadata": {
    "collapsed": true
   },
   "outputs": [],
   "source": []
  },
  {
   "cell_type": "markdown",
   "metadata": {},
   "source": [
    "### Correlation coefficients"
   ]
  },
  {
   "cell_type": "code",
   "execution_count": 11,
   "metadata": {},
   "outputs": [
    {
     "name": "stdout",
     "output_type": "stream",
     "text": [
      "Correlation coefficients between the variables:\n"
     ]
    },
    {
     "data": {
      "text/html": [
       "<div>\n",
       "<style>\n",
       "    .dataframe thead tr:only-child th {\n",
       "        text-align: right;\n",
       "    }\n",
       "\n",
       "    .dataframe thead th {\n",
       "        text-align: left;\n",
       "    }\n",
       "\n",
       "    .dataframe tbody tr th {\n",
       "        vertical-align: top;\n",
       "    }\n",
       "</style>\n",
       "<table border=\"1\" class=\"dataframe\">\n",
       "  <thead>\n",
       "    <tr style=\"text-align: right;\">\n",
       "      <th></th>\n",
       "      <th>X</th>\n",
       "      <th>Y</th>\n",
       "      <th>diff_first_second_mean</th>\n",
       "      <th>diff_to_X0</th>\n",
       "      <th>diff_to_mean</th>\n",
       "      <th>mean</th>\n",
       "    </tr>\n",
       "  </thead>\n",
       "  <tbody>\n",
       "    <tr>\n",
       "      <th>X</th>\n",
       "      <td>1.000000</td>\n",
       "      <td>-0.314274</td>\n",
       "      <td>-0.309389</td>\n",
       "      <td>0.401328</td>\n",
       "      <td>-0.295700</td>\n",
       "      <td>0.978113</td>\n",
       "    </tr>\n",
       "    <tr>\n",
       "      <th>Y</th>\n",
       "      <td>-0.314274</td>\n",
       "      <td>1.000000</td>\n",
       "      <td>0.713744</td>\n",
       "      <td>-0.054708</td>\n",
       "      <td>0.848328</td>\n",
       "      <td>-0.141981</td>\n",
       "    </tr>\n",
       "    <tr>\n",
       "      <th>diff_first_second_mean</th>\n",
       "      <td>-0.309389</td>\n",
       "      <td>0.713744</td>\n",
       "      <td>1.000000</td>\n",
       "      <td>-0.038874</td>\n",
       "      <td>0.881526</td>\n",
       "      <td>-0.130755</td>\n",
       "    </tr>\n",
       "    <tr>\n",
       "      <th>diff_to_X0</th>\n",
       "      <td>0.401328</td>\n",
       "      <td>-0.054708</td>\n",
       "      <td>-0.038874</td>\n",
       "      <td>1.000000</td>\n",
       "      <td>-0.066632</td>\n",
       "      <td>0.403692</td>\n",
       "    </tr>\n",
       "    <tr>\n",
       "      <th>diff_to_mean</th>\n",
       "      <td>-0.295700</td>\n",
       "      <td>0.848328</td>\n",
       "      <td>0.881526</td>\n",
       "      <td>-0.066632</td>\n",
       "      <td>1.000000</td>\n",
       "      <td>-0.090716</td>\n",
       "    </tr>\n",
       "    <tr>\n",
       "      <th>mean</th>\n",
       "      <td>0.978113</td>\n",
       "      <td>-0.141981</td>\n",
       "      <td>-0.130755</td>\n",
       "      <td>0.403692</td>\n",
       "      <td>-0.090716</td>\n",
       "      <td>1.000000</td>\n",
       "    </tr>\n",
       "  </tbody>\n",
       "</table>\n",
       "</div>"
      ],
      "text/plain": [
       "                               X         Y  diff_first_second_mean  \\\n",
       "X                       1.000000 -0.314274               -0.309389   \n",
       "Y                      -0.314274  1.000000                0.713744   \n",
       "diff_first_second_mean -0.309389  0.713744                1.000000   \n",
       "diff_to_X0              0.401328 -0.054708               -0.038874   \n",
       "diff_to_mean           -0.295700  0.848328                0.881526   \n",
       "mean                    0.978113 -0.141981               -0.130755   \n",
       "\n",
       "                        diff_to_X0  diff_to_mean      mean  \n",
       "X                         0.401328     -0.295700  0.978113  \n",
       "Y                        -0.054708      0.848328 -0.141981  \n",
       "diff_first_second_mean   -0.038874      0.881526 -0.130755  \n",
       "diff_to_X0                1.000000     -0.066632  0.403692  \n",
       "diff_to_mean             -0.066632      1.000000 -0.090716  \n",
       "mean                      0.403692     -0.090716  1.000000  "
      ]
     },
     "execution_count": 11,
     "metadata": {},
     "output_type": "execute_result"
    }
   ],
   "source": [
    "print(\"Correlation coefficients between the variables:\")\n",
    "descriptors[['X', 'Y', 'diff_first_second_mean', 'diff_to_X0', 'diff_to_mean', 'mean']].corr()"
   ]
  },
  {
   "cell_type": "markdown",
   "metadata": {},
   "source": [
    "**Remarques:**\n",
    "La variable à prédire Y est fortement corrélées avec les deux variables decrivant la différence à la moyenne passée ('diff_to_mean', 'diff_first_second_mean'). Ces deux variables sont aussi corrélées, il vaut mieux choisir l'une des deux."
   ]
  },
  {
   "cell_type": "code",
   "execution_count": 12,
   "metadata": {
    "scrolled": true
   },
   "outputs": [
    {
     "data": {
      "image/png": "[encoded data removed]",
      "text/plain": [
       "<matplotlib.figure.Figure at 0x1f8658ca668>"
      ]
     },
     "metadata": {},
     "output_type": "display_data"
    }
   ],
   "source": [
    "descriptors['Y_to_plot'] = descriptors['Y'] * descriptors['diff_to_mean'].mean()\n",
    "\n",
    "descriptors[['diff_to_mean', 'Y_to_plot']][200:500].plot()\n",
    "plt.title('Difference between X and its mean in the {} past time (blue) and \\\n",
    "the binary variable to predict Y (orange)'.format(params['len_X']))\n",
    "plt.show()"
   ]
  },
  {
   "cell_type": "markdown",
   "metadata": {},
   "source": [
    "La corrélation est assez marquante entre la variable \"différence avec la moyenne passée\" et l'apparition d'un accident."
   ]
  },
  {
   "cell_type": "markdown",
   "metadata": {},
   "source": [
    "### Plot descriptors"
   ]
  },
  {
   "cell_type": "code",
   "execution_count": 13,
   "metadata": {},
   "outputs": [
    {
     "data": {
      "text/plain": [
       "Index(['X', 'X_1', 'X_10', 'X_2', 'X_3', 'X_4', 'X_5', 'X_6', 'X_7', 'X_8',\n",
       "       'X_9', 'Y', 'diff_first_second_mean', 'diff_to_X0', 'diff_to_mean',\n",
       "       'mean', 'trajec', 'Y_to_plot'],\n",
       "      dtype='object')"
      ]
     },
     "execution_count": 13,
     "metadata": {},
     "output_type": "execute_result"
    }
   ],
   "source": [
    "descriptors.keys()"
   ]
  },
  {
   "cell_type": "code",
   "execution_count": 40,
   "metadata": {},
   "outputs": [
    {
     "data": {
      "text/plain": [
       "array([[ 1, 10, 11, 13, 14, 15, 20, 21, 22, 25, 26, 27, 31, 35, 36, 38, 39,\n",
       "        42, 43, 45, 50, 52, 54, 58, 60, 61, 63, 66, 71, 77, 78, 79, 80, 82,\n",
       "        86, 87, 88, 89, 90, 91, 93, 95, 96, 97]])"
      ]
     },
     "execution_count": 40,
     "metadata": {},
     "output_type": "execute_result"
    }
   ],
   "source": [
    "# Liste des trajectoires qui degenerent:\n",
    "\n",
    "trajec_accident = []\n",
    "\n",
    "for trajec in range(nb_sim):\n",
    "    if len(np.unique(descriptors[descriptors['trajec'] == trajec]['Y'])) > 1:\n",
    "        trajec_accident.append(trajec)\n",
    "        \n",
    "np.reshape(trajec_accident, (1, len(trajec_accident)))"
   ]
  },
  {
   "cell_type": "code",
   "execution_count": 53,
   "metadata": {
    "collapsed": true
   },
   "outputs": [],
   "source": [
    "def plot_trajec_diff_to_mean(trajec_data):\n",
    "    fig, ax1 = plt.subplots()\n",
    "    ax2 = ax1.twinx()\n",
    "    ax3 = ax1.twinx()\n",
    "\n",
    "    ax1.plot(trajec_data['X'], label='X', color='r')\n",
    "    ax2.plot(trajec_data['diff_to_mean'], label='diff_to_mean', color='b')\n",
    "    ax3.plot(trajec_data['Y'], label='Y', color='black')\n",
    "\n",
    "    ax3.legend()\n",
    "    ax1.legend()\n",
    "    ax2.legend()\n",
    "    plt.title(\"Evolution of the descriptors of a patient having an accident\")\n",
    "    plt.show()"
   ]
  },
  {
   "cell_type": "code",
   "execution_count": 55,
   "metadata": {},
   "outputs": [
    {
     "data": {
      "image/png": "[encoded data removed]",
      "text/plain": [
       "<matplotlib.figure.Figure at 0x1f865e865f8>"
      ]
     },
     "metadata": {},
     "output_type": "display_data"
    },
    {
     "data": {
      "image/png": "[encoded data removed]",
      "text/plain": [
       "<matplotlib.figure.Figure at 0x1f8655ed940>"
      ]
     },
     "metadata": {},
     "output_type": "display_data"
    },
    {
     "data": {
      "image/png": "[encoded data removed]",
      "text/plain": [
       "<matplotlib.figure.Figure at 0x1f86566fb70>"
      ]
     },
     "metadata": {},
     "output_type": "display_data"
    }
   ],
   "source": [
    "trajec1 = descriptors[descriptors['trajec'] == 1]\n",
    "plot_trajec_diff_to_mean(trajec1)\n",
    "plot_trajec_diff_to_mean(descriptors[descriptors['trajec'] == 22])\n",
    "plot_trajec_diff_to_mean(descriptors[descriptors['trajec'] == 82])"
   ]
  },
  {
   "cell_type": "code",
   "execution_count": 49,
   "metadata": {
    "collapsed": true
   },
   "outputs": [],
   "source": [
    "trajec1_Y0 = trajec1[trajec1['Y'] == 0]\n",
    "trajec1_Y1 = trajec1[trajec1['Y'] == 1]"
   ]
  },
  {
   "cell_type": "code",
   "execution_count": 51,
   "metadata": {},
   "outputs": [
    {
     "data": {
      "text/html": [
       "<div>\n",
       "<style>\n",
       "    .dataframe thead tr:only-child th {\n",
       "        text-align: right;\n",
       "    }\n",
       "\n",
       "    .dataframe thead th {\n",
       "        text-align: left;\n",
       "    }\n",
       "\n",
       "    .dataframe tbody tr th {\n",
       "        vertical-align: top;\n",
       "    }\n",
       "</style>\n",
       "<table border=\"1\" class=\"dataframe\">\n",
       "  <thead>\n",
       "    <tr style=\"text-align: right;\">\n",
       "      <th></th>\n",
       "      <th>diff_first_second_mean</th>\n",
       "      <th>diff_to_X0</th>\n",
       "      <th>diff_to_mean</th>\n",
       "      <th>mean</th>\n",
       "    </tr>\n",
       "  </thead>\n",
       "  <tbody>\n",
       "    <tr>\n",
       "      <th>36</th>\n",
       "      <td>0.000004</td>\n",
       "      <td>0.000395</td>\n",
       "      <td>0.000089</td>\n",
       "      <td>0.003805</td>\n",
       "    </tr>\n",
       "    <tr>\n",
       "      <th>37</th>\n",
       "      <td>0.000024</td>\n",
       "      <td>0.000404</td>\n",
       "      <td>0.000129</td>\n",
       "      <td>0.003796</td>\n",
       "    </tr>\n",
       "    <tr>\n",
       "      <th>38</th>\n",
       "      <td>0.000050</td>\n",
       "      <td>0.000418</td>\n",
       "      <td>0.000169</td>\n",
       "      <td>0.003782</td>\n",
       "    </tr>\n",
       "    <tr>\n",
       "      <th>39</th>\n",
       "      <td>0.000090</td>\n",
       "      <td>0.000437</td>\n",
       "      <td>0.000195</td>\n",
       "      <td>0.003763</td>\n",
       "    </tr>\n",
       "    <tr>\n",
       "      <th>40</th>\n",
       "      <td>0.000140</td>\n",
       "      <td>0.000461</td>\n",
       "      <td>0.000200</td>\n",
       "      <td>0.003739</td>\n",
       "    </tr>\n",
       "    <tr>\n",
       "      <th>41</th>\n",
       "      <td>0.000182</td>\n",
       "      <td>0.000488</td>\n",
       "      <td>0.000208</td>\n",
       "      <td>0.003712</td>\n",
       "    </tr>\n",
       "  </tbody>\n",
       "</table>\n",
       "</div>"
      ],
      "text/plain": [
       "    diff_first_second_mean  diff_to_X0  diff_to_mean      mean\n",
       "36                0.000004    0.000395      0.000089  0.003805\n",
       "37                0.000024    0.000404      0.000129  0.003796\n",
       "38                0.000050    0.000418      0.000169  0.003782\n",
       "39                0.000090    0.000437      0.000195  0.003763\n",
       "40                0.000140    0.000461      0.000200  0.003739\n",
       "41                0.000182    0.000488      0.000208  0.003712"
      ]
     },
     "execution_count": 51,
     "metadata": {},
     "output_type": "execute_result"
    }
   ],
   "source": [
    "trajec1_Y1[['diff_first_second_mean', 'diff_to_X0', 'diff_to_mean', 'mean']]"
   ]
  },
  {
   "cell_type": "code",
   "execution_count": 52,
   "metadata": {},
   "outputs": [
    {
     "data": {
      "text/html": [
       "<div>\n",
       "<style>\n",
       "    .dataframe thead tr:only-child th {\n",
       "        text-align: right;\n",
       "    }\n",
       "\n",
       "    .dataframe thead th {\n",
       "        text-align: left;\n",
       "    }\n",
       "\n",
       "    .dataframe tbody tr th {\n",
       "        vertical-align: top;\n",
       "    }\n",
       "</style>\n",
       "<table border=\"1\" class=\"dataframe\">\n",
       "  <thead>\n",
       "    <tr style=\"text-align: right;\">\n",
       "      <th></th>\n",
       "      <th>diff_first_second_mean</th>\n",
       "      <th>diff_to_X0</th>\n",
       "      <th>diff_to_mean</th>\n",
       "      <th>mean</th>\n",
       "    </tr>\n",
       "  </thead>\n",
       "  <tbody>\n",
       "    <tr>\n",
       "      <th>21</th>\n",
       "      <td>7.841371e-06</td>\n",
       "      <td>0.000402</td>\n",
       "      <td>7.402829e-06</td>\n",
       "      <td>0.003798</td>\n",
       "    </tr>\n",
       "    <tr>\n",
       "      <th>22</th>\n",
       "      <td>8.574369e-06</td>\n",
       "      <td>0.000401</td>\n",
       "      <td>1.349353e-06</td>\n",
       "      <td>0.003799</td>\n",
       "    </tr>\n",
       "    <tr>\n",
       "      <th>23</th>\n",
       "      <td>3.895011e-06</td>\n",
       "      <td>0.000400</td>\n",
       "      <td>6.266082e-06</td>\n",
       "      <td>0.003800</td>\n",
       "    </tr>\n",
       "    <tr>\n",
       "      <th>24</th>\n",
       "      <td>4.183606e-06</td>\n",
       "      <td>0.000399</td>\n",
       "      <td>7.416431e-06</td>\n",
       "      <td>0.003801</td>\n",
       "    </tr>\n",
       "    <tr>\n",
       "      <th>25</th>\n",
       "      <td>6.795591e-06</td>\n",
       "      <td>0.000398</td>\n",
       "      <td>1.063706e-06</td>\n",
       "      <td>0.003802</td>\n",
       "    </tr>\n",
       "    <tr>\n",
       "      <th>26</th>\n",
       "      <td>3.286922e-06</td>\n",
       "      <td>0.000397</td>\n",
       "      <td>5.886761e-07</td>\n",
       "      <td>0.003803</td>\n",
       "    </tr>\n",
       "    <tr>\n",
       "      <th>27</th>\n",
       "      <td>1.267889e-06</td>\n",
       "      <td>0.000396</td>\n",
       "      <td>8.082101e-06</td>\n",
       "      <td>0.003804</td>\n",
       "    </tr>\n",
       "    <tr>\n",
       "      <th>28</th>\n",
       "      <td>4.661409e-06</td>\n",
       "      <td>0.000395</td>\n",
       "      <td>1.729430e-06</td>\n",
       "      <td>0.003805</td>\n",
       "    </tr>\n",
       "    <tr>\n",
       "      <th>29</th>\n",
       "      <td>3.386891e-06</td>\n",
       "      <td>0.000395</td>\n",
       "      <td>2.323094e-06</td>\n",
       "      <td>0.003805</td>\n",
       "    </tr>\n",
       "    <tr>\n",
       "      <th>30</th>\n",
       "      <td>5.159545e-08</td>\n",
       "      <td>0.000394</td>\n",
       "      <td>6.510725e-06</td>\n",
       "      <td>0.003806</td>\n",
       "    </tr>\n",
       "    <tr>\n",
       "      <th>31</th>\n",
       "      <td>2.602034e-06</td>\n",
       "      <td>0.000394</td>\n",
       "      <td>2.864465e-06</td>\n",
       "      <td>0.003806</td>\n",
       "    </tr>\n",
       "    <tr>\n",
       "      <th>32</th>\n",
       "      <td>3.896089e-06</td>\n",
       "      <td>0.000394</td>\n",
       "      <td>2.527204e-06</td>\n",
       "      <td>0.003806</td>\n",
       "    </tr>\n",
       "    <tr>\n",
       "      <th>33</th>\n",
       "      <td>4.015008e-08</td>\n",
       "      <td>0.000393</td>\n",
       "      <td>2.752729e-06</td>\n",
       "      <td>0.003807</td>\n",
       "    </tr>\n",
       "    <tr>\n",
       "      <th>34</th>\n",
       "      <td>6.783242e-07</td>\n",
       "      <td>0.000393</td>\n",
       "      <td>4.291335e-06</td>\n",
       "      <td>0.003807</td>\n",
       "    </tr>\n",
       "    <tr>\n",
       "      <th>35</th>\n",
       "      <td>3.598587e-06</td>\n",
       "      <td>0.000393</td>\n",
       "      <td>2.669423e-05</td>\n",
       "      <td>0.003807</td>\n",
       "    </tr>\n",
       "  </tbody>\n",
       "</table>\n",
       "</div>"
      ],
      "text/plain": [
       "    diff_first_second_mean  diff_to_X0  diff_to_mean      mean\n",
       "21            7.841371e-06    0.000402  7.402829e-06  0.003798\n",
       "22            8.574369e-06    0.000401  1.349353e-06  0.003799\n",
       "23            3.895011e-06    0.000400  6.266082e-06  0.003800\n",
       "24            4.183606e-06    0.000399  7.416431e-06  0.003801\n",
       "25            6.795591e-06    0.000398  1.063706e-06  0.003802\n",
       "26            3.286922e-06    0.000397  5.886761e-07  0.003803\n",
       "27            1.267889e-06    0.000396  8.082101e-06  0.003804\n",
       "28            4.661409e-06    0.000395  1.729430e-06  0.003805\n",
       "29            3.386891e-06    0.000395  2.323094e-06  0.003805\n",
       "30            5.159545e-08    0.000394  6.510725e-06  0.003806\n",
       "31            2.602034e-06    0.000394  2.864465e-06  0.003806\n",
       "32            3.896089e-06    0.000394  2.527204e-06  0.003806\n",
       "33            4.015008e-08    0.000393  2.752729e-06  0.003807\n",
       "34            6.783242e-07    0.000393  4.291335e-06  0.003807\n",
       "35            3.598587e-06    0.000393  2.669423e-05  0.003807"
      ]
     },
     "execution_count": 52,
     "metadata": {},
     "output_type": "execute_result"
    }
   ],
   "source": [
    "trajec1_Y0[['diff_first_second_mean', 'diff_to_X0', 'diff_to_mean', 'mean']]"
   ]
  },
  {
   "cell_type": "code",
   "execution_count": null,
   "metadata": {
    "collapsed": true
   },
   "outputs": [],
   "source": []
  },
  {
   "cell_type": "code",
   "execution_count": null,
   "metadata": {
    "collapsed": true
   },
   "outputs": [],
   "source": []
  },
  {
   "cell_type": "code",
   "execution_count": null,
   "metadata": {
    "collapsed": true
   },
   "outputs": [],
   "source": []
  },
  {
   "cell_type": "markdown",
   "metadata": {},
   "source": [
    "### Equilibrer les classes \n",
    "\n",
    "Il est important d'équilibrer les classes, i.e. avoir autant de données avec Y=1 et Y=0 pour entrainer un classifieur."
   ]
  },
  {
   "cell_type": "code",
   "execution_count": 112,
   "metadata": {},
   "outputs": [
    {
     "name": "stdout",
     "output_type": "stream",
     "text": [
      "[0 1]\n",
      "In the original database:\n",
      "Y=1: 346 data\n",
      "Y=0: 1754 data\n"
     ]
    }
   ],
   "source": [
    "print(np.unique(descriptors['Y']))\n",
    "len_Y1 = np.sum(descriptors['Y'])\n",
    "len_Y0 = -np.sum([x - 1 for x in descriptors['Y']])\n",
    "print(\"In the original database:\")\n",
    "print(\"Y=1:\", len_Y1, \"data\")\n",
    "print(\"Y=0:\", len_Y0, \"data\")"
   ]
  },
  {
   "cell_type": "code",
   "execution_count": 16,
   "metadata": {},
   "outputs": [
    {
     "name": "stdout",
     "output_type": "stream",
     "text": [
      "In the new database:\n",
      "Y=1: 346 data\n",
      "Y=0: 346 data\n"
     ]
    }
   ],
   "source": [
    "X1 = descriptors[descriptors['Y'] == 1]\n",
    "X0 = descriptors[descriptors['Y'] == 0]\n",
    "indices = np.random.permutation(range(len(X0)))\n",
    "\n",
    "if len_Y1 < len_Y0:\n",
    "    new_X0 = X0.iloc[indices[:len_Y1]]\n",
    "    new_X1 = X1\n",
    "else:\n",
    "    new_X0 = X0\n",
    "    new_X1 = X1.iloc[indices[:len_Y0]]\n",
    "    \n",
    "new_X = pd.concat((new_X0, new_X1))\n",
    "\n",
    "print(\"In the new database:\")\n",
    "print(\"Y=1:\", np.sum(new_X['Y']), \"data\")\n",
    "print(\"Y=0:\", -np.sum([x - 1 for x in new_X['Y']]), \"data\")"
   ]
  },
  {
   "cell_type": "code",
   "execution_count": 17,
   "metadata": {},
   "outputs": [
    {
     "data": {
      "text/html": [
       "<div>\n",
       "<style>\n",
       "    .dataframe thead tr:only-child th {\n",
       "        text-align: right;\n",
       "    }\n",
       "\n",
       "    .dataframe thead th {\n",
       "        text-align: left;\n",
       "    }\n",
       "\n",
       "    .dataframe tbody tr th {\n",
       "        vertical-align: top;\n",
       "    }\n",
       "</style>\n",
       "<table border=\"1\" class=\"dataframe\">\n",
       "  <thead>\n",
       "    <tr style=\"text-align: right;\">\n",
       "      <th></th>\n",
       "      <th>X</th>\n",
       "      <th>X_1</th>\n",
       "      <th>X_10</th>\n",
       "      <th>X_2</th>\n",
       "      <th>X_3</th>\n",
       "      <th>X_4</th>\n",
       "      <th>X_5</th>\n",
       "      <th>X_6</th>\n",
       "      <th>X_7</th>\n",
       "      <th>X_8</th>\n",
       "      <th>X_9</th>\n",
       "      <th>Y</th>\n",
       "      <th>diff_first_second_mean</th>\n",
       "      <th>diff_to_X0</th>\n",
       "      <th>diff_to_mean</th>\n",
       "      <th>mean</th>\n",
       "      <th>trajec</th>\n",
       "      <th>Y_to_plot</th>\n",
       "    </tr>\n",
       "  </thead>\n",
       "  <tbody>\n",
       "    <tr>\n",
       "      <th>1215</th>\n",
       "      <td>0.004968</td>\n",
       "      <td>0.004977</td>\n",
       "      <td>0.004972</td>\n",
       "      <td>0.004991</td>\n",
       "      <td>0.004973</td>\n",
       "      <td>0.004973</td>\n",
       "      <td>0.004987</td>\n",
       "      <td>0.004983</td>\n",
       "      <td>0.004971</td>\n",
       "      <td>0.004983</td>\n",
       "      <td>0.004992</td>\n",
       "      <td>0</td>\n",
       "      <td>6.867930e-08</td>\n",
       "      <td>0.000780</td>\n",
       "      <td>0.000012</td>\n",
       "      <td>0.004980</td>\n",
       "      <td>57</td>\n",
       "      <td>0.0</td>\n",
       "    </tr>\n",
       "    <tr>\n",
       "      <th>1441</th>\n",
       "      <td>0.005098</td>\n",
       "      <td>0.005094</td>\n",
       "      <td>0.005105</td>\n",
       "      <td>0.005081</td>\n",
       "      <td>0.005094</td>\n",
       "      <td>0.005103</td>\n",
       "      <td>0.005082</td>\n",
       "      <td>0.005091</td>\n",
       "      <td>0.005107</td>\n",
       "      <td>0.005089</td>\n",
       "      <td>0.005090</td>\n",
       "      <td>0</td>\n",
       "      <td>5.713101e-06</td>\n",
       "      <td>0.000893</td>\n",
       "      <td>0.000004</td>\n",
       "      <td>0.005093</td>\n",
       "      <td>68</td>\n",
       "      <td>0.0</td>\n",
       "    </tr>\n",
       "    <tr>\n",
       "      <th>1335</th>\n",
       "      <td>0.003964</td>\n",
       "      <td>0.003958</td>\n",
       "      <td>0.003962</td>\n",
       "      <td>0.003964</td>\n",
       "      <td>0.003967</td>\n",
       "      <td>0.003957</td>\n",
       "      <td>0.003961</td>\n",
       "      <td>0.003968</td>\n",
       "      <td>0.003958</td>\n",
       "      <td>0.003958</td>\n",
       "      <td>0.003964</td>\n",
       "      <td>0</td>\n",
       "      <td>6.705165e-07</td>\n",
       "      <td>0.000238</td>\n",
       "      <td>0.000003</td>\n",
       "      <td>0.003962</td>\n",
       "      <td>63</td>\n",
       "      <td>0.0</td>\n",
       "    </tr>\n",
       "    <tr>\n",
       "      <th>645</th>\n",
       "      <td>0.004972</td>\n",
       "      <td>0.004972</td>\n",
       "      <td>0.004977</td>\n",
       "      <td>0.004986</td>\n",
       "      <td>0.004982</td>\n",
       "      <td>0.004970</td>\n",
       "      <td>0.004982</td>\n",
       "      <td>0.004991</td>\n",
       "      <td>0.004971</td>\n",
       "      <td>0.004980</td>\n",
       "      <td>0.004994</td>\n",
       "      <td>0</td>\n",
       "      <td>3.750312e-06</td>\n",
       "      <td>0.000780</td>\n",
       "      <td>0.000008</td>\n",
       "      <td>0.004980</td>\n",
       "      <td>30</td>\n",
       "      <td>0.0</td>\n",
       "    </tr>\n",
       "    <tr>\n",
       "      <th>2005</th>\n",
       "      <td>0.004257</td>\n",
       "      <td>0.004262</td>\n",
       "      <td>0.004257</td>\n",
       "      <td>0.004249</td>\n",
       "      <td>0.004255</td>\n",
       "      <td>0.004263</td>\n",
       "      <td>0.004252</td>\n",
       "      <td>0.004252</td>\n",
       "      <td>0.004260</td>\n",
       "      <td>0.004257</td>\n",
       "      <td>0.004250</td>\n",
       "      <td>0</td>\n",
       "      <td>9.299692e-07</td>\n",
       "      <td>0.000056</td>\n",
       "      <td>0.000002</td>\n",
       "      <td>0.004256</td>\n",
       "      <td>95</td>\n",
       "      <td>0.0</td>\n",
       "    </tr>\n",
       "  </tbody>\n",
       "</table>\n",
       "</div>"
      ],
      "text/plain": [
       "             X       X_1      X_10       X_2       X_3       X_4       X_5  \\\n",
       "1215  0.004968  0.004977  0.004972  0.004991  0.004973  0.004973  0.004987   \n",
       "1441  0.005098  0.005094  0.005105  0.005081  0.005094  0.005103  0.005082   \n",
       "1335  0.003964  0.003958  0.003962  0.003964  0.003967  0.003957  0.003961   \n",
       "645   0.004972  0.004972  0.004977  0.004986  0.004982  0.004970  0.004982   \n",
       "2005  0.004257  0.004262  0.004257  0.004249  0.004255  0.004263  0.004252   \n",
       "\n",
       "           X_6       X_7       X_8       X_9  Y  diff_first_second_mean  \\\n",
       "1215  0.004983  0.004971  0.004983  0.004992  0            6.867930e-08   \n",
       "1441  0.005091  0.005107  0.005089  0.005090  0            5.713101e-06   \n",
       "1335  0.003968  0.003958  0.003958  0.003964  0            6.705165e-07   \n",
       "645   0.004991  0.004971  0.004980  0.004994  0            3.750312e-06   \n",
       "2005  0.004252  0.004260  0.004257  0.004250  0            9.299692e-07   \n",
       "\n",
       "      diff_to_X0  diff_to_mean      mean  trajec  Y_to_plot  \n",
       "1215    0.000780      0.000012  0.004980      57        0.0  \n",
       "1441    0.000893      0.000004  0.005093      68        0.0  \n",
       "1335    0.000238      0.000003  0.003962      63        0.0  \n",
       "645     0.000780      0.000008  0.004980      30        0.0  \n",
       "2005    0.000056      0.000002  0.004256      95        0.0  "
      ]
     },
     "execution_count": 17,
     "metadata": {},
     "output_type": "execute_result"
    }
   ],
   "source": [
    "new_X.head()"
   ]
  },
  {
   "cell_type": "markdown",
   "metadata": {},
   "source": [
    "# Classification"
   ]
  },
  {
   "cell_type": "code",
   "execution_count": null,
   "metadata": {
    "collapsed": true
   },
   "outputs": [],
   "source": []
  },
  {
   "cell_type": "markdown",
   "metadata": {},
   "source": [
    "#### Choose descriptors"
   ]
  },
  {
   "cell_type": "code",
   "execution_count": 18,
   "metadata": {},
   "outputs": [
    {
     "name": "stdout",
     "output_type": "stream",
     "text": [
      "Available descriptors: ['X_1', 'X_10', 'X_2', 'X_3', 'X_4', 'X_5', 'X_6', 'X_7', 'X_8', 'X_9', 'diff_first_second_mean', 'diff_to_X0', 'diff_to_mean', 'mean']\n"
     ]
    }
   ],
   "source": [
    "print(\"Available descriptors:\", name_descriptors)"
   ]
  },
  {
   "cell_type": "code",
   "execution_count": 78,
   "metadata": {
    "collapsed": true
   },
   "outputs": [],
   "source": [
    "# Choose a list of descriptors:\n",
    "list_descriptors = ['diff_to_mean', 'X']"
   ]
  },
  {
   "cell_type": "markdown",
   "metadata": {},
   "source": [
    "#### Separate data in test and train set"
   ]
  },
  {
   "cell_type": "code",
   "execution_count": 79,
   "metadata": {},
   "outputs": [
    {
     "name": "stdout",
     "output_type": "stream",
     "text": [
      "69 data in the test set and 623 in the train set\n"
     ]
    }
   ],
   "source": [
    "X_data = np.array(new_X[list_descriptors])\n",
    "Y_data = np.array(new_X['Y'])\n",
    "\n",
    "# Separate train / test\n",
    "pct_test = 0.1\n",
    "nb_test = int(pct_test * len(X_data))\n",
    "print(\"{} data in the test set and {} in the train set\".format(nb_test, len(X_data) - nb_test))\n",
    "indices = np.random.permutation(range(len(X_data)))\n",
    "\n",
    "X_test = X_data[indices[:nb_test]]\n",
    "Y_test = Y_data[indices[:nb_test]]\n",
    "\n",
    "X_train = X_data[indices[nb_test:]]\n",
    "Y_train = Y_data[indices[nb_test:]]"
   ]
  },
  {
   "cell_type": "code",
   "execution_count": 102,
   "metadata": {},
   "outputs": [
    {
     "name": "stdout",
     "output_type": "stream",
     "text": [
      "(623, 2)\n"
     ]
    }
   ],
   "source": [
    "print(np.shape(X_train))"
   ]
  },
  {
   "cell_type": "code",
   "execution_count": 89,
   "metadata": {},
   "outputs": [
    {
     "data": {
      "image/png": "[encoded data removed]",
      "text/plain": [
       "<matplotlib.figure.Figure at 0x1f867c38588>"
      ]
     },
     "metadata": {},
     "output_type": "display_data"
    }
   ],
   "source": [
    "plt.plot(X_Y0[:, 0], color='b')\n",
    "plt.plot(X_Y1[:, 0], color='r')\n",
    "\n",
    "plt.show()"
   ]
  },
  {
   "cell_type": "code",
   "execution_count": 101,
   "metadata": {},
   "outputs": [
    {
     "name": "stdout",
     "output_type": "stream",
     "text": [
      "Score 100.0%\n"
     ]
    }
   ],
   "source": [
    "Y_predict = X_test[:, 0] > 0.00004\n",
    "Y_predict = [int(y) for y in Y_predict]\n",
    "\n",
    "# Score\n",
    "print(\"Score {}%\".format(round(np.sum(Y_predict == Y_test) / len(Y_test) * 100, 2)))"
   ]
  },
  {
   "cell_type": "markdown",
   "metadata": {},
   "source": [
    "## Test several classifiers"
   ]
  },
  {
   "cell_type": "code",
   "execution_count": 108,
   "metadata": {
    "collapsed": true
   },
   "outputs": [],
   "source": [
    "def test_classif_model(model, X_train, Y_train, X_test, Y_test):\n",
    "    \n",
    "    model.fit(X_train, Y_train)\n",
    "\n",
    "    score_train = model.score(X_train, Y_train)\n",
    "    print(\"Score on train set: {}%\".format(round(score_train*100, 3)))\n",
    "    score_test = model.score(X_test, Y_test)\n",
    "    print(\"Score on test set: {}%\".format(round(score_test*100, 3)))"
   ]
  },
  {
   "cell_type": "code",
   "execution_count": 110,
   "metadata": {},
   "outputs": [
    {
     "name": "stdout",
     "output_type": "stream",
     "text": [
      "-- Linear SVM --\n",
      "Score on train set: 50.722%\n",
      "Score on test set: 43.478%\n",
      "-- Logistic Regression --\n",
      "Score on train set: 50.722%\n",
      "Score on test set: 43.478%\n",
      "-- Trees --\n",
      "Score on train set: 100.0%\n",
      "Score on test set: 100.0%\n"
     ]
    }
   ],
   "source": [
    "# Classification using a SVM (Support Vector Machine)\n",
    "print(\"-- Linear SVM --\")\n",
    "lin_clf = svm.SVC()\n",
    "test_classif_model(lin_clf, X_train, Y_train, X_test, Y_test)\n",
    "\n",
    "print(\"-- Logistic Regression --\")\n",
    "logreg = LogisticRegression()\n",
    "test_classif_model(logreg, X_train, Y_train, X_test, Y_test)\n",
    "\n",
    "print(\"-- Trees --\")\n",
    "TreeClassif = sklearn.tree.DecisionTreeClassifier()\n",
    "test_classif_model(TreeClassif, X_train, Y_train, X_test, Y_test)"
   ]
  },
  {
   "cell_type": "markdown",
   "metadata": {},
   "source": [
    "** Résultats** (sur les données de test)\n",
    "* Juste **diff_to_mean**: 46%\n",
    "* 10 données passées: 49%\n",
    "* **diff_first_second_mean**: 42-44%"
   ]
  },
  {
   "cell_type": "code",
   "execution_count": 23,
   "metadata": {},
   "outputs": [
    {
     "data": {
      "text/plain": [
       "array([[ 0.03836208, -0.06875177, -0.06875177]])"
      ]
     },
     "execution_count": 23,
     "metadata": {},
     "output_type": "execute_result"
    }
   ],
   "source": [
    "# Coefficients de la regression logistique...\n",
    "logreg.coef_"
   ]
  },
  {
   "cell_type": "code",
   "execution_count": 24,
   "metadata": {
    "collapsed": true
   },
   "outputs": [],
   "source": [
    "test = logreg.predict(X_test)"
   ]
  },
  {
   "cell_type": "code",
   "execution_count": 25,
   "metadata": {},
   "outputs": [
    {
     "data": {
      "text/plain": [
       "array([1], dtype=int64)"
      ]
     },
     "execution_count": 25,
     "metadata": {},
     "output_type": "execute_result"
    }
   ],
   "source": [
    "np.unique(test)"
   ]
  },
  {
   "cell_type": "code",
   "execution_count": 111,
   "metadata": {},
   "outputs": [
    {
     "ename": "ModuleNotFoundError",
     "evalue": "No module named 'graphviz'",
     "output_type": "error",
     "traceback": [
      "\u001b[1;31m---------------------------------------------------------------------------\u001b[0m",
      "\u001b[1;31mModuleNotFoundError\u001b[0m                       Traceback (most recent call last)",
      "\u001b[1;32m<ipython-input-111-3813d87ba683>\u001b[0m in \u001b[0;36m<module>\u001b[1;34m()\u001b[0m\n\u001b[1;32m----> 1\u001b[1;33m \u001b[1;32mimport\u001b[0m \u001b[0mgraphviz\u001b[0m\u001b[1;33m\u001b[0m\u001b[0m\n\u001b[0m",
      "\u001b[1;31mModuleNotFoundError\u001b[0m: No module named 'graphviz'"
     ]
    }
   ],
   "source": [
    "import graphviz"
   ]
  },
  {
   "cell_type": "code",
   "execution_count": 144,
   "metadata": {},
   "outputs": [
    {
     "name": "stdout",
     "output_type": "stream",
     "text": [
      "Seuil: 2.8e-05\n"
     ]
    },
    {
     "data": {
      "text/plain": [
       "(0, 1)"
      ]
     },
     "execution_count": 144,
     "metadata": {},
     "output_type": "execute_result"
    }
   ],
   "source": [
    "# find threshold\n",
    "\n",
    "for i in range(1000):\n",
    "    test = TreeClassif.predict([[(i/100)*10**(-5), 100]])\n",
    "    if test[0] == 1:\n",
    "        seuil = (i/100)*10**(-5)\n",
    "        print(\"Seuil:\", (i/100)*10**(-5))\n",
    "        break\n",
    "\n",
    "TreeClassif.predict([[seuil - 1e-7, 100]])[0] , TreeClassif.predict([[seuil, 100]])[0]"
   ]
  },
  {
   "cell_type": "code",
   "execution_count": null,
   "metadata": {},
   "outputs": [],
   "source": []
  },
  {
   "cell_type": "code",
   "execution_count": null,
   "metadata": {
    "collapsed": true
   },
   "outputs": [],
   "source": []
  }
 ],
 "metadata": {
  "kernelspec": {
   "display_name": "Python 3",
   "language": "python",
   "name": "python3"
  },
  "language_info": {
   "codemirror_mode": {
    "name": "ipython",
    "version": 3
   },
   "file_extension": ".py",
   "mimetype": "text/x-python",
   "name": "python",
   "nbconvert_exporter": "python",
   "pygments_lexer": "ipython3",
   "version": "3.6.3"
  }
 },
 "nbformat": 4,
 "nbformat_minor": 2
}
