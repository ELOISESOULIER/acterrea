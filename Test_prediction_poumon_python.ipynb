{
 "cells": [
  {
   "cell_type": "code",
   "execution_count": 1,
   "metadata": {},
   "outputs": [],
   "source": [
    "import numpy as np\n",
    "import pandas as pd\n",
    "import matplotlib.pyplot as plt\n",
    "import sklearn\n",
    "%matplotlib inline\n",
    "\n",
    "# Classification\n",
    "from sklearn import tree\n",
    "from sklearn import svm\n",
    "from sklearn.linear_model import LogisticRegression\n",
    "#import xgboost as xgb\n",
    "\n",
    "from descriptor_model import DescriptorModel, plot_two_scales_y"
   ]
  },
  {
   "cell_type": "markdown",
   "metadata": {},
   "source": [
    "## Load data \n",
    "and save them in a DataFrame"
   ]
  },
  {
   "cell_type": "code",
   "execution_count": 2,
   "metadata": {},
   "outputs": [
    {
     "name": "stdout",
     "output_type": "stream",
     "text": [
      "100 simulations with 36 values loaded\n"
     ]
    }
   ],
   "source": [
    "descr = DescriptorModel(\"./data/out_O2_taub.csv\")"
	"## Analyse of the influence of the parameter tau in the prediction"
   ]
  },
  {
   "cell_type": "code",
   "execution_count": 3,
   "metadata": {},
   "outputs": [
    {
     "data": {
      "text/html": [
       "<div>\n",
       "<style>\n",
       "    .dataframe thead tr:only-child th {\n",
       "        text-align: right;\n",
       "    }\n",
       "\n",
       "    .dataframe thead th {\n",
       "        text-align: left;\n",
       "    }\n",
       "\n",
       "    .dataframe tbody tr th {\n",
       "        vertical-align: top;\n",
       "    }\n",
       "</style>\n",
       "<table border=\"1\" class=\"dataframe\">\n",
       "  <thead>\n",
       "    <tr style=\"text-align: right;\">\n",
       "      <th></th>\n",
       "      <th>Unnamed: 0</th>\n",
       "      <th>V1</th>\n",
       "      <th>V2</th>\n",
       "      <th>V3</th>\n",
       "      <th>V4</th>\n",
       "      <th>V5</th>\n",
       "      <th>V6</th>\n",
       "      <th>V7</th>\n",
       "      <th>V8</th>\n",
       "      <th>V9</th>\n",
       "      <th>...</th>\n",
       "      <th>V91</th>\n",
       "      <th>V92</th>\n",
       "      <th>V93</th>\n",
       "      <th>V94</th>\n",
       "      <th>V95</th>\n",
       "      <th>V96</th>\n",
       "      <th>V97</th>\n",
       "      <th>V98</th>\n",
       "      <th>V99</th>\n",
       "      <th>V100</th>\n",
       "    </tr>\n",
       "  </thead>\n",
       "  <tbody>\n",
       "    <tr>\n",
       "      <th>0</th>\n",
       "      <td>4</td>\n",
       "      <td>0.004520</td>\n",
       "      <td>0.003805</td>\n",
       "      <td>0.002963</td>\n",
       "      <td>0.003026</td>\n",
       "      <td>0.002770</td>\n",
       "      <td>0.002742</td>\n",
       "      <td>0.002827</td>\n",
       "      <td>0.002870</td>\n",
       "      <td>0.002844</td>\n",
       "      <td>...</td>\n",
       "      <td>0.003751</td>\n",
       "      <td>0.004329</td>\n",
       "      <td>0.003070</td>\n",
       "      <td>0.003132</td>\n",
       "      <td>0.003106</td>\n",
       "      <td>0.002617</td>\n",
       "      <td>0.003351</td>\n",
       "      <td>0.003112</td>\n",
       "      <td>0.003108</td>\n",
       "      <td>0.003107</td>\n",
       "    </tr>\n",
       "    <tr>\n",
       "      <th>1</th>\n",
       "      <td>5</td>\n",
       "      <td>0.004541</td>\n",
       "      <td>0.003759</td>\n",
       "      <td>0.003020</td>\n",
       "      <td>0.003029</td>\n",
       "      <td>0.002728</td>\n",
       "      <td>0.002754</td>\n",
       "      <td>0.002825</td>\n",
       "      <td>0.002839</td>\n",
       "      <td>0.002919</td>\n",
       "      <td>...</td>\n",
       "      <td>0.003731</td>\n",
       "      <td>0.004335</td>\n",
       "      <td>0.003094</td>\n",
       "      <td>0.003092</td>\n",
       "      <td>0.003097</td>\n",
       "      <td>0.002671</td>\n",
       "      <td>0.003345</td>\n",
       "      <td>0.003046</td>\n",
       "      <td>0.003043</td>\n",
       "      <td>0.003067</td>\n",
       "    </tr>\n",
       "    <tr>\n",
       "      <th>2</th>\n",
       "      <td>6</td>\n",
       "      <td>0.004524</td>\n",
       "      <td>0.003765</td>\n",
       "      <td>0.003001</td>\n",
       "      <td>0.002971</td>\n",
       "      <td>0.002779</td>\n",
       "      <td>0.002781</td>\n",
       "      <td>0.002839</td>\n",
       "      <td>0.002847</td>\n",
       "      <td>0.002808</td>\n",
       "      <td>...</td>\n",
       "      <td>0.003808</td>\n",
       "      <td>0.004420</td>\n",
       "      <td>0.003080</td>\n",
       "      <td>0.003134</td>\n",
       "      <td>0.003111</td>\n",
       "      <td>0.002617</td>\n",
       "      <td>0.003403</td>\n",
       "      <td>0.003071</td>\n",
       "      <td>0.003081</td>\n",
       "      <td>0.003097</td>\n",
       "    </tr>\n",
       "    <tr>\n",
       "      <th>3</th>\n",
       "      <td>7</td>\n",
       "      <td>0.004571</td>\n",
       "      <td>0.003769</td>\n",
       "      <td>0.002993</td>\n",
       "      <td>0.003043</td>\n",
       "      <td>0.002756</td>\n",
       "      <td>0.002772</td>\n",
       "      <td>0.002835</td>\n",
       "      <td>0.002866</td>\n",
       "      <td>0.002869</td>\n",
       "      <td>...</td>\n",
       "      <td>0.003824</td>\n",
       "      <td>0.004414</td>\n",
       "      <td>0.003105</td>\n",
       "      <td>0.003093</td>\n",
       "      <td>0.003101</td>\n",
       "      <td>0.002660</td>\n",
       "      <td>0.003378</td>\n",
       "      <td>0.003066</td>\n",
       "      <td>0.003081</td>\n",
       "      <td>0.003105</td>\n",
       "    </tr>\n",
       "    <tr>\n",
       "      <th>4</th>\n",
       "      <td>8</td>\n",
       "      <td>0.004488</td>\n",
       "      <td>0.003756</td>\n",
       "      <td>0.003018</td>\n",
       "      <td>0.003049</td>\n",
       "      <td>0.002769</td>\n",
       "      <td>0.002768</td>\n",
       "      <td>0.002879</td>\n",
       "      <td>0.002858</td>\n",
       "      <td>0.002880</td>\n",
       "      <td>...</td>\n",
       "      <td>0.003802</td>\n",
       "      <td>0.004394</td>\n",
       "      <td>0.003112</td>\n",
       "      <td>0.003090</td>\n",
       "      <td>0.003137</td>\n",
       "      <td>0.002673</td>\n",
       "      <td>0.003342</td>\n",
       "      <td>0.003071</td>\n",
       "      <td>0.003125</td>\n",
       "      <td>0.003078</td>\n",
       "    </tr>\n",
       "  </tbody>\n",
       "</table>\n",
       "<p>5 rows × 101 columns</p>\n",
       "</div>"
      ],
      "text/plain": [
       "   Unnamed: 0        V1        V2        V3        V4        V5        V6  \\\n",
       "0           4  0.004520  0.003805  0.002963  0.003026  0.002770  0.002742   \n",
       "1           5  0.004541  0.003759  0.003020  0.003029  0.002728  0.002754   \n",
       "2           6  0.004524  0.003765  0.003001  0.002971  0.002779  0.002781   \n",
       "3           7  0.004571  0.003769  0.002993  0.003043  0.002756  0.002772   \n",
       "4           8  0.004488  0.003756  0.003018  0.003049  0.002769  0.002768   \n",
       "\n",
       "         V7        V8        V9    ...          V91       V92       V93  \\\n",
       "0  0.002827  0.002870  0.002844    ...     0.003751  0.004329  0.003070   \n",
       "1  0.002825  0.002839  0.002919    ...     0.003731  0.004335  0.003094   \n",
       "2  0.002839  0.002847  0.002808    ...     0.003808  0.004420  0.003080   \n",
       "3  0.002835  0.002866  0.002869    ...     0.003824  0.004414  0.003105   \n",
       "4  0.002879  0.002858  0.002880    ...     0.003802  0.004394  0.003112   \n",
       "\n",
       "        V94       V95       V96       V97       V98       V99      V100  \n",
       "0  0.003132  0.003106  0.002617  0.003351  0.003112  0.003108  0.003107  \n",
       "1  0.003092  0.003097  0.002671  0.003345  0.003046  0.003043  0.003067  \n",
       "2  0.003134  0.003111  0.002617  0.003403  0.003071  0.003081  0.003097  \n",
       "3  0.003093  0.003101  0.002660  0.003378  0.003066  0.003081  0.003105  \n",
       "4  0.003090  0.003137  0.002673  0.003342  0.003071  0.003125  0.003078  \n",
       "\n",
       "[5 rows x 101 columns]"
      ]
     },
     "execution_count": 3,
     "metadata": {},
     "output_type": "execute_result"
    }
   ],
   "source": [
    "descr.df.head()"
   ]
  },
  {
   "cell_type": "code",
   "execution_count": 4,
   "metadata": {},
   "outputs": [
    {
     "data": {
      "image/png": "iVBORw0KGgoAAAANSUhEUgAAAYoAAAEWCAYAAAB42tAoAAAABHNCSVQICAgIfAhkiAAAAAlwSFlz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\n",
      "text/plain": [
       "<matplotlib.figure.Figure at 0x1f96631e588>"
      ]
     },
     "metadata": {},
     "output_type": "display_data"
    }
   ],
   "source": [
    "descr.plot_some_simulations(20)"
   ]
  },
  {
   "cell_type": "markdown",
   "metadata": {},
   "source": [
    "# Processing X data and compute the accident variable Y"
   ]
  },
  {
   "cell_type": "markdown",
   "metadata": {},
   "source": [
    "### Set the parameters:\n",
    "* **len_X**: the len_x last values of X are taken into account to compute descriptors\n",
    "* **tau**: We want to predict if an accident happens at t + tau\n",
    "\n",
    "The following variables are used to determine the event: \"accident\" that we want to predict:\n",
    "* **thres_mean**: If |mean(X(0), ..., (t-1)) - X(t)| < thres_mean, then there is an accident at t.\n",
    "* **X0_base, thres_gal**: If |X(t) - X0| < thres_gal then there is an accident."
   ]
  },
  {
   "cell_type": "code",
   "execution_count": 5,
   "metadata": {
    "collapsed": true
   },
   "outputs": [],
   "source": [
    "params = {'thres_mean': 1e-4,\n",
    "          'X0_base': 0.0042,\n",
    "          'thres_gal': 0.2}"
   ]
  },
  {
   "cell_type": "code",
   "execution_count": 6,
   "metadata": {},
   "outputs": [
    {
     "name": "stdout",
     "output_type": "stream",
     "text": [
      "len(Y == 1) : 433, len(Y == 0) : 3167\n",
      "12.03% of the points are an accident\n",
      "40 patients over the 100 patients have an accident\n"
     ]
    },
    {
     "data": {
      "text/html": [
       "<div>\n",
       "<style>\n",
       "    .dataframe thead tr:only-child th {\n",
       "        text-align: right;\n",
       "    }\n",
       "\n",
       "    .dataframe thead th {\n",
       "        text-align: left;\n",
       "    }\n",
       "\n",
       "    .dataframe tbody tr th {\n",
       "        vertical-align: top;\n",
       "    }\n",
       "</style>\n",
       "<table border=\"1\" class=\"dataframe\">\n",
       "  <thead>\n",
       "    <tr style=\"text-align: right;\">\n",
       "      <th></th>\n",
       "      <th>X</th>\n",
       "      <th>X_cummean</th>\n",
       "      <th>trajec</th>\n",
       "      <th>X_diff</th>\n",
       "      <th>Y1</th>\n",
       "      <th>Y2</th>\n",
       "      <th>Y</th>\n",
       "    </tr>\n",
       "  </thead>\n",
       "  <tbody>\n",
       "    <tr>\n",
       "      <th>0</th>\n",
       "      <td>0.004520</td>\n",
       "      <td>0.004520</td>\n",
       "      <td>0</td>\n",
       "      <td>0.000000</td>\n",
       "      <td>0</td>\n",
       "      <td>0</td>\n",
       "      <td>0</td>\n",
       "    </tr>\n",
       "    <tr>\n",
       "      <th>1</th>\n",
       "      <td>0.004541</td>\n",
       "      <td>0.004520</td>\n",
       "      <td>0</td>\n",
       "      <td>0.000021</td>\n",
       "      <td>0</td>\n",
       "      <td>0</td>\n",
       "      <td>0</td>\n",
       "    </tr>\n",
       "    <tr>\n",
       "      <th>2</th>\n",
       "      <td>0.004524</td>\n",
       "      <td>0.004531</td>\n",
       "      <td>0</td>\n",
       "      <td>0.000007</td>\n",
       "      <td>0</td>\n",
       "      <td>0</td>\n",
       "      <td>0</td>\n",
       "    </tr>\n",
       "    <tr>\n",
       "      <th>3</th>\n",
       "      <td>0.004571</td>\n",
       "      <td>0.004529</td>\n",
       "      <td>0</td>\n",
       "      <td>0.000043</td>\n",
       "      <td>0</td>\n",
       "      <td>0</td>\n",
       "      <td>0</td>\n",
       "    </tr>\n",
       "    <tr>\n",
       "      <th>4</th>\n",
       "      <td>0.004488</td>\n",
       "      <td>0.004539</td>\n",
       "      <td>0</td>\n",
       "      <td>0.000051</td>\n",
       "      <td>0</td>\n",
       "      <td>0</td>\n",
       "      <td>0</td>\n",
       "    </tr>\n",
       "  </tbody>\n",
       "</table>\n",
       "</div>"
      ],
      "text/plain": [
       "          X  X_cummean  trajec    X_diff  Y1  Y2  Y\n",
       "0  0.004520   0.004520       0  0.000000   0   0  0\n",
       "1  0.004541   0.004520       0  0.000021   0   0  0\n",
       "2  0.004524   0.004531       0  0.000007   0   0  0\n",
       "3  0.004571   0.004529       0  0.000043   0   0  0\n",
       "4  0.004488   0.004539       0  0.000051   0   0  0"
      ]
     },
     "execution_count": 6,
     "metadata": {},
     "output_type": "execute_result"
    }
   ],
   "source": [
    "descr.process_var(params)\n",
    "\n",
    "print(\"len(Y == 1) : {}, len(Y == 0) : {}\".format(descr.data['Y'].sum(), len(descr.data) - descr.data['Y'].sum()))\n",
    "\n",
    "print(\"{}% of the points are an accident\".format(round(np.sum(descr.data['Y'])/ len(descr.data) * 100, 2)))\n",
    "print(\"{} patients over the {} patients have an accident\".format(len(descr.data[descr.data['Y'] == 1]['trajec'].unique()), descr.nb_sim))\n",
    "\n",
    "descr.data.head()"
   ]
  },
  {
   "cell_type": "markdown",
   "metadata": {
    "collapsed": true
   },
   "source": [
    "* **trajec** is the number of the trajectory. When the number change, the value correspond to a new person."
   ]
  },
  {
   "cell_type": "code",
   "execution_count": 7,
   "metadata": {},
   "outputs": [],
   "source": [
    "trajec_with_accident = np.unique(descr.data[descr.data['Y'] == 1]['trajec'])"
   ]
  },
  {
   "cell_type": "code",
   "execution_count": 8,
   "metadata": {},
   "outputs": [
    {
     "data": {
      "image/png": "iVBORw0KGgoAAAANSUhEUgAAAagAAAEYCAYAAAAJeGK1AAAABHNCSVQICAgIfAhkiAAAAAlwSFlz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\nMSaULEEZY4wJJUtQxhhjQun/A6NWyY3G6agjAAAAAElFTkSuQmCC\n",
      "text/plain": [
       "<matplotlib.figure.Figure at 0x1f96a18a4e0>"
      ]
     },
     "metadata": {},
     "output_type": "display_data"
    }
   ],
   "source": [
    "plot_two_scales_y(descr.data[descr.data['trajec'] == trajec_with_accident[0]]['X'],\n",
    "                  descr.data[descr.data['trajec'] == trajec_with_accident[0]]['Y'],\n",
    "                  title='', x_label='time', y_label1='X', y_label2='Y',\n",
    "                  label1='X', label2='Y computed')"
   ]
  },
  {
   "cell_type": "code",
   "execution_count": null,
   "metadata": {},
   "outputs": [],
   "source": []
  },
  {
   "cell_type": "markdown",
   "metadata": {},
   "source": [
    "## Compute descriptors on X data"
   ]
  },
  {
   "cell_type": "code",
   "execution_count": 9,
   "metadata": {},
   "outputs": [
    {
     "name": "stdout",
     "output_type": "stream",
     "text": [
      "The descriptors computed are: ['mean', 'diff_to_mean', 'diff_first_second_mean', 'diff_to_X0', 'actual_evolution', 'past_evolution', 'mean_past_evolution', 'X_1', 'X_2', 'X_3', 'X_4', 'X_5', 'X_6', 'X_7', 'X_8', 'X_9', 'X_10']\n",
      "100 trajectories of length 36\n"
     ]
    }
   ],
   "source": [
    "descr.compute_descriptors(tau=5, len_X=10)"
   ]
  },
  {
   "cell_type": "code",
   "execution_count": 10,
   "metadata": {
    "scrolled": true
   },
   "outputs": [
    {
     "data": {
      "image/png": "iVBORw0KGgoAAAANSUhEUgAAAagAAAEYCAYAAAAJeGK1AAAABHNCSVQICAgIfAhkiAAAAAlwSFlz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\nMSYlWYIyxhiTkixBGWOMSUn/DwQz98cZSXrpAAAAAElFTkSuQmCC\n",
      "text/plain": [
       "<matplotlib.figure.Figure at 0x1f96a032438>"
      ]
     },
     "metadata": {},
     "output_type": "display_data"
    }
   ],
   "source": [
    "plot_two_scales_y(descr.descriptors[descr.descriptors['trajec'] == trajec_with_accident[1]]['X'],\n",
    "                  descr.descriptors[descr.descriptors['trajec'] == trajec_with_accident[1]]['Y_to_predict'],\n",
    "                  title='', x_label='time', y_label1='X', y_label2='Y + tau',\n",
    "                  label1='X', label2='Y + tau (to predict)')"
   ]
  },
  {
   "cell_type": "code",
   "execution_count": null,
   "metadata": {},
   "outputs": [],
   "source": []
  },
  {
   "cell_type": "markdown",
   "metadata": {},
   "source": [
    "### Correlation coefficients"
   ]
  },
  {
   "cell_type": "code",
   "execution_count": 11,
   "metadata": {},
   "outputs": [
    {
     "name": "stdout",
     "output_type": "stream",
     "text": [
      "Correlation coefficients between the variables:\n"
     ]
    },
    {
     "data": {
      "text/html": [
       "<div>\n",
       "<style>\n",
       "    .dataframe thead tr:only-child th {\n",
       "        text-align: right;\n",
       "    }\n",
       "\n",
       "    .dataframe thead th {\n",
       "        text-align: left;\n",
       "    }\n",
       "\n",
       "    .dataframe tbody tr th {\n",
       "        vertical-align: top;\n",
       "    }\n",
       "</style>\n",
       "<table border=\"1\" class=\"dataframe\">\n",
       "  <thead>\n",
       "    <tr style=\"text-align: right;\">\n",
       "      <th></th>\n",
       "      <th>mean</th>\n",
       "      <th>diff_to_mean</th>\n",
       "      <th>diff_first_second_mean</th>\n",
       "      <th>diff_to_X0</th>\n",
       "      <th>actual_evolution</th>\n",
       "      <th>mean_past_evolution</th>\n",
       "      <th>Y</th>\n",
       "      <th>Y_to_predict</th>\n",
       "    </tr>\n",
       "  </thead>\n",
       "  <tbody>\n",
       "    <tr>\n",
       "      <th>mean</th>\n",
       "      <td>1.000000</td>\n",
       "      <td>0.134704</td>\n",
       "      <td>0.096846</td>\n",
       "      <td>-0.952739</td>\n",
       "      <td>-0.125342</td>\n",
       "      <td>-0.127570</td>\n",
       "      <td>0.086815</td>\n",
       "      <td>0.106578</td>\n",
       "    </tr>\n",
       "    <tr>\n",
       "      <th>diff_to_mean</th>\n",
       "      <td>0.134704</td>\n",
       "      <td>1.000000</td>\n",
       "      <td>0.839924</td>\n",
       "      <td>-0.156952</td>\n",
       "      <td>-0.128706</td>\n",
       "      <td>-0.277525</td>\n",
       "      <td>0.812988</td>\n",
       "      <td>0.600147</td>\n",
       "    </tr>\n",
       "    <tr>\n",
       "      <th>diff_first_second_mean</th>\n",
       "      <td>0.096846</td>\n",
       "      <td>0.839924</td>\n",
       "      <td>1.000000</td>\n",
       "      <td>-0.131517</td>\n",
       "      <td>-0.060220</td>\n",
       "      <td>-0.306913</td>\n",
       "      <td>0.697307</td>\n",
       "      <td>0.499156</td>\n",
       "    </tr>\n",
       "    <tr>\n",
       "      <th>diff_to_X0</th>\n",
       "      <td>-0.952739</td>\n",
       "      <td>-0.156952</td>\n",
       "      <td>-0.131517</td>\n",
       "      <td>1.000000</td>\n",
       "      <td>0.117368</td>\n",
       "      <td>0.128929</td>\n",
       "      <td>-0.119507</td>\n",
       "      <td>-0.130440</td>\n",
       "    </tr>\n",
       "    <tr>\n",
       "      <th>actual_evolution</th>\n",
       "      <td>-0.125342</td>\n",
       "      <td>-0.128706</td>\n",
       "      <td>-0.060220</td>\n",
       "      <td>0.117368</td>\n",
       "      <td>1.000000</td>\n",
       "      <td>0.226221</td>\n",
       "      <td>-0.042202</td>\n",
       "      <td>-0.027539</td>\n",
       "    </tr>\n",
       "    <tr>\n",
       "      <th>mean_past_evolution</th>\n",
       "      <td>-0.127570</td>\n",
       "      <td>-0.277525</td>\n",
       "      <td>-0.306913</td>\n",
       "      <td>0.128929</td>\n",
       "      <td>0.226221</td>\n",
       "      <td>1.000000</td>\n",
       "      <td>-0.053589</td>\n",
       "      <td>-0.049211</td>\n",
       "    </tr>\n",
       "    <tr>\n",
       "      <th>Y</th>\n",
       "      <td>0.086815</td>\n",
       "      <td>0.812988</td>\n",
       "      <td>0.697307</td>\n",
       "      <td>-0.119507</td>\n",
       "      <td>-0.042202</td>\n",
       "      <td>-0.053589</td>\n",
       "      <td>1.000000</td>\n",
       "      <td>0.714796</td>\n",
       "    </tr>\n",
       "    <tr>\n",
       "      <th>Y_to_predict</th>\n",
       "      <td>0.106578</td>\n",
       "      <td>0.600147</td>\n",
       "      <td>0.499156</td>\n",
       "      <td>-0.130440</td>\n",
       "      <td>-0.027539</td>\n",
       "      <td>-0.049211</td>\n",
       "      <td>0.714796</td>\n",
       "      <td>1.000000</td>\n",
       "    </tr>\n",
       "  </tbody>\n",
       "</table>\n",
       "</div>"
      ],
      "text/plain": [
       "                            mean  diff_to_mean  diff_first_second_mean  \\\n",
       "mean                    1.000000      0.134704                0.096846   \n",
       "diff_to_mean            0.134704      1.000000                0.839924   \n",
       "diff_first_second_mean  0.096846      0.839924                1.000000   \n",
       "diff_to_X0             -0.952739     -0.156952               -0.131517   \n",
       "actual_evolution       -0.125342     -0.128706               -0.060220   \n",
       "mean_past_evolution    -0.127570     -0.277525               -0.306913   \n",
       "Y                       0.086815      0.812988                0.697307   \n",
       "Y_to_predict            0.106578      0.600147                0.499156   \n",
       "\n",
       "                        diff_to_X0  actual_evolution  mean_past_evolution  \\\n",
       "mean                     -0.952739         -0.125342            -0.127570   \n",
       "diff_to_mean             -0.156952         -0.128706            -0.277525   \n",
       "diff_first_second_mean   -0.131517         -0.060220            -0.306913   \n",
       "diff_to_X0                1.000000          0.117368             0.128929   \n",
       "actual_evolution          0.117368          1.000000             0.226221   \n",
       "mean_past_evolution       0.128929          0.226221             1.000000   \n",
       "Y                        -0.119507         -0.042202            -0.053589   \n",
       "Y_to_predict             -0.130440         -0.027539            -0.049211   \n",
       "\n",
       "                               Y  Y_to_predict  \n",
       "mean                    0.086815      0.106578  \n",
       "diff_to_mean            0.812988      0.600147  \n",
       "diff_first_second_mean  0.697307      0.499156  \n",
       "diff_to_X0             -0.119507     -0.130440  \n",
       "actual_evolution       -0.042202     -0.027539  \n",
       "mean_past_evolution    -0.053589     -0.049211  \n",
       "Y                       1.000000      0.714796  \n",
       "Y_to_predict            0.714796      1.000000  "
      ]
     },
     "execution_count": 11,
     "metadata": {},
     "output_type": "execute_result"
    }
   ],
   "source": [
    "names = [x for x in descr.name_descriptors if x[:2] != 'X_'] + ['Y', 'Y_to_predict']\n",
    "\n",
    "print(\"Correlation coefficients between the variables:\")\n",
    "descr.descriptors[names].corr()"
   ]
  },
  {
   "cell_type": "markdown",
   "metadata": {},
   "source": [
    "**Remarques:**\n",
    "La variable à prédire Y est fortement corrélées avec les deux variables decrivant la différence à la moyenne passée ('diff_to_mean', 'diff_first_second_mean'). Ces deux variables sont aussi corrélées, il vaut mieux choisir l'une des deux."
   ]
  },
  {
   "cell_type": "markdown",
   "metadata": {},
   "source": [
    "# PREDICTION"
   ]
  },
  {
   "cell_type": "code",
   "execution_count": 12,
   "metadata": {},
   "outputs": [],
   "source": [
    "from prediction_model import PredictionModel"
   ]
  },
  {
   "cell_type": "code",
   "execution_count": 13,
   "metadata": {
    "scrolled": true
   },
   "outputs": [
    {
     "name": "stdout",
     "output_type": "stream",
     "text": [
      "Available descriptors: ['mean', 'diff_to_mean', 'diff_first_second_mean', 'diff_to_X0', 'actual_evolution', 'past_evolution', 'mean_past_evolution', 'X_1', 'X_2', 'X_3', 'X_4', 'X_5', 'X_6', 'X_7', 'X_8', 'X_9', 'X_10']\n"
     ]
    }
   ],
   "source": [
    "print(\"Available descriptors:\", descr.name_descriptors)"
   ]
  },
  {
   "cell_type": "code",
   "execution_count": 14,
   "metadata": {
    "scrolled": true
   },
   "outputs": [
    {
     "name": "stdout",
     "output_type": "stream",
     "text": [
      "40 patients in the test set and 60 in the train set\n",
      "Score on train set: 100.0%\n",
      "Score on test set: 97.976%\n",
      "\n",
      "-- METRICS --\n",
      "Nb of patients having an accident: 15\n",
      "13.33% of them (2 patients) have been detected before the accident\n",
      "0.0% of the detected accident where detected at tau (=5), 0.0% is advance and 100.0% with delay\n",
      "0.0% of the detected accident where detected at tau (=5), 0.0% is advance and 100.0% with delay\n",
      "The average delay is 4.0, and the average advance is nan\n"
     ]
    },
    {
     "data": {
      "text/plain": [
       "{'avg_advance': nan,\n",
       " 'avg_delay': 4.0,\n",
       " 'nb_accident': 15,\n",
       " 'nb_advance': 0,\n",
       " 'nb_delay': 2,\n",
       " 'nb_ok': 0,\n",
       " 'nb_prediction': 2}"
      ]
     },
     "execution_count": 14,
     "metadata": {},
     "output_type": "execute_result"
    }
   ],
   "source": [
    "model = PredictionModel(descr.descriptors, tau=5, adjust_classes=False)\n",
    "\n",
    "list_descriptors = ['X', 'diff_to_mean']\n",
    "model.set_train_test_by_patient(list_descriptors, 0.4)\n",
    "\n",
    "tree_classif = tree.DecisionTreeClassifier()\n",
    "_, _ = model.test_classif_model(tree_classif, print_results=True)\n",
    "\n",
    "prediction = model.compute_metrics(tree.DecisionTreeClassifier())\n",
    "model.analyze_prediction(prediction, True)"
   ]
  },
  {
   "cell_type": "code",
   "execution_count": 15,
   "metadata": {},
   "outputs": [
    {
     "data": {
      "text/html": [
       "<div>\n",
       "<style>\n",
       "    .dataframe thead tr:only-child th {\n",
       "        text-align: right;\n",
       "    }\n",
       "\n",
       "    .dataframe thead th {\n",
       "        text-align: left;\n",
       "    }\n",
       "\n",
       "    .dataframe tbody tr th {\n",
       "        vertical-align: top;\n",
       "    }\n",
       "</style>\n",
       "<table border=\"1\" class=\"dataframe\">\n",
       "  <thead>\n",
       "    <tr style=\"text-align: right;\">\n",
       "      <th></th>\n",
       "      <th>accident</th>\n",
       "      <th>accident_tau</th>\n",
       "      <th>id_patient</th>\n",
       "      <th>prediction</th>\n",
       "      <th>prediction_delay</th>\n",
       "      <th>time_of_accident</th>\n",
       "      <th>time_of_accident_tau</th>\n",
       "      <th>time_of_prediction</th>\n",
       "    </tr>\n",
       "  </thead>\n",
       "  <tbody>\n",
       "    <tr>\n",
       "      <th>0</th>\n",
       "      <td>True</td>\n",
       "      <td>True</td>\n",
       "      <td>1</td>\n",
       "      <td>False</td>\n",
       "      <td>NaN</td>\n",
       "      <td>18.0</td>\n",
       "      <td>13.0</td>\n",
       "      <td>18.0</td>\n",
       "    </tr>\n",
       "    <tr>\n",
       "      <th>5</th>\n",
       "      <td>False</td>\n",
       "      <td>True</td>\n",
       "      <td>15</td>\n",
       "      <td>False</td>\n",
       "      <td>NaN</td>\n",
       "      <td>NaN</td>\n",
       "      <td>16.0</td>\n",
       "      <td>NaN</td>\n",
       "    </tr>\n",
       "    <tr>\n",
       "      <th>6</th>\n",
       "      <td>True</td>\n",
       "      <td>True</td>\n",
       "      <td>16</td>\n",
       "      <td>False</td>\n",
       "      <td>NaN</td>\n",
       "      <td>20.0</td>\n",
       "      <td>15.0</td>\n",
       "      <td>20.0</td>\n",
       "    </tr>\n",
       "    <tr>\n",
       "      <th>12</th>\n",
       "      <td>True</td>\n",
       "      <td>True</td>\n",
       "      <td>35</td>\n",
       "      <td>True</td>\n",
       "      <td>4.0</td>\n",
       "      <td>13.0</td>\n",
       "      <td>8.0</td>\n",
       "      <td>12.0</td>\n",
       "    </tr>\n",
       "    <tr>\n",
       "      <th>16</th>\n",
       "      <td>True</td>\n",
       "      <td>True</td>\n",
       "      <td>49</td>\n",
       "      <td>False</td>\n",
       "      <td>NaN</td>\n",
       "      <td>7.0</td>\n",
       "      <td>2.0</td>\n",
       "      <td>7.0</td>\n",
       "    </tr>\n",
       "    <tr>\n",
       "      <th>19</th>\n",
       "      <td>True</td>\n",
       "      <td>True</td>\n",
       "      <td>54</td>\n",
       "      <td>False</td>\n",
       "      <td>NaN</td>\n",
       "      <td>20.0</td>\n",
       "      <td>15.0</td>\n",
       "      <td>20.0</td>\n",
       "    </tr>\n",
       "    <tr>\n",
       "      <th>21</th>\n",
       "      <td>True</td>\n",
       "      <td>True</td>\n",
       "      <td>57</td>\n",
       "      <td>False</td>\n",
       "      <td>NaN</td>\n",
       "      <td>18.0</td>\n",
       "      <td>13.0</td>\n",
       "      <td>18.0</td>\n",
       "    </tr>\n",
       "    <tr>\n",
       "      <th>25</th>\n",
       "      <td>True</td>\n",
       "      <td>True</td>\n",
       "      <td>72</td>\n",
       "      <td>True</td>\n",
       "      <td>4.0</td>\n",
       "      <td>9.0</td>\n",
       "      <td>4.0</td>\n",
       "      <td>8.0</td>\n",
       "    </tr>\n",
       "    <tr>\n",
       "      <th>26</th>\n",
       "      <td>True</td>\n",
       "      <td>True</td>\n",
       "      <td>73</td>\n",
       "      <td>False</td>\n",
       "      <td>NaN</td>\n",
       "      <td>14.0</td>\n",
       "      <td>9.0</td>\n",
       "      <td>14.0</td>\n",
       "    </tr>\n",
       "    <tr>\n",
       "      <th>29</th>\n",
       "      <td>True</td>\n",
       "      <td>True</td>\n",
       "      <td>77</td>\n",
       "      <td>False</td>\n",
       "      <td>NaN</td>\n",
       "      <td>10.0</td>\n",
       "      <td>5.0</td>\n",
       "      <td>10.0</td>\n",
       "    </tr>\n",
       "    <tr>\n",
       "      <th>31</th>\n",
       "      <td>True</td>\n",
       "      <td>True</td>\n",
       "      <td>83</td>\n",
       "      <td>False</td>\n",
       "      <td>NaN</td>\n",
       "      <td>13.0</td>\n",
       "      <td>8.0</td>\n",
       "      <td>13.0</td>\n",
       "    </tr>\n",
       "    <tr>\n",
       "      <th>34</th>\n",
       "      <td>True</td>\n",
       "      <td>True</td>\n",
       "      <td>87</td>\n",
       "      <td>False</td>\n",
       "      <td>NaN</td>\n",
       "      <td>4.0</td>\n",
       "      <td>0.0</td>\n",
       "      <td>4.0</td>\n",
       "    </tr>\n",
       "    <tr>\n",
       "      <th>35</th>\n",
       "      <td>True</td>\n",
       "      <td>True</td>\n",
       "      <td>88</td>\n",
       "      <td>False</td>\n",
       "      <td>NaN</td>\n",
       "      <td>13.0</td>\n",
       "      <td>8.0</td>\n",
       "      <td>13.0</td>\n",
       "    </tr>\n",
       "    <tr>\n",
       "      <th>36</th>\n",
       "      <td>True</td>\n",
       "      <td>True</td>\n",
       "      <td>89</td>\n",
       "      <td>False</td>\n",
       "      <td>NaN</td>\n",
       "      <td>11.0</td>\n",
       "      <td>6.0</td>\n",
       "      <td>11.0</td>\n",
       "    </tr>\n",
       "    <tr>\n",
       "      <th>39</th>\n",
       "      <td>True</td>\n",
       "      <td>True</td>\n",
       "      <td>99</td>\n",
       "      <td>False</td>\n",
       "      <td>NaN</td>\n",
       "      <td>12.0</td>\n",
       "      <td>7.0</td>\n",
       "      <td>12.0</td>\n",
       "    </tr>\n",
       "  </tbody>\n",
       "</table>\n",
       "</div>"
      ],
      "text/plain": [
       "    accident  accident_tau  id_patient  prediction  prediction_delay  \\\n",
       "0       True          True           1       False               NaN   \n",
       "5      False          True          15       False               NaN   \n",
       "6       True          True          16       False               NaN   \n",
       "12      True          True          35        True               4.0   \n",
       "16      True          True          49       False               NaN   \n",
       "19      True          True          54       False               NaN   \n",
       "21      True          True          57       False               NaN   \n",
       "25      True          True          72        True               4.0   \n",
       "26      True          True          73       False               NaN   \n",
       "29      True          True          77       False               NaN   \n",
       "31      True          True          83       False               NaN   \n",
       "34      True          True          87       False               NaN   \n",
       "35      True          True          88       False               NaN   \n",
       "36      True          True          89       False               NaN   \n",
       "39      True          True          99       False               NaN   \n",
       "\n",
       "    time_of_accident  time_of_accident_tau  time_of_prediction  \n",
       "0               18.0                  13.0                18.0  \n",
       "5                NaN                  16.0                 NaN  \n",
       "6               20.0                  15.0                20.0  \n",
       "12              13.0                   8.0                12.0  \n",
       "16               7.0                   2.0                 7.0  \n",
       "19              20.0                  15.0                20.0  \n",
       "21              18.0                  13.0                18.0  \n",
       "25               9.0                   4.0                 8.0  \n",
       "26              14.0                   9.0                14.0  \n",
       "29              10.0                   5.0                10.0  \n",
       "31              13.0                   8.0                13.0  \n",
       "34               4.0                   0.0                 4.0  \n",
       "35              13.0                   8.0                13.0  \n",
       "36              11.0                   6.0                11.0  \n",
       "39              12.0                   7.0                12.0  "
      ]
     },
     "execution_count": 15,
     "metadata": {},
     "output_type": "execute_result"
    }
   ],
   "source": [
    "prediction[prediction['accident_tau']]"
   ]
  },
  {
   "cell_type": "code",
   "execution_count": 16,
   "metadata": {},
   "outputs": [
    {
     "data": {
      "text/plain": [
       "12    4.0\n",
       "25    4.0\n",
       "Name: prediction_delay, dtype: float64"
      ]
     },
     "execution_count": 16,
     "metadata": {},
     "output_type": "execute_result"
    }
   ],
   "source": [
    "prediction[prediction['prediction_delay'] < 5]['prediction_delay']"
   ]
  },
  {
   "cell_type": "code",
   "execution_count": 17,
   "metadata": {},
   "outputs": [
    {
     "data": {
      "image/png": "iVBORw0KGgoAAAANSUhEUgAAAagAAAEYCAYAAAAJeGK1AAAABHNCSVQICAgIfAhkiAAAAAlwSFlz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\n",
      "text/plain": [
       "<matplotlib.figure.Figure at 0x1f96a17c518>"
      ]
     },
     "metadata": {},
     "output_type": "display_data"
    },
    {
     "data": {
      "image/png": "iVBORw0KGgoAAAANSUhEUgAAAXcAAAD8CAYAAACMwORRAAAABHNCSVQICAgIfAhkiAAAAAlwSFlz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\n",
      "text/plain": [
       "<matplotlib.figure.Figure at 0x1f96a591e80>"
      ]
     },
     "metadata": {},
     "output_type": "display_data"
    },
    {
     "data": {
      "text/plain": [
       "array([0, 0, 0, 0, 0, 0, 0, 1, 1, 1, 1, 1, 1, 1, 1, 1, 1, 1, 1, 1, 1], dtype=int64)"
      ]
     },
     "execution_count": 17,
     "metadata": {},
     "output_type": "execute_result"
    }
   ],
   "source": [
    "n = 49\n",
    "plot_two_scales_y(model.descr[model.descr['trajec'] == n]['X'],\n",
    "                  model.descr[model.descr['trajec'] == n]['Y'],\n",
    "                  title='', x_label='time', y_label1='X', y_label2='Y',\n",
    "                  label1='X', label2='Y computed')\n",
    "\n",
    "y_predict = model.regr_model.predict(model.descr[model.descr['trajec'] == n][list_descriptors])\n",
    "plt.plot(y_predict)\n",
    "plt.show()\n",
    "\n",
    "y_predict"
   ]
  },
  {
   "cell_type": "code",
   "execution_count": 18,
   "metadata": {},
   "outputs": [
    {
     "name": "stdout",
     "output_type": "stream",
     "text": [
      "The classes have been adjusted, there is now 247 data in each class\n"
     ]
    }
   ],
   "source": [
    "model = PredictionModel(descr.descriptors, True)"
   ]
  },
  {
   "cell_type": "markdown",
   "metadata": {},
   "source": [
    "#### Choose descriptors"
   ]
  },
  {
   "cell_type": "code",
   "execution_count": 19,
   "metadata": {},
   "outputs": [
    {
     "name": "stdout",
     "output_type": "stream",
     "text": [
      "Available descriptors: ['mean', 'diff_to_mean', 'diff_first_second_mean', 'diff_to_X0', 'actual_evolution', 'past_evolution', 'mean_past_evolution', 'X_1', 'X_2', 'X_3', 'X_4', 'X_5', 'X_6', 'X_7', 'X_8', 'X_9', 'X_10']\n"
     ]
    }
   ],
   "source": [
    "print(\"Available descriptors:\", descr.name_descriptors)"
   ]
  },
  {
   "cell_type": "code",
   "execution_count": 20,
   "metadata": {
    "collapsed": true
   },
   "outputs": [],
   "source": [
    "# Choose a list of descriptors:\n",
    "list_descriptors = ['diff_to_mean', 'X']"
   ]
  },
  {
   "cell_type": "markdown",
   "metadata": {},
   "source": [
    "#### Separate data in test and train set randomly"
   ]
  },
  {
   "cell_type": "code",
   "execution_count": 21,
   "metadata": {},
   "outputs": [
    {
     "name": "stdout",
     "output_type": "stream",
     "text": [
      "98 data in the test set and 396 in the train set\n"
     ]
    }
   ],
   "source": [
    "model.set_train_test_dataset_rand(list_descriptors, 0.2)"
   ]
  },
  {
   "cell_type": "code",
   "execution_count": 22,
   "metadata": {},
   "outputs": [
    {
     "data": {
      "text/plain": [
       "((396, 2), (396,))"
      ]
     },
     "execution_count": 22,
     "metadata": {},
     "output_type": "execute_result"
    }
   ],
   "source": [
    "model.X_train.shape, model.Y_train.shape"
   ]
  },
  {
   "cell_type": "code",
   "execution_count": 23,
   "metadata": {},
   "outputs": [
    {
     "data": {
      "image/png": "iVBORw0KGgoAAAANSUhEUgAAAZ0AAAEICAYAAACEdClSAAAABHNCSVQICAgIfAhkiAAAAAlwSFlz\nAAALEgAACxIB0t1+/AAAADl0RVh0U29mdHdhcmUAbWF0cGxvdGxpYiB2ZXJzaW9uIDIuMS4wLCBo\ndHRwOi8vbWF0cGxvdGxpYi5vcmcvpW3flQAAIABJREFUeJzsvXmYHsV1Lv6e2We0ghCLJEACCYPA\nhhCxGq84F5kYy7GREUkMcSB4ges45OLAxcEEW/mZ2Lk4sXEIBIyNHQtMYltxhAkxDosxi8wusIyQ\nhDVIbBpppJE0mplv6vdH9aHPV19Vd/XyrdPv88wz/fVSVd1dXW+955yqIqUUChQoUKBAgVqgrd4F\nKFCgQIECEwcF6RQoUKBAgZqhIJ0CBQoUKFAzFKRToECBAgVqhoJ0ChQoUKBAzVCQToECBQoUqBkK\n0ilQoECBAjVDw5EOEd1ARH8tfn+KiF4loiEimkFEbyeiF4LfH6pnWZsBRPQ/RHRhnfK+moi+W6e8\n30FEa+uRd7VARIcE9b7dcbxuzzsLiGguESki6siYjiKi+XmVKyvqWR4iuouIzq9H3nGoKekQ0UYi\n2kNEO4loOxE9RESfJKI3y6GU+qRS6ovB+Z0A/h+A/6WUmqyU2grgGgDfCH7/KCKvujW2ExFE9G4i\n6q93ORhKqQeUUm+pdznyhFLqt0G9L1Uzn7xIYCKh0dobpdT7lVLfrlV+Sb7/eiids5RSUwAcCuDL\nAP4KwM2Ocw8A0ANgjdh3qPG7wARA0QAWqBUara41WnkyQylVsz8AGwG8z9h3IoBxAMcEv28F8CUA\nRwDYBUABGAJwL4AXg3P3BPu6HfksB1ACMByc941g/6kAHgMwGPw/1aPM/xOU56Egrf8AMAPA9wDs\nCNKZK84/EsA9AAYArAXwUXHs9wE8EVy3CcDV4tjc4F7PB/BbAG8AuNJRpnkAtgNoC37/C4DXxPHv\nAvisKP8XAfwCwE4A/wVgP3HuycG9bQfwFIB3G/fuvFacNyl4J+PBMxoCMAvA1QDuAPCd4Po1ABaJ\n62YB+DcArwPYAOAz4tjVAO4M7mUHgAuhO0mXB/Vga5D2vo5n9G4A/eL3XwF4OSjHWgCnO67L5R3F\npRUcP008+00A/iTY3wvg7wG8BF1XHwz2cf4doh7cF9zTPQC+AeC7Wd9tcG/83Q0BOMVybycC+GWQ\n9pYg7y5xXAH4JIAXAGwDcD0ACo61A/hq8PzWA7hY3peRz8cB/If4vQ7AHeL3JgDHxeUZHP9TAM8H\nx+4GcKhR3ouDazfEfcue7U1dyiPe74XB9vygngwGz/x2xzVcv6z1G0A3gK8B2Bz8fS3YZ/3+nWWL\na3Tz/IOFdEQl/1SwfSuALxkPoSMujaiHHvzeN3i5HwPQAeDc4PcMj3TWATgcwDQAzwH4DYD3Bel8\nB8C3gnMnQX8EHw+OHR+8uKOD4+8G8FboxvNtAF4F8CHjXm+CbmCOBbAXwFGOcv0WwO8G22uhP96j\nxLHfEeV/EZrEe4PfXw6OzYZuvM8MyvR7we+ZcddayvNuiEY+2Hc19Id4JnRD8/8BeDg41gbgVwCu\nAtAF4LDgHs4Q144C+FBwbi+AzwJ4GMAc6Mr+zwC+H1ceAG8J3sss8awPj7gur3cUldYh0I39uQA6\noTsy3HheHzzr2cFzOzW4X86fSeeX0ObnbgDvDNL7btZ3a+bjuLffhSa1juD85xF0dFTYaP4EwPTg\nXl8HsDg49kkAvwZwMPR3+XNXfkG92B7cw0HQRPyyOLYNYecrKs8PQX/HRwVl/jyAh4zy3hOUpxcx\n33Jce9NI5QHwfQBXBs+wB8Bpjmv4vVvrN7Rr42EA+wOYCd2h+aLr+3fWHZ+T8vqDm3QeRsCoqB7p\nfAzAo8Y5v0TQu4xJR7L93wO4S/w+C8CTwfY5AB4wrv9nAF9wpP01ANcZ9zpHHH8UwDLHtbcBuBTA\ngdCk83fQH7Opgv4HwOfFdZ8G8NNg+68A3GakezeA8+OutZSnotJBE8d/i98LAewJtk8C8Fvj/CsQ\nEvjVAO43jj8PoVCgG6FR2BurN8sD3dN7Dbqj0JmwzqZ+RzFpXQHgh5Zz2qB7jcdajnH+HdCN2BiA\nSeL4vyIkndTvFh6kYynbZ+X9BNefJn7fAeDyYPteAJ8Ux/5XVH7Qje3xAJYBuDF45kdCN8ArPfO8\nC8AFxnPejUBdBNe+VxxP+i3/D+ykU/fyQHeMb5T11nFNZP2G7qScKY6dAWCj+b3F/TVK9NpsaMlY\nTcyC7iVJvBTkHYdXxfYey+/JwfahAE4KgiS2E9F2AH8ETQwgopOI6OdE9DoRDUKTxH5GXq+I7d0i\nbRP3Qb/odwK4H7qSvSv4e0ApNe6R5qEAlhrlPQ26MU9aHhfM63sCG/WhAGYZef9faD8eY5OR1qEA\nfijOfx7arHEAIqCUWgfdKF4N4DUiWkFEs2zn5vmOYtI6GPojNrEfdG/UdkxiFoBtSqldYp+s31V9\nt0R0BBH9hIheIaIdAP4W/s9pFsrfrfldmpB1/T6U1/X7PPM8FMA/iGcxAIBQ/v3LMkV+ywnQCOX5\nXJD2o0S0hoj+NGWZzTb0pWBfItSddIjoBOgH/WDOSSvj92boFydxCLSdPy9sAnCfUmq6+JuslPpU\ncPxfAawEcLBSahqAG6ArQxrcB+Ad0B/jfdDP7+2wf4hR5b3NKO8kpdSXU5THfN4+eW8w8p6ilDoz\nIs1NAN5vXNOjlIp9h0qpf1VKnQZdBxSAax2n5vmOotLaBG2yNfEGtEnSdkxiC4B9iGiS2HeI2M7y\nbn3e5T9Bm8gWKKWmQncYfJ/TFmjStZXbBiaddwTb98FNOi5sAvAJ43n0KqUeEuco4/yob9lEmvpf\nzfKEiSj1ilLqz5RSswB8AsA3U4Zym23oIcE+s6yRqBvpENFUIvoAgBXQJoFncs7iVWibL2MVgCOI\n6A+JqIOIzoE29/wkxzx/EuTxMSLqDP5OIKKjguNTAAwopYaJ6EQAf5g2I6XUC9Aq64+hzVA7oO/5\nI/D/EL8L4CwiOoOI2omoJwh9nJOiSK8CmEFE0zzPfxTADiL6KyLqDfI/JuiEuHADgOVEdCgAENFM\nIloSlxERvYWI3ktE3dAN+h5ohWRDbu8oJq3vAXgfEX00qI8ziOi4QKHeAuD/EdGs4LmcEpT9TSil\nXgKwGsDfEFEXEZ0GbeplZHm3r0M7hQ+LOGcKdIDEEBEdCSC28RO4A8BniGgOEe0DHRwShfsAvAdA\nr1KqH8ADABZD+8Ge8MzzBgBXENHRAEBE04hoacT5cd+yCbO9qXd53gQRLRXvfRs0QaQJu/8+gM8H\n391+0P5YHhfm/f3Xg3T+g4h2QjP3ldCO0I9XIZ9/AHA2EW0jon9UeozPBwD8JbRD9XMAPqCUeiOv\nDJVSO6Ht08ugewCvQPeoucH4NIBrgvu/Cvrjy4L7AGxVSv1W/CZ4fohKqU0AlkD3Ul+HfieXIUW9\nUEr9GrpSrg/kf6TsVnqsyVkAjoOOXHsDOgovqtL+A7Ry+K/gGT4M7RuKQzd0eP4b0O9kf+h7tiHP\nd+RMK3hnZ0LXxwEAT0I7bgHg/wB4BjoycgC6DtneyR9C3/8AgC9A2+45/dTvVim1Gzoi6xfBuzzZ\nctr/CfLfCe14vj0uXYGboP1LTwF4HMC/x5TnN9ARUQ8Ev3dAB538QnmOWVJK/RD6Oa4IzIHPAnh/\nxPlx37KJsvamAcojcQKAR4hoCPr7+XOl1AaP60x8Cbqj8zR0/Xw82Jfo++cQxgIFChQoUKDqqLtP\np0CBAgUKTBw09UjXQC7a8H6l1AO1TqdAgQIFCkSjMK8VKFCgQIGaoamVDmO//fZTc+fOrXcxChQo\nUKCp8Ktf/eoNpdTMWubZEqQzd+5crF69ut7FKFCgQIGmAhHFDczNHUUgQYECBQoUqBkK0ilQoECB\nAjVDQToFChQoUKBmaAmfjg2jo6Po7+/H8PBwvYtSU/T09GDOnDno7Oysd1EKFChQoAItSzr9/f2Y\nMmUK5s6dC6K08zU2F5RS2Lp1K/r7+zFv3rx6F6dAgQIFKtCy5rXh4WHMmDFjwhAOABARZsyYMeHU\nXYECBZoHLUs6ACYU4TAm4j0XKFCgedDSpFOgQIECVcOddwJv5DZJ/YRBQTpVglIKp512Gu666643\n991xxx1YvHhxpjQ/85nPYP78+Xjb296Gxx9/PI+iFihQICl27gSWLgW+9716l6Tp0LKBBPUGEeGG\nG27A0qVL8Z73vAelUglXXnklfvrTn6ZO86677sILL7yAF154AY888gg+9alP4ZFHHsmx1AUKFPDC\n3r36/+hofcvRhChIp4o45phjcNZZZ+Haa6/Frl27cN555+Hww+NWIXbjxz/+Mc477zwQEU4++WRs\n374dW7ZswUEHHRR/cYECBfLD2Jj+Pz5e33I0ISYE6Xz2s8CTT+ab5nHHAV/7Wvx5X/jCF3D88cej\nq6vLOj/cOeecg7Vr11bsv/TSS3HeeeeV7Xv55Zdx8MHh0vJz5szByy+/XJBOo2N0FOjoAIogj9ZB\nQTqpMSFIp56YNGkSzjnnHEyePBnd3ZUry95+u/8qv7ZlKIpotQbHzp3A7NnAihXAmWfWuzQF8kJB\nOqnhRTpEtBh6DfB2AP+ilPqycbwben323wWwFcA5SqmNwbErAFwAoATgM0qpu6PSJKIHAEwJkt4f\nwKNKqQ9luEcvRVJNtLW1oa3NHrORROnMmTMHmzZtevN3f38/Zs1yLkVeoBGwfbsmnt/+tt4lKZAn\nCtJJjVjSIaJ2ANcD+D0A/QAeI6KVSqnnxGkXANimlJpPRMsAXAvgHCJaCGAZgKMBzALw30R0RHCN\nNU2l1DtE3v8G4MeZ77KBkUTpfPCDH8Q3vvENLFu2DI888gimTZtWmNYaHdwolUr1LUeBfFGQTmr4\nKJ0TAaxTSq0HACJaAWAJAEk6SwBcHWzfCeAbpO0+SwCsUErtBbCBiNYF6SEuTSKaAuC9AD6e7tZa\nD2eeeSZWrVqF+fPno6+vD9/61rfqXaQCcShIp/YYG9PPvaurunkAxXtNAR/SmQ1gk/jdD+Ak1zlK\nqTEiGgQwI9j/sHHt7GA7Ls0/APAzpdQOW6GI6CIAFwHAIYcc4nEb9cPVV1+dSzpEhOuvvz6XtArU\nCAXp1B6f+5yOHLr33urlUSid1PAZHGrzVJsebdc5SfdLnAvg+65CKaVuVEotUkotmjmzpqutFijg\nDyabgnRqh02b9F81UZBOaviQTj+Ag8XvOQA2u84hog4A0wAMRFwbmSYRzYA2w/2nz00UKNCwKJRO\n7TE+Xv3nXZBOaviQzmMAFhDRPCLqgg4MWGmcsxLA+cH22QDuVTq+dyWAZUTUTUTzACwA8KhHmksB\n/EQpVUyXXKC5UZBO7VEqFaTTwIj16QQ+mksA3A0d3nyLUmoNEV0DYLVSaiWAmwHcFgQKDECTCILz\n7oAOEBgDcLFSqgQAtjRFtssAlIVlFyjQlChIp/YolE5Dw2ucjlJqFYBVxr6rxPYwtDqxXbscwHKf\nNMWxd/uUq0CBhgc3fkXjVDsUSqehUcwyXaDxMDQEfPGL4YfdzCiUTu1RKJ2GRkE6VUI1ljb49a9/\njVNOOQXd3d346le/mkcxGxM/+xlw1VXA00/XuyTZUZBO7VEqVb/DUpBOahRzr1UJ1VjaYN9998U/\n/uM/4kc/+lGOJW1A8AddKJ0CaVAonYZGQTpVRN5LG+y///7Yf//98Z//2eKR5K3kBynG6dQehU+n\noTExSKeOaxvkubTBhEErTTHSaErnqaeAhx4CPvWpepekeiiUTkNjYpBOHZHn0gYTBq2kDhqNdL7z\nHeCGG1qbdAql09CYGKRT57UN8lraYMKgIJ3qgSfDbGUUSqehMTFIp4FRKB0L4nw6mzYBc+Y0x0qc\njUagpVLrN5R8j0pVr460kgm4xihIp4nwyiuvYNGiRdixYwfa2trwta99Dc899xymTp1a76Lli6iG\nesMG4PDDgfvvB047rbblSgNu4Buloa+F6anekM+8vb06eRRKJzUK0qkB8lra4MADD0R/f38uaTU0\nonqRb7yhe7CvvVbbMqVFo5nXxsdbv6HkZz02VpBOA6IYHFqg8RCldGSD0gxoNNIplTRpK3MlkRZC\nLZ55QTqpUZBOgcZDlE+n0XwkcWi08jbiGKg9e4DXX88vvVo884J0UqOlSUe1cm/OgZa450LpVA+N\nSDp/93fAySfnl16hdBoaLUs6PT092Lp1a2s0wp5QSmHr1q3o6empd1GyIYp0mm2KnEYlnUYpD6BV\nziuv5JdeoXQaGi0bSDBnzhz09/fj9TxlexOgp6cHc+bMqXcxsiEqkKARG80oNCrpNFJjOT4OjIzk\nmx5QkE6DomVJp7OzE/Pmzat3MQqkQSuZ1xqNJBuRdHhW6PFxwDGIOnF68n81UJBOarSsea1AE6OV\nAglqNU5nwwbgttv8y9NIz4/LlJfaKZROQ6MgnQKNh1ZSOrVq5G+9FTj//PhGsFGVDpA/6VSzjhSk\nkxpepENEi4loLRGtI6LLLce7iej24PgjRDRXHLsi2L+WiM6IS5M0lhPRb4joeSL6TLZbLNB0KEgn\nOfbu1WNv9u6NPq8RSYfLEld2XxTmtYZGrE+HiNoBXA/g9wD0A3iMiFYqpZ4Tp10AYJtSaj4RLQNw\nLYBziGghgGUAjgYwC8B/E9ERwTWuNP8EwMEAjlRKjRPR/nncaIEmQisFEtSqvPzMhoeB3t76lycJ\nCvPahIKP0jkRwDql1Hql1AiAFQCWGOcsAfDtYPtOAKcTEQX7Vyil9iqlNgBYF6QXleanAFyjlBoH\nAKVUk8x3UiA3+Ph0CqVTjtFR/b8ZlU7e5rVGUDrveQ/wL/9iP9bfD2zdWp1yNQF8SGc2gE3id3+w\nz3qOUmoMwCCAGRHXRqV5OLRKWk1EdxHRAr9bKdAy8BmnE9WgDA42ztxstSad4eHo8xqRdPI2rzWC\n0nnkEeCZZ+zHPvAB4LLLqlOuJoAP6djmBjdHXLrOSbofALoBDCulFgG4CcAt1kIRXRQQ0+qJNhbH\nisFB4Ikn6l2KfJDVp/O5zwFLTDFeJzQq6TSSea2ZlY4rj9FRd/19/nlgYCB7GZ58Utf1V1/NnlYN\n4UM6/dA+FsYcAJtd5xBRB4BpAAYiro1Ksx/AvwXbPwTwNluhlFI3KqUWKaUWzZw50+M2Whz/9E/A\n29/eGhM5ZiWd117L56POA41mXmu0pRaA1vPpKKWP2+royy/r++T3lQXPPQd85Su6w9lE8CGdxwAs\nIKJ5RNQFHRiw0jhnJYDzg+2zAdyr9PwzKwEsC6Lb5gFYAODRmDR/BOC9wfa7APwm3a1NMOzcqSdO\nbKTGJC2iPmifXuzISOP05GtlzirMayHq7dOJ6hi9+KL7WFIwSXd2Zk+rhoiNXlNKjRHRJQDuBtAO\n4Bal1BoiugbAaqXUSgA3A7iNiNZBK5xlwbVriOgOAM8BGANwsVKqBAC2NIMsvwzge0T0FwCGAFyY\n3+22MOSHVq01RGqFrErHZdqoBwrzWjxabZxO1PyA69fr/3koHU6j1UgHAJRSqwCsMvZdJbaHASx1\nXLscwHKfNIP92wH8vk+5Cgg0YmOSFj6kE3Wfo6ON05NvNPNaIyudZvTp2J4jv4sopZMH6fDz6urK\nnlYNUcxI0CqYaKQT1YttJPNaoXTi0WrRa4XSiURBOq0Cn1DiZkHWudcaSenUqpFvZp9OWvPa+Djw\nG4vLt1GUji3/PJUOp1EonQJ1QSP2YNPCZ5xOoXTKwc9jIpnX7r4bOPJIPdjSll4jK50JHEhQkE6r\noNlG6kfBZxqcIpCgHL5KpxFnmeayJDWvbd2qw5O3bw/3SRKot9Ix6+j27WEof2FeK9D0mChKp9nM\na41GOq2kdLhRlw14I5COS+mwyuntzY90OjoAso21b1wUpGPDqlWNM42KL1qRdNLOvdZI5rVaj9OZ\nSOY1W+Mu33ujKR1WOQcemF/0WpOpHKAgnUqMjgJnnQV861v1LkkytCLpZFE6jfIcGlXpNMrzAdKb\n1/g6l9JptHE6XM6+vnzKNjpakE5LgE0zcR9vo6ERG5O0yCNkulF68o1KOo3yfIDWVTpm/nxNXua1\nkZGmi1wDCtKphE90VCOiCCQIMZGVTjOa19KGTNvqQiP7dKTSycunUyidFkCzjndpRaVTjNPxR63M\na1//OvDAA+mudSHt4FBbIEGtlY4tD5dPh/fnGUhQkE4LIGoKi0ZGK5JOMU7HH0lDptOQ8vi4Xgfm\n1luTXxuXLtD6Sod/5+XTKcxrLYJmN681SmObBVkCCXhaeaUaY5mHRjWvpSnP5s06/bymqzHLlEfI\ndCP5dAqlY0VBOiYK81r1cd11wL/9m/t4lkACV6+3Xmg0pZPFp8NTuOQdZNOqSsfMX5JOqZS9UzQ6\nWiidlkCzK51mKPcNNwDf/777eNq1SoDyhqsRCLhWjnt+Ho1GOkoBV14JbNrkPidtyLTtW40jnWef\nBW6+OVk+UXknUTrSvCbPS4tinE6LoFA61UepFE2OWcxrrjEb9UIrmdfSkM7LLwN/+7fAT37iPsel\ndJ55BtiyxX2dbZyOvC9bHbv1VuCTn8yuMrJGr8nfaVGY11oEza50JgrpNIvSaSXz2rp1fnlI2Pwu\nJlykc/bZwN/8TXzaSZTO6Kg+P+sSz1l9OrbjSVGY11oEBelUH7VSOo3wLGpBOuPjYT7VjF5jpROl\nppQqb9BtasSEy7y2c2c0OaQJJOB9W7e60/VBlug1Jp3CvFYAQGFeqwXGx/1IJ41Pp9HMa1zeakbT\nyXuut3ntv/5Lzy32xhvl+aRROmNj0XmlCSTgc7l8aZFF6RTmtXgQ0WIiWktE64jocsvxbiK6PTj+\nCBHNFceuCPavJaIz4tIkoluJaAMRPRn8HZftFhOi2ZVOM5Q7TulEEX9cp6BRzWtA9cojG6+oRlqp\n9EpnYCBcQiAqj5df1sdZSfD7iopMiyKdKBJNo3T4mloonajoNfk7LVp1nA4RtQO4HsD7ASwEcC4R\nLTROuwDANqXUfADXAbg2uHYhgGUAjgawGMA3iajdI83LlFLHBX9PZrrDpGh20mmEhjYO1fTpNJrS\naSTSkWVJ+mxY5cyYEZ2HSQRZzGtxpJNG6fC+LEpHqWg1HhW91t4eqpM8fDotqnROBLBOKbVeKTUC\nYAWAJcY5SwB8O9i+E8DpRETB/hVKqb1KqQ0A1gXp+aRZHxTmteqjVqTTCM+i1qTj00inKQuHPB9x\nhJ/Ji1VLNc1raSb8zEPpyHSTRq91doZEkYd5rRWVDoDZAGSQfX+wz3qOUmoMwCCAGRHXxqW5nIie\nJqLriKjbo4z5oZpKZ2wMuOmm6jQ+E410msW8FtdA5QFuvHp6/AghTVk4j2nT/IiA34NP9JprRgJf\npZNkaYM8fDpxA5CjlE5np154TZ6XFi0cSGBbls70iLrOSbofAK4AcCSAEwDsC+CvrIUiuoiIVhPR\n6tdff912SjpUU+k88ABw0UXAQw/ln3Yrkk4rBBLUUulMmVI90uFrJ03yy8M0r/n4dJKa1+qldNKS\nDq/0mafSaVHS6QdwsPg9B8Bm1zlE1AFgGoCBiGudaSqltiiNvQC+BW2Kq4BS6kal1CKl1KKZM2d6\n3IYnqql0+APauTP/tCdKIEEjK50//VPgox8t31cL0uHnNXmyrmOuKDmzLC++CDz3nF8efO2kSTo/\n172kUTo289r4uL6PJAQn05LHbdfkoXS6uuIDCeS7MM1rxTgdJx4DsICI5hFRF3RgwErjnJUAzg+2\nzwZwr1JKBfuXBdFt8wAsAPBoVJpEdFDwnwB8CMCzWW4wMaptXgOA3bvzT7sVlU6zBRJ861vAD35Q\nPraklkpn8mTdyLkaeFPpXHYZcOGFfnnwtRzu61IgLqWT1LzG77eRlU5Xl3sAKsM09+WpdFrVvBb4\naC4BcDeA5wHcoZRaQ0TXENEHg9NuBjCDiNYBuBTA5cG1awDcAeA5AD8FcLFSquRKM0jre0T0DIBn\nAOwH4Ev53Konqmle47R37co/7YJ0NBohkOCOO+xlSFqenTv95iOT5jXArQ7MsuzaBQwN+ZXFJB1X\nHqbSSWteS0I6SZROnj6dOKVjbrPSycun06TmtQ6fk5RSqwCsMvZdJbaHASx1XLscwHKfNIP97/Up\nU9VQKJ3qI4tPp5HH6Rx9NLBmDfCd7wB/9md6Xxal8973Au9+N/CVr0SfZ5JOnArhcpVK/jM7S58O\nEE9spl8jrdJJOjg0juR5X15KJ8qnw+d2d4f784xea9VxOhMOeSqdxx8vbzA4zYlMOvyRtqJ5jfN7\n8EHg1Vcry5D03WzeDKxdG3+eNK8BfkqnWqTjUjpJfTppzWtJlE7aGSLSKp0o89rQEHDKKXqSUx/w\nWKEmVDoF6ZjIU+msWAFccUVl2tU0rzV6IIFPObMEEtTTvCbz27FD/89COmNjgE9kZlrz2tiYf2+b\n7yPOvJY1eo2JQJKOixxshObr0xkd9TctutJglWGWz1Q6cr8rkOCll4CHHwae9BwLz3kUpNMCyEo6\nDz4IHHSQdiZzlI/5IU1kpRNHOnKqljRKx4yAqiVkz9Ps6acpz9iYn+/BVDr1NK9lGacjzzcb66i8\nXErHVkdkXmn9OibpmO81jU/HVl+iwOcX5rUWQFbz2tq1wCuv6B6q+cE1K+ncc4/+ywNxpBE3VUsj\nBxKMj5fb73lf2vLkrXTMZzs2Vj3SSRK9Jp+bSVZReWVROkD1SCdqfR+XeY07Cr51pFA6LYSsSkcS\njKvX12zRa1/6kv7LA3Gk4esIBuykVM9AglJJzwoA5Ec6g4PxJrC05rVSyd+85hu9ZprTfM1rPAkm\nN76yfriUW1qfzj776O20wQRZlU6epFMonRZAVtKRPT2XUzWN0nn00WgbdDVJJ25keBLkSTq2NOoZ\nSFAN0gHie+S1CCQwfTpxROBrXuN0+bnZlE6cuTBp9Nr+++vtWigdX59OWvNaoXRaAFnNazalk9W8\nNjwMnHYacMst7nOqTTq+jVMc8iQd2/Famtduuql8OWUb6WQZp5OUdJKGTHMggU8UV9qQ6TjzGjfY\nrHSSmNfSjtOJe05xSKt0CvPET4UnAAAgAElEQVQagIJ0KpGX0pGRQVnNa3v36rQ4IsqGakavJekR\n+6TF/22NnctUYjtuu9daBRIMDup59G6/vTy/vHw6cjXQOL8OP4c05jV5fRSyhky76g8fz8u85uPT\n4XeUtlOSVenYAgkK89oERiMqHZO8bKim0qkG6ZjbeR2vldLhfMz88jKvJXF4ZzGvAX7vNq3SqYV5\nLanS4YY66n2Mjbm/Uy4bk1c9fDqFea2FkFcgQZ4+HTMdG5rNvMbpRh3P6tOpJunYnnepVLkqZB6k\nE6d00oZM+9Qr89q00+BU07xmU8dE7vrjo3SWL9eDNaPyzRq9lsWnU5jXWgh5mtfyil5LMtahmZRO\nNUinVuY1l2knyqeTpDxplE6SkGlpXvOJYBsf1w05k0NSpVMN81pUyHRnp71++JrXNm7US2/b0AjR\na8U4nRZCI5rX4j5cpUL/SLVIJ+s8UTItRhzpRI3TMbcZ9VQ64+PVMa/5Kh1uuH2CNNKY19rbw/ur\nttKxNciuvGxKxzUDtK95be9e93NM69MZG8vfp1MonRZAniHTrkCCvEknriHPiloqHd7X0eFWOu3t\n7utrpXRc5jVzkOP4eNjIVNunk4R0SiU/BS3Pb28PG9q8otf4eJRPJy4vWyCBi3R8zWvDw/6kY6YT\npXQ6OsL6W5BOAQDVVTqcZlrzmg/ptIpPJ6rR4Aaq0ZSOK5CAG4ZqK52o52LuT6t0iHSjnXScjisP\nU+mkiV6zBRJEKR0f0smqdGx+G95PpP8X0+AUAFAbn45UQT6wRUpJVJt06uHT8emp1jOQwNY5cfl0\nsiqdapFOkkCC8XGgrS3MJ69pcHwCCdIMDu3szGZeS6J0bD4dfhc28xqXz3aPhdKZgMgrei2KdABg\nz57kZXI1Dq5xCnmhVCrvGWdNixFFOp2d7nE6/LE3mnnN5dPJonS6uvzNa3GNqUmQSQIJpFkzinRM\n9eRrXst7cGge5rVSKXosWZTS4fuRebB5DahUOsU4nQkMrlBytuM018uQaTOQAEhmYmsE81pU/kmQ\np9JpBPMa3wPXFdvgUJ+etQlO98AD7Wu/bN0KbNsW5iUd1NUMJAD8lI5JHq5OCz83Hv/D/s4k5rVq\nKB2bmc/MN6nSkWa3jo5inE6BAFlVgyQYVyABkCyYoBECCaLyT5MWEP1Bd3e7SSdK6YyOpmvkk8JU\nOqZDPK3Suesu4Ec/Cu9t5kydltlJ+aM/Ai64QG+z2YbNX658bLNMA/mSjiuQQO6znT99uv6/c6f+\nn9a8xvcYRTodHfpZxSkdM22ZBuCndEzzmkvpFON0ykFEi4loLRGtI6LLLce7iej24PgjRDRXHLsi\n2L+WiM5IkObXiSjlKksZkJV0bD4d2weYhnTq6dMBmkPpjIyEDX8tzWsu0imVkpHO3/0d8OUvh8/G\nFZG2aZNe+Ivz4jza2+trXnOFTLvy4Xc0bZr+byOdJOY1WX/MZ8arbXIEWT2VTlafTisHEhBRO4Dr\nAbwfwEIA5xLRQuO0CwBsU0rNB3AdgGuDaxcCWAbgaACLAXyTiNrj0iSiRQCmZ7y3dHCFO/rC16dT\nmNfS+XR8AgniHOp5wAwk4P828xo3ND4kuHNnuWnWnOGAMTgIDAyEx7KQTtJAgu7u5INDXfnIQIKu\nrnB+waxKx9Zp4WM+pJNV6Zikw/4hSTpFyLQTJwJYp5Rar5QaAbACwBLjnCUAvh1s3wngdCKiYP8K\npdRepdQGAOuC9JxpBoT0FQCfy3ZrKZGVdGw+nazmtbi51yaK0mE/W1wgQT2UDufV3l7eoCT16QwN\nldcdW48ZcJNOR4efTyeODGzXVkPp8PG2Nj2jQhLzWpzSMZ83n9/enkzpPPkk8MQTlekkUTr8n81r\npk9nApnXOjzOmQ1gk/jdD+Ak1zlKqTEiGgQwI9j/sHHt7GDbleYlAFYqpbZo3qox8vTpRAUSFOa1\n5KRjOutdgQS1UDou81pbWyXpJDGv7dwJTJ0arXRKpXBtJfYdJlU6Mr005jXXjOdRSifKvBZFOkkG\nh0b5dPh3UqVz2WW67t93X3l+SaLXTJLIqnRa2bwGwNbym3GErnMS7SeiWQCWAvh6bKGILiKi1US0\n+nWfJX19kZfSsQUSZPXpTLRAAsC+5n0jmNfMBo9/s9KR7zwJ6fgoHW6YAWD79vJQXF/Ske+yVkon\nyrzW3q7J1iSdtja70mH/DJBc6ST16ezerZWlmU4SpWMjnSw+nSZWOj6k0w/gYPF7DoDNrnOIqAPA\nNAADEde69v8OgPkA1hHRRgB9RLTOViil1I1KqUVKqUUzZ870uA1PVMOnI/fxpIzN4tORoeO19ukA\n9rnLGiGQwOXTsZnXfAeHKqVJZ2QkOpBANoDbtvkrHfk8kpKO7+DQtNFrLqUzaZKddGydEbnfpnR8\nzWvj4+Um8bGx8u+Vj7mWNrBFr5nmtWKcTiQeA7CAiOYRURd0YMBK45yVAM4Pts8GcK9SSgX7lwXR\nbfMALADwqCtNpdR/KqUOVErNVUrNBbA7CE6oHfKKXnP5dKZO1dvVUjp5k05cTzVLevJZ79gBHHcc\n8Pjj+rfND2KSTiMonTx9Onv26PNtSkc2UJJ0BgbS+XTku6xm9FpS85oZSDB5sj0vqTbYSc/llPtt\n18QpHUlybLGQS8Xv3Vs+D10apZPVp8Pn8ztpIsT6dAIfzSUA7gbQDuAWpdQaIroGwGql1EoANwO4\nLVAlA9AkguC8OwA8B2AMwMVKqRIA2NLM//ZSoNrRa9Om6SnTm8WnUyvS2bgReOop4Igj9O8o0olq\nxOsdMp3Fp8O9fFv0mknQDJN0fMxrbW32Bi8KSUnHpnRs+UiFOGUKsGFDeToupcPX9fSEylBGPGbx\n6cSRzsiIroOs/Hyi1/L26ch53JoMPoEEUEqtArDK2HeV2B6G9sXYrl0OYLlPmpZzJvuUL1fkpXRs\n5rVSKZ15rZ7Ra0mjnOLgIh2eFogb3mZTOi7zWhKfDjdsSZROEvOaJO0sPh2fkOmk43SSmtfk89mx\nIyQdeY9m/fA1r8l7k+Y1NjHu3aufgW0wLvua4qLXOjvLp8JKQzpNaFoDihkJKpGX0pGTekql09mp\nK2SzBBLUSunwB8i9eB+lU0/SMRuTKJ+O7zgdX6UTZV7zIR0Z6MD5xSGt0vE1r7kCCXxIR6YdNU4n\ni3lNqbCOjoyUk47Nv+QTvZYlkGBkpCmDCABPpTOhkGf0mu0D7OjQH1Lh0/FTOo0aSBDl0+nqSufT\n8VU6pnmNOzOAn0/HJJ20gQRKVZp3opROlHmNlc7QUDhFT1ubbrxtk+NK8xpQTv5EdlLxNa/ZlA6g\ny8YkaDOv/exn4XWuQAKXeS3NOJ2CdFoEWc1rUunYfDp9ffovTfRaPXw6jW5e27QJOFgEQtbbvJaH\nT0eG29tCplnpdHaG5rXJgSXaV+lk8enIWRdME09UyLSPeU0p/W1wB627W4eFm3CFlI+Pu81nWZQO\noEnngAPcSueKK8LrXD4d1+DQNEqnMK+1CGSvMYvSsfUkSyVd2fr60gcS2KZab2WlYzufG72f/ASY\nN698LXtJOtwYDA0BK82Ay4yopk8HCHvbtsGhg4M6n4MOijev/dEfhY2hdLJnMa9xXlEh0FxX48xr\nZiABoOuAJJ24QAKZdqmkySCKdJL6dCTpAG6lMzwMbNmit7u6tOKqdiBBE6IgHRMy3DGL0pEmAWle\na2/XH1KSBtz3wyVqLtKR95JG6bz4ot73yivlZTTf3w9+ACxZoiPk8oIv6SQZpyMHffLzsCmdHTu0\n/2PGjPhAgqee0n8y/zTmNV/SMc3TbO5y5WMqHaCcdFz+ozRKJ230GqfN1gkzkIDvYXQ0rIsdHeWm\nTpt5LYtPpyCdFoItxj7p9UA56UjzWkeHblBd80nZEDdlSVTETlbUWumY03vYfDp8jOce48agVCpf\nSI3P58acZ2XOA2YAQR7jdKTS4efhUjrTpgH77GMfp2M+Y7NBkz4nILlPx0fp8HEZyeUTSABkUzpc\nzizmtTil4wqZliZ1Xt/IDCTIa2mDwrzWQhgbiw7JjQNXJFlxzUACM2TVp0yMKGesaw2aLKiVT8c0\nN/ooHSYd6YCXx7kx4EZrk5zuLyO4LCb5sE+Hn1Uanw4QrXSYdPbd125eM5Ux18W8otfilA4f5/Ez\nrpmyZZlcSsdFOi6lw+WstnnNpXQYptKJGhwq1zYqlM4ERFbzGlceWXFNpeP6kOLSlGlJyB5sqQT8\n9rfAmpzG2tZa6TB8SIcdzCbpcC+Uz68m6VTLp8Mk7BocOnWqVjpx5jWX0qmWea1UKicZ+dvXvMbj\nbqLMa3FKxxbFl9W8JpVOHOmw0okap8Pny/ySkE6hdFoEeSkdm0+HP9xqKR0mnf/7f4FzzklWbhfi\noo+ypBdFOraG2jSvMUzS4VU0pYMXqA/psI+ByH+cDlCpdGzmNal0XBN+jo3ZlU6W6DXOy6V0JMnI\nTlyegQQ+Skep8sCbNOY1Jk4gPpBAPsc4pSN9OmlIp4nH6RSkYyIvn061lE6cT6dU0o2SjOjKglqH\nTDN8xukw2KcjP2zZqFRD6STx6bh8DCaifDou89rIiP7t8umMjlYqnY6O5OY1H5/O+Lhu5F1Kxydk\nGrCTjhm1GRVIwM9b3rM8J868Jr9NWS+TKh1p6oyKXpPvojCvTUBUI3rNFkiQpAGP65WapLN3bzjl\nfVbUy7xmGwAap3SkE7ee5jVzcKjPomFAcqWzzz7699CQJiDO34wg4/sfHw8HTuZhXnOZr6TSSWJe\ncwUS2K71CZmW58nyJlE6NtJxKZ0on07e5jX2KzUhCtIxkcW8Nj4eVkBXyDR/SNUKJJDmlDfe8M/D\nhUby6ZjjdBgm6XCjkiSQYNky4CtfiS8/Iy6QgMep5K10lAp9OqedBpx0EvAP/wBcFUyFGGdeYwKM\nU8+2+43z6XCaUtkkMa/19elnJUlH+nlseUWFTMv05XYSn46slz4h0wxX9JotkCAN6QwPh8+5yVDM\nSGAii9KRH7LNvCZ9OtUKJNi5s5x0DjrIP580eSdFHj4dX9Lh8/l5DAxoB31fX2W5HnjA/x5kWaJ8\nOmwSamsrV14umEqHKCRfqaDHxrTSOeoo4OGHy9MwG9PR0XCcDNe/NqOvmVcgQZzSiTOvEemZFWQg\nwQEH6OOvvQbIdbOyKB0mJdf8cXK/3DZDpjkPNivK+uzj0+HJQdOY1/bsCe+9yVAoHRNZfDryo+LK\nSpRvyHRUb5FDppnQ8lhRtVZKxxUybfPpdHSUN5ymT4ePm0oHcKudXbuSmSNNsrH5dGSD6qt0uIHe\ns0ffh2nK4ilwpk2zp2Ebp2MqHfnsTP+OC2mUDpMOj86PWzkUCGea5m9l//31/tdes+eVROn4mtfi\nfDo2pWO2FT7Ra7yf8/PpmDCGhwvSaQlwbyWtec2mdPr6ah8yzXk3MumYJp4kPh3ZqAB2n44tkADI\nj3RMs5pN6SQlnZ07Qz8Nk44ZKcZmJhfpyOfK9XlkJOxVm8+utze/QAJT6bB5jckzbpwO4E86aZSO\nr3ktzqdjBhKYaoXziFM6vJ/rZ19fMqXTpOa1gnQkuJFIa16zKR0b6VQ7ZDpPpVMt8xr7nxhJzGvt\n7WFjDNjNa7LXODwM7Lef3raRDof2ZlE6Np+O7MX7Kh0OCHApHTbBTXYsNSXzkfnt3WtXOr291Vc6\nZnCFhCRmIFzewDSvvfqqPS+zg8hKh+uHGVQBJCMdm3nNFkhg3psZvSY7RFwGoJx0ensLpTMhsHEj\ncMIJuoF2VWRf2M6XPclSKZ3S8Z0GxwwkqJXSeeMN4NRT9aBUn/SIKueekqRDZJ+vLAnpmIEEhx2m\nt22kw6a9JKQa59PhBhcIe94+43RMpcMNvel0djU4sjGVz5dJh/1LjDxJx6Z0+DpzFgTzGmlekz6d\nfffVx+KUjlSeeYRMc7qm0mFTmmleM5+FS+lwveU2ZmgofC5RSudnP9MDgRmF0mliPP00sHo18Jvf\nVNqJsygdhql0uNc3Pu6fflrzWpbotf5+7aT2IZ1f/xr45S+BJ5+MT5cbIXPEuPy4ZW/c5tMxTUTs\n03H1ZPfu1T3ovr7KKCh5fRqlI3vYXDZewdIknaj3zT1eU+kwSZgDCV2j0aVPxyQd098B+JvX0iqd\nOPOaqXR4rSm+rq1NBxC4lI5tRoKs0WvDw6GSNElHzg1oIx1pgoyKXjv5ZP3/nnvizWvDw8AZZwA3\n3xzee6lUKJ2mhexBupyTvrCd39cXmlp4xmFuMHx71mNjYWWulXnty18Gli71Ix3OzxUNZJbVRTqT\nJult2cOPUzpdXW7zmlQ63d1uhZmGdOJ8Opwv4Ec6fA+sdHbvjh7T4RqjYRuQCOh3k8W8Jn06rhkJ\n4pSOD+nwsh9MOoD26/gGEvgoHZ9AAq6LXKenTdPvSD5/G+mwD8oVSMB147jjgLlzgX//dz/SKZVC\n06q57EWTwYt0iGgxEa0lonVEdLnleDcR3R4cf4SI5opjVwT71xLRGXFpEtHNRPQUET1NRHcSkcN4\nnRP4g+NeGZDevBaldGQvi9P3NbGNjYVhvrUKJBgcDBfTAqLHFvF+H9KRNneTdGbM0Ntx0Ufy+EEH\nVU6DYwuZ7unJl3TifDpAmJePT4cbFFY6knTks/IhnSjzWi18OrKuxvl0TPPapEnli7gBdtKxERzg\nF70W9z5sSmf6dF2uOKXDQxTizGtEwIc/rJUOWyRcPh3Ok8tiDhxuMsSSDhG1A7gewPsBLARwLhEt\nNE67AMA2pdR8ANcBuDa4diGAZQCOBrAYwDeJqD0mzb9QSh2rlHobgN8CuCTjPUaDX6hN6SQ1r5nX\nA3bSSaN0+EOO8+lIc4BJOqeeCnznO3557tlTPu9UVOPEDaFtWWFbWdOSjk3pzJ7tNyOBTencey+w\nalXo08mDdLiB5XwBv3E6XAaOShseLlc6WUlHKp1qmdfiotfiZiQA7ErngAPizWs+SsfXvLZ3r74H\norBO77OPn9I59lhdphkzKkmnvb18ee8Pf1g/k3//9/Deo0iHO3X8v1VJB8CJANYppdYrpUYArACw\nxDhnCYBvB9t3AjidiCjYv0IptVcptQHAuiA9Z5pKqR0AEFzfC8CyVGaOkPMfZTWvcVpS9vb26kop\ne71plE7UVCJS6cg5qqRPZ+9e7Xd5/HG/PIeHy8lS+qZMJFE6NtJRSn/cHGEW59ORocQHHeT26USZ\n17ZsAf7gD/TkqHkoHdOnA4TPw8e8xs+Qe9hK2Zc2jiMdmx+Br8tb6ZjfR1T0WlzINKfNS7n7Kp1q\njNNhZdzREb7D6dP1M+S6YpIOP8OzztJlnTGjMnrNnCvtlFM0mf385+G9+5COOVtFk8GHdGYDkCE/\n/cE+6zlKqTEAgwBmRFwbmSYRfQvAKwCOBPB1W6GI6CIiWk1Eq1/PYkayKZ2s0WuyMrBC4YqSRumM\njvqb1xjTpmnS4caQI1/4o4kDKx15T9Xw6Xz+8+FsAEmUDh+fNUuXU3YabOY1k3QuvVQHFWzfHj6T\nNGHspm8nzqfjGidkkg7fB5Bc6ZhlA9xKJ6ozIZEmkEAqHd+Q6UmT9HkcSAFopbNrV3ndNb9Vc5xO\nVMg0PwNXNCFHr3V0lJvXgHANJ5d5rbMznLrHVDoy4pLv+cQTw2sLpfMmyLLPVB+uc5Lu1xtKfRzA\nLADPA7DO0a+UulEptUgptWimnB4jKWw+nazRa3Gk45rE0IWxsdCx6Us6Bx+s9/OaM+aCZ3EYHta9\nbc4vinTSKp3du4Hly4FbbtHHWOkkCSSYPTu8r6hAAvbpjIwAmzcDK1bo58W+K6D6Pp2HHwYOOQR4\n5pnK9Phcfs98H/w/SSBBVPSaLWS6WoNDTaXja14DtI9LKh2gXO2kUTpJote6u8uVDgd4bN2q/7vM\na1LNmKrTNiv0SSeF24XSeRP9AA4Wv+cA2Ow6h4g6AEwDMBBxbWyaSqkSgNsBfMSjjOlRK6XDNnup\ndNIEEsQtbcCYM0f/ZxWYRunI/1E94rRKh8u0YYP+n1TpdHaG15ikY4ZMS6XDU8kccohWO3mSTpTS\n6e/Xv195pTK9PJVOEvNaT084Y0EU0oZMpzGvAfodSaUDlJOOK2TaN3otyscmzWum0mHSiVI6DDN6\nzVQ6gFY6jLhAggmkdB4DsICI5hFRF3RgwErjnJUAzg+2zwZwr1JKBfuXBdFt8wAsAPCoK03SmA+8\n6dM5C8Cvs91iDGw+HdMRnTStKKUjHc1JlI6PT0c2RCbppFE68n9W89oPfgB885vlpMNlWr9e/5ek\nEzdOp6NDmxC5kZaRdrJRUSokHZ5olct5wAE6fW7M0pAOLxTm49Nh2J4TP1updGwzEvN5Pj4dX/Ma\nT5EThayBBEnMa4B+T5xPXkonyeBQVjr83XJUYVKlI81rNqUjSaenZ0IoHQv1lkMpNUZElwC4G0A7\ngFuUUmuI6BoAq5VSKwHcDOA2IloHrXCWBdeuIaI7ADwHYAzAxYGCgSPNNgDfJqKp0Ca4pwB8Kt9b\nNmBTOma443XX6aiTz342Oi1b9JqcwJHTThNIwJU8inRkpWaTI5NMWqXjQzpmSKcNN9ygI5AWLaok\nHV5wLmn02tSpIekMDZV/+Gyz57KxeW1oqJx0AG1uA9KRDm/blE4U6WzaBNx2G3D55fp4lHnNpnRc\ng0NdPp2oQALA7nMw7zer0jEndQXc5jWg0rwmI9jifDpZQ6bNQAImHQ7OSap0XKQzcyYwb56ug/Ld\nSbSY0oklHQBQSq0CsMrYd5XYHgaw1HHtcgDLPdMcB/B2nzLlBptPh80z/Ps739GNQRzpRCkdm3kt\nidKJmrPN/NCAMPSWG6mkSsc0r2VVOps3hyOpuRFiImTTzrRpYYPg02iYpGMzr0lzFJvXeF8W0pGN\ngySdKJ8OY3gY+OEPgSuvBBYvBo4/3q50XD4dVuI2uMxrrsGh3HCNjET3nF2DQ3laf5kvN8g+g0Nd\n5jWZD/v6ZDSmq4M4Pl6+7IDZOeCw5bRKh8vQ3R3mITs3sjNgdgBcpH7SScBPf+ouU4uRTjEjQZTS\n4Qrw6qt+/grf6LWkSod7oVED7MyGTY73AJIrHZuUzxJIsGVLec+3o6Myvd5e/bx8AwmiSIfNazbS\n4XJyD5pJJ83ca0BIplw2l0+HIcvwi1+U593bW9m4m0onasXIqEACl3lN5m8Dmw/5Om60R0c1cb7n\nPeX5sQmZgxc6OvR9+SgdG+ny9yTrl/m8JelEKR3en1TpsAqXpCNnmU6rdAC9AN+NN4bq3PSvcdq2\njmAToiAdm09H9p7Y5u9DEK5xOkC2kGmO8XdFAPHHJHtS7PiUC5gByZVOHj6d3bu1Y1g2fLZeH5OO\nj0/nssv0HzdSpk+HP2Auk410WOls2aL/j43FO9TNsvC29Onw+5XmNakuhofD5/vgg/q/NJuZMxGb\nSieKdDo67IuKRU2DA0SrPHPNGyBULuvXhz45GR3W1VXux5w9WwdSmM/XR+kQaRKQ5lvzW3WZ18yQ\naU4zTukw6TCYdNhH6mtei4teA/RifEuXlisniRZTOl7mtZaGS+lwpdy6tbzHHAXXjARA2MtLG0hg\nmtcuukg3uNddZ+/BMulwuZMoHWkuMJWOUuWjquV9uEiHG/UkpBMX8vrhD+ttHvcSp3TkNDgm6cho\nMtsgPht8fDoupTM8HJbhwQfLQ9OZdPbuTa90uExm9JotZFqa1+Lu1UY6kkCl0unrC6f26ejQkYJD\nQ7rzwXUT8FM6XE6b0uHZDvgYKzLbANZSKZ50mEDYvMZg8xqTTtJAAjlztQvy3clnPdECCVoeLp8O\nVxh2XqZVOnmY12wRQA8/HA5C8zGvsdKRPV4XbItYySgnkzDilI40X+VBOrLs0rzGDZhUOlHmNSYd\nmUdUj1TC5dOxkY7Np8PPdfNmvbyGjEqzKZ00pBNnXmMFAWQjHbkyKZe3tzdU1e3tmnQAvfyFjXS4\nI2NTOoBb6bS3AwsWAM8/H5ahra1ymW++Jo50pIqQ+U+apNNMG0jAY3+iYKvzQMspncK8Zptl2kY6\nefp00iodaV7bvj2cpj+JTweIVzu2RayizDBxpJO30pH3yT1jW/RanE+HSUfCN5jApXRsgQRRSgfQ\naicv85qLdGzmNUmQ8r6/9jW91AfDVCNASDr8PKU5r71dv0tWOu3terAyULnmEpNEHOn09lYqHb7u\n+OP19E48k7u8L/mNmT4dDneXkCpC5t/ZqX2I3HmrttKRsCkdIncEY4OjIJ2o6LVSKbvSMReDyqp0\nuLyDg8lIhz8WIN6vI3uUJunYiDIuZJqVDpt8JOlMmlTuMDZ9OnGkw420a5yO7BWapMPzY0mkIR32\n/XHZ4kKmuQwHH6yPrV1baV7j+wCSmdf4Gpt5zSQdWwdoZAT4i78Arr++8l5NpTM2pu+DG135/CXp\nsHkNqJwGSEbFAf7mNUkgxx+vv4UNG6KVjmlek/fGcJEOB64wSbmUjit6LW+l09NTaeZuEhTmtbhx\nOmzvT+LT4QZaftRZfDoyem1kRFfynTvLG2ZTPXBjLn06kydrwkmidKR5zVVmX6XD6cmyTp+uP57+\nfp3Hpz+t07M5VW2NH9/r0FBI8EzANvPa2Fj4Lnp7dUMiVaDvO0nj02lv1++AzWt9fWEPXhJMHkpn\nbCx+cKhN6XCZn3ii8l5d5jWZPpe3ry98ru3tWlV2dtqVjkxXdthMpSM7NZJAjj9e/2e1E6V0bKQj\n83GZ1+ScaoB7ws9qKh1+p0w6TYpC6fgqHTYhRMFUOjbSkfuSKJ3OztCns2OHLgv/tykd7tlzuQcG\nQhNHEqVjrt0RpXTifDqAfg5yQsYpU4ADD9Tbvb3ARz8KfOxj7pBXosoeHs+pNjYWOspdIdNAOA1O\nd3eoCBnVMK/xu5k9WxMkm9d6e0Nfxd69+v3yUt5A9kCCuMGhtg4Ql/nJJ0PCjyId2eGIMq+1telZ\nMkzSMZVOW1tY13yVztueC3EAACAASURBVNFH6/I8/nil0okyr8l7Y8SZ1xg+Ph2ul0rlo3QA/byb\neKlqoCAdf5+OPNcFM3pN9lqzTvgpfTrcaI6Pa9ViI52urvBDHRrS5zDpxCkd07wWp86SKJ3du8uV\nztSpenkC+REDbp+OLQCCFaDZk7WFTAOarLu7dQPPDYlP6LCELZDAnBBTmtc+/nG9jAJ3BPbs0e+H\nlc7ISPiM+X9Wnw5fQ2T36bjMa4AmjI0b9XaUT0f6GcxAAmleA7SJLY50gPIVZBm2QAI+3t2tieeJ\nJ0Klk9W8JpUOkS4j1xX+1rjz4yIdrlM8IDmr0uHyFUqnyeEbvQbEK5MopSNJhyts2pBpJh1AN6Am\n6XAD3tOjy8z+HF+lYwYSxAU/JFE6pnlt6lTdA5amC8Dt03GRjpznC6gMJGDlB+jnx9usdDiiKovS\n4bLZSGfJEuATnwjfiVQ6TDpcprx8OnzNpEnlIdM+5jVAqx15r0mUTl9fefQaoEnH9OnY3imbcuMC\nCeR1xx8P/OpXIfknMa9JSB+mfP5ASDry+fNs5ubKoEC5PzcvpcMdlkLpNDHixulI0omLYIvy6ciB\nckTupZNNcESOJB1ergCwkw5Xdm7Q2LZuUzovvggceWT5WBXTvNbeHn4wtmfgo3T4g7Upncsv1xOC\nSrh8OnFKhxsIm3mN38XgYPiM8iIdOWLf5tNh8Dvh3ir/ZvOavD4vn87kyf7mNdnARZEOlylK6XBa\nfN3BB2vfnXx2NqVjIx2beU0enz9fhzNz/XKFTKcxr/H74I6RDBaQpNPRUW765TrG7zcPpSPrTpOi\nIJ04pfPKK+FH4at0pE2atznSjCuyax41E+Yo79FRt9KR5gb+PzwcrXSefVZHT8kQWTOQoL29fOS/\nCfkMbR/x9u16UkOZniSdQw4Jp1JhuMxrtlBrfpZy0kpXIAGQP+nIOeW4PEC5T4fBjSeb16TScZFO\n1sGh7EcyOyc2BZtU6chAAtOnw5DmtVKp3NwqzZIMm3ktKpAAKF96wKV0fMxrtkACWVcBt9Ixx3fJ\n2UgKpfMmCtKJ8umMjuopcHihsDjSkb4XTocrKjf8khiShGFLn06eSscc5Wxus0+He5820pH3Yd4T\nr5Uzf77+byod06zGyOrTcYVMA9GkIz/we+/V5bYt8c1BDVwum0/HpnS4I2Azr+WpdKR5LUrpuMxr\n06dXko5rnA5gj14zy8T1T5rYpEJk+CodeZ18f0mj1ySilA5/yzalI9+fLDOg6/zoaKF0AhSkExW9\n9tprugLwGIM48xr3tGVj0dOjK61JOr5Kh8vE0Ws+Ph1ulNh/wKTDa+xIpcMfmZyM0VQ6HR3RSkcS\njfmMnnpK/z/hBP3fHKcjI4Ikkvh0mIxtgQRplc799wNnnqnNj08/XZlnqRQ2Mj4+HYbNvMbRa3n4\ndFykkzSQ4K1v1eSwe7d77rU9e8Jje/bEKx1efVPW3yTmtSilw2kDod+KZ7pmZDWvpVU6MloyCkmU\nTkE6TYyocTq80uOhh4bnmHj5ZeCll/S2nJgT0P85QkqOWQDCWXjjIMvkSzpcIblXzVFEBxygy5NG\n6TDp2GYKNj8KiSef1OU+9thwnw/pcGg0N2obN+p7TRK95gqZ3rEjnnS++90wfaksGaVSmJ7p0+Ey\nuHw6Muw1jdKJGonO14yNhdeYSkc2vC7z2tFH6//r17vNa1yvgEqlI0mHr7N1XGwdCZd5zUfpyPzM\njl2SQAKbeY1VuSQP7tzYSIfrGNefPJVOYV5rYshZprnC8XocrE6OPFL/N0niyiu1r+IDHwjTMpUO\noBtWJgppXkuidDo69Aj611+3m9dYnQGV5jX+yCdPLo8qAsJ7dikdIN6nI3vf5rVPPAEcc0z5SHMf\n0uHzSiVd3oULge99L515jag8VN2HdPbuDZc+8CEd2Xhyfj6BBLaQ6WoqHTnhp828xnWSSeeFF/xJ\nx6V0okgnaSABj5Vz+XSAMD1zKZC0MxLEmdfYfxZHOnkpncK81uSQPbyhId1g8JoujIULw3MYW7cC\nf/u3uoKwImKl43JAyn1JzWsdHcDcuZocXnwxnGo9KpCAe9VDQ6F5bvLk8o/eXKPD3Oa84wIJ+B4l\n6Sillc5xx1X2DpOQzsaNukzHHgt86EOV59mi16R5jacM4TIo5Uc6vb36uI10xsbCxocDCUyfhy2Q\noLtb34sZSBBlXuOgFrn0dtQzA8pJp68vDJmOM6+ZSmfdOjfpmGZaWVdtc6jJyVkZScbpyNm4fZSO\nuRRIEp9OnoEEeSodrjuF0mliSFv20JD+MLinCuhGZ9YsvS0bVG58DzpIVyru7biUDiNpIIH8kNnM\n99RTejXF3l6/QIJdu8IPnqeMYdiUjkk6PkqHG2957ZYtWplFkY4rkAAIe5FsvrzhhvI5wRjco5XR\nazJkWkbzMfgZcZAI+7tkj7+7Wzdm27fr53PTTeU9bZdPBygfHGkqHZ4R29e81tkZ1i+lkkWvsV8x\nqXlt//11HXvhBffgULMeyYCDLOY11zgdzoev81E6SWckYGXc1ZUskKDaSoe/34midIhoMRGtJaJ1\nRHS55Xg3Ed0eHH+EiOaKY1cE+9cS0RlxaRLR94L9zxLRLUTkMc98BphKhxtBrgCHHWafoJMbaW60\nBgfDimc2GnKqFVPpbNjgnigTKI9emztXb69fr9Nks50rkIB9OkymQKXSsfl05Fxg/Cx45uYkSoej\nn447rnIiRF+lMz4ejozn+zcRNSNBHOm84x06UOB3fie8FyD0nTDp/PjHeg2j1av18SifDqDrEZtU\nTdLh/b4h0/yf61ySwaFsVrQFEkSZ17q79ZIBUUpHNo6sdNrbdaNtIx0mkzil4zKvcT5ApdKR0Yky\nijCNea23t7zjaY7TsSmdkZHqKh35fbW60iGidgDXA3g/gIUAziWihcZpFwDYppSaD+A6ANcG1y4E\nsAzA0QAWA/gmEbXHpPk9AEcCeCuAXgAXZrrDOMiPbefOsHHmCnf44XbS4crPpLNtW/iRu3pIQLmT\nc9cubTKy9d4ZMnqNlQ6gG8OpU+OVDpMp9zJNpeMyr/Fz4GdBpK81Awm4l2fOag2EkWtve1t281p3\nd+hjMREVSCB7hTbSIdKRWrbGl0ln27ZwkDBP4xKndPjdAJWkw8rBnHstyrwGhISfZHCoTelI85oZ\nWiyXWJg/P9qnI8GkxmW1mdfa2vR+U+n4jtPhfPj+zDFbrHayBhKYc7+ZddWldFwh03koHTm4emSk\n5ZXOiQDWKaXWK6VGAKwAsMQ4ZwmAbwfbdwI4nYgo2L9CKbVXKbUBwLogPWeaSqlVKgCARwHMyXaL\nEWAbcVub3t6+3U46cmQxw1Q6AwOh0vE1r730kiY6Xo3QBmlemz49bNxZ6SQ1r7mUjhlI0NsbfkTS\nPGIqHW6kbaSzebMOZZ02Lb3SYfPaoYdWNk4MW8h0nHnNbABspCPNa/yO2H9nIx1ZvilT7KHGJvH5\nzEjAv7mzkMS81tlZqXSkiYknGDVDplnp9PdXTmcjy8TgQAI+x6Z0gMo6lGScDufD92dex6TjUjq+\nIdNyRhF5r/X06XDevmk1MHxIZzaATeJ3f7DPeo5SagzAIIAZEdfGphmY1T4G4Ke2QhHRRUS0mohW\nvx7VaEdBRvcAOjiAt33Na+wLkErHbDRcgQQ89UyUeU2SDhCqHRvp2AIJ2LzmUjqukGkeXySfhY10\n+JnYSGfbtnD8hKl0ZszQz4ADImxg4ti40W1aA7KZ1xi2QZLSvMZ1jAc2jo25o9eA8nduWx6at/n3\n0FD0hJ9AMqVjmtf4WZhKh+/dHBzKSgfQase8D1Nl8DQ4vN+1RAEvr8HIYl5LqnSSmNdk/lw3uG3w\nJZ1qKB1Oq5XNawBsKwWZc/y7zkm6X+KbAO5XSj1gK5RS6kal1CKl1KKZM2faTokHV0gb6cSZ1/JQ\nOoyoQacm6XDj62Ne47BsaTZ0Ra/ZlI5JnlGkY/PpDAyEa8ubpHPOOcCaNeUOYBPSpyNNiyai5l6T\n049EkY45V5dL6TDpSKXDi7iZPh2Gi3R6e8sHEEYNDgX8lI7NpyNVghkyzfduUzpMOjxFUhKlY5uR\nAKisQ0nG6XA+ruu4gxMVSJDEvGa+Bw6oSRtIkEXpcETtBFE6/QAOFr/nANjsOoeIOgBMAzAQcW1k\nmkT0BQAzAVzqcxOpIQfPAbqR5MYizrzm49OxBRLID50RRTrm7LVS6UybFj8jAd9XXPRaWqXDH7Ut\nek0qHdO81tkZNmoutLeH5scsSoefgyxDEqWzY0c4X5g0r+WpdHbvjg8kSOrTkeY1Rnd3pYlJNs5y\nMC2/Uw58SOLTcZnXzE6PTelwXbW9L66vr75aqZJNpZO3eQ3QdZZnKAGiSYfX9clD6fBSJTzIvMWV\nzmMAFhDRPCLqgg4MWGmcsxLA+cH22QDuDXwyKwEsC6Lb5gFYAO2ncaZJRBcCOAPAuUqpcVQT/KEx\n0QwOlpvXOjq0+SxK6XA4tVQ6UeY1/sCyKh1fnw6gZ9/l3qNp3sjq04kyrw0MuEnHBzNnAj/7md72\nIZ00IdMM06EuAwkAPTYKsCsdl0+H4fLpcCCBvA9Zlqw+HSZhLstb3wpceGG8eY2nkeGy8TuPIh0Z\nvcb3xpCKxez02AIJzjhDB9ccd1y4T06eOTamoz4XLCi/zvTppDWvmYEE8l4fegi46qrwdxTpADqt\nPJQOk85EUDqBj+YSAHcDeB7AHUqpNUR0DRF9MDjtZgAziGgdtDq5PLh2DYA7ADwH7Zu5WClVcqUZ\npHUDgAMA/JKIniQi8YZzhmlek9uLF+ulk6WPxkY6++6rPwif6DWOAgPKG2Efnw6nFeXTcZHO7t3h\nfU2Zon9zxZbRa/fco+dI27bNrnT6+iqj1/gZ2sxr27aF5jU5868v6Xzuc3r+O3nfNnR1harGjF6T\npGN7RoyoQAJAEzeggyO4QY+LXmP4KB0g3+g1STrnnKOXjli9Ws+gEaV05Lo+sv7I82UZgfIZD2zR\na0kDCXp69Ldne27Dw9rcOjbmJp0opeNjXjOVjiRNc+B4VMg0oNPKY+41Jh3u9ESZpRscHfGn6Igy\nAKuMfVeJ7WEASx3XLgew3CfNYL9XmXKBaV6T2x/5iP4DNFFw2CmDP8S+Pt2wbtsWziTr8unIyupr\nXjOVztFH6/Iceqg2+YyN6Z6jLZBAVnJWOtzrHRrSxCWVziOP6Iapo0OTbhKfjql0lCo3r/E984Sf\nPli2DLj2Wj2OJk7pAOHkpEBoXtu9u7zX3d2t95mkw9fZzGuMWbM06WzZotOOG6fD8CWdPJSO9Olw\n77uvDzj77MryuMxrXA6TdMzBoYzp08Mw+7joNZ9AAhtkIMG6dXo7qdLxNa/x8uk2pWMiKmSay20u\neeKCD+nwvfPUXE2IiT0jQZTSMcFhpww5R9M++2hTksunI5e5lekxkpDOkUfqnt473xmmu21btNKR\n98WNIY+Wlz4dlu5jY/paH/MaP8NJk/QHyOkNDel0JOlIxeGDtjY9C8DFF+uZH1zgcu7eXW5eGx/X\n9ykJwOzFM3gwoEvpAHp1SiAcq5PVp+NrXss6TsdElHlNKh3+H2demz49DCSQHR9W9aZ5LS6QwAYZ\nSMDRdHFKR5LO7t3px+n4ko5L6TDyUDqAfoa8TEQToiAdoLxRck3LYk5bs3u33tfWFiqdwUFdIVwz\nEuShdADtyCQqnyq+vV2X4+1vD5cR8CEdGb0mZ6+W0Ws+Pp3u7jBEGwgdnmxek/fsSzoAcOKJwDe+\nEd0b5nLu3l1Z5sHBcgJwkQ6Xz1Q6kjR51gKeIcGce82ldOLG6ZjH8vbpuM6JUzqSzM37sJGOOekp\n31vSQAIbpHnthRd0OuZgYdc4nf/4Dz2lz+BgupBp2zNk+Ph0bNs2+JLOkUeWr1DaZChIB/BTOjbz\nGtut99lHm1xeeEFPDupjXpMNh+80OCa4EVRKV9iuLuDBBzXxmHmY5rUopQNEh0wrEd3Oz7Crq3x1\nR56hO4vS8YVL6QDa5+WjdIDKQZKmeY2Vjkk6tkACX6Uje8J5Kh3XzMeyPJJ0bIvEMXHEKZ1p00IH\nv+n/kOUHwkACrkNpzGsvvKBVjtnwupTOSy9Vli9t9JqJqFmmZbm5PFFIQjpNjIlNOlE+HRM28xp/\nVPvuq8cylEp6ype2tnCkNxDt05kxI7nSYRxxRKgkbA15FqXjCpmWC6MByZROtUnHDCRg+Cod7hmP\nj4eDPyXpHHGEfuc20qmFT8eHdGzjdEzYzGu2QAIuY5RPp7OzcjlsBjfeZiCBUtHjbWyQ5rV16ypN\na4Bb6cjglzifTlLzGvsO48xr0twYlZZZJp41pbMzTOuoo6LTaXBMbNJJ6tMxlQ5XAtmbf9vb9H85\nSJSDC2yks2CBH+nYKjQRcOqpejuOdHyVjnQE23w6QPlHLEew20jHDCRwlTULZA/SRjo2pWNruLmR\nkuptypSwsdh/f91J4Ei2PMfpyPtwKZ0k5rUon46veY3zsikd6bvh+ePM/GykYy5v4Kt0OjrCcVu2\ncGkgrGvmfXHH6o//GDj99PJz8jKvuaLXbPP+RaVllom/f6l0CtJpYthIJ86n88YbumJK8xr35nt6\nwgGPXV1hJeTVQ+XHd+yxenGzhQvTKx0gNKWlUTrc42xr0/ls3VruDzIbP75faZOXI9gl6dTDvCbL\n6jJ1+SgdeU9tbdp8xL67SZPCiTyjSCfOp8Mh5El8Onmb1zh9aV6LUjo281pPT7gQnfkMXOY1eS+2\ncTou9PYCzz+vr7ENLJ45U5eLfais4Nj/etttegyQvBfZwI+O6t9pAwls5jMmMJ9xNbYyyQ5Qi5BO\n7cKTGxFJfTrDw1pZfPjDlT4dQJMIV5wbbwx9AID+EKS8fu97gWeeAS67LNncayailI5sPGykMzKi\niWfffTXhbNkCvO99+sP8yEeAxx4rT9u2HopUOnJV0rwCCXyQRulEkY68J0CbbTo7w1mSmXSiFnGL\nUzo9PeXOdpleHkrHx7wmx7O4lE5PT3jMRjqys5FE6XAdso3TcaGnB3j2Wb3tUjpPPlne8RsdLTeF\nM2wNPHeYqhFI4KN0fEinoyN+Jo8Gx8QmHe7dyUYpyry2a5e2J/MaOKbSYdMaAJx7bvn1U6fayYU/\nWKXsNt840lm0SB9zjRFg2Mxr/JHts48mnT17dAN79dV6v82nA7iVzkEH6WcDaNLp6ChfproWSkfO\nvcZIq3Qk6fC7njQpHLCaxadj6wHnMeGnj08nzrwm35ksn0vpsHnNXFjN5dMBkpvXOC+uXzbSAcJV\nfuV9mWO1ZJnMNYFkuX2VDs+9F0U6eSid97ynfLB6k2Jik05Sn87atZoctm7VFZllPCsdSTompk4t\nHx3N6OkJHde2yhQVvQboxvDOO8s/Npk2g++rt1d/KJJ0pBqR88S5fDoupTNnDvDAA/o3T4EjibRa\npCOfWxalw42UJFJAN3AcbeVrXuvuDknMpXQA+ziOd7xDLxj31reW3x831HGObaB87jUTceY1m0lU\nXifLwOY1fm5pzGu+9YGf1dSp2pQWB37+tkXPzAb+yisr340v6fA3EBdIEIc40vn4x/Vfk6MgHcDf\nvLY5mJN0YKBc6Rx5pO4Nv/vd7rz22ad8JLZMF9AEYKu0cUoHAJaYyxsZaQPhx06kG+GdO8OenSQd\nGa1lC5kGygMJZAM9Z45WOLt3l0+Bw6iXeU0qHXO0vYTLvHbbbeE5NvOajXT4OQ8M2H06tklIZUTj\nP/9z5T3t2hUfBZWHec01R12UeQ3Q710SVp6BBLIs8+f7jVPh57ljR7x57dZbK8vta16LIp2sSoc7\nA3Hh1k2EiU06Zsi0uba7RHd32NsdGNDbXJEPPTT0YbjwxS+GEWMSciJDWxBDVPRaHGw+HSAkHWle\nY0il42NekyHTPOP2yy+XT/ZplqfWgQRJfTqm0jHHO/H9R43TATTZDQxUrkMj6xn7dYaH3Q2LVDpJ\nRrWnMa/ZAgnM62SZWOkAuk7tt194TpR5LW0gAeA2rZngMg4Oxiud7dvDzlRS8xp33qqtdFoEE5t0\nzBkJJk9296Bkpdm6VVcms/cUBZfpTSodG+LMa1HgtDs7yyutSTou85ptwk/A7tNh8xqgp//ftg04\n4IDy8jSC0knj05GQ/o729nBwoM0hzvnKRpVJxgydluv+mJBKR+YfdW7a6DVbIAEjyqcD6EUJ2SQI\nVCeQAPAnHb6PwcFK1W1G+Un1ntS8xt9RtX06LYIiZBoon/bfBVlphobsvac0iCOdoSHdUKXJi8c2\nmA3V1Kl+5jXToe1SOm1t+hyTdBpB6Zjq1Wecjmlek5AdDX6+tmlwgLAzY/bkpTrg3678uFxAecSk\nC0nmXvMxr8X5dKR5bedO4JRTwnP6+sKB0oysgQRAOtKJUjpyUDSQ3rwWFTJdKJ03UZAOEDp9o0jH\nrDS8ml9WxJHOjh2aJNLOtdTTU3lfaZWOi3T4g2DzWn+/Hs9UD9IxyywHd3IZzIG68lqbeU3CVDrt\n7XafDmCf6JXTtc3J5WpYZFl5cKMLScxrUumY0/+YZTPvw2ZeA8r9mocfXrkkRR7mNd+QYWlei/Lp\nmKSTZyBBoXQqMLFJRzrpurqSkQ6QD+lIn44NTDpp0d2djHRsgQRx5jV+NpMm6et//nNdbmlqAepj\nXjOf3axZ4cJ7tnRGRqJ7rlGkYzaerHTMDoPNvAa4e8OyMVtqXUEkhBzV7oqItCkd29xrsmzyfKBy\nRgJA369ceO3Tn9YRnxI8aFoqnVqY16KUjpxzEEju0/EhnULpvImJTTryhXZ3u2cjAMLKIxuQaiid\nu+/Wk3YyspJOT0+lec2MXnMFEpjmtfb28hHqQKUPYM6ccLXPd76zPN96mNfMd/qXfwn86lf2dLIo\nHZdPx9aLP/TQ8vWBuJGLUzr77BOvdPh89lX4BhIwcaZROnzOaaeV5ycX7pOQwRhJlM6kSbp+ymCF\nKHDeMuiHUQ3zWlQgQRqlMzwcfmstRDpFIAGRftm+Sueww8Kli/P26fzN3+iBmccdBzzxhN6fB+n4\nKp22tvJzTaUDlI9TUaoyomrOHD1q/IADgLe8pTzfaimdqHE65rPr7o5WFHGBBKZPhxt4l0/H1qCu\nWlV+bpx5jfd/6EN+UYzsZ/Kd8JPT5yW/k/h0pHntXe+KLxtQvrxBEqXz2c/q4QG+pmb5PH2UzmGH\nAevXV8e8lkbpnHRS2DEsSKdFIHt1NjOUBFeahQtD0slT6axZowmntzdcJAzQvbAZM9Kn393tVjom\n6Zg9cxvpHHMM8NBDugf2rnfplUalGY2DCd75zsrGoRGUThR8AglsSscVSLB0qT3azGwA4xqmvj7g\n618Hfv/3/e6D1VcS8xpgn/HAZ5zOUUfpAa1xpj/GlCnhrA5JAgne+tZKk20U5L37BBKcfLImHVN5\nRjX4bW1hJyWr0iHSf6WSHhP49NPhsRYiHa+3TUSLiWgtEa0josstx7uJ6Pbg+CNENFccuyLYv5aI\nzohLk4guCfYpIvLU0SkhJ+n70peASy5xn8uVRo78z9Ons369/n/KKXpsB8vqrErnz/8cuOCC8n1T\npugPhT82Nq+Z667bSOess/THcN11mnCuuQa4667wOAcT2Hq9tSQdl9KJQtZAArPxPOUUPT4rDnFK\nB9B1c968+LS4XEnNa0A4jiypeW3GDOD++7VS8MHppwP33KMVRhLzWlLI+4gyr7HS+d//W5tf2Xx3\n1FHA3/+9XrrdBflMbKt5JlE6nF6pBPzyl+X7JxLpEFE7gOsBvB/AQgDnEpE558oFALYppeYDuA7A\ntcG1CwEsA3A0gMUAvklE7TFp/gLA+wC8lPHe4iGVzh//sbZJu8CV5ogjKh3rWcCVsr9f/2dH7KZN\n+n9W0vnEJ/QEpRLc++feZl+fvj/pzwEqfTqAJh1AmwIPOwz4/OdDogF0xBJgn52hFoEEtug1XyQN\nmY7z6fjCh3SSoKMjJM4k5jXbhKI+pJMUH/uYfsZ33pntucXB17zGna8TTgC++tVQobe1AZdeGl2H\nZGi+aU4GkkWvcblKJW1NcN1Lk8Oni3EigHVKqfVKqREAKwCY864sAfDtYPtOAKcTEQX7Vyil9iql\nNgBYF6TnTFMp9YRSamPG+/KDaw0MG/hDPOig0ByVp0+Hp9jh1UDZxJaVdGzgj+j11/V/XsHSR+kc\ncYT+Gx0F/uRPKk1o55yjP5ijj67Mt1pKhwdpApXmtaRKR869Fmde43E6Lp+OL3p6QgLLA+3t0QMW\nXeY1Jh1zPR0gNP0wpHktKU44QTfQt92WzLyWFPLezQ6ijPIbHNTfRJrnz+ksWGAnliTjdIBy0jEn\nL20R+Lzt2QA2id/9wT7rOUqpMQCDAGZEXOuTZiSI6CIiWk1Eq1/nxjMpXGtg2MAN9ezZIenkqXRe\nfln/P/ZY/X/TJl35du2qHum89lo4sLOvr1Lp2EgH0M7ctjbg/PMr0+7qKh8gaB6zpZcHbJF2QDKl\nwyPz8xqn44uennwblfb2UK35jtMBQvOaTemYxDBpkj7PZ+JNE0TasnD//WEdrAailA4Qvrvt2ys7\nXL7gsts6WUA6pbNrl46w/MAHypdpaBH4vG1bqIjyPCfpfm8opW5USi1SSi2amabiA5XhoVE480zg\nBz/QjsxqkM4rr+hG/i1v0R/lpk1hI1BNpdPbq/NbsKBypmpzwk/GX/818OijwCGHJMu3WkoHqCSd\ntEonqXktKnrNF2zezAtS6fjMSGCa12w+HfPe+vr0elDnnZeujO94R3l5q4EopcP5stIxO1y+4A7K\nMcfYj6dROo89puvhqafqCDagpUjHJ3qtH4D0kM0BsNlxTj8RdQCYBmAg5tq4NKuPpOa1s8/W23mS\nDlfG8XG9HHJXF3Dggdq8xqHJ1SQdblTuvbfSVOZSJlOmAL/7u8nzrSbpmASZxacTFY3kil7LYia6\n+GL/cGMfdHREI8qoPQAAIABJREFUh/FOn67fLc+NF5wzvmNI90JtSsf2znwHadogB5E2s9L5zW/0\nf5fSmTULuPBCvTiiD9rbw+jYt7xFWxUefjh+zr0mgs/bfgzAAiKaR0Rd0IEBK41zVgJgW8vZAO5V\nSqlg/7Igum0egAUAHvVMs/pIonQkOIQ5D5+OXD2S0z34YK10qk06r71Wbj4xScdlXkuLepjXkiqd\n8XE9NqKryz4epBo+naOO8g839kGc0pkxQ3dqOAQ7eHar/0crnWFYxunk/c6mTQuj3WoRSFAtpcMz\nLriUTkcHcNNN2g/qg/b2MLBh//11vVi3rukXbpOIJZ3AR3MJgLsBPA/gDqXUGiK6hog+GJx2M4AZ\nRLQOwKUALg+uXQPgDgDPAfgpgIuVUiVXmgBARJ8hon5o9fM0Ef1LfrdrIIlPRyJPpQPYSaeaSmfW\nLF2Jd+6MJk6XeS0tamFeM1cOTap0AG1Td9UL+bzy8unkjTjSAbTKYVIN7vWNjZp0tu+ymNeqoUY4\naKYWgQTVUjqMLKrPLBP/z1qmBoXX21ZKrVJKHaGUOlwptTzYd5VSamWwPayUWqqUmq+UOlEptV5c\nuzy47i1Kqbui0gz2/6NSao5SqkMpNUspdWF+t2tgxYryMSa+mDtXN2bVIp1DDtFKh3s8eZPOvvtq\nv4zM24a8lc78+foezUkg84CpdObN0w2rbUVVF3zWreGpgHg7Zcj066/rDnBVIAMJfHrIwTkjW7UP\nceeIp3ktK5h0bIsb5gFf81oWpXPNNdrvkpcS4ee8337VI+M6ozXvyhdTp6Yb7f/JT+qpXvJSAPxB\nSKWzezewcaP+nTfpAMDll2u7urnmjUSMOWzlyvi168owf76efVrOO5YXTNI59FAdnOE7IzEQms4G\nBqIVMJ/HpMM+oASNxL/+q16RmoMWc0VHR7zSkQjudWxQN/47hj0CCfIAk86zz+afNuAfSJBF6fz1\nX2ufS17g55w2OKoJMLFJJy26u5NHbkXBpnSA/7+9Kw2Pqsjab6U7CS6AAkIiyo6CKKIsI4MLgoIr\nuCAD6qi4jI4OOt+Mivjohwvo566jjLigIjKOimFAcJQBFxAZ2RK2BEgAE4EkJAQCCZCkk/P9eG+l\nbne6k24InUjX+zz93Hvr1q0+t27Veeuc2swyGEeCdOLjOWR15sza4wBBFVdhIfs43z1yzs/IEGwi\na6TQFX379tpHG7lJxz0RM0JLB+B+gPWOcNxrbjh5V7WXpFN8MPw+nawsYMmSQ5RTk46eCF3fCMfS\n2bePxHOolk59w5KORVQQSDq603H5ch6PVIVo2rT2Fl4t7rX8fB71Qgp1IT0d+OmnCOWLBPVBOq1b\n87htW+2Wjm4164EEeluACEinsJDHiCzFcHGI7jVPKd1rew6E716bMMEM6owYSUnA+PGcinAkEI6l\nU1TE88bSf6LzWZfFoxCxveBnY0Ew0omLA1av5nVtC5EeSdRCOnoFndzc8JJ66CF6C9evrx/RaqA+\nLZ2CgtrdjoHuNb0S8CGQjtZ59Yq6JocGwsm7RB8tnd0RDCTIy+Mv2EaxdUIp4JlnInwoAoRj6WhT\ns7GRjrV0Yg8zZgAPPxylPwvs00lM5HBSny/08vgRoLw89BYytaKWPh1NOnr1nrqwdWvwuBMnml0c\nDguaIJ1jRQXw2mtG94YFd+syXPfaIfbpaF13REgnSJ+OCDBsGPD550HiO9/5eJB0ikrDt3Q0eW7Y\ncNhSh0R5OQdczpgR4YPhjF7TH8C616IGSzpBsG4dF2b+299YWcOBrnyHBF2x3Tt4du/OYz3050yf\nzuWuIu60btuWLUC9iKcLuk8iHEtHBMjOZn+te1fu0lL2w06fHqFcwRBg6Xz7LbdfmT8/gjRatDDE\nEY57LZB06tnS+eMfgQ8+CDtJgyB9OoWFwBdfcHHnGnCUczXplARZey3Eu+lykJFxCHKGibw8lrNl\nyyJ8MC6OcickVMufn+/qg/J4zAtEbKYdIVjSiT2IcGWPsjL+dJksKOCCyhUVrMALFphn1q9nIzmw\nQmdlcZRSnQh0rwH1Sjrp6XwvPdE5FA4eBFatcgW0bk2/SZ8+NeK6LZ26iHnXLrNTg+4LAqhMgPBd\ndLUigHR033R2JGuVx8WZZe3DsXS8XpRVelBeeuikE6pPZ/du4K23gFmzwk7SwO1ec/Y30nMY3flf\nDSfvWoLm185S1wTYWiwdkehYOlpm9zZTYSMhwa8/Z9w4Lg5QUQH/iZihtjCPNizpxB4KCuju0Tst\na6U1eTIwaRKV8uTJwNChZnpBaior4LRp/mm9+CJXcdcN4ZA4wqSjyaauSnvXXUC/fuF1bmvSOXiw\n5m6/gXArfk00gCGb3Fzm37vvHsaUDUdxrkn34uDBQyQdwFT2MIdMp2/0onB7ZKQjUrd7bckSxovE\nOq2qouV4oNy1ppozaTEc0mmPbOyOa4m8kuNr3AvmOty714yhCEY6mzeH2eiqA4dFOvHx1a61ykpg\n3jyW2S1bYL5XXBwHNTQGxMBAAks6AdBTY/RSSbqgf/opj9u3U5FVVZm4WVk8zp5tWvQARzxXVdVU\nHIsXcweAIUMcL4j2Nx8h95omndoU8BdfAB99xIq5dWvdaboX9q6rX8etLEJZOqtXk/QCiTsUSkrM\nRpcAqpXj0Cu9eO89M6ouJ4eK/d13w3SV6soepnttzz4P4ioj69PZt88o61Ck8/33PIY7OhCgIp04\nEdiWR2tvra870jPpOquVdBz3WhwE+cd38m906GWaghCqtnLi4oK7115+Gbjppsj6rWbNqklUoUgn\nK4sj5/zKQSASEqrr17JlRuaMDJh3Skqqvzl3hwtr6cQetGLWlk5ODt1nulLt2GEUgVbOmZmseCUl\nwJdfMqyqysx5c1cWEeD664G5c+mOW7wY7MRs1QqIj0durkNS3boBADYXhk86ZWWcO6NHWuv/05uS\n1tZSHDfOcF441sHOnUYv1+UeC8fS0XmZllb3fwNUNqNHuwIcYSrgxbp1/pbO1KkkNN04qBWadMJw\nr/nEg+ISDxIQmaXj7v8LpZAXLeJx505DUHVB53PRXsqRWtWzet6iJh13/j/7LDfLdBNsUbOO1Rtp\nViMxsVbSOecclrHAQRvp6TzqofLFxexn06s7BcOzz3LzTncDQVvVhYX+jbqUFA6MqHUofnx8dSNh\n7lzzGunpMBd6i/XGAEs6sQddcXv14kjlnBxaObpPcvt2Y7loRZmVxUWCk5JoLeh09M4EbqW7YQOt\nhGefZV2fPx8cJvfVV/D5gEGD+Fub0xwbcRoWbDg17BFYa9ZwlQB3P0BenqmogWSybBnw3Xcky4wM\ns0p9djZHAdc2OGLnTrOwbl2WTna2/w4ObtkA5pMeSp2aSuU1YwaJOxRSU4GFC10KuZp04rFpk7+l\no+fY1mXB+XzAviah3Wv5+dziZHUWSWdrjgcV4kE8Ipuno11rHk9wV2ZJCUcbJiVR+dZF6nv20IWr\nLe+iYsqxFmdVW7na/bV/v3FhzphBV3FOrhnltadlp5oyhbB0tLV7wQX8VpmZ/vc16ehNMFNSOKKw\ntpWnsrJYLjIzSVJlZf7WmXseqf6utS5o4LJ05s3j5sCnnBJg6bSNaCuvIwu9IaHb63GUIaZJZ8IE\nYNQoLp+kFfvPP3PAVvPmXBggJ4eK/PzzWTZDkc7ppwO33864mzdzqxENt4WxeDGPl13GNOfPB+eE\n9O6NDz+kcti0CRgzBhiAJfifA5OQkhLe++hpPbqyA8a11rRpTdK57z7uw6Yr7cCBbBTm5HDO3rnn\nhnZJFRSY/eZCKcXUVOD55/m/HTuyHgWzdACzJfzatcCUKWaPLzcOHCDZlZTwuH+/sYzES8Xpgxeb\nNhnllJsLrFjB87pIZ+pU4OWPgls6+fnc3mTePOCtwuuBxx7D+swEVMKDRDiFJ0JLp2PH4JbOO+/Q\nzTlqFK9rc7GJ0NJ44gnzfcsr/UmnooKWiO4rz88nSW3cyOefeCoOPvCZ/W061bR0mjSBeDw1VnvR\n76G3xnH36+zaZSwUTTo//MBjqCHyu3cbEl6wgA2/hx4KTTq6vAcjHZ8PePttQOI5kKC4mPEvuYTL\n8TVqS6dly6N23TUgxkmnuJit/QkT2B8DsOLq9SjbtaNSW70auPRSko5ugQFUYkVF/HXtSiXu9XKo\ntSadZs1qkk6bNox/6aXGOnn0UY6O69uX/7NyJXDela3QtsuxmDw5vPfRldA9AVO71i66iHJoEikp\nYeXPyTEuwbPP5rtnZ1NR/PKLIbCSEm65s2oVlf3u3VSaTZuGtnRefpluu4ULmW5SUmjS0QqtvJwD\nMAB/N2F5OfNrwAB/8tCKrHAvLZMOnb3V+9/ptT61MtSWQCisXAnkVga3dGbNYl6eeSbw7+09gaef\nRsYGhQrEI0FbOo6iKCggYf/97+b5wkLzvlpZn3ZaTdJ55x3gL3+hRaUtz9oGE+zcyff68Ud+t8RE\noNIhkPWKpLNlC5Wwdhnn55NwfD4aAe+/D5SD71t+SiccPOg/tB1NmiA3Pw79+xvrQr8nQDIG/ElH\nu6M7d2Yd8/nMt/IbIemCe3Tlk0/yvZYvp7yaMHVdKisz/xeMdL76Crj7bqD4AAcS6LrRuze7Szds\nAPIKmU9VbRsZ6RzFgwiAGCedV18libRsScUPsKC7SWfLFirqgQNJBu5W2tatpqJ06cKKMXo0W8zz\n5lEpn366v4WxaBFbhkpxIAHAfpgXXqDCeP11khcA3HYb+yKWLAlv5I6uWFu2mEnymzdTF154IclC\nu3aWLmVrGmAne9OmfO/27fm8rsjffQe88goJY/BgVtqbb+a91q35zqEsHd3C3buXeZmUVHMggc7r\noiIzHUi37FesYCdxSgr3wVqyhFal9uF7PCTxzEzgux+pNO+8x3QIDxjgL09dpLNhA7ATwQcSrFlD\n63fECH7P/fupWPObufZJ8Xjg87EMaCuvqoqDI7p04S7eFRXmG3Ttyrzx+UwSzz/PeJ9/bpbgq410\ntHJfu5bv17cv4Enwoggn4qyhJ2PzZtOfo/eJy883jaJHH+XRe4yz/loH7nHjdrH5vInYlksF7e5z\nKyw0e8G1a0dZcnPZiNPx7riDDZaFC2nBx8eTdIJZ0Loude9urKSMDMrbuzfrjK4H6enMtzZt2MgK\nTE/X0xXHDQQuuKD6+pxzmP7+/UDWFsfSObkRuddGjGDFP4oR06QDUHFddRVJoqKCCkUvgqwr/THH\nsDKffLJxw515JklH+7H1YsaPP86+oKVLubO1dtEBPObkmBZnr17ANdew47SoiOn95jfsbJ02Dbj2\nWg7NBjjZ0Y1580gIACtdUREVY5s2VHRa0WzezEWrtXxalsWLSUZNmlBR9OzJSt2uHclLk9bMmXS1\n9etHi2joUGMVtm4NJCcHt3Ty8khemlRCWTp6zUeAaeuBfF27knSefpoDL6ZPN24c7W684grg66+Z\nz6tyWuFgYjMMHGSKtJt0kpODu9d27aILp7TU6W+DY+kEuNfWruX/nHEGFdymTVR8uzu75jB5PHj7\nbSrYYcNYlh5+mDokOZnXn31GZe3xsFECoNqdtW2bGZGVkEB3ZJMmtbvXtCVaVERLrUMHYGXfu/FM\ny5cx+BKF3bvZh+L1AhdfbL6NXiT94Yf5/RKOiwc8Hng7nlotU2Ehlf26rCYor/TA6/W3KgoK2N+t\nlLEe3n+f7upJkzjeQg/2uP9+Hn/3O+a5201WXMzyqklnzBgee/TgvcxMesCSk0351RbXqFEk7sA8\n0g2wm4sno+qRR5GayvKXlGQsYBVP0olr14gsnXvuAR58sKGlOKKIedIBaGns2cNhw/v2+Vs6AN0H\niYn+/Y3nn8+4P/3ESqc3QezShW6EPn1IGpp0RAxJaNKJi6Pb5sUX/fcaO+YYulY8Hiq6li39SWfx\nYpLVvfeSBH/7Wyrk4mJg5EjGSU+nfMuW0YLQ76Strh9+IOn168dr3T/Tvr1pNfbsSZnLyoA33gAu\nv5wKQXfwn3QSFWdaWk0Xh7Zypkzh+w4eTELMzaVSnTCBSqtHD7NaSefOxsU3ZgxJa+pUklF2tiGb\nBQvY73bddWyxDhoEPLDxXjRJT0XX08xun/378xgfT6tSWzr5+fyPf/+bLrAXX6SyLCgAdntp6Ui8\nsXREqOR69jQj2dPTqWSltyGdfQc8eOkl4LzzgI8/ZuPjpZf4DdPS+OyLL1KZt2xppmW99hqJ9Ztv\neK3JQSnTj+jGpk3mG7mHKpeW8r3unTkYdy+9rdpy/PBDllddRrWl060byS05GTxp1w4ntKKluHs3\nrf9Vq4CyxOZI7nQsevTw/86FhWYubbduzA/tQsvL4/t26EBX2aZNJNA7nd2xfvrJNALGjGGjbs0a\nksJdd/GZZ5/l/YoKY01p0lm9mvXk2mt5HVj+0tJ4Pz+f6aammh2yzzmHZaNbj0Y4kCAWICK/+l/v\n3r3lcFBSItKkiUifPiKAyOefM/y773j99NO8/ugjXgMi06fzmJws0qFD6LRfeYXxCgpEbrlFpFUr\nkcrKyOQbMULk1FNFHnhA5MQTRY4/XiQujum6ZQJEFi0S8XhE7r5bpG9fnqekiBQW8v4rr4iUlYkc\nc4zI/feLjB/P8ClT/N/R6xV5802eDx1qZCkuFklIYPiGDSI//8w8aNtWJDXVxPvrX0USE/lfGs89\nZ+Rs0oTHyZP5bjrf16wRWblS5D//MXE/+8ykccopDDv3XBGfT2TJkpr5efLJIkrxv5OTRc4+W2Ti\nRD63fz//ExDp3VukY0eed+/O481XFokAUjj2CRERSUsT2bLF5NHBg8z7gQNNOSg5qb0IIK8PSvGT\n9/bbmf8rVvD63Xf5TJs2/L9583h97LE8tmvH7+t+nwsvFLngAnP944+M+/HHvB48WKRLF5NX77xj\n4q5ZY8Kff55hLVuK3HMPy+yoUa5M69BBZPBg+e9/GX/ePJa7k08WqcrYIJKRITfdRBk1+vcXueQS\nnk+Zwufi40XOPJPnt9zCe1VVIg8+KDJ2LOtaXBzLhlKUS8vo9YoMGGDS/+UXc+/NN0VGjuT3EhG5\n6CKW7yJ+LnnuOf8yCojcdx+PTz7JtMeP9y8ncumlplDEKACskCjr6wYnjPr4HS7piIg89JAp4FpJ\n7Nsncv31VDoiIt9+y/vNmlEZ6fgzZoRONyXFpNm2rcgNN0Qum1aSAJXdyJEi//gHrzt0YIU6/3we\nS0pEunUzin3OHKZRVSXSurXI8OFU7gDvLVzI87Q0xlu0iNdnnSWyYwfTX7TIX54rrmCcXbt4vXq1\nSFISFexrrzHsvPMokxvTpvkTjiaafv14vnKliauVyQkniBw4YMKvuorhteXjwIGUR0Tkz3+mYpsx\ng8+lp4tcfDFl1TI0a2bOZ6VUyVSMka8eW1ydNxdfzOOPPzJNreSbNxcpLRU5ePUIEUCG4V/SsSPJ\nUL/D8uVGrvJykiVAIlm61Pyv/l1zjf+73HijSPv2IrNmMb/HjmW8IUN4PzlZ5NZbeQRE5s83z5aU\nmHTXrWNYjx7mfSZNcv3R2LEib74pGzbw3gcf8P3uuMNEeeYZ3isuNvmgiUs30ACR999n3KVLg3+f\n/v3Z0NDltGlTkpubqERYZps2ZXhKisirr/L8++/5/R591LxTu3amPC5ezHhz57JhkZjI608/DRDk\nsstEWrQILmSMoNGSDoDLAGwEkAXgkSD3EwF84tz/CUAH173xTvhGAEPrShNARyeNTCfNhLrkqw/S\nqahgwycuzhTeQGzcKNWt4pISVoiHHqo93RUr+IyusNqiiAQZGXy2Rw+jgCsr2WoF2OrbtcuQw223\nUZF+/71/Oo89xtblGWdQkVVUMHzbNhMnO5tp3nxzaHkWLhQZPZpKQaOoSOTqq6kMJk7k//zv//o/\npxXT22+zRa8V+fDh/iSm0b9/zfx97DHGHTcutHyffSby0kv+YUuWGGUaF8d027ShYtUWmLbMkpPZ\nitYNYf3bu5dpXX21VLekRaQ6gR8e+UJWrQotlwitj/h4NmZ0eQJEHn6Yx1df9Y/vbgwNG0bl7PHw\nHdLTpbqVP2QIzzdt8n8+KYkKWX+rQYNMesuW1ZQvP9+QOiAyc6a5N2cOw268UaRTJ1rLY8fyXl6e\nSTdQhkDs308CzsxkQ2jSJH5PbZW40bcvw5csYSMoLs5Yp2vWMM6yZczTIUNoeb/+Ou9v2yaydatI\nz54sj7rxWI0bbqB7I4bRKEkHgAfAZgCdACQAWA3gjIA49wKY4pyPAvCJc36GEz/RIZPNTnoh0wTw\nKYBRzvkUAH+sS8b6IB0REkmo1pm+D1AZibCVWxf27qWC9Xr5bGZm5HJVVYm88ALdWW6MHGkIzY19\n+0gCgdixg5UTYHrB4PPRytHum0iwezetOUCkV6+a+VNVReVRVSVy112Mt2UL3YYtWviTmPsZN2bO\n5HNvvRWZbNu387muXXlcvVpkwQKRf/2LVgBA5SRiXKeAyE03UdF16mTS0gpSK71q8/Dbb8OSZcEC\nkbVr6XIFSCQ+H63XkhL/uF9/Tfeg/taAyBNP8Dh4sFRbrOPG8du6rUIRkaeeomtKY/RoPjNyZHDZ\nyspMGfF6RfbsMfe0mxGgEneTRFUVy/lJJwX/jqFQXs7junUk09mz/e/fcgv/JyuL1/qdu3f3/58p\nUwwZJySwQabvl5b6u36rkZNzaBXyKEJjJZ3+AL52XY8HMD4gztcA+jvnXgCFAFRgXB0vVJrOM4UA\nvMH+O9SvvkgnHLRoQV99JFi+nC3qDh0iq5B14b33xM81Fg7GjKGFFoyU6gPffEPLa+vW2uNt3izy\n+OPMj507w3+HggL2c2glFC60ZejxsKXu/g5VVewruukmc33++ew7KypiS9xtOW3fLvLJJ+KfwPff\nR9xZV1FBee68s+64Bw6IdO5Ma2zvXrrndB/Ktm20En/4oe50xo+nUq7R6ndh6VJaq1On+odXVooc\ndxzzKi2NlsXixeb+ddeF9y6hsGNHzfrx6qt0x2oynjrVEG8gsrNJsmPHHlqjKRbRWElnBIB3Xde/\nB/BGQJx1AE5xXW8G0ArAGwBudoVPddILmqbzTJYr/FQA60LI9QcAKwCsaOfu3TzC+OYbKsxIsWUL\n3WT1CZ/P9D+Fi9JSVs5YRG4urbFgyMoi+WkUFIisX3/kZZo7l8o2HKxeLfLFFzwvLWU5DPU+obBn\nz+GVw9mzaaVFC2Vl/g2MkhL20+XlRU+GoxkNQTrhLK2qgoRJmHFChQcbql1b/JqBIm8DeBsA+vTp\nEzTOkYAezhop9JyM+oTHw3kUkeDYY81Q8FhDbavXB+5T16qVGQ58JHHlleHH7dmTP4DfUQ+BjgTN\nmx/eJpnDhh36s4eChAT/b3PccZysbPHrRTjzdLaBFofGKQACpwNWx1FKeQE0B1BUy7OhwgsBnOCk\nEeq/LCwsLCx+pQiHdJYD6KqU6qiUSgAHCswJiDMHwK3O+QgA3zim2xwAo5RSiUqpjgC6AlgWKk3n\nmW+dNOCkOfvQX8/CwsLCojGhTveaiPiUUn8CBwF4ALwnIuuVUk+B/sA5YF/NdKVUFmjhjHKeXa+U\n+hRAOgAfgPtEpBIAgqXp/OU4AP9USk0EkOqkbWFhYWFxFEDRuPh1o0+fPrJCr19vYWFhYREWlFIr\nRaRP3THrD3btNQsLCwuLqMGSjoWFhYVF1GBJx8LCwsIiarCkY2FhYWERNRwVAwmUUgUAsuuMGByt\nwPlBFjVh8yY0bN6Ehs2b0GhsedNeRE6K5h8eFaRzOFBKrYj26I1fC2zehIbNm9CweRMaNm+se83C\nwsLCIoqwpGNhYWFhETVY0nEWDbUICps3oWHzJjRs3oRGzOdNzPfpWFhYWFhED9bSsbCwsLCIGizp\nWFhYWFhEDTFNOkqpy5RSG5VSWUqpRxpanoaGUupnpdRapVSaUmqFE9ZCKfUfpVSmczyxoeWMBpRS\n7ymldiql1rnCguaFIv7mlKM1SqlzG07yI48QefOEUmq7U3bSlFJXuO6Nd/Jmo1JqaMNIHR0opU5V\nSn2rlMpQSq1XSj3ghNuy4yBmSUcp5QEwGcDlAM4AMFopdUbDStUocLGI9HLNJXgEwEIR6QpgoXMd\nC/gAwGUBYaHy4nJwr6iu4Dbqb0ZJxobCB6iZNwDwilN2eonIlwDg1KlRAHo4z/zdqXtHK3wA/ioi\n3QGcB+A+Jw9s2XEQs6QDoB+ALBHZIiLlAP4JYHgDy9QYMRzANOd8GoBrGlCWqEFEFoF7Q7kRKi+G\nA/jQ2Xb+v+Dut8nRkTT6CJE3oTAcwD9FpExEtgLIAuveUQkRyRWRVc75PgAZANrClp1qxDLptAXw\ni+t6mxMWyxAA85VSK5VSf3DC2ohILsAKBaB1g0nX8AiVF7YsEX9yXETvudywMZs3SqkOAM4B8BNs\n2alGLJOOChIW6+PHB4jIuaDJf59S6sKGFuhXAluW6BbqDKAXgFwALznhMZk3SqnjAXwO4M8isre2\nqEHCjur8iWXS2QbgVNf1KQB2NJAsjQIissM57gQwC3SD5Gtz3znubDgJGxyh8iLmy5KI5ItIpYhU\nAXgHxoUWc3mjlIoHCWeGiKQ4wbbsOIhl0lkOoKtSqqNSKgHs7JzTwDI1GJRSxymlmupzAEMArAPz\n5FYn2q0AZjeMhI0CofJiDoBbnJFI5wEo1q6UWEFAP8S1YNkBmDejlFKJSqmOYIf5smjLFy0opRSA\nqQAyRORl1y1bdhx4G1qAhoKI+JRSfwLwNQAPgPdEZH0Di9WQaANgFusMvAD+ISJfKaWWA/hUKXUH\ngBwANzSgjFGDUupjAAMBtFJKbQMwAcD/IXhefAngCrCTfD+AMVEXOIoIkTcDlVK9QNfQzwDuBgAR\nWa+U+hRAOjiy6z4RqWwIuaOEAQB+D2CtUirNCXsUtuxUwy6DY2FhYWERNcSye83CwsLCIsqwpGNh\nYWFhETWz6ronAAAAM0lEQVRY0rGwsLCwiBos6VhYWFhYRA2WdCwsLCwsogZLOhYWFhYWUYMlHQsL\nCwuLqOH/AULRq657tJ+2AAAAAElFTkSuQmCC\n",
      "text/plain": [
       "<matplotlib.figure.Figure at 0x1f96a17ca58>"
      ]
     },
     "metadata": {},
     "output_type": "display_data"
    }
   ],
   "source": [
    "plt.plot(model.X_train[model.Y_train == 0][:, 0], color='b', label='Y = 0')\n",
    "plt.plot(model.X_train[model.Y_train == 1][:, 0], color='r', label=\"Y = 1\")\n",
    "plt.legend()\n",
    "plt.title('Diff_to_mean when there is an accident and where there is not')\n",
    "plt.show()"
   ]
  },
  {
   "cell_type": "markdown",
   "metadata": {},
   "source": [
    "## Test several classifiers"
   ]
  },
  {
   "cell_type": "code",
   "execution_count": 24,
   "metadata": {},
   "outputs": [
    {
     "name": "stdout",
     "output_type": "stream",
     "text": [
      "-- Linear SVM --\n",
      "Score on train set: 54.293%\n",
      "Score on test set: 51.02%\n",
      "-- Logistic Regression --\n",
      "Score on train set: 54.293%\n",
      "Score on test set: 51.02%\n",
      "-- Trees --\n",
      "Score on train set: 100.0%\n",
      "Score on test set: 88.776%\n"
     ]
    }
   ],
   "source": [
    "# Classification using a SVM (Support Vector Machine)\n",
    "print(\"-- Linear SVM --\")\n",
    "lin_clf = svm.SVC()\n",
    "_, _ = model.test_classif_model(lin_clf, print_results=True)\n",
    "\n",
    "print(\"-- Logistic Regression --\")\n",
    "logreg = LogisticRegression()\n",
    "_, _ = model.test_classif_model(logreg, print_results=True)\n",
    "\n",
    "print(\"-- Trees --\")\n",
    "TreeClassif = tree.DecisionTreeClassifier()\n",
    "_, _ = model.test_classif_model(TreeClassif, print_results=True)"
   ]
  },
  {
   "cell_type": "code",
   "execution_count": null,
   "metadata": {},
   "outputs": [],
   "source": []
  },
  {
   "cell_type": "code",
   "execution_count": 25,
   "metadata": {},
   "outputs": [
    {
     "data": {
      "text/plain": [
       "DecisionTreeClassifier(class_weight=None, criterion='gini', max_depth=None,\n",
       "            max_features=None, max_leaf_nodes=None,\n",
       "            min_impurity_decrease=0.0, min_impurity_split=None,\n",
       "            min_samples_leaf=1, min_samples_split=2,\n",
       "            min_weight_fraction_leaf=0.0, presort=False, random_state=None,\n",
       "            splitter='best')"
      ]
     },
     "execution_count": 25,
     "metadata": {},
     "output_type": "execute_result"
    }
   ],
   "source": [
    "TreeClassif"
   ]
  },
  {
   "cell_type": "markdown",
   "metadata": {
    "collapsed": true
   },
   "source": [
    "## Compute metrics on patient"
   ]
  },
  {
   "cell_type": "code",
   "execution_count": 26,
   "metadata": {},
   "outputs": [
    {
     "name": "stdout",
     "output_type": "stream",
     "text": [
      "The classes have been adjusted, there is now 247 data in each class\n",
      "To do training by patient do not adjust the classes. Load new data without adjusting the classes\n"
     ]
    }
   ],
   "source": [
    "model = PredictionModel(descr.descriptors, False)\n",
    "model.set_train_test_by_patient(0.5)"
   ]
  },
  {
   "cell_type": "code",
   "execution_count": null,
   "metadata": {},
   "outputs": [],
   "source": []
  },
  {
   "cell_type": "markdown",
   "metadata": {
    "collapsed": true
   },
   "source": [
    "# All pipeline"
   ]
  },
  {
   "cell_type": "code",
   "execution_count": null,
   "metadata": {
    "collapsed": true
   },
   "outputs": [],
   "source": []
  },
  {
   "cell_type": "code",
   "execution_count": 27,
   "metadata": {},
   "outputs": [],
   "source": [
    "def test_tau(tau, len_X=10):\n",
    "    params = {'thres_mean': 1e-4,\n",
    "          'X0_base': 0.0042,\n",
    "          'thres_gal': 0.2}\n",
    "    descr = DescriptorModel(\"./data/out_O2_taub.csv\")\n",
    "    descr.process_var(params)\n",
    "    descr.compute_descriptors(tau, len_X=10)\n",
    "    \n",
    "    model = PredictionModel(descr.descriptors, tau, adjust_classes=False)\n",
    "    \n",
    "    list_descriptors = ['X', 'diff_to_mean']\n",
    "    model.set_train_test_by_patient(list_descriptors, 0.4)\n",
    "    prediction = model.compute_metrics(tree.DecisionTreeClassifier())\n",
    "    results = model.analyze_prediction(prediction)\n",
    "    return results, prediction"
   ]
  },
  {
   "cell_type": "code",
   "execution_count": 32,
   "metadata": {},
   "outputs": [
    {
     "name": "stdout",
     "output_type": "stream",
     "text": [
      "100 simulations with 36 values loaded\n",
      "The descriptors computed are: ['mean', 'diff_to_mean', 'diff_first_second_mean', 'diff_to_X0', 'actual_evolution', 'past_evolution', 'mean_past_evolution', 'X_1', 'X_2', 'X_3', 'X_4', 'X_5', 'X_6', 'X_7', 'X_8', 'X_9', 'X_10']\n",
      "100 trajectories of length 36\n",
      "40 patients in the test set and 60 in the train set\n"
     ]
    },
    {
     "data": {
      "text/plain": [
       "{'avg_advance': 4.666666666666667,\n",
       " 'avg_delay': 1.0,\n",
       " 'nb_accident': 18,\n",
       " 'nb_advance': 6,\n",
       " 'nb_delay': 2,\n",
       " 'nb_ok': 0,\n",
       " 'nb_prediction': 8}"
      ]
     },
     "execution_count": 32,
     "metadata": {},
     "output_type": "execute_result"
    }
   ],
   "source": [
    "results, prediction = test_tau(tau=2)\n",
    "results"
   ]
  },
  {
   "cell_type": "code",
   "execution_count": 33,
   "metadata": {},
   "outputs": [
    {
     "name": "stdout",
     "output_type": "stream",
     "text": [
      "100 simulations with 36 values loaded\n",
      "The descriptors computed are: ['mean', 'diff_to_mean', 'diff_first_second_mean', 'diff_to_X0', 'actual_evolution', 'past_evolution', 'mean_past_evolution', 'X_1', 'X_2', 'X_3', 'X_4', 'X_5', 'X_6', 'X_7', 'X_8', 'X_9', 'X_10']\n",
      "100 trajectories of length 36\n",
      "40 patients in the test set and 60 in the train set\n"
     ]
    },
    {
     "data": {
      "text/plain": [
       "{'avg_advance': 8.2,\n",
       " 'avg_delay': nan,\n",
       " 'nb_accident': 16,\n",
       " 'nb_advance': 5,\n",
       " 'nb_delay': 0,\n",
       " 'nb_ok': 0,\n",
       " 'nb_prediction': 5}"
      ]
     },
     "execution_count": 33,
     "metadata": {},
     "output_type": "execute_result"
    }
   ],
   "source": [
    "results, prediction = test_tau(tau=3)\n",
    "results"
   ]
  },
  {
   "cell_type": "code",
   "execution_count": 34,
   "metadata": {},
   "outputs": [
    {
     "name": "stdout",
     "output_type": "stream",
     "text": [
      "100 simulations with 36 values loaded\n",
      "The descriptors computed are: ['mean', 'diff_to_mean', 'diff_first_second_mean', 'diff_to_X0', 'actual_evolution', 'past_evolution', 'mean_past_evolution', 'X_1', 'X_2', 'X_3', 'X_4', 'X_5', 'X_6', 'X_7', 'X_8', 'X_9', 'X_10']\n",
      "100 trajectories of length 36\n",
      "40 patients in the test set and 60 in the train set\n"
     ]
    },
    {
     "data": {
      "text/plain": [
       "{'avg_advance': 8.857142857142858,\n",
       " 'avg_delay': nan,\n",
       " 'nb_accident': 14,\n",
       " 'nb_advance': 7,\n",
       " 'nb_delay': 0,\n",
       " 'nb_ok': 1,\n",
       " 'nb_prediction': 8}"
      ]
     },
     "execution_count": 34,
     "metadata": {},
     "output_type": "execute_result"
    }
   ],
   "source": [
    "results, prediction = test_tau(tau=1)\n",
    "results"
   ]
  },
  {
   "cell_type": "code",
   "execution_count": null,
   "metadata": {},
   "outputs": [],
   "source": []
  },
  {
   "cell_type": "code",
   "execution_count": null,
   "metadata": {
    "collapsed": true
   },
   "outputs": [],
   "source": []
  },
  {
   "cell_type": "code",
   "execution_count": null,
   "metadata": {
    "collapsed": true
   },
   "outputs": [],
   "source": []
  },
  {
   "cell_type": "code",
   "execution_count": null,
   "metadata": {
    "collapsed": true
   },
   "outputs": [],
   "source": []
  },
  {
   "cell_type": "code",
   "execution_count": null,
   "metadata": {},
   "outputs": [],
   "source": []
  },
  {
   "cell_type": "code",
   "execution_count": null,
   "metadata": {},
   "outputs": [],
   "source": []
  },
  {
   "cell_type": "code",
   "execution_count": null,
   "metadata": {},
   "outputs": [],
   "source": []
  },
  {
   "cell_type": "code",
   "execution_count": null,
   "metadata": {},
   "outputs": [],
   "source": []
  },
  {
   "cell_type": "code",
   "execution_count": null,
   "metadata": {
    "collapsed": true
   },
   "outputs": [],
   "source": []
  },
  {
   "cell_type": "code",
   "execution_count": null,
   "metadata": {
    "collapsed": true
   },
   "outputs": [],
   "source": []
  },
  {
   "cell_type": "code",
   "execution_count": null,
   "metadata": {
    "collapsed": true
   },
   "outputs": [],
   "source": []
  },
  {
   "cell_type": "code",
   "execution_count": null,
   "metadata": {
    "collapsed": true
   },
   "outputs": [],
   "source": []
  },
  {
   "cell_type": "code",
   "execution_count": null,
   "metadata": {
    "collapsed": true
   },
   "outputs": [],
   "source": []
  },
  {
   "cell_type": "code",
   "execution_count": null,
   "metadata": {
    "collapsed": true
   },
   "outputs": [],
   "source": []
  }
 ],
 "metadata": {
  "kernelspec": {
   "display_name": "Python 2",
   "language": "python",
   "name": "python2"
  },
  "language_info": {
   "codemirror_mode": {
    "name": "ipython",
    "version": 2
   },
   "file_extension": ".py",
   "mimetype": "text/x-python",
   "name": "python",
   "nbconvert_exporter": "python",
   "pygments_lexer": "ipython2",
   "version": "2.7.12"
  }
 },
 "nbformat": 4,
 "nbformat_minor": 2
}
