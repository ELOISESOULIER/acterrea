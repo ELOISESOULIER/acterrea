{
 "cells": [
  {
   "cell_type": "markdown",
   "metadata": {},
   "source": [
    "## Comparaison des distances sur des simulations de modèles de ressorts perturbés\n",
    "\n",
    "Chaque jeu de simulation a été simulé pour des paramètres `(F, k)` fixés. Le bruit et les conditions intiales sont aléatoires et varient selon chaque simulation."
   ]
  },
  {
   "cell_type": "code",
   "execution_count": 1,
   "metadata": {},
   "outputs": [],
   "source": [
    "import numpy as np\n",
    "from matplotlib import pyplot as plt\n",
    "import time\n",
    "import pandas as pd\n",
    "from tqdm import tqdm\n",
    "import pickle\n",
    "from sklearn import preprocessing\n",
    "\n",
    "from descriptor import compute_descriptor\n",
    "from wasserstein_distance import compute_wasserstein_distance\n",
    "from kolmogorov_distance import compute_kolmogorov_dist\n",
    "from data_functions import load_data, plot_data\n",
    "import simu_ressort"
   ]
  },
  {
   "cell_type": "markdown",
   "metadata": {},
   "source": [
    "### Load data"
   ]
  },
  {
   "cell_type": "code",
   "execution_count": null,
   "metadata": {},
   "outputs": [],
   "source": [
    "all_simus = simu_ressort.load_obj(\"./data/ressort/simus.pkl\")\n",
    "\n",
    "print(\"{} parameters tested, and {} simus for each parameter.\".format(len(all_simus),\n",
    "                                                                      all_simus[0]['N']))\n",
    "print(\"The duration of each simu is {} dt.\".format(np.shape(all_simus[0]['simu'])[1]))"
   ]
  },
  {
   "cell_type": "markdown",
   "metadata": {},
   "source": [
    "`all_simu` contient les simulations, chaque élément contient les paramètres et toutes les simulations effectuées avec ces paramètres dans l'item `simu`"
   ]
  },
  {
   "cell_type": "code",
   "execution_count": null,
   "metadata": {},
   "outputs": [],
   "source": []
  },
  {
   "cell_type": "code",
   "execution_count": null,
   "metadata": {},
   "outputs": [],
   "source": [
    "i, j = 10, 10\n",
    "simu_ressort.plot_ressort(all_simus[i]['simu'][j, :], F=all_simus[i]['F'], k=all_simus[i]['k'])"
   ]
  },
  {
   "cell_type": "markdown",
   "metadata": {},
   "source": [
    "#### Mettre sous la forme DataFrame comme les simus de poumons\n",
    "Format qu'il faudrait que l'on change parce qu'il est pas ouf mais bon..."
   ]
  },
  {
   "cell_type": "code",
   "execution_count": null,
   "metadata": {},
   "outputs": [],
   "source": [
    "sets = simu_ressort.transform_simus_to_df(all_simus, nmax=100)"
   ]
  },
  {
   "cell_type": "code",
   "execution_count": null,
   "metadata": {},
   "outputs": [],
   "source": [
    "def plot_df(df, nmax=None):\n",
    "    if not nmax:\n",
    "        nmax = df.shape[1]\n",
    "    for col in df.columns[:nmax]:\n",
    "        df[col].plot()\n",
    "    plt.show()"
   ]
  },
  {
   "cell_type": "code",
   "execution_count": null,
   "metadata": {},
   "outputs": [],
   "source": [
    "# Exemples de simus\n",
    "\n",
    "plt.title(\"F={}, k={}\".format(all_simus[0]['F'],all_simus[0]['k']))\n",
    "plot_df(sets[0], nmax=5)\n",
    "\n",
    "i = 42\n",
    "plt.title(\"F={}, k={}\".format(all_simus[i]['F'], all_simus[i]['k']))\n",
    "plot_df(sets[i], nmax=5)\n",
    "\n",
    "i = 80\n",
    "plt.title(\"F={}, k={}\".format(all_simus[i]['F'], all_simus[i]['k']))\n",
    "plot_df(sets[i], nmax=5)"
   ]
  },
  {
   "cell_type": "code",
   "execution_count": null,
   "metadata": {},
   "outputs": [],
   "source": [
    "df1 = sets[0]\n",
    "df1.head()"
   ]
  },
  {
   "cell_type": "code",
   "execution_count": null,
   "metadata": {},
   "outputs": [],
   "source": [
    "compute_kolmogorov_dist(sets[0], sets[42]), compute_kolmogorov_dist(sets[41], sets[42])"
   ]
  },
  {
   "cell_type": "code",
   "execution_count": null,
   "metadata": {},
   "outputs": [],
   "source": [
    "start_time = time.time()\n",
    "d = compute_wasserstein_distance(sets[0], sets[42])\n",
    "print(\"Execution time: {} min\".format(round((time.time() - start_time) / 60, 2)))\n",
    "print(\"Distance:\", d)"
   ]
  },
  {
   "cell_type": "markdown",
   "metadata": {},
   "source": [
    "## Calcul avec des poids"
   ]
  },
  {
   "cell_type": "code",
   "execution_count": null,
   "metadata": {},
   "outputs": [],
   "source": [
    "weights = [[0., 0.,  0., 0., 0., 0., 0.99999414990605873, 0.0034016158454299185, 0.]]\n",
    "\n",
    "# Check que la somme fait bien 1\n",
    "print(np.sum(weights))\n",
    "\n",
    "# Renormaliser\n",
    "weights /= np.sum(weights)\n",
    "weights = weights[0]\n",
    "print(weights)\n",
    "np.sum(weights)"
   ]
  },
  {
   "cell_type": "code",
   "execution_count": null,
   "metadata": {},
   "outputs": [],
   "source": [
    "compute_kolmogorov_dist(sets[0], sets[42], weights), compute_kolmogorov_dist(sets[41], sets[42], weights)"
   ]
  },
  {
   "cell_type": "code",
   "execution_count": null,
   "metadata": {},
   "outputs": [],
   "source": [
    "arr2 = np.array(sets[42]).T\n",
    "arr1 = np.array(sets[0]).T\n",
    "\n",
    "print(arr1.shape, arr2.shape)\n",
    "\n",
    "desc1 = [compute_descriptor(s1) for s1 in arr1]\n",
    "desc2 = [compute_descriptor(s2) for s2 in arr2]\n",
    "\n",
    "print(len(desc1), len(desc2))"
   ]
  },
  {
   "cell_type": "code",
   "execution_count": null,
   "metadata": {
    "scrolled": true
   },
   "outputs": [],
   "source": [
    "start_time = time.time()\n",
    "d = compute_wasserstein_distance(sets[0], sets[42], weights)\n",
    "print(\"Execution time: {} min\".format(round((time.time() - start_time) / 60, 2)))\n",
    "print(\"Distance:\", d)"
   ]
  },
  {
   "cell_type": "code",
   "execution_count": null,
   "metadata": {},
   "outputs": [],
   "source": []
  },
  {
   "cell_type": "markdown",
   "metadata": {},
   "source": [
    "### Calculer les distances entre chaque couple de simus"
   ]
  },
  {
   "cell_type": "code",
   "execution_count": null,
   "metadata": {},
   "outputs": [],
   "source": [
    "def compute_dist_sets(sets):\n",
    "    distances = []\n",
    "    \n",
    "    for df1 in tqdm(sets):\n",
    "    #for df1 in [sets[42]]:\n",
    "        for df2 in tqdm(sets):\n",
    "            kolm_dist = compute_kolmogorov_dist(df1, df2)\n",
    "            wasser_dist = compute_wasserstein_distance(df1, df2)\n",
    "            distances.append([kolm_dist, wasser_dist])\n",
    "            \n",
    "    return np.array(distances)\n",
    "\n",
    "def plot_comparaison(distances):\n",
    "    plt.scatter(distances[:, 0], distances[:, 1], marker='x')\n",
    "    plt.xlabel(\"Kolmogorov distance\")\n",
    "    plt.ylabel(\"Wasserstein distance\")\n",
    "    plt.title(\"Comparaison des distances\")\n",
    "    plt.show()"
   ]
  },
  {
   "cell_type": "code",
   "execution_count": null,
   "metadata": {
    "scrolled": true
   },
   "outputs": [],
   "source": [
    "distances = compute_dist_sets(sets)\n",
    "\n",
    "save_obj(distances, './data/distances_ressort.pkl')"
   ]
  },
  {
   "cell_type": "code",
   "execution_count": null,
   "metadata": {},
   "outputs": [],
   "source": [
    "plot_comparaison(distances)"
   ]
  },
  {
   "cell_type": "code",
   "execution_count": null,
   "metadata": {},
   "outputs": [],
   "source": [
    "distances"
   ]
  },
  {
   "cell_type": "code",
   "execution_count": null,
   "metadata": {},
   "outputs": [],
   "source": [
    "plt.scatter(distances[:20, 0], distances[:20, 1], marker='x')\n",
    "plt.show()"
   ]
  },
  {
   "cell_type": "code",
   "execution_count": null,
   "metadata": {},
   "outputs": [],
   "source": []
  }
 ],
 "metadata": {
  "kernelspec": {
   "display_name": "Python 3",
   "language": "python",
   "name": "python3"
  },
  "language_info": {
   "codemirror_mode": {
    "name": "ipython",
    "version": 3
   },
   "file_extension": ".py",
   "mimetype": "text/x-python",
   "name": "python",
   "nbconvert_exporter": "python",
   "pygments_lexer": "ipython3",
   "version": "3.6.3"
  }
 },
 "nbformat": 4,
 "nbformat_minor": 2
}
