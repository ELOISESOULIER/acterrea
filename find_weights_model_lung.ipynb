{
 "cells": [
  {
   "cell_type": "markdown",
   "metadata": {},
   "source": [
    "#### Essayer d'apprendre les paramètres du ressort à partir des descripteurs des signaux pour avoir des coefs d'importance pour les descripteurs (poids à mettre pour le calcul des distance)\n",
    "\n",
    "**Méthode utilisée:** regression linéaire sur un paramètre"
   ]
  },
  {
   "cell_type": "code",
   "execution_count": 22,
   "metadata": {},
   "outputs": [],
   "source": [
    "import numpy as np\n",
    "import os\n",
    "from matplotlib import pyplot as plt\n",
    "import pandas as pd\n",
    "import sklearn\n",
    "from sklearn.metrics import mean_squared_error, r2_score\n",
    "from sklearn import linear_model\n",
    "from sklearn.preprocessing import StandardScaler \n",
    "\n",
    "import simu_ressort\n",
    "import descriptor"
   ]
  },
  {
   "cell_type": "code",
   "execution_count": 71,
   "metadata": {},
   "outputs": [],
   "source": [
    "names_desc = ['mean', 'std', 'fr_max', 'ampl_max', 'spectral centroid',\n",
    "              'spectral width', 'spectral platitude', 'spectral asymetry']"
   ]
  },
  {
   "cell_type": "code",
   "execution_count": 24,
   "metadata": {},
   "outputs": [],
   "source": [
    "dir_to_load = \"data/lung_C\""
   ]
  },
  {
   "cell_type": "code",
   "execution_count": 59,
   "metadata": {
    "scrolled": true
   },
   "outputs": [
    {
     "name": "stdout",
     "output_type": "stream",
     "text": [
      "Parameters C:\n",
      "[0.0015, 0.001, 0.0025, 0.002, 0.0035, 0.003, 0.0045, 0.004, 0.0055, 0.005, 0.006]\n"
     ]
    }
   ],
   "source": [
    "files_to_load = os.listdir(dir_to_load)\n",
    "all_simus = []\n",
    "\n",
    "for file in files_to_load:\n",
    "    data_df = pd.read_csv(dir_to_load + '/' + file)\n",
    "    data_df = data_df[[col for col in data_df.columns if col[0] == 'V']]\n",
    "    \n",
    "    data_np = np.array(data_df).T\n",
    "    \n",
    "    # Cut data\n",
    "    data_np = data_np[:, 25:]\n",
    "    \n",
    "    all_simus.append({\n",
    "        'C': float(file[8:-4]),\n",
    "        'simu': data_np\n",
    "    })\n",
    "    \n",
    "print(\"Parameters C:\")\n",
    "print([x['C'] for x in all_simus])"
   ]
  },
  {
   "cell_type": "code",
   "execution_count": 54,
   "metadata": {},
   "outputs": [
    {
     "data": {
      "text/plain": [
       "(100, 25)"
      ]
     },
     "execution_count": 54,
     "metadata": {},
     "output_type": "execute_result"
    }
   ],
   "source": [
    "all_simus[0]['simu'].shape"
   ]
  },
  {
   "cell_type": "markdown",
   "metadata": {},
   "source": [
    "-> 100 simus de taille 50"
   ]
  },
  {
   "cell_type": "code",
   "execution_count": 55,
   "metadata": {},
   "outputs": [
    {
     "name": "stdout",
     "output_type": "stream",
     "text": [
      "11 parameters tested, and 100 simus for each parameter.\n",
      "The duration of each simu is 25 dt.\n",
      "8 descripteurs pour chaque simu\n"
     ]
    }
   ],
   "source": [
    "print(\"{} parameters tested, and {} simus for each parameter.\".format(len(all_simus),\n",
    "                                                                      all_simus[0]['simu'].shape[0]))\n",
    "print(\"The duration of each simu is {} dt.\".format(all_simus[0]['simu'].shape[1]))\n",
    "\n",
    "print(\"{} descripteurs pour chaque simu\".format(len(descriptor.compute_descriptor([1, 2]))))"
   ]
  },
  {
   "cell_type": "code",
   "execution_count": 56,
   "metadata": {},
   "outputs": [
    {
     "data": {
      "image/png": "[encoded data removed]",
      "text/plain": [
       "<matplotlib.figure.Figure at 0x2863608e978>"
      ]
     },
     "metadata": {},
     "output_type": "display_data"
    },
    {
     "name": "stdout",
     "output_type": "stream",
     "text": [
      "Descripteurs: [  6.33609687e-03   1.27312318e-05   0.00000000e+00   1.58402422e-01\n",
      "   1.33054031e-21   1.70811282e-02   3.80176384e+02  -1.10048241e-15]\n"
     ]
    }
   ],
   "source": [
    "i = 6\n",
    "V = all_simus[4]['simu'][i, :]\n",
    "simu_ressort.plot_ressort(V)\n",
    "desc = descriptor.compute_descriptor(V)\n",
    "print(\"Descripteurs:\", desc)"
   ]
  },
  {
   "cell_type": "code",
   "execution_count": null,
   "metadata": {},
   "outputs": [],
   "source": []
  },
  {
   "cell_type": "markdown",
   "metadata": {},
   "source": [
    "### Preprocess data"
   ]
  },
  {
   "cell_type": "code",
   "execution_count": 57,
   "metadata": {},
   "outputs": [
    {
     "name": "stderr",
     "output_type": "stream",
     "text": [
      "D:\\Cours\\Ponts\\MVA\\ACTERREA\\Code\\acterrea\\descriptor.py:8: RuntimeWarning: invalid value encountered in double_scalars\n",
      "  sm = np.sum(fft*(freq**i))/np.sum(fft)\n"
     ]
    },
    {
     "name": "stdout",
     "output_type": "stream",
     "text": [
      "8 descriptors and 1100 signals\n"
     ]
    }
   ],
   "source": [
    "nb_desc = len(descriptor.compute_descriptor([0]))\n",
    "nb_simus = len(all_simus) * len(all_simus[0]['simu'])\n",
    "print(\"{} descriptors and {} signals\".format(nb_desc, nb_simus))"
   ]
  },
  {
   "cell_type": "code",
   "execution_count": 66,
   "metadata": {},
   "outputs": [],
   "source": [
    "def preprocess_simu_to_numpy(all_simus, param='F'):\n",
    "\n",
    "    X_data = []\n",
    "    Y_data = []\n",
    "\n",
    "    for i in range(len(all_simus)):\n",
    "        for j in range(len(all_simus[i]['simu'])):\n",
    "            X_data.append(descriptor.compute_descriptor(all_simus[i]['simu'][j, :]))\n",
    "            Y_data.append([all_simus[i][param]])\n",
    "            \n",
    "    return np.array(X_data), np.array(Y_data)"
   ]
  },
  {
   "cell_type": "code",
   "execution_count": 67,
   "metadata": {},
   "outputs": [],
   "source": [
    "def separate_test_train(X_data, Y_data, pct_train=0.8):\n",
    "    n_train = int(pct_train * len(X_data))\n",
    "    \n",
    "    X_train = X_data[:n_train, :]\n",
    "    X_test = X_data[n_train:, :]    \n",
    "    Y_train = Y_data[:n_train, :]    \n",
    "    Y_test = Y_data[n_train:, :]\n",
    "    \n",
    "    return X_train, X_test, Y_train, Y_test"
   ]
  },
  {
   "cell_type": "code",
   "execution_count": 90,
   "metadata": {},
   "outputs": [
    {
     "name": "stdout",
     "output_type": "stream",
     "text": [
      "Shape of X_data: (1100, 8) and Y_data: (1100, 1)\n"
     ]
    }
   ],
   "source": [
    "X_data, Y_data = preprocess_simu_to_numpy(all_simus, param='C')\n",
    "\n",
    "Y_data *= 100  # Sinon valuers de C trop faibles et coefs nuls\n",
    "\n",
    "# Mettre les variables à la même échelle\n",
    "X_data = StandardScaler().fit_transform(X_data)\n",
    "\n",
    "print(\"Shape of X_data: {} and Y_data: {}\".format(np.shape(X_data), np.shape(Y_data)))\n",
    "\n",
    "X_train, X_test, Y_train, Y_test = separate_test_train(X_data, Y_data, pct_train=0.8)"
   ]
  },
  {
   "cell_type": "code",
   "execution_count": 91,
   "metadata": {},
   "outputs": [
    {
     "data": {
      "text/plain": [
       "array([[ 0.15],\n",
       "       [ 0.15],\n",
       "       [ 0.15],\n",
       "       ..., \n",
       "       [ 0.6 ],\n",
       "       [ 0.6 ],\n",
       "       [ 0.6 ]])"
      ]
     },
     "execution_count": 91,
     "metadata": {},
     "output_type": "execute_result"
    }
   ],
   "source": [
    "Y_data"
   ]
  },
  {
   "cell_type": "code",
   "execution_count": 92,
   "metadata": {},
   "outputs": [
    {
     "data": {
      "text/html": [
       "<div>\n",
       "<style>\n",
       "    .dataframe thead tr:only-child th {\n",
       "        text-align: right;\n",
       "    }\n",
       "\n",
       "    .dataframe thead th {\n",
       "        text-align: left;\n",
       "    }\n",
       "\n",
       "    .dataframe tbody tr th {\n",
       "        vertical-align: top;\n",
       "    }\n",
       "</style>\n",
       "<table border=\"1\" class=\"dataframe\">\n",
       "  <thead>\n",
       "    <tr style=\"text-align: right;\">\n",
       "      <th></th>\n",
       "      <th>mean</th>\n",
       "      <th>std</th>\n",
       "      <th>fr_max</th>\n",
       "      <th>ampl_max</th>\n",
       "      <th>spectral centroid</th>\n",
       "      <th>spectral width</th>\n",
       "      <th>spectral platitude</th>\n",
       "      <th>spectral asymetry</th>\n",
       "      <th>C</th>\n",
       "    </tr>\n",
       "  </thead>\n",
       "  <tbody>\n",
       "    <tr>\n",
       "      <th>count</th>\n",
       "      <td>1.100000e+03</td>\n",
       "      <td>1.100000e+03</td>\n",
       "      <td>1100.0</td>\n",
       "      <td>1.100000e+03</td>\n",
       "      <td>1.100000e+03</td>\n",
       "      <td>1.100000e+03</td>\n",
       "      <td>1.100000e+03</td>\n",
       "      <td>1.100000e+03</td>\n",
       "      <td>1100.000000</td>\n",
       "    </tr>\n",
       "    <tr>\n",
       "      <th>mean</th>\n",
       "      <td>1.984271e-16</td>\n",
       "      <td>7.771561e-17</td>\n",
       "      <td>0.0</td>\n",
       "      <td>-7.339583e-16</td>\n",
       "      <td>-6.890952e-17</td>\n",
       "      <td>-1.117086e-15</td>\n",
       "      <td>2.503654e-15</td>\n",
       "      <td>-4.491357e-18</td>\n",
       "      <td>0.350000</td>\n",
       "    </tr>\n",
       "    <tr>\n",
       "      <th>std</th>\n",
       "      <td>1.000455e+00</td>\n",
       "      <td>1.000455e+00</td>\n",
       "      <td>0.0</td>\n",
       "      <td>1.000455e+00</td>\n",
       "      <td>1.000455e+00</td>\n",
       "      <td>1.000455e+00</td>\n",
       "      <td>1.000455e+00</td>\n",
       "      <td>1.000455e+00</td>\n",
       "      <td>0.158186</td>\n",
       "    </tr>\n",
       "    <tr>\n",
       "      <th>min</th>\n",
       "      <td>-1.815600e+00</td>\n",
       "      <td>-6.498936e-01</td>\n",
       "      <td>0.0</td>\n",
       "      <td>-1.815600e+00</td>\n",
       "      <td>-1.532652e+01</td>\n",
       "      <td>-9.618939e-01</td>\n",
       "      <td>-8.970470e-01</td>\n",
       "      <td>-5.340493e+00</td>\n",
       "      <td>0.100000</td>\n",
       "    </tr>\n",
       "    <tr>\n",
       "      <th>25%</th>\n",
       "      <td>-8.741132e-01</td>\n",
       "      <td>-5.843812e-01</td>\n",
       "      <td>0.0</td>\n",
       "      <td>-8.741132e-01</td>\n",
       "      <td>4.952577e-02</td>\n",
       "      <td>-7.556734e-01</td>\n",
       "      <td>-7.191513e-01</td>\n",
       "      <td>-4.411892e-01</td>\n",
       "      <td>0.200000</td>\n",
       "    </tr>\n",
       "    <tr>\n",
       "      <th>50%</th>\n",
       "      <td>1.439629e-01</td>\n",
       "      <td>-3.230515e-01</td>\n",
       "      <td>0.0</td>\n",
       "      <td>1.439629e-01</td>\n",
       "      <td>1.534090e-01</td>\n",
       "      <td>-1.985273e-01</td>\n",
       "      <td>-5.013917e-01</td>\n",
       "      <td>-9.889158e-02</td>\n",
       "      <td>0.350000</td>\n",
       "    </tr>\n",
       "    <tr>\n",
       "      <th>75%</th>\n",
       "      <td>8.848027e-01</td>\n",
       "      <td>2.720326e-01</td>\n",
       "      <td>0.0</td>\n",
       "      <td>8.848027e-01</td>\n",
       "      <td>1.876520e-01</td>\n",
       "      <td>3.374518e-01</td>\n",
       "      <td>4.343168e-01</td>\n",
       "      <td>3.886164e-01</td>\n",
       "      <td>0.500000</td>\n",
       "    </tr>\n",
       "    <tr>\n",
       "      <th>max</th>\n",
       "      <td>1.506292e+00</td>\n",
       "      <td>1.420072e+01</td>\n",
       "      <td>0.0</td>\n",
       "      <td>1.506292e+00</td>\n",
       "      <td>8.368993e+00</td>\n",
       "      <td>5.218994e+00</td>\n",
       "      <td>2.407814e+00</td>\n",
       "      <td>6.556128e+00</td>\n",
       "      <td>0.600000</td>\n",
       "    </tr>\n",
       "  </tbody>\n",
       "</table>\n",
       "</div>"
      ],
      "text/plain": [
       "               mean           std  fr_max      ampl_max  spectral centroid  \\\n",
       "count  1.100000e+03  1.100000e+03  1100.0  1.100000e+03       1.100000e+03   \n",
       "mean   1.984271e-16  7.771561e-17     0.0 -7.339583e-16      -6.890952e-17   \n",
       "std    1.000455e+00  1.000455e+00     0.0  1.000455e+00       1.000455e+00   \n",
       "min   -1.815600e+00 -6.498936e-01     0.0 -1.815600e+00      -1.532652e+01   \n",
       "25%   -8.741132e-01 -5.843812e-01     0.0 -8.741132e-01       4.952577e-02   \n",
       "50%    1.439629e-01 -3.230515e-01     0.0  1.439629e-01       1.534090e-01   \n",
       "75%    8.848027e-01  2.720326e-01     0.0  8.848027e-01       1.876520e-01   \n",
       "max    1.506292e+00  1.420072e+01     0.0  1.506292e+00       8.368993e+00   \n",
       "\n",
       "       spectral width  spectral platitude  spectral asymetry            C  \n",
       "count    1.100000e+03        1.100000e+03       1.100000e+03  1100.000000  \n",
       "mean    -1.117086e-15        2.503654e-15      -4.491357e-18     0.350000  \n",
       "std      1.000455e+00        1.000455e+00       1.000455e+00     0.158186  \n",
       "min     -9.618939e-01       -8.970470e-01      -5.340493e+00     0.100000  \n",
       "25%     -7.556734e-01       -7.191513e-01      -4.411892e-01     0.200000  \n",
       "50%     -1.985273e-01       -5.013917e-01      -9.889158e-02     0.350000  \n",
       "75%      3.374518e-01        4.343168e-01       3.886164e-01     0.500000  \n",
       "max      5.218994e+00        2.407814e+00       6.556128e+00     0.600000  "
      ]
     },
     "execution_count": 92,
     "metadata": {},
     "output_type": "execute_result"
    }
   ],
   "source": [
    "# Transformer en DataFrame juste pour faire plus beau pour les coef de corr\n",
    "\n",
    "X_df = pd.DataFrame(X_data)\n",
    "X_df.columns = names_desc\n",
    "\n",
    "# Ajouter les variables F et k\n",
    "X_df['C'] = Y_data[:, 0]\n",
    "\n",
    "X_df.describe()"
   ]
  },
  {
   "cell_type": "code",
   "execution_count": null,
   "metadata": {},
   "outputs": [],
   "source": []
  },
  {
   "cell_type": "markdown",
   "metadata": {},
   "source": [
    "## 1. Coefficients de corrélation"
   ]
  },
  {
   "cell_type": "code",
   "execution_count": 93,
   "metadata": {},
   "outputs": [
    {
     "data": {
      "text/html": [
       "<div>\n",
       "<style>\n",
       "    .dataframe thead tr:only-child th {\n",
       "        text-align: right;\n",
       "    }\n",
       "\n",
       "    .dataframe thead th {\n",
       "        text-align: left;\n",
       "    }\n",
       "\n",
       "    .dataframe tbody tr th {\n",
       "        vertical-align: top;\n",
       "    }\n",
       "</style>\n",
       "<table border=\"1\" class=\"dataframe\">\n",
       "  <thead>\n",
       "    <tr style=\"text-align: right;\">\n",
       "      <th></th>\n",
       "      <th>mean</th>\n",
       "      <th>std</th>\n",
       "      <th>fr_max</th>\n",
       "      <th>ampl_max</th>\n",
       "      <th>spectral centroid</th>\n",
       "      <th>spectral width</th>\n",
       "      <th>spectral platitude</th>\n",
       "      <th>spectral asymetry</th>\n",
       "      <th>C</th>\n",
       "    </tr>\n",
       "  </thead>\n",
       "  <tbody>\n",
       "    <tr>\n",
       "      <th>mean</th>\n",
       "      <td>1.000000</td>\n",
       "      <td>0.384400</td>\n",
       "      <td>NaN</td>\n",
       "      <td>1.000000</td>\n",
       "      <td>-0.067369</td>\n",
       "      <td>0.370715</td>\n",
       "      <td>-0.818530</td>\n",
       "      <td>-0.061060</td>\n",
       "      <td>0.987665</td>\n",
       "    </tr>\n",
       "    <tr>\n",
       "      <th>std</th>\n",
       "      <td>0.384400</td>\n",
       "      <td>1.000000</td>\n",
       "      <td>NaN</td>\n",
       "      <td>0.384400</td>\n",
       "      <td>-0.542882</td>\n",
       "      <td>0.863207</td>\n",
       "      <td>-0.476052</td>\n",
       "      <td>0.178590</td>\n",
       "      <td>0.440609</td>\n",
       "    </tr>\n",
       "    <tr>\n",
       "      <th>fr_max</th>\n",
       "      <td>NaN</td>\n",
       "      <td>NaN</td>\n",
       "      <td>NaN</td>\n",
       "      <td>NaN</td>\n",
       "      <td>NaN</td>\n",
       "      <td>NaN</td>\n",
       "      <td>NaN</td>\n",
       "      <td>NaN</td>\n",
       "      <td>NaN</td>\n",
       "    </tr>\n",
       "    <tr>\n",
       "      <th>ampl_max</th>\n",
       "      <td>1.000000</td>\n",
       "      <td>0.384400</td>\n",
       "      <td>NaN</td>\n",
       "      <td>1.000000</td>\n",
       "      <td>-0.067369</td>\n",
       "      <td>0.370715</td>\n",
       "      <td>-0.818530</td>\n",
       "      <td>-0.061060</td>\n",
       "      <td>0.987665</td>\n",
       "    </tr>\n",
       "    <tr>\n",
       "      <th>spectral centroid</th>\n",
       "      <td>-0.067369</td>\n",
       "      <td>-0.542882</td>\n",
       "      <td>NaN</td>\n",
       "      <td>-0.067369</td>\n",
       "      <td>1.000000</td>\n",
       "      <td>-0.415668</td>\n",
       "      <td>0.139818</td>\n",
       "      <td>0.029950</td>\n",
       "      <td>-0.102731</td>\n",
       "    </tr>\n",
       "    <tr>\n",
       "      <th>spectral width</th>\n",
       "      <td>0.370715</td>\n",
       "      <td>0.863207</td>\n",
       "      <td>NaN</td>\n",
       "      <td>0.370715</td>\n",
       "      <td>-0.415668</td>\n",
       "      <td>1.000000</td>\n",
       "      <td>-0.646271</td>\n",
       "      <td>0.274857</td>\n",
       "      <td>0.421125</td>\n",
       "    </tr>\n",
       "    <tr>\n",
       "      <th>spectral platitude</th>\n",
       "      <td>-0.818530</td>\n",
       "      <td>-0.476052</td>\n",
       "      <td>NaN</td>\n",
       "      <td>-0.818530</td>\n",
       "      <td>0.139818</td>\n",
       "      <td>-0.646271</td>\n",
       "      <td>1.000000</td>\n",
       "      <td>-0.162407</td>\n",
       "      <td>-0.793639</td>\n",
       "    </tr>\n",
       "    <tr>\n",
       "      <th>spectral asymetry</th>\n",
       "      <td>-0.061060</td>\n",
       "      <td>0.178590</td>\n",
       "      <td>NaN</td>\n",
       "      <td>-0.061060</td>\n",
       "      <td>0.029950</td>\n",
       "      <td>0.274857</td>\n",
       "      <td>-0.162407</td>\n",
       "      <td>1.000000</td>\n",
       "      <td>-0.048114</td>\n",
       "    </tr>\n",
       "    <tr>\n",
       "      <th>C</th>\n",
       "      <td>0.987665</td>\n",
       "      <td>0.440609</td>\n",
       "      <td>NaN</td>\n",
       "      <td>0.987665</td>\n",
       "      <td>-0.102731</td>\n",
       "      <td>0.421125</td>\n",
       "      <td>-0.793639</td>\n",
       "      <td>-0.048114</td>\n",
       "      <td>1.000000</td>\n",
       "    </tr>\n",
       "  </tbody>\n",
       "</table>\n",
       "</div>"
      ],
      "text/plain": [
       "                        mean       std  fr_max  ampl_max  spectral centroid  \\\n",
       "mean                1.000000  0.384400     NaN  1.000000          -0.067369   \n",
       "std                 0.384400  1.000000     NaN  0.384400          -0.542882   \n",
       "fr_max                   NaN       NaN     NaN       NaN                NaN   \n",
       "ampl_max            1.000000  0.384400     NaN  1.000000          -0.067369   \n",
       "spectral centroid  -0.067369 -0.542882     NaN -0.067369           1.000000   \n",
       "spectral width      0.370715  0.863207     NaN  0.370715          -0.415668   \n",
       "spectral platitude -0.818530 -0.476052     NaN -0.818530           0.139818   \n",
       "spectral asymetry  -0.061060  0.178590     NaN -0.061060           0.029950   \n",
       "C                   0.987665  0.440609     NaN  0.987665          -0.102731   \n",
       "\n",
       "                    spectral width  spectral platitude  spectral asymetry  \\\n",
       "mean                      0.370715           -0.818530          -0.061060   \n",
       "std                       0.863207           -0.476052           0.178590   \n",
       "fr_max                         NaN                 NaN                NaN   \n",
       "ampl_max                  0.370715           -0.818530          -0.061060   \n",
       "spectral centroid        -0.415668            0.139818           0.029950   \n",
       "spectral width            1.000000           -0.646271           0.274857   \n",
       "spectral platitude       -0.646271            1.000000          -0.162407   \n",
       "spectral asymetry         0.274857           -0.162407           1.000000   \n",
       "C                         0.421125           -0.793639          -0.048114   \n",
       "\n",
       "                           C  \n",
       "mean                0.987665  \n",
       "std                 0.440609  \n",
       "fr_max                   NaN  \n",
       "ampl_max            0.987665  \n",
       "spectral centroid  -0.102731  \n",
       "spectral width      0.421125  \n",
       "spectral platitude -0.793639  \n",
       "spectral asymetry  -0.048114  \n",
       "C                   1.000000  "
      ]
     },
     "execution_count": 93,
     "metadata": {},
     "output_type": "execute_result"
    }
   ],
   "source": [
    "X_df.corr()"
   ]
  },
  {
   "cell_type": "code",
   "execution_count": 94,
   "metadata": {},
   "outputs": [
    {
     "data": {
      "text/plain": [
       "mean                  0.987665\n",
       "std                   0.440609\n",
       "fr_max                     NaN\n",
       "ampl_max              0.987665\n",
       "spectral centroid    -0.102731\n",
       "spectral width        0.421125\n",
       "spectral platitude   -0.793639\n",
       "spectral asymetry    -0.048114\n",
       "C                     1.000000\n",
       "Name: C, dtype: float64"
      ]
     },
     "execution_count": 94,
     "metadata": {},
     "output_type": "execute_result"
    }
   ],
   "source": [
    "X_df.corr()['C']"
   ]
  },
  {
   "cell_type": "markdown",
   "metadata": {},
   "source": [
    "`F` et `k` fortement corrélés à `spectrak width`mais également à `spectral platitude` et `spectral centroid`"
   ]
  },
  {
   "cell_type": "code",
   "execution_count": 76,
   "metadata": {},
   "outputs": [
    {
     "data": {
      "image/png": "[encoded data removed]",
      "text/plain": [
       "<matplotlib.figure.Figure at 0x286361d8860>"
      ]
     },
     "metadata": {},
     "output_type": "display_data"
    }
   ],
   "source": [
    "plt.scatter(X_data[:, 0], X_data[:, 1])\n",
    "plt.title('std en focntion de mean')\n",
    "plt.xlabel('std')\n",
    "plt.ylabel('mean')\n",
    "plt.show()"
   ]
  },
  {
   "cell_type": "code",
   "execution_count": null,
   "metadata": {},
   "outputs": [],
   "source": []
  },
  {
   "cell_type": "code",
   "execution_count": 95,
   "metadata": {},
   "outputs": [
    {
     "data": {
      "image/png": "[encoded data removed]",
      "text/plain": [
       "<matplotlib.figure.Figure at 0x28636758278>"
      ]
     },
     "metadata": {},
     "output_type": "display_data"
    },
    {
     "data": {
      "image/png": "[encoded data removed]",
      "text/plain": [
       "<matplotlib.figure.Figure at 0x28637d1b0f0>"
      ]
     },
     "metadata": {},
     "output_type": "display_data"
    },
    {
     "data": {
      "image/png": "[encoded data removed]",
      "text/plain": [
       "<matplotlib.figure.Figure at 0x28637d00dd8>"
      ]
     },
     "metadata": {},
     "output_type": "display_data"
    }
   ],
   "source": [
    "plt.scatter(Y_data[:, 0], X_data[:, 0])\n",
    "plt.title('Le paramètre C en fonction de mean')\n",
    "plt.xlabel('moyenne')\n",
    "plt.ylabel('C')\n",
    "plt.show()\n",
    "\n",
    "plt.scatter(Y_data[:, 0], X_data[:, 3])\n",
    "plt.title(\"Le paramètre C en fonction de l'amplitude maximale\")\n",
    "plt.xlabel('amplitude maximale')\n",
    "plt.ylabel('C')\n",
    "plt.show()\n",
    "\n",
    "plt.scatter(Y_data[:, 0], X_data[:, 4])\n",
    "plt.title(\"Le paramètre C en fonction du centroide spectral\")\n",
    "plt.xlabel('spectral centroid')\n",
    "plt.ylabel('C')\n",
    "plt.show()"
   ]
  },
  {
   "cell_type": "code",
   "execution_count": null,
   "metadata": {},
   "outputs": [],
   "source": []
  },
  {
   "cell_type": "markdown",
   "metadata": {},
   "source": [
    "## 2. Apprendre `C` avec une regression linéaire\n",
    "Pour trouver les poids des descripteurs"
   ]
  },
  {
   "cell_type": "code",
   "execution_count": 96,
   "metadata": {},
   "outputs": [],
   "source": [
    "def train_regr_lin(X_train, Y_train, X_test, Y_test):\n",
    "    regr = linear_model.LinearRegression()\n",
    "    regr.fit(X_train, Y_train)\n",
    "\n",
    "    y_pred = regr.predict(X_test)\n",
    "    print(\"MSE on test set:\", mean_squared_error(y_pred, Y_test))\n",
    "    \n",
    "    return regr"
   ]
  },
  {
   "cell_type": "code",
   "execution_count": 97,
   "metadata": {},
   "outputs": [
    {
     "name": "stdout",
     "output_type": "stream",
     "text": [
      "MSE on test set: 0.00134227216263\n"
     ]
    }
   ],
   "source": [
    "_ = train_regr_lin(X_train, Y_train, X_test, Y_test)"
   ]
  },
  {
   "cell_type": "markdown",
   "metadata": {},
   "source": [
    "-> L'erreur est assez variable selon le jeu de données et j'ai du mal à voir pourquoi"
   ]
  },
  {
   "cell_type": "markdown",
   "metadata": {},
   "source": [
    "#### Prédiction de `C`"
   ]
  },
  {
   "cell_type": "code",
   "execution_count": 100,
   "metadata": {},
   "outputs": [
    {
     "name": "stdout",
     "output_type": "stream",
     "text": [
      "MSE on test set: 0.00134227216263\n"
     ]
    }
   ],
   "source": [
    "regr_f = train_regr_lin(X_train, Y_train[:, 0], X_test, Y_test[:, 0])"
   ]
  },
  {
   "cell_type": "code",
   "execution_count": 101,
   "metadata": {},
   "outputs": [
    {
     "data": {
      "text/plain": [
       "array([  8.43937872e-02,  -1.34453259e-02,   6.93889390e-18,\n",
       "         8.43937872e-02,   3.93473117e-04,   2.94654269e-02,\n",
       "         2.96960844e-02,   2.02338753e-03])"
      ]
     },
     "execution_count": 101,
     "metadata": {},
     "output_type": "execute_result"
    }
   ],
   "source": [
    "regr_f.coef_"
   ]
  },
  {
   "cell_type": "code",
   "execution_count": null,
   "metadata": {},
   "outputs": [],
   "source": []
  },
  {
   "cell_type": "code",
   "execution_count": 103,
   "metadata": {
    "scrolled": true
   },
   "outputs": [
    {
     "name": "stdout",
     "output_type": "stream",
     "text": [
      "0.24139441165\n",
      "[ 0.34960953  0.05569858  0.          0.34960953  0.          0.12206342\n",
      "  0.12301894  0.        ]\n"
     ]
    },
    {
     "data": {
      "text/plain": [
       "{'ampl_max': 0.34960953174918369,\n",
       " 'fr_max': 0.0,\n",
       " 'mean': 0.34960953174918391,\n",
       " 'spectral asymetry': 0.0,\n",
       " 'spectral centroid': 0.0,\n",
       " 'spectral platitude': 0.12301893906475682,\n",
       " 'spectral width': 0.1220634177320702,\n",
       " 'std': 0.055698579704805427}"
      ]
     },
     "execution_count": 103,
     "metadata": {},
     "output_type": "execute_result"
    }
   ],
   "source": [
    "def normalize_coef(coefs, seuil=0.005):\n",
    "    coefs_treated = [abs(x) for x in coefs]\n",
    "    coefs_treated = [x if x > seuil else 0 for x in coefs_treated]\n",
    "    \n",
    "    # Somme = 1\n",
    "    print(np.sum(coefs_treated))\n",
    "    coefs_treated /= np.sum(coefs_treated)\n",
    "\n",
    "    # Mettre dans un dico pour faire joli\n",
    "    coefs_dico = {}\n",
    "    for i in range(len(coefs_treated)):\n",
    "        coefs_dico[names_desc[i]] = coefs_treated[i]\n",
    "    \n",
    "    return coefs_dico, coefs_treated\n",
    "    \n",
    "coefs_dico, coefs_treated = normalize_coef(regr_f.coef_)\n",
    "print(coefs_treated)\n",
    "coefs_dico"
   ]
  },
  {
   "cell_type": "code",
   "execution_count": 104,
   "metadata": {},
   "outputs": [
    {
     "data": {
      "text/plain": [
       "0.34463956984754979"
      ]
     },
     "execution_count": 104,
     "metadata": {},
     "output_type": "execute_result"
    }
   ],
   "source": [
    "regr_f.intercept_  # Zero à l'origine"
   ]
  },
  {
   "cell_type": "markdown",
   "metadata": {},
   "source": [
    "## 3. ACP"
   ]
  },
  {
   "cell_type": "code",
   "execution_count": 105,
   "metadata": {},
   "outputs": [],
   "source": [
    "from sklearn.decomposition import PCA"
   ]
  },
  {
   "cell_type": "code",
   "execution_count": 106,
   "metadata": {},
   "outputs": [],
   "source": [
    "from sklearn import preprocessing\n",
    "\n",
    "# Normalize data\n",
    "\n",
    "scaler = preprocessing.StandardScaler().fit(X_data)\n",
    "X_scaled = preprocessing.scale(X_data)"
   ]
  },
  {
   "cell_type": "markdown",
   "metadata": {},
   "source": [
    "#### Projection en 2D"
   ]
  },
  {
   "cell_type": "code",
   "execution_count": 107,
   "metadata": {},
   "outputs": [],
   "source": [
    "pca = PCA(n_components=2)\n",
    "principal_comp = pca.fit_transform(X_scaled)\n",
    "principal_df = pd.DataFrame(data=principal_comp, columns=['principal component 1', 'principal component 2'])\n",
    "principal_df['target'] = Y_data[:, 0]"
   ]
  },
  {
   "cell_type": "code",
   "execution_count": 108,
   "metadata": {},
   "outputs": [
    {
     "name": "stdout",
     "output_type": "stream",
     "text": [
      "[ 0.51372346  0.22806295]\n",
      "La premiere composante principale explique 51.37% de la variance des données\n"
     ]
    }
   ],
   "source": [
    "x = pca.explained_variance_ratio_\n",
    "print(x)\n",
    "print(\"La premiere composante principale explique {}% de la variance des données\".format(round(x[0] * 100, 2)))"
   ]
  },
  {
   "cell_type": "code",
   "execution_count": 109,
   "metadata": {
    "scrolled": true
   },
   "outputs": [
    {
     "data": {
      "text/plain": [
       "array([[ 0.44258638,  0.40408794, -0.        ,  0.44258638, -0.19908908,\n",
       "         0.41873049, -0.47307121,  0.07860966],\n",
       "       [-0.40511537,  0.41084634,  0.        , -0.40511537, -0.48627898,\n",
       "         0.37516416,  0.18036928,  0.30531931]])"
      ]
     },
     "execution_count": 109,
     "metadata": {},
     "output_type": "execute_result"
    }
   ],
   "source": [
    "pca.components_"
   ]
  },
  {
   "cell_type": "markdown",
   "metadata": {},
   "source": [
    "-> Coordonnées des premières et deuxiemes composantes principales dans l'espace des descripteurs\n",
    "\n",
    "ACP pour faire de la réduction de dimension: projetter sur un certains nb de composantes principales (nb < au nb de coord)\n",
    "\n",
    "**Problème de l'ACP:** la moyenne, variance, etc... sont les variables qui permettent le mieux d'\"étaler\" les points alors qu'elles ne sont pas pertinentes ici, car le but est de classifier en fonction de F et k\n",
    "\n",
    "-> Utile en non supervisé lorque l'on a vraiment aucune idée de ce que l'on cherche"
   ]
  },
  {
   "cell_type": "code",
   "execution_count": null,
   "metadata": {},
   "outputs": [],
   "source": []
  }
 ],
 "metadata": {
  "kernelspec": {
   "display_name": "Python 3",
   "language": "python",
   "name": "python3"
  },
  "language_info": {
   "codemirror_mode": {
    "name": "ipython",
    "version": 3
   },
   "file_extension": ".py",
   "mimetype": "text/x-python",
   "name": "python",
   "nbconvert_exporter": "python",
   "pygments_lexer": "ipython3",
   "version": "3.6.3"
  }
 },
 "nbformat": 4,
 "nbformat_minor": 2
}
