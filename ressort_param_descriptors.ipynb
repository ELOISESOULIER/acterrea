{
 "cells": [
  {
   "cell_type": "markdown",
   "metadata": {},
   "source": [
    "#### Essayer d'apprendre les paramètres du ressort à partir des descripteurs des signaux pour avoir des coefs d'importance pour les descripteurs (poids à mettre pour le calcul des distance)\n",
    "\n",
    "**Plan du notebook:**\n",
    "\n",
    "**1.** Coefficients de corrélation\n",
    "\n",
    "**2.** Régression linéaire pour apprendre les paramètres `F` et/ou `k`\n",
    "\n",
    "**3.** Analyse en composante principales"
   ]
  },
  {
   "cell_type": "code",
   "execution_count": 1,
   "metadata": {},
   "outputs": [],
   "source": [
    "import numpy as np\n",
    "from matplotlib import pyplot as plt\n",
    "import pandas as pd\n",
    "import sklearn\n",
    "from sklearn.metrics import mean_squared_error, r2_score\n",
    "from sklearn import linear_model\n",
    "from sklearn.preprocessing import StandardScaler \n",
    "\n",
    "import simu_ressort\n",
    "import descriptor"
   ]
  },
  {
   "cell_type": "code",
   "execution_count": 2,
   "metadata": {},
   "outputs": [
    {
     "name": "stdout",
     "output_type": "stream",
     "text": [
      "100 parameters tested, and 100 simus for each parameter.\n",
      "The duration of each simu is 500 dt.\n"
     ]
    }
   ],
   "source": [
    "all_simus = simu_ressort.load_obj(\"./data/ressort/simus.pkl\")\n",
    "\n",
    "print(\"{} parameters tested, and {} simus for each parameter.\".format(len(all_simus),\n",
    "                                                                      all_simus[0]['N']))\n",
    "print(\"The duration of each simu is {} dt.\".format(np.shape(all_simus[0]['simu'])[1]))"
   ]
  },
  {
   "cell_type": "code",
   "execution_count": null,
   "metadata": {},
   "outputs": [],
   "source": []
  },
  {
   "cell_type": "code",
   "execution_count": 3,
   "metadata": {},
   "outputs": [
    {
     "data": {
      "text/plain": [
       "(100, 500)"
      ]
     },
     "execution_count": 3,
     "metadata": {},
     "output_type": "execute_result"
    }
   ],
   "source": [
    "np.shape(all_simus[0]['simu'])"
   ]
  },
  {
   "cell_type": "markdown",
   "metadata": {},
   "source": [
    "### Preprocess data"
   ]
  },
  {
   "cell_type": "code",
   "execution_count": 4,
   "metadata": {},
   "outputs": [],
   "source": [
    "def preprocess_simu_to_numpy(all_simus):\n",
    "\n",
    "    # X data\n",
    "    X_data = []\n",
    "    Y_data = []\n",
    "\n",
    "    len_simu = np.shape(all_simus[0]['simu'])[1]\n",
    "    nb_simu_by_param = np.shape(all_simus[0]['simu'])[0]\n",
    "\n",
    "    for simus in all_simus:\n",
    "        data = np.array(simus['simu'])\n",
    "\n",
    "        for i in range(nb_simu_by_param):\n",
    "            desc = descriptor.compute_descriptor(data[i, :])\n",
    "            X_data.append(desc)\n",
    "            Y_data.append([simus['F'], simus['k']])\n",
    "\n",
    "    return np.array(X_data), np.array(Y_data)"
   ]
  },
  {
   "cell_type": "code",
   "execution_count": 5,
   "metadata": {},
   "outputs": [],
   "source": [
    "def separate_test_train(X_data, Y_data, pct_train=0.8):\n",
    "    n_train = int(pct_train * len(X_data))\n",
    "    \n",
    "    X_train = X_data[:n_train, :]\n",
    "    X_test = X_data[n_train:, :]    \n",
    "    Y_train = Y_data[:n_train, :]    \n",
    "    Y_test = Y_data[n_train:, :]\n",
    "    \n",
    "    return X_train, X_test, Y_train, Y_test"
   ]
  },
  {
   "cell_type": "code",
   "execution_count": 6,
   "metadata": {},
   "outputs": [
    {
     "name": "stdout",
     "output_type": "stream",
     "text": [
      "Shape of X_data: (10000, 6) and Y_data: (10000, 2)\n"
     ]
    }
   ],
   "source": [
    "X_data, Y_data = preprocess_simu_to_numpy(all_simus)\n",
    "\n",
    "# Mettre les variables à la même écheller\n",
    "X_data = StandardScaler().fit_transform(X_data)\n",
    "\n",
    "print(\"Shape of X_data: {} and Y_data: {}\".format(np.shape(X_data), np.shape(Y_data)))\n",
    "\n",
    "X_train, X_test, Y_train, Y_test = separate_test_train(X_data, Y_data, pct_train=0.8)"
   ]
  },
  {
   "cell_type": "code",
   "execution_count": 25,
   "metadata": {},
   "outputs": [
    {
     "data": {
      "text/html": [
       "<div>\n",
       "<style>\n",
       "    .dataframe thead tr:only-child th {\n",
       "        text-align: right;\n",
       "    }\n",
       "\n",
       "    .dataframe thead th {\n",
       "        text-align: left;\n",
       "    }\n",
       "\n",
       "    .dataframe tbody tr th {\n",
       "        vertical-align: top;\n",
       "    }\n",
       "</style>\n",
       "<table border=\"1\" class=\"dataframe\">\n",
       "  <thead>\n",
       "    <tr style=\"text-align: right;\">\n",
       "      <th></th>\n",
       "      <th>mean</th>\n",
       "      <th>std</th>\n",
       "      <th>min</th>\n",
       "      <th>max</th>\n",
       "      <th>fr_max</th>\n",
       "      <th>ampl_max</th>\n",
       "    </tr>\n",
       "  </thead>\n",
       "  <tbody>\n",
       "    <tr>\n",
       "      <th>count</th>\n",
       "      <td>1.000000e+04</td>\n",
       "      <td>1.000000e+04</td>\n",
       "      <td>1.000000e+04</td>\n",
       "      <td>1.000000e+04</td>\n",
       "      <td>1.000000e+04</td>\n",
       "      <td>1.000000e+04</td>\n",
       "    </tr>\n",
       "    <tr>\n",
       "      <th>mean</th>\n",
       "      <td>-1.464745e-15</td>\n",
       "      <td>-1.671574e-15</td>\n",
       "      <td>1.647452e-15</td>\n",
       "      <td>-1.661611e-15</td>\n",
       "      <td>-2.206924e-15</td>\n",
       "      <td>-1.668394e-15</td>\n",
       "    </tr>\n",
       "    <tr>\n",
       "      <th>std</th>\n",
       "      <td>1.000050e+00</td>\n",
       "      <td>1.000050e+00</td>\n",
       "      <td>1.000050e+00</td>\n",
       "      <td>1.000050e+00</td>\n",
       "      <td>1.000050e+00</td>\n",
       "      <td>1.000050e+00</td>\n",
       "    </tr>\n",
       "    <tr>\n",
       "      <th>min</th>\n",
       "      <td>-1.000050e-02</td>\n",
       "      <td>-1.000050e-02</td>\n",
       "      <td>-9.999500e+01</td>\n",
       "      <td>-1.000050e-02</td>\n",
       "      <td>-2.476632e+00</td>\n",
       "      <td>-1.000050e-02</td>\n",
       "    </tr>\n",
       "    <tr>\n",
       "      <th>25%</th>\n",
       "      <td>-1.000050e-02</td>\n",
       "      <td>-1.000050e-02</td>\n",
       "      <td>1.000050e-02</td>\n",
       "      <td>-1.000050e-02</td>\n",
       "      <td>-9.264935e-01</td>\n",
       "      <td>-1.000050e-02</td>\n",
       "    </tr>\n",
       "    <tr>\n",
       "      <th>50%</th>\n",
       "      <td>-1.000050e-02</td>\n",
       "      <td>-1.000050e-02</td>\n",
       "      <td>1.000050e-02</td>\n",
       "      <td>-1.000050e-02</td>\n",
       "      <td>3.652883e-01</td>\n",
       "      <td>-1.000050e-02</td>\n",
       "    </tr>\n",
       "    <tr>\n",
       "      <th>75%</th>\n",
       "      <td>-1.000050e-02</td>\n",
       "      <td>-1.000050e-02</td>\n",
       "      <td>1.000050e-02</td>\n",
       "      <td>-1.000050e-02</td>\n",
       "      <td>8.475536e-01</td>\n",
       "      <td>-1.000050e-02</td>\n",
       "    </tr>\n",
       "    <tr>\n",
       "      <th>max</th>\n",
       "      <td>9.999500e+01</td>\n",
       "      <td>9.999500e+01</td>\n",
       "      <td>1.000050e-02</td>\n",
       "      <td>9.999500e+01</td>\n",
       "      <td>1.829308e+00</td>\n",
       "      <td>9.999500e+01</td>\n",
       "    </tr>\n",
       "  </tbody>\n",
       "</table>\n",
       "</div>"
      ],
      "text/plain": [
       "               mean           std           min           max        fr_max  \\\n",
       "count  1.000000e+04  1.000000e+04  1.000000e+04  1.000000e+04  1.000000e+04   \n",
       "mean  -1.464745e-15 -1.671574e-15  1.647452e-15 -1.661611e-15 -2.206924e-15   \n",
       "std    1.000050e+00  1.000050e+00  1.000050e+00  1.000050e+00  1.000050e+00   \n",
       "min   -1.000050e-02 -1.000050e-02 -9.999500e+01 -1.000050e-02 -2.476632e+00   \n",
       "25%   -1.000050e-02 -1.000050e-02  1.000050e-02 -1.000050e-02 -9.264935e-01   \n",
       "50%   -1.000050e-02 -1.000050e-02  1.000050e-02 -1.000050e-02  3.652883e-01   \n",
       "75%   -1.000050e-02 -1.000050e-02  1.000050e-02 -1.000050e-02  8.475536e-01   \n",
       "max    9.999500e+01  9.999500e+01  1.000050e-02  9.999500e+01  1.829308e+00   \n",
       "\n",
       "           ampl_max  \n",
       "count  1.000000e+04  \n",
       "mean  -1.668394e-15  \n",
       "std    1.000050e+00  \n",
       "min   -1.000050e-02  \n",
       "25%   -1.000050e-02  \n",
       "50%   -1.000050e-02  \n",
       "75%   -1.000050e-02  \n",
       "max    9.999500e+01  "
      ]
     },
     "execution_count": 25,
     "metadata": {},
     "output_type": "execute_result"
    }
   ],
   "source": [
    "X_df = pd.DataFrame(X_data)\n",
    "X_df.columns = desc_names\n",
    "X_df.describe()"
   ]
  },
  {
   "cell_type": "markdown",
   "metadata": {},
   "source": [
    "## 1. Coefficients de corrélation"
   ]
  },
  {
   "cell_type": "code",
   "execution_count": 8,
   "metadata": {},
   "outputs": [
    {
     "data": {
      "text/html": [
       "<div>\n",
       "<style>\n",
       "    .dataframe thead tr:only-child th {\n",
       "        text-align: right;\n",
       "    }\n",
       "\n",
       "    .dataframe thead th {\n",
       "        text-align: left;\n",
       "    }\n",
       "\n",
       "    .dataframe tbody tr th {\n",
       "        vertical-align: top;\n",
       "    }\n",
       "</style>\n",
       "<table border=\"1\" class=\"dataframe\">\n",
       "  <thead>\n",
       "    <tr style=\"text-align: right;\">\n",
       "      <th></th>\n",
       "      <th>mean</th>\n",
       "      <th>std</th>\n",
       "      <th>min</th>\n",
       "      <th>max</th>\n",
       "      <th>fr_max</th>\n",
       "      <th>ampl_max</th>\n",
       "      <th>F</th>\n",
       "      <th>k</th>\n",
       "    </tr>\n",
       "  </thead>\n",
       "  <tbody>\n",
       "    <tr>\n",
       "      <th>0</th>\n",
       "      <td>1.000000</td>\n",
       "      <td>1.000000</td>\n",
       "      <td>-1.000000</td>\n",
       "      <td>1.000000</td>\n",
       "      <td>0.018122</td>\n",
       "      <td>1.000000</td>\n",
       "      <td>1.566777e-02</td>\n",
       "      <td>1.566777e-02</td>\n",
       "    </tr>\n",
       "    <tr>\n",
       "      <th>1</th>\n",
       "      <td>1.000000</td>\n",
       "      <td>1.000000</td>\n",
       "      <td>-1.000000</td>\n",
       "      <td>1.000000</td>\n",
       "      <td>0.018122</td>\n",
       "      <td>1.000000</td>\n",
       "      <td>1.566777e-02</td>\n",
       "      <td>1.566777e-02</td>\n",
       "    </tr>\n",
       "    <tr>\n",
       "      <th>2</th>\n",
       "      <td>-1.000000</td>\n",
       "      <td>-1.000000</td>\n",
       "      <td>1.000000</td>\n",
       "      <td>-1.000000</td>\n",
       "      <td>-0.018122</td>\n",
       "      <td>-1.000000</td>\n",
       "      <td>-1.566777e-02</td>\n",
       "      <td>-1.566777e-02</td>\n",
       "    </tr>\n",
       "    <tr>\n",
       "      <th>3</th>\n",
       "      <td>1.000000</td>\n",
       "      <td>1.000000</td>\n",
       "      <td>-1.000000</td>\n",
       "      <td>1.000000</td>\n",
       "      <td>0.018122</td>\n",
       "      <td>1.000000</td>\n",
       "      <td>1.566777e-02</td>\n",
       "      <td>1.566777e-02</td>\n",
       "    </tr>\n",
       "    <tr>\n",
       "      <th>4</th>\n",
       "      <td>0.018122</td>\n",
       "      <td>0.018122</td>\n",
       "      <td>-0.018122</td>\n",
       "      <td>0.018122</td>\n",
       "      <td>1.000000</td>\n",
       "      <td>0.018122</td>\n",
       "      <td>-8.336394e-02</td>\n",
       "      <td>1.320403e-01</td>\n",
       "    </tr>\n",
       "    <tr>\n",
       "      <th>5</th>\n",
       "      <td>1.000000</td>\n",
       "      <td>1.000000</td>\n",
       "      <td>-1.000000</td>\n",
       "      <td>1.000000</td>\n",
       "      <td>0.018122</td>\n",
       "      <td>1.000000</td>\n",
       "      <td>1.566777e-02</td>\n",
       "      <td>1.566777e-02</td>\n",
       "    </tr>\n",
       "    <tr>\n",
       "      <th>6</th>\n",
       "      <td>0.015668</td>\n",
       "      <td>0.015668</td>\n",
       "      <td>-0.015668</td>\n",
       "      <td>0.015668</td>\n",
       "      <td>-0.083364</td>\n",
       "      <td>0.015668</td>\n",
       "      <td>1.000000e+00</td>\n",
       "      <td>2.158543e-16</td>\n",
       "    </tr>\n",
       "    <tr>\n",
       "      <th>7</th>\n",
       "      <td>0.015668</td>\n",
       "      <td>0.015668</td>\n",
       "      <td>-0.015668</td>\n",
       "      <td>0.015668</td>\n",
       "      <td>0.132040</td>\n",
       "      <td>0.015668</td>\n",
       "      <td>2.158543e-16</td>\n",
       "      <td>1.000000e+00</td>\n",
       "    </tr>\n",
       "  </tbody>\n",
       "</table>\n",
       "</div>"
      ],
      "text/plain": [
       "       mean       std       min       max    fr_max  ampl_max             F  \\\n",
       "0  1.000000  1.000000 -1.000000  1.000000  0.018122  1.000000  1.566777e-02   \n",
       "1  1.000000  1.000000 -1.000000  1.000000  0.018122  1.000000  1.566777e-02   \n",
       "2 -1.000000 -1.000000  1.000000 -1.000000 -0.018122 -1.000000 -1.566777e-02   \n",
       "3  1.000000  1.000000 -1.000000  1.000000  0.018122  1.000000  1.566777e-02   \n",
       "4  0.018122  0.018122 -0.018122  0.018122  1.000000  0.018122 -8.336394e-02   \n",
       "5  1.000000  1.000000 -1.000000  1.000000  0.018122  1.000000  1.566777e-02   \n",
       "6  0.015668  0.015668 -0.015668  0.015668 -0.083364  0.015668  1.000000e+00   \n",
       "7  0.015668  0.015668 -0.015668  0.015668  0.132040  0.015668  2.158543e-16   \n",
       "\n",
       "              k  \n",
       "0  1.566777e-02  \n",
       "1  1.566777e-02  \n",
       "2 -1.566777e-02  \n",
       "3  1.566777e-02  \n",
       "4  1.320403e-01  \n",
       "5  1.566777e-02  \n",
       "6  2.158543e-16  \n",
       "7  1.000000e+00  "
      ]
     },
     "execution_count": 8,
     "metadata": {},
     "output_type": "execute_result"
    }
   ],
   "source": [
    "corr = np.corrcoef(np.hstack((X_data, Y_data)).T)\n",
    "corr = pd.DataFrame(corr)\n",
    "desc_names = ['mean', 'std', 'min', 'max', 'fr_max', 'ampl_max']\n",
    "corr.columns = desc_names + ['F', 'k']\n",
    "\n",
    "corr"
   ]
  },
  {
   "cell_type": "markdown",
   "metadata": {},
   "source": [
    "**(Exemple:)**"
   ]
  },
  {
   "cell_type": "code",
   "execution_count": 32,
   "metadata": {
    "scrolled": true
   },
   "outputs": [
    {
     "data": {
      "image/png": "[encoded data removed]",
      "text/plain": [
       "<matplotlib.figure.Figure at 0x204d6e09518>"
      ]
     },
     "metadata": {},
     "output_type": "display_data"
    }
   ],
   "source": [
    "i = 10\n",
    "data = np.array(all_simus[i]['simu'][4, :])\n",
    "simu_ressort.plot_ressort(data, all_simus[i]['F'], all_simus[i]['k'])"
   ]
  },
  {
   "cell_type": "code",
   "execution_count": 33,
   "metadata": {},
   "outputs": [
    {
     "name": "stdout",
     "output_type": "stream",
     "text": [
      "[  1.07427236e+00   3.04897404e+01  -6.36288689e+01   7.09017869e+01\n",
      "   5.00000000e-02   8.69675892e+03]\n"
     ]
    }
   ],
   "source": [
    "print(descriptor.compute_descriptor(data))"
   ]
  },
  {
   "cell_type": "code",
   "execution_count": null,
   "metadata": {},
   "outputs": [],
   "source": []
  },
  {
   "cell_type": "markdown",
   "metadata": {},
   "source": [
    "## 2. Apprendre `(F, k)` avec une regression linéaire\n",
    "Pour trouver les poids des descripteurs"
   ]
  },
  {
   "cell_type": "code",
   "execution_count": 15,
   "metadata": {},
   "outputs": [],
   "source": [
    "def train_regr_lin(X_train, Y_train, X_test, Y_test):\n",
    "    regr = linear_model.LinearRegression()\n",
    "    regr.fit(X_train, Y_train)\n",
    "\n",
    "    y_pred = regr.predict(X_test)\n",
    "    print(\"MSE on test set:\", mean_squared_error(y_pred, Y_test))"
   ]
  },
  {
   "cell_type": "code",
   "execution_count": 16,
   "metadata": {},
   "outputs": [
    {
     "name": "stdout",
     "output_type": "stream",
     "text": [
      "MSE on test set: 2.47978983371e+21\n"
     ]
    }
   ],
   "source": [
    "train_regr_lin(X_train, Y_train, X_test, Y_test)"
   ]
  },
  {
   "cell_type": "markdown",
   "metadata": {},
   "source": [
    "Erreur assez chaud... \n",
    "\n",
    "A tester avec les coef de Fourrier "
   ]
  },
  {
   "cell_type": "markdown",
   "metadata": {},
   "source": [
    "#### Prédiction de `F`"
   ]
  },
  {
   "cell_type": "code",
   "execution_count": 17,
   "metadata": {},
   "outputs": [
    {
     "name": "stdout",
     "output_type": "stream",
     "text": [
      "MSE on test set: 3.20138043367e+21\n"
     ]
    }
   ],
   "source": [
    "train_regr_lin(X_train, Y_train[:, 0], X_test, Y_test[:, 0])"
   ]
  },
  {
   "cell_type": "markdown",
   "metadata": {},
   "source": [
    "#### Prédiction de `k`"
   ]
  },
  {
   "cell_type": "code",
   "execution_count": 18,
   "metadata": {},
   "outputs": [
    {
     "name": "stdout",
     "output_type": "stream",
     "text": [
      "MSE on test set: 1.75819922893e+21\n"
     ]
    }
   ],
   "source": [
    "train_regr_lin(X_train, Y_train[:, 1], X_test, Y_test[:, 1])"
   ]
  },
  {
   "cell_type": "markdown",
   "metadata": {},
   "source": [
    "## 3. ACP"
   ]
  },
  {
   "cell_type": "code",
   "execution_count": 19,
   "metadata": {},
   "outputs": [],
   "source": [
    "from sklearn.decomposition import PCA"
   ]
  },
  {
   "cell_type": "markdown",
   "metadata": {},
   "source": [
    "#### Projection en 2D"
   ]
  },
  {
   "cell_type": "code",
   "execution_count": 20,
   "metadata": {},
   "outputs": [],
   "source": [
    "pca = PCA(n_components=2)\n",
    "principal_comp = pca.fit_transform(X_data)\n",
    "principal_df = pd.DataFrame(data=principal_comp, columns=['principal component 1', 'principal component 2'])\n",
    "principal_df['target'] = Y_data[:, 0]"
   ]
  },
  {
   "cell_type": "code",
   "execution_count": 21,
   "metadata": {
    "scrolled": true
   },
   "outputs": [
    {
     "data": {
      "text/html": [
       "<div>\n",
       "<style>\n",
       "    .dataframe thead tr:only-child th {\n",
       "        text-align: right;\n",
       "    }\n",
       "\n",
       "    .dataframe thead th {\n",
       "        text-align: left;\n",
       "    }\n",
       "\n",
       "    .dataframe tbody tr th {\n",
       "        vertical-align: top;\n",
       "    }\n",
       "</style>\n",
       "<table border=\"1\" class=\"dataframe\">\n",
       "  <thead>\n",
       "    <tr style=\"text-align: right;\">\n",
       "      <th></th>\n",
       "      <th>principal component 1</th>\n",
       "      <th>principal component 2</th>\n",
       "      <th>target</th>\n",
       "    </tr>\n",
       "  </thead>\n",
       "  <tbody>\n",
       "    <tr>\n",
       "      <th>0</th>\n",
       "      <td>-0.025813</td>\n",
       "      <td>0.340642</td>\n",
       "      <td>0.0</td>\n",
       "    </tr>\n",
       "    <tr>\n",
       "      <th>1</th>\n",
       "      <td>-0.025813</td>\n",
       "      <td>0.340642</td>\n",
       "      <td>0.0</td>\n",
       "    </tr>\n",
       "    <tr>\n",
       "      <th>2</th>\n",
       "      <td>-0.025813</td>\n",
       "      <td>0.340642</td>\n",
       "      <td>0.0</td>\n",
       "    </tr>\n",
       "    <tr>\n",
       "      <th>3</th>\n",
       "      <td>-0.025813</td>\n",
       "      <td>0.340642</td>\n",
       "      <td>0.0</td>\n",
       "    </tr>\n",
       "    <tr>\n",
       "      <th>4</th>\n",
       "      <td>-0.025813</td>\n",
       "      <td>0.340642</td>\n",
       "      <td>0.0</td>\n",
       "    </tr>\n",
       "  </tbody>\n",
       "</table>\n",
       "</div>"
      ],
      "text/plain": [
       "   principal component 1  principal component 2  target\n",
       "0              -0.025813               0.340642     0.0\n",
       "1              -0.025813               0.340642     0.0\n",
       "2              -0.025813               0.340642     0.0\n",
       "3              -0.025813               0.340642     0.0\n",
       "4              -0.025813               0.340642     0.0"
      ]
     },
     "execution_count": 21,
     "metadata": {},
     "output_type": "execute_result"
    }
   ],
   "source": [
    "principal_df.head()"
   ]
  },
  {
   "cell_type": "code",
   "execution_count": 22,
   "metadata": {},
   "outputs": [
    {
     "data": {
      "text/plain": [
       "array([ 0.83340174,  0.16659826])"
      ]
     },
     "execution_count": 22,
     "metadata": {},
     "output_type": "execute_result"
    }
   ],
   "source": [
    "pca.explained_variance_ratio_"
   ]
  },
  {
   "cell_type": "markdown",
   "metadata": {},
   "source": [
    "-> La première composante contient 80% de la variance, et la deuxième 20%"
   ]
  },
  {
   "cell_type": "code",
   "execution_count": 23,
   "metadata": {},
   "outputs": [
    {
     "data": {
      "text/plain": [
       "array([[ 0.44719065,  0.44719065, -0.44719065,  0.44719065,  0.0101288 ,\n",
       "         0.44719065],\n",
       "       [ 0.00452974,  0.00452974, -0.00452974,  0.00452974, -0.9999487 ,\n",
       "         0.00452974]])"
      ]
     },
     "execution_count": 23,
     "metadata": {},
     "output_type": "execute_result"
    }
   ],
   "source": [
    "pca.components_"
   ]
  },
  {
   "cell_type": "markdown",
   "metadata": {},
   "source": [
    "-> Coordonnées des premières et deuxiemes composantes principales dans l'espace des descripteurs"
   ]
  },
  {
   "cell_type": "markdown",
   "metadata": {},
   "source": [
    "ACP pour faire de la réduction de dimension: projetter sur un certains nb de composntes principales (nb < au nb de coord)"
   ]
  },
  {
   "cell_type": "code",
   "execution_count": null,
   "metadata": {},
   "outputs": [],
   "source": [
    "import numpy as np\n",
    "\n",
    "V = all_simus[0]['simu'][0,  :100]\n",
    "print(V.shape)\n",
    "freq = np.fft.fftfreq(len(V))"
   ]
  },
  {
   "cell_type": "code",
   "execution_count": null,
   "metadata": {},
   "outputs": [],
   "source": [
    "freq"
   ]
  },
  {
   "cell_type": "code",
   "execution_count": null,
   "metadata": {},
   "outputs": [],
   "source": [
    "signal = np.fft.fft(V)"
   ]
  },
  {
   "cell_type": "code",
   "execution_count": null,
   "metadata": {},
   "outputs": [],
   "source": [
    "signal"
   ]
  },
  {
   "cell_type": "code",
   "execution_count": null,
   "metadata": {},
   "outputs": [],
   "source": [
    "fr_max = freq[np.argmax(signal)]\n",
    "fr_max"
   ]
  },
  {
   "cell_type": "code",
   "execution_count": null,
   "metadata": {},
   "outputs": [],
   "source": []
  }
 ],
 "metadata": {
  "kernelspec": {
   "display_name": "Python 3",
   "language": "python",
   "name": "python3"
  },
  "language_info": {
   "codemirror_mode": {
    "name": "ipython",
    "version": 3
   },
   "file_extension": ".py",
   "mimetype": "text/x-python",
   "name": "python",
   "nbconvert_exporter": "python",
   "pygments_lexer": "ipython3",
   "version": "3.6.3"
  }
 },
 "nbformat": 4,
 "nbformat_minor": 2
}
